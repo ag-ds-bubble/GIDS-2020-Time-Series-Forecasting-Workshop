{
 "cells": [
  {
   "cell_type": "markdown",
   "metadata": {},
   "source": [
    "# Introduction\n",
    "<b>NumPy (Numerical Python)</b> is an open source Python library that’s used in almost every field of science and engineering. It’s the universal standard for working with numerical data in Python, and it’s at the core of the scientific Python and PyData ecosystems.\n",
    "<br>\n",
    "<br>\n",
    "<br>\n",
    "<b>Interesting Read</b> : [The first image of a Balck Hole](https://numpy.org/case-studies/blackhole-image/)\n",
    "\n",
    "<img src='https://numpy.org/images/content_images/cs/blackhole.jpg' width='300' align='left'>\n",
    "<br>\n",
    "<br>\n",
    "<br>\n",
    "<br>\n",
    "<br>\n",
    "<br>\n",
    "<br>\n",
    "\n",
    "<br>\n",
    "<br>\n",
    "<br>\n",
    "\n",
    "\n",
    "[Most part of this notebook is adopted from `numpy` & `datetime` docs]"
   ]
  },
  {
   "cell_type": "markdown",
   "metadata": {
    "heading_collapsed": true
   },
   "source": [
    "# Imports"
   ]
  },
  {
   "cell_type": "code",
   "execution_count": null,
   "metadata": {
    "ExecuteTime": {
     "end_time": "2020-12-06T10:00:52.081484Z",
     "start_time": "2020-12-06T10:00:51.701438Z"
    },
    "hidden": true
   },
   "outputs": [],
   "source": [
    "import numpy as np # `np` acts as an alias to the package you with to import, here numpy\n",
    "import matplotlib.pyplot as plt\n",
    "\n",
    "np.__version__"
   ]
  },
  {
   "cell_type": "markdown",
   "metadata": {
    "hidden": true
   },
   "source": [
    "<b>Where is this package numpy that we just imported sitting?</b>"
   ]
  },
  {
   "cell_type": "code",
   "execution_count": null,
   "metadata": {
    "ExecuteTime": {
     "end_time": "2020-12-06T10:00:52.086787Z",
     "start_time": "2020-12-06T10:00:52.083487Z"
    },
    "hidden": true
   },
   "outputs": [],
   "source": [
    "np"
   ]
  },
  {
   "cell_type": "markdown",
   "metadata": {
    "hidden": true
   },
   "source": [
    "<b>How to read the documentation for an any given function?</b>"
   ]
  },
  {
   "cell_type": "code",
   "execution_count": null,
   "metadata": {
    "ExecuteTime": {
     "end_time": "2020-12-06T10:00:52.091323Z",
     "start_time": "2020-12-06T10:00:52.088420Z"
    },
    "hidden": true
   },
   "outputs": [],
   "source": [
    "np?"
   ]
  },
  {
   "cell_type": "code",
   "execution_count": null,
   "metadata": {
    "ExecuteTime": {
     "end_time": "2020-12-06T10:00:52.118615Z",
     "start_time": "2020-12-06T10:00:52.093369Z"
    },
    "hidden": true
   },
   "outputs": [],
   "source": [
    "?np"
   ]
  },
  {
   "cell_type": "markdown",
   "metadata": {
    "hidden": true
   },
   "source": [
    "<b>How to read the documentation for an any given function, along side source code?</b>"
   ]
  },
  {
   "cell_type": "code",
   "execution_count": null,
   "metadata": {
    "ExecuteTime": {
     "end_time": "2020-12-06T10:00:52.190053Z",
     "start_time": "2020-12-06T10:00:52.120989Z"
    },
    "hidden": true
   },
   "outputs": [],
   "source": [
    "np??"
   ]
  },
  {
   "cell_type": "code",
   "execution_count": null,
   "metadata": {
    "ExecuteTime": {
     "end_time": "2020-12-06T10:00:52.220979Z",
     "start_time": "2020-12-06T10:00:52.192122Z"
    },
    "hidden": true
   },
   "outputs": [],
   "source": [
    "??np"
   ]
  },
  {
   "cell_type": "markdown",
   "metadata": {
    "heading_collapsed": true
   },
   "source": [
    "# Path Declaration & Variable initialisation"
   ]
  },
  {
   "cell_type": "code",
   "execution_count": null,
   "metadata": {
    "ExecuteTime": {
     "end_time": "2020-12-06T10:00:52.231855Z",
     "start_time": "2020-12-06T10:00:52.229060Z"
    },
    "hidden": true
   },
   "outputs": [],
   "source": [
    "plt.rcParams['figure.dpi'] = 100\n",
    "plt.rcParams['figure.figsize'] = (15,7)\n",
    "plt.style.use('ggplot')"
   ]
  },
  {
   "cell_type": "markdown",
   "metadata": {
    "heading_collapsed": true
   },
   "source": [
    "# Python & `array`"
   ]
  },
  {
   "cell_type": "markdown",
   "metadata": {
    "hidden": true
   },
   "source": [
    "<b>One of the major reasons for ease of use of Python is its dynamic typing, i.e we dont need to specify which type a variable might assume a value of, which is not the case in most of the other languages such as C & Java</b>\n",
    "\n",
    "In C++ we need to define a variable and the type i.e\n",
    "\n",
    "`int age = 24`\n",
    "\n",
    "In Python we do away with the dataype of that particular variable, i.e\n",
    "\n",
    "`age=24` is more than sufficient, although if you want to be more specific, we can always use\n",
    "`age:int=24`"
   ]
  },
  {
   "cell_type": "code",
   "execution_count": null,
   "metadata": {
    "ExecuteTime": {
     "end_time": "2020-12-06T10:00:52.236317Z",
     "start_time": "2020-12-06T10:00:52.233427Z"
    },
    "hidden": true
   },
   "outputs": [],
   "source": [
    "age1=24\n",
    "age2:int=42\n",
    "\n",
    "print(f'age1={age1}(Type=({type(age1)})), age2={age2}(Type=({type(age2)}))')\n"
   ]
  },
  {
   "cell_type": "markdown",
   "metadata": {
    "hidden": true
   },
   "source": [
    "[A Python 🐍  list is more than just a list](https://jakevdp.github.io/PythonDataScienceHandbook/02.01-understanding-data-types.html#A-Python-List-Is-More-Than-Just-a-List) -  Python Data Science Handbook , Jake VanderPlas\n",
    "\n",
    "To allow for the dynamic typing, we have to pay a cost while creating a list with mutliple datatypes, which is that the list object now need to keep track of all the elements within, and each of these elements are an Object in itseleves.\n"
   ]
  },
  {
   "cell_type": "code",
   "execution_count": null,
   "metadata": {
    "ExecuteTime": {
     "end_time": "2020-12-06T10:00:52.241306Z",
     "start_time": "2020-12-06T10:00:52.237776Z"
    },
    "hidden": true
   },
   "outputs": [],
   "source": [
    "L=[1,'Workshop', 3.14, True]\n",
    "L"
   ]
  },
  {
   "cell_type": "code",
   "execution_count": null,
   "metadata": {
    "ExecuteTime": {
     "end_time": "2020-12-06T10:00:52.245943Z",
     "start_time": "2020-12-06T10:00:52.243191Z"
    },
    "hidden": true
   },
   "outputs": [],
   "source": [
    "print(type(L[1]))"
   ]
  },
  {
   "cell_type": "markdown",
   "metadata": {
    "hidden": true
   },
   "source": [
    "<b>So how do we overcome this, is there a way?</b>\n",
    "\n",
    "Yes! Use Python's `array` module, \n",
    "\n",
    "Available TypeCodes are :\n",
    "\n",
    "    Type code   C Type             Minimum size in bytes\n",
    "    'b'         signed integer     1\n",
    "    'B'         unsigned integer   1\n",
    "    'u'         Unicode character  2 (see note)\n",
    "    'h'         signed integer     2\n",
    "    'H'         unsigned integer   2\n",
    "    'i'         signed integer     2\n",
    "    'I'         unsigned integer   2\n",
    "    'l'         signed integer     4\n",
    "    'L'         unsigned integer   4\n",
    "    'q'         signed integer     8 (see note)\n",
    "    'Q'         unsigned integer   8 (see note)\n",
    "    'f'         floating point     4\n",
    "    'd'         floating point     8\n"
   ]
  },
  {
   "cell_type": "code",
   "execution_count": null,
   "metadata": {
    "ExecuteTime": {
     "end_time": "2020-12-06T10:00:52.251148Z",
     "start_time": "2020-12-06T10:00:52.247524Z"
    },
    "hidden": true
   },
   "outputs": [],
   "source": [
    "import array\n",
    "L = list(range(10))\n",
    "A = array.array('i', L)\n",
    "A"
   ]
  },
  {
   "cell_type": "markdown",
   "metadata": {
    "hidden": true
   },
   "source": [
    "<b>Can we append a different datatype to the list and make an array object?</b>"
   ]
  },
  {
   "cell_type": "code",
   "execution_count": null,
   "metadata": {
    "ExecuteTime": {
     "end_time": "2020-12-06T10:00:52.355407Z",
     "start_time": "2020-12-06T10:00:52.252823Z"
    },
    "hidden": true
   },
   "outputs": [],
   "source": [
    "L+=[1.2]\n",
    "A = array.array('i', L)\n",
    "A"
   ]
  },
  {
   "cell_type": "markdown",
   "metadata": {
    "heading_collapsed": true
   },
   "source": [
    "# `numpy` to the rescue"
   ]
  },
  {
   "cell_type": "markdown",
   "metadata": {
    "hidden": true
   },
   "source": [
    "<b>Creating a simple numpy array</b>\n",
    "\n",
    "[NumPy: the absolute basics for beginners](https://numpy.org/doc/stable/user/absolute_beginners.html)\n",
    "\n",
    "All of the elements in a NumPy array should be homogenous. \n",
    "Can you notice the difference between the two?"
   ]
  },
  {
   "cell_type": "code",
   "execution_count": null,
   "metadata": {
    "ExecuteTime": {
     "end_time": "2020-12-06T10:01:10.695159Z",
     "start_time": "2020-12-06T10:01:10.689836Z"
    },
    "hidden": true
   },
   "outputs": [],
   "source": [
    "np.array(L[:-1])"
   ]
  },
  {
   "cell_type": "code",
   "execution_count": null,
   "metadata": {
    "ExecuteTime": {
     "end_time": "2020-12-06T10:01:10.870746Z",
     "start_time": "2020-12-06T10:01:10.866561Z"
    },
    "hidden": true
   },
   "outputs": [],
   "source": [
    "np.array(L)"
   ]
  },
  {
   "cell_type": "markdown",
   "metadata": {
    "hidden": true
   },
   "source": [
    "Numpy `ndarray` module will not throw an error, but instead try to upcast the values(elements) to a suitable common datatype: [List of Numpy DataTypes](https://numpy.org/devdocs/user/basics.types.html)\n",
    "\n",
    "Creating a Basic Numpy Array :\n",
    "\n",
    "<img src='https://numpy.org/doc/stable/_images/np_array.png'>"
   ]
  },
  {
   "cell_type": "code",
   "execution_count": null,
   "metadata": {
    "ExecuteTime": {
     "end_time": "2020-12-06T10:01:10.942830Z",
     "start_time": "2020-12-06T10:01:10.938960Z"
    },
    "hidden": true
   },
   "outputs": [],
   "source": [
    "np.array([1,2,3])"
   ]
  },
  {
   "cell_type": "code",
   "execution_count": null,
   "metadata": {
    "ExecuteTime": {
     "end_time": "2020-12-06T10:01:11.023526Z",
     "start_time": "2020-12-06T10:01:11.019894Z"
    },
    "hidden": true
   },
   "outputs": [],
   "source": [
    "np.array([1,2,3.14])"
   ]
  },
  {
   "cell_type": "markdown",
   "metadata": {
    "heading_collapsed": true
   },
   "source": [
    "# Basics - Array Generation"
   ]
  },
  {
   "cell_type": "markdown",
   "metadata": {
    "hidden": true
   },
   "source": [
    "<b>Creating an array of a particular `size=2` 1D with all values `1`</b>"
   ]
  },
  {
   "cell_type": "code",
   "execution_count": null,
   "metadata": {
    "ExecuteTime": {
     "end_time": "2020-12-06T10:01:11.273646Z",
     "start_time": "2020-12-06T10:01:11.270380Z"
    },
    "hidden": true
   },
   "outputs": [],
   "source": [
    "np.zeros(2, dtype=int) # 1D Array"
   ]
  },
  {
   "cell_type": "markdown",
   "metadata": {
    "hidden": true,
    "solution2": "hidden",
    "solution2_first": true
   },
   "source": [
    "**Q)**<b>Creating an array of a particular `size=(2,2)` 2D with all values `0`</b>"
   ]
  },
  {
   "cell_type": "code",
   "execution_count": null,
   "metadata": {
    "ExecuteTime": {
     "end_time": "2020-12-06T10:01:11.451206Z",
     "start_time": "2020-12-06T10:01:11.444452Z"
    },
    "hidden": true,
    "solution2": "hidden"
   },
   "outputs": [],
   "source": [
    "np.ones((2,2), dtype=int) # 2D Array"
   ]
  },
  {
   "cell_type": "code",
   "execution_count": null,
   "metadata": {
    "ExecuteTime": {
     "end_time": "2020-12-06T10:01:11.529697Z",
     "start_time": "2020-12-06T10:01:11.528005Z"
    },
    "hidden": true
   },
   "outputs": [],
   "source": [
    "#----------YOUR SOLUTION-----------#\n",
    "#....\n"
   ]
  },
  {
   "cell_type": "markdown",
   "metadata": {
    "hidden": true,
    "solution2": "hidden",
    "solution2_first": true
   },
   "source": [
    "**Q)**<b>Creating an array of a particular `size=(2,2,2)` 3D with all values `0`</b>"
   ]
  },
  {
   "cell_type": "code",
   "execution_count": null,
   "metadata": {
    "ExecuteTime": {
     "end_time": "2020-12-06T10:01:11.698611Z",
     "start_time": "2020-12-06T10:01:11.693437Z"
    },
    "hidden": true,
    "solution2": "hidden"
   },
   "outputs": [],
   "source": [
    "np.ones((2,2,2), dtype=int) # 3D Array and so on..."
   ]
  },
  {
   "cell_type": "code",
   "execution_count": null,
   "metadata": {
    "ExecuteTime": {
     "end_time": "2020-12-06T10:01:11.776282Z",
     "start_time": "2020-12-06T10:01:11.774538Z"
    },
    "hidden": true
   },
   "outputs": [],
   "source": [
    "#----------YOUR SOLUTION-----------#\n",
    "#....\n"
   ]
  },
  {
   "cell_type": "markdown",
   "metadata": {
    "hidden": true
   },
   "source": [
    "<b>Creating an array containg range of equally spaced intervals</b>"
   ]
  },
  {
   "cell_type": "code",
   "execution_count": null,
   "metadata": {
    "ExecuteTime": {
     "end_time": "2020-12-06T10:01:11.944930Z",
     "start_time": "2020-12-06T10:01:11.941076Z"
    },
    "hidden": true
   },
   "outputs": [],
   "source": [
    "np.arange(2, 9, 2)"
   ]
  },
  {
   "cell_type": "markdown",
   "metadata": {
    "hidden": true
   },
   "source": [
    "<b>Create an array with values that are spaced linearly in a specified interval</b>"
   ]
  },
  {
   "cell_type": "code",
   "execution_count": null,
   "metadata": {
    "ExecuteTime": {
     "end_time": "2020-12-06T10:01:12.115451Z",
     "start_time": "2020-12-06T10:01:12.110458Z"
    },
    "hidden": true
   },
   "outputs": [],
   "source": [
    "np.linspace(-20, 20, 12)"
   ]
  },
  {
   "cell_type": "markdown",
   "metadata": {
    "hidden": true,
    "solution2": "hidden",
    "solution2_first": true
   },
   "source": [
    "**Q)**Is there something about this series that resembles our High School mathematics? something `____ series`??"
   ]
  },
  {
   "cell_type": "markdown",
   "metadata": {
    "hidden": true,
    "solution2": "hidden"
   },
   "source": [
    "**A)** `Artihmetic Series/ Progression (AP)` - A senquence of numbers, difference between which is always constant. There is also another form of series `Geometric Series (GP)` - where the difference between terms increases exponentially."
   ]
  },
  {
   "cell_type": "markdown",
   "metadata": {
    "hidden": true,
    "solution2": "hidden",
    "solution2_first": true
   },
   "source": [
    "**Q)**How will you get the  `GP series`??"
   ]
  },
  {
   "cell_type": "code",
   "execution_count": null,
   "metadata": {
    "ExecuteTime": {
     "end_time": "2020-12-06T10:01:12.460409Z",
     "start_time": "2020-12-06T10:01:12.454669Z"
    },
    "hidden": true,
    "solution2": "hidden"
   },
   "outputs": [],
   "source": [
    "np.geomspace(1, 20, 12)"
   ]
  },
  {
   "cell_type": "code",
   "execution_count": null,
   "metadata": {
    "ExecuteTime": {
     "end_time": "2020-12-06T10:01:12.533390Z",
     "start_time": "2020-12-06T10:01:12.529642Z"
    },
    "hidden": true,
    "solution2": "hidden"
   },
   "outputs": [],
   "source": [
    "np.diff(np.geomspace(1, 20, 12))"
   ]
  },
  {
   "cell_type": "code",
   "execution_count": null,
   "metadata": {
    "ExecuteTime": {
     "end_time": "2020-12-06T10:01:12.791106Z",
     "start_time": "2020-12-06T10:01:12.613452Z"
    },
    "hidden": true,
    "solution2": "hidden"
   },
   "outputs": [],
   "source": [
    "plt.plot(np.diff(np.geomspace(1, 20, 12)))"
   ]
  },
  {
   "cell_type": "markdown",
   "metadata": {
    "hidden": true
   },
   "source": [
    "<b>Create an array with random values between [0, 1)</b>"
   ]
  },
  {
   "cell_type": "code",
   "execution_count": null,
   "metadata": {
    "ExecuteTime": {
     "end_time": "2020-12-06T10:01:12.817407Z",
     "start_time": "2020-12-06T10:01:12.812653Z"
    },
    "hidden": true
   },
   "outputs": [],
   "source": [
    "np.random.random((3, 3))"
   ]
  },
  {
   "cell_type": "markdown",
   "metadata": {
    "hidden": true
   },
   "source": [
    "<b>Create an array with random integer of the size (m,n) all sampled from a given range</b>"
   ]
  },
  {
   "cell_type": "code",
   "execution_count": null,
   "metadata": {
    "ExecuteTime": {
     "end_time": "2020-12-06T10:01:12.950896Z",
     "start_time": "2020-12-06T10:01:12.946425Z"
    },
    "hidden": true
   },
   "outputs": [],
   "source": [
    "np.random.randint(-2,20,(3, 4))"
   ]
  },
  {
   "cell_type": "markdown",
   "metadata": {
    "heading_collapsed": true
   },
   "source": [
    "# Indicing and Reshaping Numpy Array\n",
    "\n",
    "Indicing an Numpy `ndarray` is same as indicing a Python🐍 `list`\n",
    "\n",
    "<img src='https://numpy.org/doc/stable/_images/np_indexing.png'>"
   ]
  },
  {
   "cell_type": "code",
   "execution_count": null,
   "metadata": {
    "ExecuteTime": {
     "end_time": "2020-12-06T10:01:13.143482Z",
     "start_time": "2020-12-06T10:01:13.140158Z"
    },
    "hidden": true
   },
   "outputs": [],
   "source": [
    "npL = np.array(L)\n",
    "npL"
   ]
  },
  {
   "cell_type": "code",
   "execution_count": null,
   "metadata": {
    "ExecuteTime": {
     "end_time": "2020-12-06T10:01:13.212695Z",
     "start_time": "2020-12-06T10:01:13.207234Z"
    },
    "hidden": true
   },
   "outputs": [],
   "source": [
    "print('Element at 0th index : ', npL[0])\n",
    "print('Element at -1 index, i.e last index', npL[-1])\n",
    "print('Elements from 1 and on index, SubArray', npL[1:])\n",
    "print('Elements upto -2 index, SubArray', npL[:-2])\n",
    "print('Elements from -2 index, SubArray', npL[-2:])\n",
    "print('Elements from index 2 to -4, SubArray', npL[-2:])\n",
    "print('Every second element', npL[::2])\n",
    "print('Every third element', npL[::3])\n",
    "print('Elements reversed', npL[::-1])"
   ]
  },
  {
   "cell_type": "markdown",
   "metadata": {
    "hidden": true
   },
   "source": [
    "<b>Reshaping an array</b>"
   ]
  },
  {
   "cell_type": "code",
   "execution_count": null,
   "metadata": {
    "ExecuteTime": {
     "end_time": "2020-12-06T10:01:13.368160Z",
     "start_time": "2020-12-06T10:01:13.364405Z"
    },
    "hidden": true
   },
   "outputs": [],
   "source": [
    "npL=np.array([1,2,3])\n",
    "npL"
   ]
  },
  {
   "cell_type": "markdown",
   "metadata": {
    "hidden": true
   },
   "source": [
    "Making it a column matrix"
   ]
  },
  {
   "cell_type": "code",
   "execution_count": null,
   "metadata": {
    "ExecuteTime": {
     "end_time": "2020-12-06T10:01:13.534217Z",
     "start_time": "2020-12-06T10:01:13.530488Z"
    },
    "hidden": true
   },
   "outputs": [],
   "source": [
    "npL[:, np.newaxis]"
   ]
  },
  {
   "cell_type": "markdown",
   "metadata": {
    "hidden": true,
    "solution2": "hidden",
    "solution2_first": true
   },
   "source": [
    "**Q**) How can we make this `npL` array as a row matrix?"
   ]
  },
  {
   "cell_type": "code",
   "execution_count": null,
   "metadata": {
    "ExecuteTime": {
     "end_time": "2020-12-06T10:01:13.710251Z",
     "start_time": "2020-12-06T10:01:13.704497Z"
    },
    "hidden": true,
    "solution2": "hidden"
   },
   "outputs": [],
   "source": [
    "npL[np.newaxis, :]"
   ]
  },
  {
   "cell_type": "code",
   "execution_count": null,
   "metadata": {
    "ExecuteTime": {
     "end_time": "2020-12-06T10:01:13.799001Z",
     "start_time": "2020-12-06T10:01:13.796745Z"
    },
    "hidden": true
   },
   "outputs": [],
   "source": [
    "#----------YOUR SOLUTION-----------#\n",
    "#....\n"
   ]
  },
  {
   "cell_type": "markdown",
   "metadata": {
    "heading_collapsed": true
   },
   "source": [
    "# Broadcasting\n",
    "\n",
    "<img src='https://numpy.org/doc/stable/_images/np_multiply_broadcasting.png'>\n",
    "\n",
    "<img src='https://numpy.org/doc/stable/_images/np_aggregation.png'>"
   ]
  },
  {
   "cell_type": "code",
   "execution_count": null,
   "metadata": {
    "ExecuteTime": {
     "end_time": "2020-12-06T10:01:13.953747Z",
     "start_time": "2020-12-06T10:01:13.950184Z"
    },
    "hidden": true
   },
   "outputs": [],
   "source": [
    "L = list(range(5))\n",
    "L"
   ]
  },
  {
   "cell_type": "code",
   "execution_count": null,
   "metadata": {
    "ExecuteTime": {
     "end_time": "2020-12-06T10:01:14.048880Z",
     "start_time": "2020-12-06T10:01:14.041911Z"
    },
    "hidden": true
   },
   "outputs": [],
   "source": [
    "L+2 # Throws an error!"
   ]
  },
  {
   "cell_type": "code",
   "execution_count": null,
   "metadata": {
    "ExecuteTime": {
     "end_time": "2020-12-06T10:01:14.197261Z",
     "start_time": "2020-12-06T10:01:14.191821Z"
    },
    "hidden": true
   },
   "outputs": [],
   "source": [
    "print('Addition       : ', np.array(L)+2)\n",
    "print('Multiplication : ', np.array(L)*2)\n",
    "print('Division       : ', np.array(L)/2)\n",
    "print('Moduluo        : ', np.array(L)%2)\n",
    "print('Power          : ', np.array(L)**2)\n"
   ]
  },
  {
   "cell_type": "markdown",
   "metadata": {
    "hidden": true
   },
   "source": [
    "Will highly recommed that you go through the Broadcasting Operations :[Numpy Broadcasting](https://numpy.org/doc/stable/user/absolute_beginners.html#broadcasting)"
   ]
  },
  {
   "cell_type": "markdown",
   "metadata": {},
   "source": [
    "# Datetimes in Python\n",
    "\n",
    "Since this talk is about Time Series Forecasting, we will take a deep dive into [Numpy `datetime64`](https://numpy.org/doc/stable/reference/arrays.datetime.html#datetimes-and-timedeltas)\n",
    "\n",
    "<b>But before we dive deep into the Numpy `datetime64` datetime datatype, lets first see the pythons inbuilt `datetime` library</b>"
   ]
  },
  {
   "cell_type": "markdown",
   "metadata": {
    "heading_collapsed": true
   },
   "source": [
    "## Python Native `datetime`\n",
    "\n",
    "\n",
    "`datetime.strftime` Format Codes\n",
    "\n",
    "<table class=\"docutils align-default\">\n",
    "<colgroup>\n",
    "<col style=\"width: 15%\">\n",
    "<col style=\"width: 43%\">\n",
    "<col style=\"width: 32%\">\n",
    "<col style=\"width: 9%\">\n",
    "</colgroup>\n",
    "<thead>\n",
    "<tr class=\"row-odd\"><th class=\"head\"><p>Directive</p></th>\n",
    "<th class=\"head\"><p>Meaning</p></th>\n",
    "<th class=\"head\"><p>Example</p></th>\n",
    "</tr>\n",
    "</thead>\n",
    "<tbody>\n",
    "<tr class=\"row-even\"><td><p><code class=\"docutils literal notranslate\"><span class=\"pre\">%a</span></code></p></td>\n",
    "<td><p>Weekday as locale’s\n",
    "abbreviated name.</p></td>\n",
    "<td><div class=\"line-block\">\n",
    "<div class=\"line\">Sun, Mon, …, Sat\n",
    "(en_US);</div>\n",
    "<div class=\"line\">So, Mo, …, Sa\n",
    "(de_DE)</div>\n",
    "</div>\n",
    "</td>\n",
    "</tr>\n",
    "<tr class=\"row-odd\"><td><p><code class=\"docutils literal notranslate\"><span class=\"pre\">%A</span></code></p></td>\n",
    "<td><p>Weekday as locale’s full name.</p></td>\n",
    "<td><div class=\"line-block\">\n",
    "<div class=\"line\">Sunday, Monday, …,\n",
    "Saturday (en_US);</div>\n",
    "<div class=\"line\">Sonntag, Montag, …,\n",
    "Samstag (de_DE)</div>\n",
    "</div>\n",
    "</td>\n",
    "</tr>\n",
    "<tr class=\"row-even\"><td><p><code class=\"docutils literal notranslate\"><span class=\"pre\">%w</span></code></p></td>\n",
    "<td><p>Weekday as a decimal number,\n",
    "where 0 is Sunday and 6 is\n",
    "Saturday.</p></td>\n",
    "<td><p>0, 1, …, 6</p></td>\n",
    "</tr>\n",
    "<tr class=\"row-odd\"><td><p><code class=\"docutils literal notranslate\"><span class=\"pre\">%d</span></code></p></td>\n",
    "<td><p>Day of the month as a\n",
    "zero-padded decimal number.</p></td>\n",
    "<td><p>01, 02, …, 31</p></td>\n",
    "</tr>\n",
    "<tr class=\"row-even\"><td><p><code class=\"docutils literal notranslate\"><span class=\"pre\">%b</span></code></p></td>\n",
    "<td><p>Month as locale’s abbreviated\n",
    "name.</p></td>\n",
    "<td><div class=\"line-block\">\n",
    "<div class=\"line\">Jan, Feb, …, Dec\n",
    "(en_US);</div>\n",
    "<div class=\"line\">Jan, Feb, …, Dez\n",
    "(de_DE)</div>\n",
    "</div>\n",
    "</td>\n",
    "</tr>\n",
    "<tr class=\"row-odd\"><td><p><code class=\"docutils literal notranslate\"><span class=\"pre\">%B</span></code></p></td>\n",
    "<td><p>Month as locale’s full name.</p></td>\n",
    "<td><div class=\"line-block\">\n",
    "<div class=\"line\">January, February,\n",
    "…, December (en_US);</div>\n",
    "<div class=\"line\">Januar, Februar, …,\n",
    "Dezember (de_DE)</div>\n",
    "</div>\n",
    "</td>\n",
    "</tr>\n",
    "<tr class=\"row-even\"><td><p><code class=\"docutils literal notranslate\"><span class=\"pre\">%m</span></code></p></td>\n",
    "<td><p>Month as a zero-padded\n",
    "decimal number.</p></td>\n",
    "<td><p>01, 02, …, 12</p></td>\n",
    "</tr>\n",
    "<tr class=\"row-odd\"><td><p><code class=\"docutils literal notranslate\"><span class=\"pre\">%y</span></code></p></td>\n",
    "<td><p>Year without century as a\n",
    "zero-padded decimal number.</p></td>\n",
    "<td><p>00, 01, …, 99</p></td>\n",
    "</tr>\n",
    "<tr class=\"row-even\"><td><p><code class=\"docutils literal notranslate\"><span class=\"pre\">%Y</span></code></p></td>\n",
    "<td><p>Year with century as a decimal\n",
    "number.</p></td>\n",
    "<td><p>0001, 0002, …, 2013,\n",
    "2014, …, 9998, 9999</p></td>\n",
    "</tr>\n",
    "<tr class=\"row-odd\"><td><p><code class=\"docutils literal notranslate\"><span class=\"pre\">%H</span></code></p></td>\n",
    "<td><p>Hour (24-hour clock) as a\n",
    "zero-padded decimal number.</p></td>\n",
    "<td><p>00, 01, …, 23</p></td>\n",
    "</tr>\n",
    "<tr class=\"row-even\"><td><p><code class=\"docutils literal notranslate\"><span class=\"pre\">%I</span></code></p></td>\n",
    "<td><p>Hour (12-hour clock) as a\n",
    "zero-padded decimal number.</p></td>\n",
    "<td><p>01, 02, …, 12</p></td>\n",
    "</tr>\n",
    "<tr class=\"row-odd\"><td><p><code class=\"docutils literal notranslate\"><span class=\"pre\">%p</span></code></p></td>\n",
    "<td><p>Locale’s equivalent of either\n",
    "AM or PM.</p></td>\n",
    "<td><div class=\"line-block\">\n",
    "<div class=\"line\">AM, PM (en_US);</div>\n",
    "<div class=\"line\">am, pm (de_DE)</div>\n",
    "</div>\n",
    "</td>\n",
    "</tr>\n",
    "<tr class=\"row-even\"><td><p><code class=\"docutils literal notranslate\"><span class=\"pre\">%M</span></code></p></td>\n",
    "<td><p>Minute as a zero-padded\n",
    "decimal number.</p></td>\n",
    "<td><p>00, 01, …, 59</p></td>\n",
    "</tr>\n",
    "<tr class=\"row-odd\"><td><p><code class=\"docutils literal notranslate\"><span class=\"pre\">%S</span></code></p></td>\n",
    "<td><p>Second as a zero-padded\n",
    "decimal number.</p></td>\n",
    "<td><p>00, 01, …, 59</p></td>\n",
    "</tr>\n",
    "<tr class=\"row-even\"><td><p><code class=\"docutils literal notranslate\"><span class=\"pre\">%f</span></code></p></td>\n",
    "<td><p>Microsecond as a decimal\n",
    "number, zero-padded on the\n",
    "left.</p></td>\n",
    "<td><p>000000, 000001, …,\n",
    "999999</p></td>\n",
    "</tr>\n",
    "<tr class=\"row-odd\"><td><p><code class=\"docutils literal notranslate\"><span class=\"pre\">%z</span></code></p></td>\n",
    "<td><p>UTC offset in the form\n",
    "<code class=\"docutils literal notranslate\"><span class=\"pre\">±HHMM[SS[.ffffff]]</span></code> (empty\n",
    "string if the object is\n",
    "naive).</p></td>\n",
    "<td><p>(empty), +0000,\n",
    "-0400, +1030,\n",
    "+063415,\n",
    "-030712.345216</p></td>\n",
    "</tr>\n",
    "<tr class=\"row-even\"><td><p><code class=\"docutils literal notranslate\"><span class=\"pre\">%Z</span></code></p></td>\n",
    "<td><p>Time zone name (empty string\n",
    "if the object is naive).</p></td>\n",
    "<td><p>(empty), UTC, GMT</p></td>\n",
    "</tr>\n",
    "<tr class=\"row-odd\"><td><p><code class=\"docutils literal notranslate\"><span class=\"pre\">%j</span></code></p></td>\n",
    "<td><p>Day of the year as a\n",
    "zero-padded decimal number.</p></td>\n",
    "<td><p>001, 002, …, 366</p></td>\n",
    "</tr>\n",
    "<tr class=\"row-even\"><td><p><code class=\"docutils literal notranslate\"><span class=\"pre\">%U</span></code></p></td>\n",
    "<td><p>Week number of the year\n",
    "(Sunday as the first day of\n",
    "the week) as a zero padded\n",
    "decimal number. All days in a\n",
    "new year preceding the first\n",
    "Sunday are considered to be in\n",
    "week 0.</p></td>\n",
    "<td><p>00, 01, …, 53</p></td>\n",
    "</tr>\n",
    "<tr class=\"row-odd\"><td><p><code class=\"docutils literal notranslate\"><span class=\"pre\">%W</span></code></p></td>\n",
    "<td><p>Week number of the year\n",
    "(Monday as the first day of\n",
    "the week) as a decimal number.\n",
    "All days in a new year\n",
    "preceding the first Monday\n",
    "are considered to be in\n",
    "week 0.</p></td>\n",
    "<td><p>00, 01, …, 53</p></td>\n",
    "</tr>\n",
    "<tr class=\"row-even\"><td><p><code class=\"docutils literal notranslate\"><span class=\"pre\">%c</span></code></p></td>\n",
    "<td><p>Locale’s appropriate date and\n",
    "time representation.</p></td>\n",
    "<td><div class=\"line-block\">\n",
    "<div class=\"line\">Tue Aug 16 21:30:00\n",
    "1988 (en_US);</div>\n",
    "<div class=\"line\">Di 16 Aug 21:30:00\n",
    "1988 (de_DE)</div>\n",
    "</div>\n",
    "</td>\n",
    "</tr>\n",
    "<tr class=\"row-odd\"><td><p><code class=\"docutils literal notranslate\"><span class=\"pre\">%x</span></code></p></td>\n",
    "<td><p>Locale’s appropriate date\n",
    "representation.</p></td>\n",
    "<td><div class=\"line-block\">\n",
    "<div class=\"line\">08/16/88 (None);</div>\n",
    "<div class=\"line\">08/16/1988 (en_US);</div>\n",
    "<div class=\"line\">16.08.1988 (de_DE)</div>\n",
    "</div>\n",
    "</td>\n",
    "</tr>\n",
    "<tr class=\"row-even\"><td><p><code class=\"docutils literal notranslate\"><span class=\"pre\">%X</span></code></p></td>\n",
    "<td><p>Locale’s appropriate time\n",
    "representation.</p></td>\n",
    "<td><div class=\"line-block\">\n",
    "<div class=\"line\">21:30:00 (en_US);</div>\n",
    "<div class=\"line\">21:30:00 (de_DE)</div>\n",
    "</div>\n",
    "</td>\n",
    "</tr>\n",
    "<tr class=\"row-odd\"><td><p><code class=\"docutils literal notranslate\"><span class=\"pre\">%%</span></code></p></td>\n",
    "<td><p>A literal <code class=\"docutils literal notranslate\"><span class=\"pre\">'%'</span></code> character.</p></td>\n",
    "<td><p>%</p></td>\n",
    "</tr>\n",
    "</tbody>\n",
    "</table>\n",
    "\n",
    "Another useful library to look at are : [dateutils](https://dateutil.readthedocs.io/en/stable/), [pytz-Handles TimeZones](http://pytz.sourceforge.net)\n"
   ]
  },
  {
   "cell_type": "code",
   "execution_count": null,
   "metadata": {
    "ExecuteTime": {
     "end_time": "2020-12-06T10:01:14.527177Z",
     "start_time": "2020-12-06T10:01:14.525178Z"
    },
    "hidden": true
   },
   "outputs": [],
   "source": [
    "from datetime import datetime, timedelta"
   ]
  },
  {
   "cell_type": "markdown",
   "metadata": {
    "hidden": true
   },
   "source": [
    "<b>Getting a particular datetime</b>"
   ]
  },
  {
   "cell_type": "code",
   "execution_count": null,
   "metadata": {
    "ExecuteTime": {
     "end_time": "2020-12-06T10:01:14.636233Z",
     "start_time": "2020-12-06T10:01:14.632890Z"
    },
    "hidden": true
   },
   "outputs": [],
   "source": [
    "datetime(year=2020, month=12, day=7, hour=12, minute=23)"
   ]
  },
  {
   "cell_type": "markdown",
   "metadata": {
    "hidden": true
   },
   "source": [
    "<b>Getting Now!</b>"
   ]
  },
  {
   "cell_type": "code",
   "execution_count": null,
   "metadata": {
    "ExecuteTime": {
     "end_time": "2020-12-06T10:01:14.788244Z",
     "start_time": "2020-12-06T10:01:14.785183Z"
    },
    "hidden": true
   },
   "outputs": [],
   "source": [
    "datetime.now()"
   ]
  },
  {
   "cell_type": "markdown",
   "metadata": {
    "hidden": true
   },
   "source": [
    "<b>Getting a string representation of the datetime</b>\n",
    "\n",
    "For the format codes, see the table in the header."
   ]
  },
  {
   "cell_type": "code",
   "execution_count": null,
   "metadata": {
    "ExecuteTime": {
     "end_time": "2020-12-06T10:01:14.955500Z",
     "start_time": "2020-12-06T10:01:14.951369Z"
    },
    "hidden": true
   },
   "outputs": [],
   "source": [
    "current_time = datetime.now()\n",
    "print('Current year                                 :', current_time.strftime('%Y'))\n",
    "print('Current year-month                           :', current_time.strftime('%Y-%m'))\n",
    "print('Current year-month-date                      :', current_time.strftime('%Y-%m-%d'))\n",
    "print('Current year-month-date-hour-minutes-seconds :', current_time.strftime('%Y-%m-%d %H-%M-%S'))\n",
    "print('Current weeknumber                           :', current_time.strftime('%W'))\n",
    "print('Current 12-hour clock time                   :', current_time.strftime('%I:%M:%S %p'))"
   ]
  },
  {
   "cell_type": "markdown",
   "metadata": {
    "hidden": true,
    "solution2": "hidden",
    "solution2_first": true
   },
   "source": [
    "**Q**) Anu has asked you to tell her the following, only condition is it must be through `python` :-\n",
    "- What is the current runnning month full name?\n",
    "- What is the current runnning month abbreviated name?\n",
    "- What is the current runnning weekday number?\n",
    "- What is the current name of the day?"
   ]
  },
  {
   "cell_type": "code",
   "execution_count": null,
   "metadata": {
    "ExecuteTime": {
     "end_time": "2020-12-06T10:01:15.131933Z",
     "start_time": "2020-12-06T10:01:15.127263Z"
    },
    "hidden": true,
    "solution2": "hidden"
   },
   "outputs": [],
   "source": [
    "print('Current Month name                           :', current_time.strftime('%B'))\n",
    "print('Current Month name Abbreviation              :', current_time.strftime('%b'))\n",
    "print('Current Week Day Number                      :', current_time.strftime('%w'))\n",
    "print('Current Week Day                             :', current_time.strftime('%A'))"
   ]
  },
  {
   "cell_type": "code",
   "execution_count": null,
   "metadata": {
    "ExecuteTime": {
     "end_time": "2020-12-06T10:01:15.211850Z",
     "start_time": "2020-12-06T10:01:15.209804Z"
    },
    "hidden": true
   },
   "outputs": [],
   "source": [
    "#----------YOUR SOLUTION-----------#\n",
    "#....\n"
   ]
  },
  {
   "cell_type": "markdown",
   "metadata": {
    "hidden": true
   },
   "source": [
    "<b>Inferring datetime from a string</b>\n"
   ]
  },
  {
   "cell_type": "code",
   "execution_count": null,
   "metadata": {
    "ExecuteTime": {
     "end_time": "2020-12-06T10:01:15.375841Z",
     "start_time": "2020-12-06T10:01:15.371590Z"
    },
    "hidden": true
   },
   "outputs": [],
   "source": [
    "datetime.strptime('2020-11-27', '%Y-%m-%d')"
   ]
  },
  {
   "cell_type": "markdown",
   "metadata": {
    "hidden": true,
    "solution2": "hidden",
    "solution2_first": true
   },
   "source": [
    "**Q**) How will you parse `2020-11-27 00-15-51` using `datetime` library?"
   ]
  },
  {
   "cell_type": "code",
   "execution_count": null,
   "metadata": {
    "ExecuteTime": {
     "end_time": "2020-12-06T10:01:15.547269Z",
     "start_time": "2020-12-06T10:01:15.542923Z"
    },
    "hidden": true,
    "solution2": "hidden"
   },
   "outputs": [],
   "source": [
    "datetime.strptime('2020-11-27 00-15-51', '%Y-%m-%d %H-%M-%S')"
   ]
  },
  {
   "cell_type": "code",
   "execution_count": null,
   "metadata": {
    "ExecuteTime": {
     "end_time": "2020-12-06T10:01:15.632709Z",
     "start_time": "2020-12-06T10:01:15.631064Z"
    },
    "hidden": true
   },
   "outputs": [],
   "source": [
    "#----------YOUR SOLUTION-----------#\n",
    "#....\n"
   ]
  },
  {
   "cell_type": "markdown",
   "metadata": {
    "hidden": true
   },
   "source": [
    "<b>`datetime` atrributes</b>"
   ]
  },
  {
   "cell_type": "code",
   "execution_count": null,
   "metadata": {
    "ExecuteTime": {
     "end_time": "2020-12-06T10:01:15.793874Z",
     "start_time": "2020-12-06T10:01:15.789810Z"
    },
    "hidden": true
   },
   "outputs": [],
   "source": [
    "[k for k in current_time.__dir__() if '_' not in k]"
   ]
  },
  {
   "cell_type": "markdown",
   "metadata": {
    "hidden": true
   },
   "source": [
    "**A slight detour** : Any function that you see in python object which has a signature of __fname__, is something called as magic function. You can do really amazing things using these functions"
   ]
  },
  {
   "cell_type": "code",
   "execution_count": null,
   "metadata": {
    "ExecuteTime": {
     "end_time": "2020-12-06T10:01:15.957719Z",
     "start_time": "2020-12-06T10:01:15.954772Z"
    },
    "hidden": true
   },
   "outputs": [],
   "source": [
    "class SumMe:\n",
    "    def __init__(self, num):\n",
    "        self.num = num\n",
    "    def __add__(self, other):\n",
    "        return self.num+other.num"
   ]
  },
  {
   "cell_type": "code",
   "execution_count": null,
   "metadata": {
    "ExecuteTime": {
     "end_time": "2020-12-06T10:01:16.045841Z",
     "start_time": "2020-12-06T10:01:16.043638Z"
    },
    "hidden": true
   },
   "outputs": [],
   "source": [
    "objA = SumMe(20)\n",
    "objB = SumMe(21)"
   ]
  },
  {
   "cell_type": "code",
   "execution_count": null,
   "metadata": {
    "ExecuteTime": {
     "end_time": "2020-12-06T10:01:16.137127Z",
     "start_time": "2020-12-06T10:01:16.134250Z"
    },
    "hidden": true
   },
   "outputs": [],
   "source": [
    "objA.num+objB.num"
   ]
  },
  {
   "cell_type": "code",
   "execution_count": null,
   "metadata": {
    "ExecuteTime": {
     "end_time": "2020-12-06T10:01:16.222755Z",
     "start_time": "2020-12-06T10:01:16.219632Z"
    },
    "hidden": true
   },
   "outputs": [],
   "source": [
    "objA+objB"
   ]
  },
  {
   "cell_type": "markdown",
   "metadata": {
    "hidden": true
   },
   "source": [
    "<b>Operations using `Timedelta`</b>"
   ]
  },
  {
   "cell_type": "code",
   "execution_count": null,
   "metadata": {
    "ExecuteTime": {
     "end_time": "2020-12-06T10:01:16.385014Z",
     "start_time": "2020-12-06T10:01:16.381581Z"
    },
    "hidden": true
   },
   "outputs": [],
   "source": [
    "print('Current Time              : ', datetime.now())\n",
    "print('Time 10 days prior        : ', datetime.now()-timedelta(days=10))\n",
    "print('Time 10 hours prior       : ', datetime.now()-timedelta(hours=10))\n",
    "print('Time 1 day, 3 hours after : ', datetime.now()+timedelta(days=1, hours=3))"
   ]
  },
  {
   "cell_type": "code",
   "execution_count": null,
   "metadata": {
    "ExecuteTime": {
     "end_time": "2020-12-06T10:01:16.484274Z",
     "start_time": "2020-12-06T10:01:16.481108Z"
    },
    "hidden": true
   },
   "outputs": [],
   "source": [
    "# Divinding two timedeltas\n",
    "timedelta(days=1) / timedelta(hours=4)"
   ]
  },
  {
   "cell_type": "markdown",
   "metadata": {
    "hidden": true,
    "solution2": "hidden",
    "solution2_first": true
   },
   "source": [
    "**Q)** Anu has asked me to tell her the exact time to seconds, 2 weeks 1 day 13 hours 28 minutes 10 seconds and 19 millisseconds prior.... *I know anu is a little bit wierd on time, but what can you do?*\n",
    "\n",
    "How will you find that??"
   ]
  },
  {
   "cell_type": "code",
   "execution_count": null,
   "metadata": {
    "ExecuteTime": {
     "end_time": "2020-12-06T10:01:16.630413Z",
     "start_time": "2020-12-06T10:01:16.626891Z"
    },
    "hidden": true,
    "solution2": "hidden"
   },
   "outputs": [],
   "source": [
    "datetime.now() - timedelta(weeks=1, days=1, hours=13, minutes=28, seconds=10, milliseconds=19)"
   ]
  },
  {
   "cell_type": "code",
   "execution_count": null,
   "metadata": {
    "ExecuteTime": {
     "end_time": "2020-12-06T10:01:16.719443Z",
     "start_time": "2020-12-06T10:01:16.717765Z"
    },
    "hidden": true
   },
   "outputs": [],
   "source": [
    "#----------YOUR SOLUTION-----------#\n",
    "#....\n",
    "\n"
   ]
  },
  {
   "cell_type": "markdown",
   "metadata": {
    "heading_collapsed": true
   },
   "source": [
    "## `dateutils` Package\n",
    "\n",
    "- `dateutils` - [Excercise](https://dateutil.readthedocs.io/en/stable/exercises/index.html)"
   ]
  },
  {
   "cell_type": "code",
   "execution_count": null,
   "metadata": {
    "ExecuteTime": {
     "end_time": "2020-12-06T10:01:16.990261Z",
     "start_time": "2020-12-06T10:01:16.987648Z"
    },
    "hidden": true
   },
   "outputs": [],
   "source": [
    "from dateutil.rrule import rrule\n",
    "from dateutil.parser import parse\n",
    "from dateutil.rrule import MO, TU, WE, TH, FR, SA, SU, YEARLY, DAILY, MONTHLY, WEEKLY\n",
    "from dateutil.relativedelta import relativedelta"
   ]
  },
  {
   "cell_type": "markdown",
   "metadata": {
    "hidden": true
   },
   "source": [
    "<b>Playing around with `relativedelta`</b>"
   ]
  },
  {
   "cell_type": "code",
   "execution_count": null,
   "metadata": {
    "ExecuteTime": {
     "end_time": "2020-12-06T10:01:17.110726Z",
     "start_time": "2020-12-06T10:01:17.107705Z"
    },
    "hidden": true
   },
   "outputs": [],
   "source": [
    "print('Current Time              : ', datetime.now())\n",
    "print('Time 10 days prior        : ', datetime.now()+relativedelta(months=3))"
   ]
  },
  {
   "cell_type": "code",
   "execution_count": null,
   "metadata": {
    "ExecuteTime": {
     "end_time": "2020-12-06T10:01:17.199358Z",
     "start_time": "2020-12-06T10:01:17.195175Z"
    },
    "hidden": true
   },
   "outputs": [],
   "source": [
    "current_time = datetime.now()\n",
    "current_time_singular_RLD = datetime.now()+relativedelta(month=5)\n",
    "current_time_plural_RLD = datetime.now()-relativedelta(months=3)\n",
    "\n",
    "current_time, current_time_singular_RLD, current_time_plural_RLD"
   ]
  },
  {
   "cell_type": "markdown",
   "metadata": {
    "hidden": true
   },
   "source": [
    "<b>Notice the difference?\n",
    "    \n",
    "</b> What could it mean?"
   ]
  },
  {
   "cell_type": "code",
   "execution_count": null,
   "metadata": {
    "ExecuteTime": {
     "end_time": "2020-12-06T10:01:17.375375Z",
     "start_time": "2020-12-06T10:01:17.371766Z"
    },
    "hidden": true
   },
   "outputs": [],
   "source": [
    "t1 = datetime.now()\n",
    "t2 = t1+relativedelta(microseconds=3)\n",
    "relativedelta(t2,t1)"
   ]
  },
  {
   "cell_type": "markdown",
   "metadata": {
    "hidden": true
   },
   "source": [
    "One month before one year from now"
   ]
  },
  {
   "cell_type": "code",
   "execution_count": null,
   "metadata": {
    "ExecuteTime": {
     "end_time": "2020-12-06T10:01:17.502057Z",
     "start_time": "2020-12-06T10:01:17.498867Z"
    },
    "hidden": true
   },
   "outputs": [],
   "source": [
    "t1+relativedelta(years=+1, months=-1)"
   ]
  },
  {
   "cell_type": "markdown",
   "metadata": {
    "hidden": true
   },
   "source": [
    "Last Friday of this month"
   ]
  },
  {
   "cell_type": "code",
   "execution_count": null,
   "metadata": {
    "ExecuteTime": {
     "end_time": "2020-12-06T10:01:17.650514Z",
     "start_time": "2020-12-06T10:01:17.647258Z"
    },
    "hidden": true
   },
   "outputs": [],
   "source": [
    "t1+relativedelta(day=31, weekday=FR(-1))"
   ]
  },
  {
   "cell_type": "markdown",
   "metadata": {
    "hidden": true,
    "solution2": "hidden",
    "solution2_first": true
   },
   "source": [
    "**Q**) Every time you run this notebook, you are to schedule a meeting on the Next Monday? What time would that be?"
   ]
  },
  {
   "cell_type": "code",
   "execution_count": null,
   "metadata": {
    "ExecuteTime": {
     "end_time": "2020-12-06T10:01:17.797946Z",
     "start_time": "2020-12-06T10:01:17.794686Z"
    },
    "hidden": true,
    "solution2": "hidden"
   },
   "outputs": [],
   "source": [
    "t1+relativedelta(weekday=MO(+1))"
   ]
  },
  {
   "cell_type": "code",
   "execution_count": null,
   "metadata": {
    "ExecuteTime": {
     "end_time": "2020-12-06T10:01:17.885823Z",
     "start_time": "2020-12-06T10:01:17.884049Z"
    },
    "code_folding": [],
    "hidden": true
   },
   "outputs": [],
   "source": [
    "#----------YOUR SOLUTION-----------#\n",
    "#...."
   ]
  },
  {
   "cell_type": "markdown",
   "metadata": {
    "hidden": true
   },
   "source": [
    "Next Monday, But not today!"
   ]
  },
  {
   "cell_type": "code",
   "execution_count": null,
   "metadata": {
    "ExecuteTime": {
     "end_time": "2020-12-06T10:01:18.048752Z",
     "start_time": "2020-12-06T10:01:18.045120Z"
    },
    "hidden": true
   },
   "outputs": [],
   "source": [
    "t1+relativedelta(days=+1, weekday=MO(+1))"
   ]
  },
  {
   "cell_type": "markdown",
   "metadata": {
    "hidden": true
   },
   "source": [
    "Whats my age?"
   ]
  },
  {
   "cell_type": "code",
   "execution_count": null,
   "metadata": {
    "ExecuteTime": {
     "end_time": "2020-12-06T10:01:18.216303Z",
     "start_time": "2020-12-06T10:01:18.213554Z"
    },
    "hidden": true
   },
   "outputs": [],
   "source": [
    "birthdate = '1996-11-09'\n",
    "print('My Age : ', relativedelta(datetime.now(), parse(birthdate)))"
   ]
  },
  {
   "cell_type": "markdown",
   "metadata": {
    "hidden": true
   },
   "source": [
    "<b>Playing around with `rrule` - `recurrence rule`</b>"
   ]
  },
  {
   "cell_type": "code",
   "execution_count": null,
   "metadata": {
    "ExecuteTime": {
     "end_time": "2020-12-06T10:01:18.384634Z",
     "start_time": "2020-12-06T10:01:18.380884Z"
    },
    "code_folding": [],
    "hidden": true
   },
   "outputs": [],
   "source": [
    "# Give me next 4 consecutive dates\n",
    "list(rrule(MONTHLY, count=4, dtstart=current_time))"
   ]
  },
  {
   "cell_type": "code",
   "execution_count": null,
   "metadata": {
    "ExecuteTime": {
     "end_time": "2020-12-06T10:01:18.477009Z",
     "start_time": "2020-12-06T10:01:18.473467Z"
    },
    "code_folding": [],
    "hidden": true
   },
   "outputs": [],
   "source": [
    "# Give me next 4, every other date\n",
    "list(rrule(DAILY, count=4, dtstart=current_time, interval=2))"
   ]
  },
  {
   "cell_type": "code",
   "execution_count": null,
   "metadata": {
    "ExecuteTime": {
     "end_time": "2020-12-06T10:01:18.571976Z",
     "start_time": "2020-12-06T10:01:18.568198Z"
    },
    "code_folding": [],
    "hidden": true
   },
   "outputs": [],
   "source": [
    "# Give me last friday of next 10 months\n",
    "list(rrule(MONTHLY, count=10, dtstart=current_time, byweekday=FR(-1)))"
   ]
  },
  {
   "cell_type": "markdown",
   "metadata": {
    "hidden": true,
    "solution2": "hidden",
    "solution2_first": true
   },
   "source": [
    "**Q)** Last friday of next 10 alternating months :-"
   ]
  },
  {
   "cell_type": "code",
   "execution_count": null,
   "metadata": {
    "ExecuteTime": {
     "end_time": "2020-12-06T10:01:18.734082Z",
     "start_time": "2020-12-06T10:01:18.730046Z"
    },
    "code_folding": [],
    "hidden": true,
    "solution2": "hidden"
   },
   "outputs": [],
   "source": [
    "list(rrule(MONTHLY, count=10, dtstart=current_time, byweekday=FR(-1), interval=2))"
   ]
  },
  {
   "cell_type": "code",
   "execution_count": null,
   "metadata": {
    "ExecuteTime": {
     "end_time": "2020-12-06T10:01:18.807114Z",
     "start_time": "2020-12-06T10:01:18.805014Z"
    },
    "hidden": true
   },
   "outputs": [],
   "source": [
    "#----------YOUR SOLUTION-----------#\n",
    "#...."
   ]
  },
  {
   "cell_type": "code",
   "execution_count": null,
   "metadata": {
    "ExecuteTime": {
     "end_time": "2020-12-06T10:01:18.931822Z",
     "start_time": "2020-12-06T10:01:18.927484Z"
    },
    "code_folding": [],
    "hidden": true
   },
   "outputs": [],
   "source": [
    "# Every other month on the 1st and last Sunday of the month for 10 occurrences.\n",
    "list(rrule(MONTHLY, interval=2, \n",
    "           count=10, dtstart=current_time,\n",
    "           byweekday=(SU(+1),SU(-1))))"
   ]
  },
  {
   "cell_type": "markdown",
   "metadata": {
    "hidden": true
   },
   "source": [
    "<b>Well this seems sufficient right? Then why did `numpy` create its own datatype `datetime64`?</b>"
   ]
  },
  {
   "cell_type": "code",
   "execution_count": null,
   "metadata": {
    "ExecuteTime": {
     "end_time": "2020-12-06T10:01:19.074571Z",
     "start_time": "2020-12-06T10:01:19.067472Z"
    },
    "hidden": true
   },
   "outputs": [],
   "source": [
    "print(current_time, 'of type : ', type(current_time))\n",
    "current_time+20"
   ]
  },
  {
   "cell_type": "code",
   "execution_count": null,
   "metadata": {
    "ExecuteTime": {
     "end_time": "2020-12-06T10:01:19.185677Z",
     "start_time": "2020-12-06T10:01:19.181695Z"
    },
    "hidden": true
   },
   "outputs": [],
   "source": [
    "# Try to play around with the format, say 'D', 'M', 'Y', 'h'...\n",
    "np_current_time = np.datetime64(current_time, 'us')\n",
    "print(np_current_time, 'of type : ', type(np_current_time))\n",
    "np_current_time+20"
   ]
  },
  {
   "cell_type": "code",
   "execution_count": null,
   "metadata": {
    "ExecuteTime": {
     "end_time": "2020-12-06T10:01:19.268938Z",
     "start_time": "2020-12-06T10:01:19.265282Z"
    },
    "hidden": true
   },
   "outputs": [],
   "source": [
    "np_current_time+np.arange(12)"
   ]
  },
  {
   "cell_type": "markdown",
   "metadata": {
    "hidden": true
   },
   "source": [
    "<b>Thats why!</b>, And also because its an homogeneous way of representaion"
   ]
  },
  {
   "cell_type": "markdown",
   "metadata": {
    "heading_collapsed": true
   },
   "source": [
    "## Numpy `datetime64`\n",
    "\n",
    "\n",
    "<p>The Datetime and Timedelta data types support a large number of time\n",
    "units, as well as generic units which can be coerced into any of the\n",
    "other units based on input data.</p>\n",
    "<p>Datetimes are always stored based on POSIX time (though having a TAI\n",
    "mode which allows for accounting of leap-seconds is proposed), with\n",
    "an epoch of 1970-01-01T00:00Z. This means the supported dates are\n",
    "always a symmetric interval around the epoch, called “time span” in the\n",
    "table below.</p>\n",
    "<p>The length of the span is the range of a 64-bit integer times the length\n",
    "of the date or unit.  For example, the time span for ‘W’ (week) is exactly\n",
    "7 times longer than the time span for ‘D’ (day), and the time span for\n",
    "‘D’ (day) is exactly 24 times longer than the time span for ‘h’ (hour).</p>\n",
    "<p>Here are the date units:</p>\n",
    "<table class=\"docutils align-default\" id=\"arrays-dtypes-dateunits\">\n",
    "<colgroup>\n",
    "<col style=\"width: 11%\">\n",
    "<col style=\"width: 22%\">\n",
    "<col style=\"width: 32%\">\n",
    "<col style=\"width: 36%\">\n",
    "</colgroup>\n",
    "<thead>\n",
    "<tr class=\"row-odd\"><th class=\"head\"><p>Code</p></th>\n",
    "<th class=\"head\"><p>Meaning</p></th>\n",
    "<th class=\"head\"><p>Time span (relative)</p></th>\n",
    "<th class=\"head\"><p>Time span (absolute)</p></th>\n",
    "</tr>\n",
    "</thead>\n",
    "<tbody>\n",
    "<tr class=\"row-even\"><td><p>Y</p></td>\n",
    "<td><p>year</p></td>\n",
    "<td><p>+/- 9.2e18 years</p></td>\n",
    "<td><p>[9.2e18 BC, 9.2e18 AD]</p></td>\n",
    "</tr>\n",
    "<tr class=\"row-odd\"><td><p>M</p></td>\n",
    "<td><p>month</p></td>\n",
    "<td><p>+/- 7.6e17 years</p></td>\n",
    "<td><p>[7.6e17 BC, 7.6e17 AD]</p></td>\n",
    "</tr>\n",
    "<tr class=\"row-even\"><td><p>W</p></td>\n",
    "<td><p>week</p></td>\n",
    "<td><p>+/- 1.7e17 years</p></td>\n",
    "<td><p>[1.7e17 BC, 1.7e17 AD]</p></td>\n",
    "</tr>\n",
    "<tr class=\"row-odd\"><td><p>D</p></td>\n",
    "<td><p>day</p></td>\n",
    "<td><p>+/- 2.5e16 years</p></td>\n",
    "<td><p>[2.5e16 BC, 2.5e16 AD]</p></td>\n",
    "</tr>\n",
    "</tbody>\n",
    "</table>\n",
    "<p>And here are the time units:</p>\n",
    "<table class=\"docutils align-default\" id=\"arrays-dtypes-timeunits\">\n",
    "<colgroup>\n",
    "<col style=\"width: 11%\">\n",
    "<col style=\"width: 22%\">\n",
    "<col style=\"width: 32%\">\n",
    "<col style=\"width: 36%\">\n",
    "</colgroup>\n",
    "<thead>\n",
    "<tr class=\"row-odd\"><th class=\"head\"><p>Code</p></th>\n",
    "<th class=\"head\"><p>Meaning</p></th>\n",
    "<th class=\"head\"><p>Time span (relative)</p></th>\n",
    "<th class=\"head\"><p>Time span (absolute)</p></th>\n",
    "</tr>\n",
    "</thead>\n",
    "<tbody>\n",
    "<tr class=\"row-even\"><td><p>h</p></td>\n",
    "<td><p>hour</p></td>\n",
    "<td><p>+/- 1.0e15 years</p></td>\n",
    "<td><p>[1.0e15 BC, 1.0e15 AD]</p></td>\n",
    "</tr>\n",
    "<tr class=\"row-odd\"><td><p>m</p></td>\n",
    "<td><p>minute</p></td>\n",
    "<td><p>+/- 1.7e13 years</p></td>\n",
    "<td><p>[1.7e13 BC, 1.7e13 AD]</p></td>\n",
    "</tr>\n",
    "<tr class=\"row-even\"><td><p>s</p></td>\n",
    "<td><p>second</p></td>\n",
    "<td><p>+/- 2.9e11 years</p></td>\n",
    "<td><p>[2.9e11 BC, 2.9e11 AD]</p></td>\n",
    "</tr>\n",
    "<tr class=\"row-odd\"><td><p>ms</p></td>\n",
    "<td><p>millisecond</p></td>\n",
    "<td><p>+/- 2.9e8 years</p></td>\n",
    "<td><p>[ 2.9e8 BC,  2.9e8 AD]</p></td>\n",
    "</tr>\n",
    "<tr class=\"row-even\"><td><p>us</p></td>\n",
    "<td><p>microsecond</p></td>\n",
    "<td><p>+/- 2.9e5 years</p></td>\n",
    "<td><p>[290301 BC, 294241 AD]</p></td>\n",
    "</tr>\n",
    "<tr class=\"row-odd\"><td><p>ns</p></td>\n",
    "<td><p>nanosecond</p></td>\n",
    "<td><p>+/- 292 years</p></td>\n",
    "<td><p>[  1678 AD,   2262 AD]</p></td>\n",
    "</tr>\n",
    "<tr class=\"row-even\"><td><p>ps</p></td>\n",
    "<td><p>picosecond</p></td>\n",
    "<td><p>+/- 106 days</p></td>\n",
    "<td><p>[  1969 AD,   1970 AD]</p></td>\n",
    "</tr>\n",
    "<tr class=\"row-odd\"><td><p>fs</p></td>\n",
    "<td><p>femtosecond</p></td>\n",
    "<td><p>+/- 2.6 hours</p></td>\n",
    "<td><p>[  1969 AD,   1970 AD]</p></td>\n",
    "</tr>\n",
    "<tr class=\"row-even\"><td><p>as</p></td>\n",
    "<td><p>attosecond</p></td>\n",
    "<td><p>+/- 9.2 seconds</p></td>\n",
    "<td><p>[  1969 AD,   1970 AD]</p></td>\n",
    "</tr>\n",
    "</tbody>\n",
    "</table>"
   ]
  },
  {
   "cell_type": "code",
   "execution_count": null,
   "metadata": {
    "ExecuteTime": {
     "end_time": "2020-12-06T10:01:19.473465Z",
     "start_time": "2020-12-06T10:01:19.470096Z"
    },
    "hidden": true
   },
   "outputs": [],
   "source": [
    "# Simple ISO Date\n",
    "np.datetime64('2020-12-07'), type(np.datetime64('2020-12-07'))"
   ]
  },
  {
   "cell_type": "code",
   "execution_count": null,
   "metadata": {
    "ExecuteTime": {
     "end_time": "2020-12-06T10:01:19.565753Z",
     "start_time": "2020-12-06T10:01:19.562830Z"
    },
    "hidden": true
   },
   "outputs": [],
   "source": [
    "np.datetime64('2005-02')"
   ]
  },
  {
   "cell_type": "code",
   "execution_count": null,
   "metadata": {
    "ExecuteTime": {
     "end_time": "2020-12-06T10:01:19.648595Z",
     "start_time": "2020-12-06T10:01:19.645661Z"
    },
    "hidden": true
   },
   "outputs": [],
   "source": [
    "np.datetime64('2005-02-25 03:30')"
   ]
  },
  {
   "cell_type": "code",
   "execution_count": null,
   "metadata": {
    "ExecuteTime": {
     "end_time": "2020-12-06T10:01:19.727834Z",
     "start_time": "2020-12-06T10:01:19.724901Z"
    },
    "hidden": true
   },
   "outputs": [],
   "source": [
    "# Changing resolution of the time display and then try yourself, 's','us','ns'\n",
    "np.datetime64('2005-02-01T01:20', 'h')"
   ]
  },
  {
   "cell_type": "code",
   "execution_count": null,
   "metadata": {
    "ExecuteTime": {
     "end_time": "2020-12-06T10:01:19.878599Z",
     "start_time": "2020-12-06T10:01:19.874483Z"
    },
    "hidden": true
   },
   "outputs": [],
   "source": [
    "np.timedelta64(1,'W') / np.timedelta64(1,'D')"
   ]
  },
  {
   "cell_type": "code",
   "execution_count": null,
   "metadata": {
    "ExecuteTime": {
     "end_time": "2020-12-06T10:01:19.947552Z",
     "start_time": "2020-12-06T10:01:19.943382Z"
    },
    "hidden": true
   },
   "outputs": [],
   "source": [
    "# Changing resolution of the time and then adding\n",
    "current_time = datetime.now()\n",
    "np_current_time = np.datetime64(current_time, 'D')\n",
    "np_current_time_added = np_current_time+np.arange(12)\n",
    "np_current_time_added"
   ]
  },
  {
   "cell_type": "code",
   "execution_count": null,
   "metadata": {
    "ExecuteTime": {
     "end_time": "2020-12-06T10:01:20.030029Z",
     "start_time": "2020-12-06T10:01:20.026437Z"
    },
    "hidden": true
   },
   "outputs": [],
   "source": [
    "# Handling Buisness Days\n",
    "# The first business day on or after a date\n",
    "np.busday_offset(np_current_time, 0, roll='forward',\n",
    "                 weekmask='1111100', holidays = [np.datetime64('2020-12-07')])"
   ]
  },
  {
   "cell_type": "code",
   "execution_count": null,
   "metadata": {
    "ExecuteTime": {
     "end_time": "2020-12-06T10:01:20.108999Z",
     "start_time": "2020-12-06T10:01:20.106041Z"
    },
    "hidden": true
   },
   "outputs": [],
   "source": [
    "# The first business day strictly after a date:\n",
    "np.busday_offset(np_current_time, -1, roll='forward')"
   ]
  },
  {
   "cell_type": "markdown",
   "metadata": {
    "hidden": true,
    "solution2": "hidden",
    "solution2_first": true
   },
   "source": [
    "**Q)** <b>Suppose if today and tomorow were a weekday and a `holiday`, and i want the next buisness day, how will i approach that?<\\b>"
   ]
  },
  {
   "cell_type": "code",
   "execution_count": null,
   "metadata": {
    "ExecuteTime": {
     "end_time": "2020-12-06T10:01:20.250753Z",
     "start_time": "2020-12-06T10:01:20.247065Z"
    },
    "hidden": true,
    "solution2": "hidden"
   },
   "outputs": [],
   "source": [
    "np.busday_offset(np_current_time, 0, roll='forward',\n",
    "                 weekmask='1111100', holidays = [np.datetime64('2020-12-07'),\n",
    "                                                 np.datetime64('2020-12-08')])"
   ]
  },
  {
   "cell_type": "markdown",
   "metadata": {
    "heading_collapsed": true
   },
   "source": [
    "# Random Testing Space"
   ]
  },
  {
   "cell_type": "code",
   "execution_count": null,
   "metadata": {
    "hidden": true
   },
   "outputs": [],
   "source": []
  },
  {
   "cell_type": "code",
   "execution_count": null,
   "metadata": {
    "hidden": true
   },
   "outputs": [],
   "source": []
  },
  {
   "cell_type": "code",
   "execution_count": null,
   "metadata": {
    "hidden": true
   },
   "outputs": [],
   "source": []
  },
  {
   "cell_type": "code",
   "execution_count": null,
   "metadata": {
    "hidden": true
   },
   "outputs": [],
   "source": []
  },
  {
   "cell_type": "code",
   "execution_count": null,
   "metadata": {
    "hidden": true
   },
   "outputs": [],
   "source": []
  },
  {
   "cell_type": "code",
   "execution_count": null,
   "metadata": {
    "hidden": true
   },
   "outputs": [],
   "source": []
  }
 ],
 "metadata": {
  "kernelspec": {
   "display_name": "Python 3",
   "language": "python",
   "name": "python3"
  },
  "language_info": {
   "codemirror_mode": {
    "name": "ipython",
    "version": 3
   },
   "file_extension": ".py",
   "mimetype": "text/x-python",
   "name": "python",
   "nbconvert_exporter": "python",
   "pygments_lexer": "ipython3",
   "version": "3.8.5"
  },
  "toc": {
   "base_numbering": 1,
   "nav_menu": {},
   "number_sections": true,
   "sideBar": false,
   "skip_h1_title": false,
   "title_cell": "Table of Contents",
   "title_sidebar": "Contents",
   "toc_cell": false,
   "toc_position": {
    "height": "924.7058715820312px",
    "left": "587px",
    "top": "189.47793579101562px",
    "width": "395.2940979003906px"
   },
   "toc_section_display": false,
   "toc_window_display": false
  },
  "varInspector": {
   "cols": {
    "lenName": 16,
    "lenType": 16,
    "lenVar": 40
   },
   "kernels_config": {
    "python": {
     "delete_cmd_postfix": "",
     "delete_cmd_prefix": "del ",
     "library": "var_list.py",
     "varRefreshCmd": "print(var_dic_list())"
    },
    "r": {
     "delete_cmd_postfix": ") ",
     "delete_cmd_prefix": "rm(",
     "library": "var_list.r",
     "varRefreshCmd": "cat(var_dic_list()) "
    }
   },
   "types_to_exclude": [
    "module",
    "function",
    "builtin_function_or_method",
    "instance",
    "_Feature"
   ],
   "window_display": false
  }
 },
 "nbformat": 4,
 "nbformat_minor": 4
}
