{
 "cells": [
  {
   "cell_type": "markdown",
   "metadata": {},
   "source": [
    "# Introduction\n",
    "<b>NumPy (Numerical Python)</b> is an open source Python library that’s used in almost every field of science and engineering. It’s the universal standard for working with numerical data in Python, and it’s at the core of the scientific Python and PyData ecosystems.\n",
    "<br>\n",
    "<br>\n",
    "<br>\n",
    "<b>Interesting Read</b> : [The first image of a Balck Hole](https://numpy.org/case-studies/blackhole-image/)\n",
    "\n",
    "<img src='https://numpy.org/images/content_images/cs/blackhole.jpg' width='300' align='left'>\n",
    "<br>\n",
    "<br>\n",
    "<br>\n",
    "<br>\n",
    "<br>\n",
    "<br>\n",
    "<br>\n",
    "\n",
    "<br>\n",
    "<br>\n",
    "<br>\n",
    "\n",
    "\n",
    "[Most part of this notebook is adopted from `numpy` & `datetime` docs]"
   ]
  },
  {
   "cell_type": "markdown",
   "metadata": {
    "heading_collapsed": true
   },
   "source": [
    "# Imports"
   ]
  },
  {
   "cell_type": "code",
   "execution_count": 1,
   "metadata": {
    "ExecuteTime": {
     "end_time": "2020-12-07T03:36:56.249420Z",
     "start_time": "2020-12-07T03:36:55.935462Z"
    },
    "hidden": true
   },
   "outputs": [
    {
     "data": {
      "text/plain": [
       "'1.19.4'"
      ]
     },
     "execution_count": 1,
     "metadata": {},
     "output_type": "execute_result"
    }
   ],
   "source": [
    "import numpy as np # `np` acts as an alias to the package you with to import, here numpy\n",
    "import matplotlib.pyplot as plt\n",
    "\n",
    "np.__version__"
   ]
  },
  {
   "cell_type": "markdown",
   "metadata": {
    "hidden": true
   },
   "source": [
    "<b>Where is this package numpy that we just imported sitting?</b>"
   ]
  },
  {
   "cell_type": "code",
   "execution_count": 2,
   "metadata": {
    "ExecuteTime": {
     "end_time": "2020-12-07T03:36:59.126874Z",
     "start_time": "2020-12-07T03:36:59.123187Z"
    },
    "hidden": true
   },
   "outputs": [
    {
     "data": {
      "text/plain": [
       "<module 'numpy' from '/Library/Frameworks/Python.framework/Versions/3.8/lib/python3.8/site-packages/numpy/__init__.py'>"
      ]
     },
     "execution_count": 2,
     "metadata": {},
     "output_type": "execute_result"
    }
   ],
   "source": [
    "np"
   ]
  },
  {
   "cell_type": "markdown",
   "metadata": {
    "hidden": true
   },
   "source": [
    "<b>How to read the documentation for an any given function?</b>"
   ]
  },
  {
   "cell_type": "code",
   "execution_count": 3,
   "metadata": {
    "ExecuteTime": {
     "end_time": "2020-12-07T03:37:09.861981Z",
     "start_time": "2020-12-07T03:37:09.858590Z"
    },
    "hidden": true
   },
   "outputs": [],
   "source": [
    "np?"
   ]
  },
  {
   "cell_type": "code",
   "execution_count": 4,
   "metadata": {
    "ExecuteTime": {
     "end_time": "2020-12-07T03:37:17.442046Z",
     "start_time": "2020-12-07T03:37:17.439290Z"
    },
    "hidden": true
   },
   "outputs": [],
   "source": [
    "?np"
   ]
  },
  {
   "cell_type": "markdown",
   "metadata": {
    "hidden": true
   },
   "source": [
    "<b>How to read the documentation for an any given function, along side source code?</b>"
   ]
  },
  {
   "cell_type": "code",
   "execution_count": 5,
   "metadata": {
    "ExecuteTime": {
     "end_time": "2020-12-07T03:37:21.222727Z",
     "start_time": "2020-12-07T03:37:21.140221Z"
    },
    "hidden": true
   },
   "outputs": [],
   "source": [
    "np??"
   ]
  },
  {
   "cell_type": "code",
   "execution_count": 6,
   "metadata": {
    "ExecuteTime": {
     "end_time": "2020-12-07T03:37:28.882634Z",
     "start_time": "2020-12-07T03:37:28.850682Z"
    },
    "hidden": true
   },
   "outputs": [],
   "source": [
    "??np"
   ]
  },
  {
   "cell_type": "markdown",
   "metadata": {
    "heading_collapsed": true
   },
   "source": [
    "# Path Declaration & Variable initialisation"
   ]
  },
  {
   "cell_type": "code",
   "execution_count": null,
   "metadata": {
    "ExecuteTime": {
     "end_time": "2020-12-06T10:00:52.231855Z",
     "start_time": "2020-12-06T10:00:52.229060Z"
    },
    "hidden": true
   },
   "outputs": [],
   "source": [
    "plt.rcParams['figure.dpi'] = 100\n",
    "plt.rcParams['figure.figsize'] = (15,7)\n",
    "plt.style.use('ggplot')"
   ]
  },
  {
   "cell_type": "markdown",
   "metadata": {
    "heading_collapsed": true
   },
   "source": [
    "# Python & `array`"
   ]
  },
  {
   "cell_type": "markdown",
   "metadata": {
    "hidden": true
   },
   "source": [
    "<b>One of the major reasons for ease of use of Python is its dynamic typing, i.e we dont need to specify which type a variable might assume a value of, which is not the case in most of the other languages such as C & Java</b>\n",
    "\n",
    "In C++ we need to define a variable and the type i.e\n",
    "\n",
    "`int age = 24`\n",
    "\n",
    "In Python we do away with the dataype of that particular variable, i.e\n",
    "\n",
    "`age=24` is more than sufficient, although if you want to be more specific, we can always use\n",
    "`age:int=24`"
   ]
  },
  {
   "cell_type": "code",
   "execution_count": 8,
   "metadata": {
    "ExecuteTime": {
     "end_time": "2020-12-07T03:38:48.127434Z",
     "start_time": "2020-12-07T03:38:48.124360Z"
    },
    "hidden": true
   },
   "outputs": [
    {
     "name": "stdout",
     "output_type": "stream",
     "text": [
      "age1=24(Type=(<class 'int'>)), age2=asd(Type=(<class 'str'>))\n"
     ]
    }
   ],
   "source": [
    "age1=24\n",
    "age2:int='asd'\n",
    "\n",
    "print(f'age1={age1}(Type=({type(age1)})), age2={age2}(Type=({type(age2)}))')\n"
   ]
  },
  {
   "cell_type": "markdown",
   "metadata": {
    "hidden": true
   },
   "source": [
    "[A Python 🐍  list is more than just a list](https://jakevdp.github.io/PythonDataScienceHandbook/02.01-understanding-data-types.html#A-Python-List-Is-More-Than-Just-a-List) -  Python Data Science Handbook , Jake VanderPlas\n",
    "\n",
    "To allow for the dynamic typing, we have to pay a cost while creating a list with mutliple datatypes, which is that the list object now need to keep track of all the elements within, and each of these elements are an Object in itseleves.\n"
   ]
  },
  {
   "cell_type": "code",
   "execution_count": 11,
   "metadata": {
    "ExecuteTime": {
     "end_time": "2020-12-07T03:40:24.143805Z",
     "start_time": "2020-12-07T03:40:24.140284Z"
    },
    "hidden": true
   },
   "outputs": [
    {
     "data": {
      "text/plain": [
       "[1, 'Workshop', 3.14, True]"
      ]
     },
     "execution_count": 11,
     "metadata": {},
     "output_type": "execute_result"
    }
   ],
   "source": [
    "L=[1,'Workshop', 3.14, True]\n",
    "L"
   ]
  },
  {
   "cell_type": "code",
   "execution_count": 13,
   "metadata": {
    "ExecuteTime": {
     "end_time": "2020-12-07T03:40:36.756432Z",
     "start_time": "2020-12-07T03:40:36.753378Z"
    },
    "hidden": true
   },
   "outputs": [
    {
     "name": "stdout",
     "output_type": "stream",
     "text": [
      "<class 'int'>\n"
     ]
    }
   ],
   "source": [
    "print(type(L[0]))"
   ]
  },
  {
   "cell_type": "markdown",
   "metadata": {
    "hidden": true
   },
   "source": [
    "<b>So how do we overcome this, is there a way?</b>\n",
    "\n",
    "Yes! Use Python's `array` module, \n",
    "\n",
    "Available TypeCodes are :\n",
    "\n",
    "    Type code   C Type             Minimum size in bytes\n",
    "    'b'         signed integer     1\n",
    "    'B'         unsigned integer   1\n",
    "    'u'         Unicode character  2 (see note)\n",
    "    'h'         signed integer     2\n",
    "    'H'         unsigned integer   2\n",
    "    'i'         signed integer     2\n",
    "    'I'         unsigned integer   2\n",
    "    'l'         signed integer     4\n",
    "    'L'         unsigned integer   4\n",
    "    'q'         signed integer     8 (see note)\n",
    "    'Q'         unsigned integer   8 (see note)\n",
    "    'f'         floating point     4\n",
    "    'd'         floating point     8\n"
   ]
  },
  {
   "cell_type": "code",
   "execution_count": 14,
   "metadata": {
    "ExecuteTime": {
     "end_time": "2020-12-07T03:40:54.047061Z",
     "start_time": "2020-12-07T03:40:54.041438Z"
    },
    "hidden": true
   },
   "outputs": [
    {
     "data": {
      "text/plain": [
       "array('i', [0, 1, 2, 3, 4, 5, 6, 7, 8, 9])"
      ]
     },
     "execution_count": 14,
     "metadata": {},
     "output_type": "execute_result"
    }
   ],
   "source": [
    "import array\n",
    "L = list(range(10))\n",
    "A = array.array('i', L)\n",
    "A"
   ]
  },
  {
   "cell_type": "markdown",
   "metadata": {
    "hidden": true
   },
   "source": [
    "<b>Can we append a different datatype to the list and make an array object?</b>"
   ]
  },
  {
   "cell_type": "code",
   "execution_count": 15,
   "metadata": {
    "ExecuteTime": {
     "end_time": "2020-12-07T03:41:08.401935Z",
     "start_time": "2020-12-07T03:41:08.285960Z"
    },
    "hidden": true
   },
   "outputs": [
    {
     "ename": "TypeError",
     "evalue": "integer argument expected, got float",
     "output_type": "error",
     "traceback": [
      "\u001b[0;31m---------------------------------------------------------------------------\u001b[0m",
      "\u001b[0;31mTypeError\u001b[0m                                 Traceback (most recent call last)",
      "\u001b[0;32m<ipython-input-15-d50d8aa7305f>\u001b[0m in \u001b[0;36m<module>\u001b[0;34m\u001b[0m\n\u001b[1;32m      1\u001b[0m \u001b[0mL\u001b[0m\u001b[0;34m+=\u001b[0m\u001b[0;34m[\u001b[0m\u001b[0;36m1.2\u001b[0m\u001b[0;34m]\u001b[0m\u001b[0;34m\u001b[0m\u001b[0;34m\u001b[0m\u001b[0m\n\u001b[0;32m----> 2\u001b[0;31m \u001b[0mA\u001b[0m \u001b[0;34m=\u001b[0m \u001b[0marray\u001b[0m\u001b[0;34m.\u001b[0m\u001b[0marray\u001b[0m\u001b[0;34m(\u001b[0m\u001b[0;34m'i'\u001b[0m\u001b[0;34m,\u001b[0m \u001b[0mL\u001b[0m\u001b[0;34m)\u001b[0m\u001b[0;34m\u001b[0m\u001b[0;34m\u001b[0m\u001b[0m\n\u001b[0m\u001b[1;32m      3\u001b[0m \u001b[0mA\u001b[0m\u001b[0;34m\u001b[0m\u001b[0;34m\u001b[0m\u001b[0m\n",
      "\u001b[0;31mTypeError\u001b[0m: integer argument expected, got float"
     ]
    }
   ],
   "source": [
    "L+=[1.2]\n",
    "A = array.array('i', L)\n",
    "A"
   ]
  },
  {
   "cell_type": "markdown",
   "metadata": {
    "heading_collapsed": true
   },
   "source": [
    "# `numpy` to the rescue"
   ]
  },
  {
   "cell_type": "markdown",
   "metadata": {
    "hidden": true
   },
   "source": [
    "<b>Creating a simple numpy array</b>\n",
    "\n",
    "[NumPy: the absolute basics for beginners](https://numpy.org/doc/stable/user/absolute_beginners.html)\n",
    "\n",
    "All of the elements in a NumPy array should be homogenous. \n",
    "Can you notice the difference between the two?"
   ]
  },
  {
   "cell_type": "code",
   "execution_count": 16,
   "metadata": {
    "ExecuteTime": {
     "end_time": "2020-12-07T03:41:28.426699Z",
     "start_time": "2020-12-07T03:41:28.421702Z"
    },
    "hidden": true
   },
   "outputs": [
    {
     "data": {
      "text/plain": [
       "array([0, 1, 2, 3, 4, 5, 6, 7, 8, 9])"
      ]
     },
     "execution_count": 16,
     "metadata": {},
     "output_type": "execute_result"
    }
   ],
   "source": [
    "np.array(L[:-1])"
   ]
  },
  {
   "cell_type": "code",
   "execution_count": 17,
   "metadata": {
    "ExecuteTime": {
     "end_time": "2020-12-07T03:41:39.901038Z",
     "start_time": "2020-12-07T03:41:39.895339Z"
    },
    "hidden": true
   },
   "outputs": [
    {
     "data": {
      "text/plain": [
       "array([0. , 1. , 2. , 3. , 4. , 5. , 6. , 7. , 8. , 9. , 1.2])"
      ]
     },
     "execution_count": 17,
     "metadata": {},
     "output_type": "execute_result"
    }
   ],
   "source": [
    "np.array(L)"
   ]
  },
  {
   "cell_type": "markdown",
   "metadata": {
    "hidden": true
   },
   "source": [
    "Numpy `ndarray` module will not throw an error, but instead try to upcast the values(elements) to a suitable common datatype: [List of Numpy DataTypes](https://numpy.org/devdocs/user/basics.types.html)\n",
    "\n",
    "Creating a Basic Numpy Array :\n",
    "\n",
    "<img src='https://numpy.org/doc/stable/_images/np_array.png'>"
   ]
  },
  {
   "cell_type": "code",
   "execution_count": 18,
   "metadata": {
    "ExecuteTime": {
     "end_time": "2020-12-07T03:42:12.888245Z",
     "start_time": "2020-12-07T03:42:12.884662Z"
    },
    "hidden": true
   },
   "outputs": [
    {
     "data": {
      "text/plain": [
       "array([1, 2, 3])"
      ]
     },
     "execution_count": 18,
     "metadata": {},
     "output_type": "execute_result"
    }
   ],
   "source": [
    "np.array([1,2,3])"
   ]
  },
  {
   "cell_type": "code",
   "execution_count": 19,
   "metadata": {
    "ExecuteTime": {
     "end_time": "2020-12-07T03:42:13.714557Z",
     "start_time": "2020-12-07T03:42:13.709268Z"
    },
    "hidden": true
   },
   "outputs": [
    {
     "data": {
      "text/plain": [
       "array([1.  , 2.  , 3.14])"
      ]
     },
     "execution_count": 19,
     "metadata": {},
     "output_type": "execute_result"
    }
   ],
   "source": [
    "np.array([1,2,3.14])"
   ]
  },
  {
   "cell_type": "markdown",
   "metadata": {
    "heading_collapsed": true
   },
   "source": [
    "# Basics - Array Generation"
   ]
  },
  {
   "cell_type": "markdown",
   "metadata": {
    "hidden": true
   },
   "source": [
    "<b>Creating an array of a particular `size=2` 1D with all values `1`</b>"
   ]
  },
  {
   "cell_type": "code",
   "execution_count": 20,
   "metadata": {
    "ExecuteTime": {
     "end_time": "2020-12-07T03:42:23.280830Z",
     "start_time": "2020-12-07T03:42:23.277270Z"
    },
    "hidden": true
   },
   "outputs": [
    {
     "data": {
      "text/plain": [
       "array([0, 0])"
      ]
     },
     "execution_count": 20,
     "metadata": {},
     "output_type": "execute_result"
    }
   ],
   "source": [
    "np.zeros(2, dtype=int) # 1D Array"
   ]
  },
  {
   "cell_type": "markdown",
   "metadata": {
    "hidden": true,
    "solution2": "shown",
    "solution2_first": true
   },
   "source": [
    "**Q)**<b>Creating an array of a particular `size=(2,2)` 2D with all values `0`</b>"
   ]
  },
  {
   "cell_type": "code",
   "execution_count": 21,
   "metadata": {
    "ExecuteTime": {
     "end_time": "2020-12-07T03:43:49.765914Z",
     "start_time": "2020-12-07T03:43:49.761733Z"
    },
    "hidden": true,
    "solution2": "shown"
   },
   "outputs": [
    {
     "data": {
      "text/plain": [
       "array([[0, 0],\n",
       "       [0, 0]])"
      ]
     },
     "execution_count": 21,
     "metadata": {},
     "output_type": "execute_result"
    }
   ],
   "source": [
    "np.zeros((2,2), dtype=int) # 2D Array"
   ]
  },
  {
   "cell_type": "code",
   "execution_count": null,
   "metadata": {
    "ExecuteTime": {
     "end_time": "2020-12-06T10:01:11.529697Z",
     "start_time": "2020-12-06T10:01:11.528005Z"
    },
    "hidden": true
   },
   "outputs": [],
   "source": [
    "#----------YOUR SOLUTION-----------#\n",
    "#....\n"
   ]
  },
  {
   "cell_type": "markdown",
   "metadata": {
    "hidden": true,
    "solution2": "shown",
    "solution2_first": true
   },
   "source": [
    "**Q)**<b>Creating an array of a particular `size=(2,2,2)` 3D with all values `0`</b>"
   ]
  },
  {
   "cell_type": "code",
   "execution_count": 22,
   "metadata": {
    "ExecuteTime": {
     "end_time": "2020-12-07T03:44:18.173835Z",
     "start_time": "2020-12-07T03:44:18.169288Z"
    },
    "hidden": true,
    "solution2": "shown"
   },
   "outputs": [
    {
     "data": {
      "text/plain": [
       "array([[[0, 0],\n",
       "        [0, 0]],\n",
       "\n",
       "       [[0, 0],\n",
       "        [0, 0]]])"
      ]
     },
     "execution_count": 22,
     "metadata": {},
     "output_type": "execute_result"
    }
   ],
   "source": [
    "np.zeros((2,2,2), dtype=int) # 3D Array and so on..."
   ]
  },
  {
   "cell_type": "code",
   "execution_count": null,
   "metadata": {
    "ExecuteTime": {
     "end_time": "2020-12-06T10:01:11.776282Z",
     "start_time": "2020-12-06T10:01:11.774538Z"
    },
    "hidden": true
   },
   "outputs": [],
   "source": [
    "#----------YOUR SOLUTION-----------#\n",
    "#....\n"
   ]
  },
  {
   "cell_type": "markdown",
   "metadata": {
    "hidden": true
   },
   "source": [
    "<b>Creating an array containg range of equally spaced intervals</b>"
   ]
  },
  {
   "cell_type": "code",
   "execution_count": 23,
   "metadata": {
    "ExecuteTime": {
     "end_time": "2020-12-07T03:44:27.047463Z",
     "start_time": "2020-12-07T03:44:27.042063Z"
    },
    "hidden": true
   },
   "outputs": [
    {
     "data": {
      "text/plain": [
       "array([2, 4, 6, 8])"
      ]
     },
     "execution_count": 23,
     "metadata": {},
     "output_type": "execute_result"
    }
   ],
   "source": [
    "np.arange(2, 9, 2)"
   ]
  },
  {
   "cell_type": "markdown",
   "metadata": {
    "hidden": true
   },
   "source": [
    "<b>Create an array with values that are spaced linearly in a specified interval</b>"
   ]
  },
  {
   "cell_type": "code",
   "execution_count": 24,
   "metadata": {
    "ExecuteTime": {
     "end_time": "2020-12-07T03:44:52.852327Z",
     "start_time": "2020-12-07T03:44:52.847594Z"
    },
    "hidden": true
   },
   "outputs": [
    {
     "data": {
      "text/plain": [
       "array([-20.        , -16.36363636, -12.72727273,  -9.09090909,\n",
       "        -5.45454545,  -1.81818182,   1.81818182,   5.45454545,\n",
       "         9.09090909,  12.72727273,  16.36363636,  20.        ])"
      ]
     },
     "execution_count": 24,
     "metadata": {},
     "output_type": "execute_result"
    }
   ],
   "source": [
    "np.linspace(-20, 20, 12)"
   ]
  },
  {
   "cell_type": "markdown",
   "metadata": {
    "hidden": true,
    "solution2": "shown",
    "solution2_first": true
   },
   "source": [
    "**Q)**Is there something about this series that resembles our High School mathematics? something `____ series`??"
   ]
  },
  {
   "cell_type": "markdown",
   "metadata": {
    "hidden": true,
    "solution2": "shown"
   },
   "source": [
    "**A)** `Artihmetic Series/ Progression (AP)` - A senquence of numbers, difference between which is always constant. There is also another form of series `Geometric Series (GP)` - where the difference between terms increases exponentially."
   ]
  },
  {
   "cell_type": "markdown",
   "metadata": {
    "hidden": true,
    "solution2": "shown",
    "solution2_first": true
   },
   "source": [
    "**Q)**How will you get the  `GP series`??"
   ]
  },
  {
   "cell_type": "code",
   "execution_count": 25,
   "metadata": {
    "ExecuteTime": {
     "end_time": "2020-12-07T03:46:27.093539Z",
     "start_time": "2020-12-07T03:46:27.088306Z"
    },
    "hidden": true,
    "solution2": "shown"
   },
   "outputs": [
    {
     "data": {
      "text/plain": [
       "array([ 1.        ,  1.31303243,  1.72405417,  2.26373905,  2.97236279,\n",
       "        3.90280876,  5.12451448,  6.72865373,  8.83494058, 11.60056354,\n",
       "       15.23191619, 20.        ])"
      ]
     },
     "execution_count": 25,
     "metadata": {},
     "output_type": "execute_result"
    }
   ],
   "source": [
    "np.geomspace(1, 20, 12)"
   ]
  },
  {
   "cell_type": "code",
   "execution_count": 26,
   "metadata": {
    "ExecuteTime": {
     "end_time": "2020-12-07T03:46:33.657476Z",
     "start_time": "2020-12-07T03:46:33.651828Z"
    },
    "hidden": true,
    "solution2": "shown"
   },
   "outputs": [
    {
     "data": {
      "text/plain": [
       "array([0.31303243, 0.41102174, 0.53968488, 0.70862375, 0.93044596,\n",
       "       1.22170573, 1.60413924, 2.10628686, 2.76562296, 3.63135265,\n",
       "       4.76808381])"
      ]
     },
     "execution_count": 26,
     "metadata": {},
     "output_type": "execute_result"
    }
   ],
   "source": [
    "np.diff(np.geomspace(1, 20, 12))"
   ]
  },
  {
   "cell_type": "code",
   "execution_count": 27,
   "metadata": {
    "ExecuteTime": {
     "end_time": "2020-12-07T03:46:48.324744Z",
     "start_time": "2020-12-07T03:46:48.173163Z"
    },
    "hidden": true,
    "solution2": "shown"
   },
   "outputs": [
    {
     "data": {
      "text/plain": [
       "[<matplotlib.lines.Line2D at 0x7fe5edd108b0>]"
      ]
     },
     "execution_count": 27,
     "metadata": {},
     "output_type": "execute_result"
    },
    {
     "data": {
      "image/png": "[encoded data removed]",
      "text/plain": [
       "<Figure size 432x288 with 1 Axes>"
      ]
     },
     "metadata": {
      "needs_background": "light"
     },
     "output_type": "display_data"
    }
   ],
   "source": [
    "plt.plot(np.diff(np.geomspace(1, 20, 12)))"
   ]
  },
  {
   "cell_type": "markdown",
   "metadata": {
    "hidden": true
   },
   "source": [
    "<b>Create an array with random values between [0, 1)</b>"
   ]
  },
  {
   "cell_type": "code",
   "execution_count": 29,
   "metadata": {
    "ExecuteTime": {
     "end_time": "2020-12-07T03:47:34.780706Z",
     "start_time": "2020-12-07T03:47:34.774126Z"
    },
    "hidden": true
   },
   "outputs": [
    {
     "data": {
      "text/plain": [
       "array([[-0.21072221,  1.72582058,  0.45244854],\n",
       "       [ 0.694421  , -0.42743422, -0.46646564],\n",
       "       [ 0.97978408,  0.94030294,  0.69400981]])"
      ]
     },
     "execution_count": 29,
     "metadata": {},
     "output_type": "execute_result"
    }
   ],
   "source": [
    "np.random.normal(size=(3, 3))"
   ]
  },
  {
   "cell_type": "markdown",
   "metadata": {
    "hidden": true
   },
   "source": [
    "<b>Create an array with random integer of the size (m,n) all sampled from a given range</b>"
   ]
  },
  {
   "cell_type": "code",
   "execution_count": 30,
   "metadata": {
    "ExecuteTime": {
     "end_time": "2020-12-07T03:47:47.190751Z",
     "start_time": "2020-12-07T03:47:47.183919Z"
    },
    "hidden": true
   },
   "outputs": [
    {
     "data": {
      "text/plain": [
       "array([[14,  1,  7, -2],\n",
       "       [-2, 15,  0,  3],\n",
       "       [10,  7, 15, 10]])"
      ]
     },
     "execution_count": 30,
     "metadata": {},
     "output_type": "execute_result"
    }
   ],
   "source": [
    "np.random.randint(-2,20,(3, 4))"
   ]
  },
  {
   "cell_type": "markdown",
   "metadata": {
    "heading_collapsed": true
   },
   "source": [
    "# Indicing and Reshaping Numpy Array\n",
    "\n",
    "Indicing an Numpy `ndarray` is same as indicing a Python🐍 `list`\n",
    "\n",
    "<img src='https://numpy.org/doc/stable/_images/np_indexing.png'>"
   ]
  },
  {
   "cell_type": "code",
   "execution_count": 31,
   "metadata": {
    "ExecuteTime": {
     "end_time": "2020-12-07T03:47:53.847470Z",
     "start_time": "2020-12-07T03:47:53.842391Z"
    },
    "hidden": true
   },
   "outputs": [
    {
     "data": {
      "text/plain": [
       "array([0. , 1. , 2. , 3. , 4. , 5. , 6. , 7. , 8. , 9. , 1.2])"
      ]
     },
     "execution_count": 31,
     "metadata": {},
     "output_type": "execute_result"
    }
   ],
   "source": [
    "npL = np.array(L)\n",
    "npL"
   ]
  },
  {
   "cell_type": "code",
   "execution_count": 35,
   "metadata": {
    "ExecuteTime": {
     "end_time": "2020-12-07T03:50:02.668680Z",
     "start_time": "2020-12-07T03:50:02.661786Z"
    },
    "hidden": true
   },
   "outputs": [
    {
     "name": "stdout",
     "output_type": "stream",
     "text": [
      "Element at 0th index :  0.0\n",
      "Element at -1 index, i.e last index 1.2\n",
      "Elements from 1 and on index, SubArray [1.  2.  3.  4.  5.  6.  7.  8.  9.  1.2]\n",
      "Elements upto -2 index, SubArray [0. 1. 2. 3. 4. 5. 6. 7. 8.]\n",
      "Elements from -2 index, SubArray [9.  1.2]\n",
      "Elements from index 2 to -4, SubArray [9.  1.2]\n",
      "Every second element [0.  2.  4.  6.  8.  1.2]\n",
      "Every third element [0. 3. 6. 9.]\n",
      "Elements reversed [1.2 9.  8.  7.  6.  5.  4.  3.  2.  1.  0. ]\n"
     ]
    }
   ],
   "source": [
    "print('Element at 0th index : ', npL[0])\n",
    "print('Element at -1 index, i.e last index', npL[-1])\n",
    "print('Elements from 1 and on index, SubArray', npL[1:])\n",
    "print('Elements upto -2 index, SubArray', npL[:-2])\n",
    "print('Elements from -2 index, SubArray', npL[-2:])\n",
    "print('Elements from index 2 to -4, SubArray', npL[-2:])\n",
    "print('Every second element', npL[::2])\n",
    "print('Every third element', npL[::3])\n",
    "print('Elements reversed', npL[::-1])"
   ]
  },
  {
   "cell_type": "markdown",
   "metadata": {
    "hidden": true
   },
   "source": [
    "<b>Reshaping an array</b>"
   ]
  },
  {
   "cell_type": "code",
   "execution_count": 36,
   "metadata": {
    "ExecuteTime": {
     "end_time": "2020-12-07T03:50:03.774221Z",
     "start_time": "2020-12-07T03:50:03.770179Z"
    },
    "hidden": true
   },
   "outputs": [
    {
     "data": {
      "text/plain": [
       "array([1, 2, 3])"
      ]
     },
     "execution_count": 36,
     "metadata": {},
     "output_type": "execute_result"
    }
   ],
   "source": [
    "npL=np.array([1,2,3])\n",
    "npL"
   ]
  },
  {
   "cell_type": "markdown",
   "metadata": {
    "hidden": true
   },
   "source": [
    "Making it a column matrix"
   ]
  },
  {
   "cell_type": "code",
   "execution_count": 37,
   "metadata": {
    "ExecuteTime": {
     "end_time": "2020-12-07T03:50:35.550671Z",
     "start_time": "2020-12-07T03:50:35.546236Z"
    },
    "hidden": true
   },
   "outputs": [
    {
     "data": {
      "text/plain": [
       "array([[1],\n",
       "       [2],\n",
       "       [3]])"
      ]
     },
     "execution_count": 37,
     "metadata": {},
     "output_type": "execute_result"
    }
   ],
   "source": [
    "npL[:, np.newaxis]"
   ]
  },
  {
   "cell_type": "markdown",
   "metadata": {
    "hidden": true,
    "solution2": "shown",
    "solution2_first": true
   },
   "source": [
    "**Q**) How can we make this `npL` array as a row matrix?"
   ]
  },
  {
   "cell_type": "code",
   "execution_count": 39,
   "metadata": {
    "ExecuteTime": {
     "end_time": "2020-12-07T03:51:26.221945Z",
     "start_time": "2020-12-07T03:51:26.217264Z"
    },
    "hidden": true,
    "scrolled": true,
    "solution2": "shown"
   },
   "outputs": [
    {
     "data": {
      "text/plain": [
       "array([[1, 2, 3]])"
      ]
     },
     "execution_count": 39,
     "metadata": {},
     "output_type": "execute_result"
    }
   ],
   "source": [
    "npL[np.newaxis, :]"
   ]
  },
  {
   "cell_type": "code",
   "execution_count": null,
   "metadata": {
    "ExecuteTime": {
     "end_time": "2020-12-06T10:01:13.799001Z",
     "start_time": "2020-12-06T10:01:13.796745Z"
    },
    "hidden": true
   },
   "outputs": [],
   "source": [
    "#----------YOUR SOLUTION-----------#\n",
    "#....\n"
   ]
  },
  {
   "cell_type": "markdown",
   "metadata": {
    "heading_collapsed": true
   },
   "source": [
    "# Broadcasting\n",
    "\n",
    "<img src='https://numpy.org/doc/stable/_images/np_multiply_broadcasting.png'>\n",
    "\n",
    "<img src='https://numpy.org/doc/stable/_images/np_aggregation.png'>"
   ]
  },
  {
   "cell_type": "code",
   "execution_count": 40,
   "metadata": {
    "ExecuteTime": {
     "end_time": "2020-12-07T03:51:33.030838Z",
     "start_time": "2020-12-07T03:51:33.027100Z"
    },
    "hidden": true
   },
   "outputs": [
    {
     "data": {
      "text/plain": [
       "[0, 1, 2, 3, 4]"
      ]
     },
     "execution_count": 40,
     "metadata": {},
     "output_type": "execute_result"
    }
   ],
   "source": [
    "L = list(range(5))\n",
    "L"
   ]
  },
  {
   "cell_type": "code",
   "execution_count": 41,
   "metadata": {
    "ExecuteTime": {
     "end_time": "2020-12-07T03:51:44.550840Z",
     "start_time": "2020-12-07T03:51:44.542548Z"
    },
    "hidden": true
   },
   "outputs": [
    {
     "ename": "TypeError",
     "evalue": "can only concatenate list (not \"int\") to list",
     "output_type": "error",
     "traceback": [
      "\u001b[0;31m---------------------------------------------------------------------------\u001b[0m",
      "\u001b[0;31mTypeError\u001b[0m                                 Traceback (most recent call last)",
      "\u001b[0;32m<ipython-input-41-bb7a39c05802>\u001b[0m in \u001b[0;36m<module>\u001b[0;34m\u001b[0m\n\u001b[0;32m----> 1\u001b[0;31m \u001b[0mL\u001b[0m\u001b[0;34m+\u001b[0m\u001b[0;36m2\u001b[0m \u001b[0;31m# Throws an error!\u001b[0m\u001b[0;34m\u001b[0m\u001b[0;34m\u001b[0m\u001b[0m\n\u001b[0m",
      "\u001b[0;31mTypeError\u001b[0m: can only concatenate list (not \"int\") to list"
     ]
    }
   ],
   "source": [
    "L+2 # Throws an error! [2,2,2,2,2]"
   ]
  },
  {
   "cell_type": "code",
   "execution_count": 42,
   "metadata": {
    "ExecuteTime": {
     "end_time": "2020-12-07T03:52:22.781500Z",
     "start_time": "2020-12-07T03:52:22.774994Z"
    },
    "hidden": true
   },
   "outputs": [
    {
     "name": "stdout",
     "output_type": "stream",
     "text": [
      "Addition       :  [2 3 4 5 6]\n",
      "Multiplication :  [0 2 4 6 8]\n",
      "Division       :  [0.  0.5 1.  1.5 2. ]\n",
      "Moduluo        :  [0 1 0 1 0]\n",
      "Power          :  [ 0  1  4  9 16]\n"
     ]
    }
   ],
   "source": [
    "print('Addition       : ', np.array(L)+2)\n",
    "print('Multiplication : ', np.array(L)*2)\n",
    "print('Division       : ', np.array(L)/2)\n",
    "print('Moduluo        : ', np.array(L)%2)\n",
    "print('Power          : ', np.array(L)**2)\n"
   ]
  },
  {
   "cell_type": "markdown",
   "metadata": {
    "hidden": true
   },
   "source": [
    "Will highly recommed that you go through the Broadcasting Operations :[Numpy Broadcasting](https://numpy.org/doc/stable/user/absolute_beginners.html#broadcasting)"
   ]
  },
  {
   "cell_type": "markdown",
   "metadata": {},
   "source": [
    "# Datetimes in Python\n",
    "\n",
    "Since this talk is about Time Series Forecasting, we will take a deep dive into [Numpy `datetime64`](https://numpy.org/doc/stable/reference/arrays.datetime.html#datetimes-and-timedeltas)\n",
    "\n",
    "<b>But before we dive deep into the Numpy `datetime64` datetime datatype, lets first see the pythons inbuilt `datetime` library</b>"
   ]
  },
  {
   "cell_type": "markdown",
   "metadata": {
    "heading_collapsed": true
   },
   "source": [
    "## Python Native `datetime`\n",
    "\n",
    "\n",
    "`datetime.strftime` Format Codes\n",
    "\n",
    "<table class=\"docutils align-default\">\n",
    "<colgroup>\n",
    "<col style=\"width: 15%\">\n",
    "<col style=\"width: 43%\">\n",
    "<col style=\"width: 32%\">\n",
    "<col style=\"width: 9%\">\n",
    "</colgroup>\n",
    "<thead>\n",
    "<tr class=\"row-odd\"><th class=\"head\"><p>Directive</p></th>\n",
    "<th class=\"head\"><p>Meaning</p></th>\n",
    "<th class=\"head\"><p>Example</p></th>\n",
    "</tr>\n",
    "</thead>\n",
    "<tbody>\n",
    "<tr class=\"row-even\"><td><p><code class=\"docutils literal notranslate\"><span class=\"pre\">%a</span></code></p></td>\n",
    "<td><p>Weekday as locale’s\n",
    "abbreviated name.</p></td>\n",
    "<td><div class=\"line-block\">\n",
    "<div class=\"line\">Sun, Mon, …, Sat\n",
    "(en_US);</div>\n",
    "<div class=\"line\">So, Mo, …, Sa\n",
    "(de_DE)</div>\n",
    "</div>\n",
    "</td>\n",
    "</tr>\n",
    "<tr class=\"row-odd\"><td><p><code class=\"docutils literal notranslate\"><span class=\"pre\">%A</span></code></p></td>\n",
    "<td><p>Weekday as locale’s full name.</p></td>\n",
    "<td><div class=\"line-block\">\n",
    "<div class=\"line\">Sunday, Monday, …,\n",
    "Saturday (en_US);</div>\n",
    "<div class=\"line\">Sonntag, Montag, …,\n",
    "Samstag (de_DE)</div>\n",
    "</div>\n",
    "</td>\n",
    "</tr>\n",
    "<tr class=\"row-even\"><td><p><code class=\"docutils literal notranslate\"><span class=\"pre\">%w</span></code></p></td>\n",
    "<td><p>Weekday as a decimal number,\n",
    "where 0 is Sunday and 6 is\n",
    "Saturday.</p></td>\n",
    "<td><p>0, 1, …, 6</p></td>\n",
    "</tr>\n",
    "<tr class=\"row-odd\"><td><p><code class=\"docutils literal notranslate\"><span class=\"pre\">%d</span></code></p></td>\n",
    "<td><p>Day of the month as a\n",
    "zero-padded decimal number.</p></td>\n",
    "<td><p>01, 02, …, 31</p></td>\n",
    "</tr>\n",
    "<tr class=\"row-even\"><td><p><code class=\"docutils literal notranslate\"><span class=\"pre\">%b</span></code></p></td>\n",
    "<td><p>Month as locale’s abbreviated\n",
    "name.</p></td>\n",
    "<td><div class=\"line-block\">\n",
    "<div class=\"line\">Jan, Feb, …, Dec\n",
    "(en_US);</div>\n",
    "<div class=\"line\">Jan, Feb, …, Dez\n",
    "(de_DE)</div>\n",
    "</div>\n",
    "</td>\n",
    "</tr>\n",
    "<tr class=\"row-odd\"><td><p><code class=\"docutils literal notranslate\"><span class=\"pre\">%B</span></code></p></td>\n",
    "<td><p>Month as locale’s full name.</p></td>\n",
    "<td><div class=\"line-block\">\n",
    "<div class=\"line\">January, February,\n",
    "…, December (en_US);</div>\n",
    "<div class=\"line\">Januar, Februar, …,\n",
    "Dezember (de_DE)</div>\n",
    "</div>\n",
    "</td>\n",
    "</tr>\n",
    "<tr class=\"row-even\"><td><p><code class=\"docutils literal notranslate\"><span class=\"pre\">%m</span></code></p></td>\n",
    "<td><p>Month as a zero-padded\n",
    "decimal number.</p></td>\n",
    "<td><p>01, 02, …, 12</p></td>\n",
    "</tr>\n",
    "<tr class=\"row-odd\"><td><p><code class=\"docutils literal notranslate\"><span class=\"pre\">%y</span></code></p></td>\n",
    "<td><p>Year without century as a\n",
    "zero-padded decimal number.</p></td>\n",
    "<td><p>00, 01, …, 99</p></td>\n",
    "</tr>\n",
    "<tr class=\"row-even\"><td><p><code class=\"docutils literal notranslate\"><span class=\"pre\">%Y</span></code></p></td>\n",
    "<td><p>Year with century as a decimal\n",
    "number.</p></td>\n",
    "<td><p>0001, 0002, …, 2013,\n",
    "2014, …, 9998, 9999</p></td>\n",
    "</tr>\n",
    "<tr class=\"row-odd\"><td><p><code class=\"docutils literal notranslate\"><span class=\"pre\">%H</span></code></p></td>\n",
    "<td><p>Hour (24-hour clock) as a\n",
    "zero-padded decimal number.</p></td>\n",
    "<td><p>00, 01, …, 23</p></td>\n",
    "</tr>\n",
    "<tr class=\"row-even\"><td><p><code class=\"docutils literal notranslate\"><span class=\"pre\">%I</span></code></p></td>\n",
    "<td><p>Hour (12-hour clock) as a\n",
    "zero-padded decimal number.</p></td>\n",
    "<td><p>01, 02, …, 12</p></td>\n",
    "</tr>\n",
    "<tr class=\"row-odd\"><td><p><code class=\"docutils literal notranslate\"><span class=\"pre\">%p</span></code></p></td>\n",
    "<td><p>Locale’s equivalent of either\n",
    "AM or PM.</p></td>\n",
    "<td><div class=\"line-block\">\n",
    "<div class=\"line\">AM, PM (en_US);</div>\n",
    "<div class=\"line\">am, pm (de_DE)</div>\n",
    "</div>\n",
    "</td>\n",
    "</tr>\n",
    "<tr class=\"row-even\"><td><p><code class=\"docutils literal notranslate\"><span class=\"pre\">%M</span></code></p></td>\n",
    "<td><p>Minute as a zero-padded\n",
    "decimal number.</p></td>\n",
    "<td><p>00, 01, …, 59</p></td>\n",
    "</tr>\n",
    "<tr class=\"row-odd\"><td><p><code class=\"docutils literal notranslate\"><span class=\"pre\">%S</span></code></p></td>\n",
    "<td><p>Second as a zero-padded\n",
    "decimal number.</p></td>\n",
    "<td><p>00, 01, …, 59</p></td>\n",
    "</tr>\n",
    "<tr class=\"row-even\"><td><p><code class=\"docutils literal notranslate\"><span class=\"pre\">%f</span></code></p></td>\n",
    "<td><p>Microsecond as a decimal\n",
    "number, zero-padded on the\n",
    "left.</p></td>\n",
    "<td><p>000000, 000001, …,\n",
    "999999</p></td>\n",
    "</tr>\n",
    "<tr class=\"row-odd\"><td><p><code class=\"docutils literal notranslate\"><span class=\"pre\">%z</span></code></p></td>\n",
    "<td><p>UTC offset in the form\n",
    "<code class=\"docutils literal notranslate\"><span class=\"pre\">±HHMM[SS[.ffffff]]</span></code> (empty\n",
    "string if the object is\n",
    "naive).</p></td>\n",
    "<td><p>(empty), +0000,\n",
    "-0400, +1030,\n",
    "+063415,\n",
    "-030712.345216</p></td>\n",
    "</tr>\n",
    "<tr class=\"row-even\"><td><p><code class=\"docutils literal notranslate\"><span class=\"pre\">%Z</span></code></p></td>\n",
    "<td><p>Time zone name (empty string\n",
    "if the object is naive).</p></td>\n",
    "<td><p>(empty), UTC, GMT</p></td>\n",
    "</tr>\n",
    "<tr class=\"row-odd\"><td><p><code class=\"docutils literal notranslate\"><span class=\"pre\">%j</span></code></p></td>\n",
    "<td><p>Day of the year as a\n",
    "zero-padded decimal number.</p></td>\n",
    "<td><p>001, 002, …, 366</p></td>\n",
    "</tr>\n",
    "<tr class=\"row-even\"><td><p><code class=\"docutils literal notranslate\"><span class=\"pre\">%U</span></code></p></td>\n",
    "<td><p>Week number of the year\n",
    "(Sunday as the first day of\n",
    "the week) as a zero padded\n",
    "decimal number. All days in a\n",
    "new year preceding the first\n",
    "Sunday are considered to be in\n",
    "week 0.</p></td>\n",
    "<td><p>00, 01, …, 53</p></td>\n",
    "</tr>\n",
    "<tr class=\"row-odd\"><td><p><code class=\"docutils literal notranslate\"><span class=\"pre\">%W</span></code></p></td>\n",
    "<td><p>Week number of the year\n",
    "(Monday as the first day of\n",
    "the week) as a decimal number.\n",
    "All days in a new year\n",
    "preceding the first Monday\n",
    "are considered to be in\n",
    "week 0.</p></td>\n",
    "<td><p>00, 01, …, 53</p></td>\n",
    "</tr>\n",
    "<tr class=\"row-even\"><td><p><code class=\"docutils literal notranslate\"><span class=\"pre\">%c</span></code></p></td>\n",
    "<td><p>Locale’s appropriate date and\n",
    "time representation.</p></td>\n",
    "<td><div class=\"line-block\">\n",
    "<div class=\"line\">Tue Aug 16 21:30:00\n",
    "1988 (en_US);</div>\n",
    "<div class=\"line\">Di 16 Aug 21:30:00\n",
    "1988 (de_DE)</div>\n",
    "</div>\n",
    "</td>\n",
    "</tr>\n",
    "<tr class=\"row-odd\"><td><p><code class=\"docutils literal notranslate\"><span class=\"pre\">%x</span></code></p></td>\n",
    "<td><p>Locale’s appropriate date\n",
    "representation.</p></td>\n",
    "<td><div class=\"line-block\">\n",
    "<div class=\"line\">08/16/88 (None);</div>\n",
    "<div class=\"line\">08/16/1988 (en_US);</div>\n",
    "<div class=\"line\">16.08.1988 (de_DE)</div>\n",
    "</div>\n",
    "</td>\n",
    "</tr>\n",
    "<tr class=\"row-even\"><td><p><code class=\"docutils literal notranslate\"><span class=\"pre\">%X</span></code></p></td>\n",
    "<td><p>Locale’s appropriate time\n",
    "representation.</p></td>\n",
    "<td><div class=\"line-block\">\n",
    "<div class=\"line\">21:30:00 (en_US);</div>\n",
    "<div class=\"line\">21:30:00 (de_DE)</div>\n",
    "</div>\n",
    "</td>\n",
    "</tr>\n",
    "<tr class=\"row-odd\"><td><p><code class=\"docutils literal notranslate\"><span class=\"pre\">%%</span></code></p></td>\n",
    "<td><p>A literal <code class=\"docutils literal notranslate\"><span class=\"pre\">'%'</span></code> character.</p></td>\n",
    "<td><p>%</p></td>\n",
    "</tr>\n",
    "</tbody>\n",
    "</table>\n",
    "\n",
    "Another useful library to look at are : [dateutils](https://dateutil.readthedocs.io/en/stable/), [pytz-Handles TimeZones](http://pytz.sourceforge.net)\n"
   ]
  },
  {
   "cell_type": "code",
   "execution_count": 43,
   "metadata": {
    "ExecuteTime": {
     "end_time": "2020-12-07T03:53:25.938105Z",
     "start_time": "2020-12-07T03:53:25.935492Z"
    },
    "hidden": true
   },
   "outputs": [],
   "source": [
    "from datetime import datetime, timedelta"
   ]
  },
  {
   "cell_type": "markdown",
   "metadata": {
    "hidden": true
   },
   "source": [
    "<b>Getting a particular datetime</b>"
   ]
  },
  {
   "cell_type": "code",
   "execution_count": 45,
   "metadata": {
    "ExecuteTime": {
     "end_time": "2020-12-07T03:54:14.375390Z",
     "start_time": "2020-12-07T03:54:14.371094Z"
    },
    "hidden": true
   },
   "outputs": [
    {
     "data": {
      "text/plain": [
       "datetime.datetime(2020, 12, 7, 12, 23)"
      ]
     },
     "execution_count": 45,
     "metadata": {},
     "output_type": "execute_result"
    }
   ],
   "source": [
    "datetime(year=2020, month=12, day=7, hour=12, minute=23)"
   ]
  },
  {
   "cell_type": "markdown",
   "metadata": {
    "hidden": true
   },
   "source": [
    "<b>Getting Now!</b>"
   ]
  },
  {
   "cell_type": "code",
   "execution_count": 46,
   "metadata": {
    "ExecuteTime": {
     "end_time": "2020-12-07T03:54:39.733461Z",
     "start_time": "2020-12-07T03:54:39.729678Z"
    },
    "hidden": true
   },
   "outputs": [
    {
     "data": {
      "text/plain": [
       "datetime.datetime(2020, 12, 7, 9, 24, 39, 730463)"
      ]
     },
     "execution_count": 46,
     "metadata": {},
     "output_type": "execute_result"
    }
   ],
   "source": [
    "datetime.now()"
   ]
  },
  {
   "cell_type": "markdown",
   "metadata": {
    "hidden": true
   },
   "source": [
    "<b>Getting a string representation of the datetime</b>\n",
    "\n",
    "For the format codes, see the table in the header."
   ]
  },
  {
   "cell_type": "code",
   "execution_count": 47,
   "metadata": {
    "ExecuteTime": {
     "end_time": "2020-12-07T03:55:05.429458Z",
     "start_time": "2020-12-07T03:55:05.422227Z"
    },
    "hidden": true
   },
   "outputs": [
    {
     "name": "stdout",
     "output_type": "stream",
     "text": [
      "Current year                                 : 2020\n",
      "Current year-month                           : 2020-12\n",
      "Current year-month-date                      : 2020-12-07\n",
      "Current year-month-date-hour-minutes-seconds : 2020-12-07 09-25-05\n",
      "Current weeknumber                           : 49\n",
      "Current 12-hour clock time                   : 09:25:05 AM\n"
     ]
    }
   ],
   "source": [
    "current_time = datetime.now()\n",
    "print('Current year                                 :', current_time.strftime('%Y'))\n",
    "print('Current year-month                           :', current_time.strftime('%Y-%m'))\n",
    "print('Current year-month-date                      :', current_time.strftime('%Y-%m-%d'))\n",
    "print('Current year-month-date-hour-minutes-seconds :', current_time.strftime('%Y-%m-%d %H-%M-%S'))\n",
    "print('Current weeknumber                           :', current_time.strftime('%W'))\n",
    "print('Current 12-hour clock time                   :', current_time.strftime('%I:%M:%S %p'))"
   ]
  },
  {
   "cell_type": "markdown",
   "metadata": {
    "hidden": true,
    "solution2": "shown",
    "solution2_first": true
   },
   "source": [
    "**Q**) Anu has asked you to tell her the following, only condition is it must be through `python` :-\n",
    "- What is the current runnning month full name?\n",
    "- What is the current runnning month abbreviated name?\n",
    "- What is the current runnning weekday number?\n",
    "- What is the current name of the day?"
   ]
  },
  {
   "cell_type": "code",
   "execution_count": 48,
   "metadata": {
    "ExecuteTime": {
     "end_time": "2020-12-07T03:57:18.410958Z",
     "start_time": "2020-12-07T03:57:18.406028Z"
    },
    "hidden": true,
    "solution2": "shown"
   },
   "outputs": [
    {
     "name": "stdout",
     "output_type": "stream",
     "text": [
      "Current Month name                           : December\n",
      "Current Month name Abbreviation              : Dec\n",
      "Current Week Day Number                      : 1\n",
      "Current Week Day                             : Monday\n"
     ]
    }
   ],
   "source": [
    "print('Current Month name                           :', current_time.strftime('%B'))\n",
    "print('Current Month name Abbreviation              :', current_time.strftime('%b'))\n",
    "print('Current Week Day Number                      :', current_time.strftime('%w'))\n",
    "print('Current Week Day                             :', current_time.strftime('%A'))"
   ]
  },
  {
   "cell_type": "code",
   "execution_count": null,
   "metadata": {
    "ExecuteTime": {
     "end_time": "2020-12-06T10:01:15.211850Z",
     "start_time": "2020-12-06T10:01:15.209804Z"
    },
    "hidden": true
   },
   "outputs": [],
   "source": [
    "#----------YOUR SOLUTION-----------#\n",
    "#....\n"
   ]
  },
  {
   "cell_type": "markdown",
   "metadata": {
    "hidden": true
   },
   "source": [
    "<b>Inferring datetime from a string</b>\n"
   ]
  },
  {
   "cell_type": "code",
   "execution_count": 51,
   "metadata": {
    "ExecuteTime": {
     "end_time": "2020-12-07T03:59:01.064620Z",
     "start_time": "2020-12-07T03:59:01.060503Z"
    },
    "hidden": true
   },
   "outputs": [
    {
     "data": {
      "text/plain": [
       "datetime.datetime(2020, 11, 27, 0, 0)"
      ]
     },
     "execution_count": 51,
     "metadata": {},
     "output_type": "execute_result"
    }
   ],
   "source": [
    "datetime.strptime('2020-11-27', '%Y-%m-%d')"
   ]
  },
  {
   "cell_type": "markdown",
   "metadata": {
    "hidden": true,
    "solution2": "shown",
    "solution2_first": true
   },
   "source": [
    "**Q**) How will you parse `2020-11-27 00-15-51` using `datetime` library?"
   ]
  },
  {
   "cell_type": "code",
   "execution_count": 52,
   "metadata": {
    "ExecuteTime": {
     "end_time": "2020-12-07T03:59:43.925918Z",
     "start_time": "2020-12-07T03:59:43.920254Z"
    },
    "hidden": true,
    "solution2": "shown"
   },
   "outputs": [
    {
     "data": {
      "text/plain": [
       "datetime.datetime(2020, 11, 27, 0, 15, 51)"
      ]
     },
     "execution_count": 52,
     "metadata": {},
     "output_type": "execute_result"
    }
   ],
   "source": [
    "datetime.strptime('2020-11-27 00-15-51', '%Y-%m-%d %H-%M-%S')"
   ]
  },
  {
   "cell_type": "code",
   "execution_count": null,
   "metadata": {
    "ExecuteTime": {
     "end_time": "2020-12-06T10:01:15.632709Z",
     "start_time": "2020-12-06T10:01:15.631064Z"
    },
    "hidden": true
   },
   "outputs": [],
   "source": [
    "#----------YOUR SOLUTION-----------#\n",
    "#....\n"
   ]
  },
  {
   "cell_type": "markdown",
   "metadata": {
    "hidden": true
   },
   "source": [
    "<b>`datetime` atrributes</b>"
   ]
  },
  {
   "cell_type": "code",
   "execution_count": 53,
   "metadata": {
    "ExecuteTime": {
     "end_time": "2020-12-07T04:00:02.196252Z",
     "start_time": "2020-12-07T04:00:02.191443Z"
    },
    "hidden": true
   },
   "outputs": [
    {
     "data": {
      "text/plain": [
       "['now',\n",
       " 'utcnow',\n",
       " 'fromtimestamp',\n",
       " 'utcfromtimestamp',\n",
       " 'strptime',\n",
       " 'combine',\n",
       " 'fromisoformat',\n",
       " 'date',\n",
       " 'time',\n",
       " 'timetz',\n",
       " 'ctime',\n",
       " 'timetuple',\n",
       " 'timestamp',\n",
       " 'utctimetuple',\n",
       " 'isoformat',\n",
       " 'utcoffset',\n",
       " 'tzname',\n",
       " 'dst',\n",
       " 'replace',\n",
       " 'astimezone',\n",
       " 'hour',\n",
       " 'minute',\n",
       " 'second',\n",
       " 'microsecond',\n",
       " 'tzinfo',\n",
       " 'fold',\n",
       " 'min',\n",
       " 'max',\n",
       " 'resolution',\n",
       " 'fromordinal',\n",
       " 'fromisocalendar',\n",
       " 'today',\n",
       " 'strftime',\n",
       " 'isocalendar',\n",
       " 'isoweekday',\n",
       " 'toordinal',\n",
       " 'weekday',\n",
       " 'year',\n",
       " 'month',\n",
       " 'day']"
      ]
     },
     "execution_count": 53,
     "metadata": {},
     "output_type": "execute_result"
    }
   ],
   "source": [
    "[k for k in current_time.__dir__() if '_' not in k]"
   ]
  },
  {
   "cell_type": "markdown",
   "metadata": {
    "hidden": true
   },
   "source": [
    "**A slight detour** : Any function that you see in python object which has a signature of __fname__, is something called as magic function. You can do really amazing things using these functions"
   ]
  },
  {
   "cell_type": "code",
   "execution_count": 56,
   "metadata": {
    "ExecuteTime": {
     "end_time": "2020-12-07T04:01:32.839114Z",
     "start_time": "2020-12-07T04:01:32.835442Z"
    },
    "hidden": true
   },
   "outputs": [
    {
     "data": {
      "text/plain": [
       "2"
      ]
     },
     "execution_count": 56,
     "metadata": {},
     "output_type": "execute_result"
    }
   ],
   "source": [
    "1+1"
   ]
  },
  {
   "cell_type": "code",
   "execution_count": 60,
   "metadata": {
    "ExecuteTime": {
     "end_time": "2020-12-07T04:02:47.157313Z",
     "start_time": "2020-12-07T04:02:47.153909Z"
    },
    "hidden": true
   },
   "outputs": [],
   "source": [
    "class SumMe:\n",
    "    def __init__(self, num):\n",
    "        self.num = num\n",
    "    def __add__(self, other):\n",
    "        return self.num+other.num"
   ]
  },
  {
   "cell_type": "code",
   "execution_count": 61,
   "metadata": {
    "ExecuteTime": {
     "end_time": "2020-12-07T04:02:47.548958Z",
     "start_time": "2020-12-07T04:02:47.546289Z"
    },
    "hidden": true
   },
   "outputs": [],
   "source": [
    "objA = SumMe(20)\n",
    "objB = SumMe(21)"
   ]
  },
  {
   "cell_type": "code",
   "execution_count": 62,
   "metadata": {
    "ExecuteTime": {
     "end_time": "2020-12-07T04:02:47.770088Z",
     "start_time": "2020-12-07T04:02:47.766271Z"
    },
    "hidden": true
   },
   "outputs": [
    {
     "data": {
      "text/plain": [
       "41"
      ]
     },
     "execution_count": 62,
     "metadata": {},
     "output_type": "execute_result"
    }
   ],
   "source": [
    "objA.num+objB.num"
   ]
  },
  {
   "cell_type": "code",
   "execution_count": 63,
   "metadata": {
    "ExecuteTime": {
     "end_time": "2020-12-07T04:02:48.090359Z",
     "start_time": "2020-12-07T04:02:48.086021Z"
    },
    "hidden": true
   },
   "outputs": [
    {
     "data": {
      "text/plain": [
       "41"
      ]
     },
     "execution_count": 63,
     "metadata": {},
     "output_type": "execute_result"
    }
   ],
   "source": [
    "objA+objB"
   ]
  },
  {
   "cell_type": "markdown",
   "metadata": {
    "hidden": true
   },
   "source": [
    "<b>Operations using `Timedelta`</b>"
   ]
  },
  {
   "cell_type": "code",
   "execution_count": 64,
   "metadata": {
    "ExecuteTime": {
     "end_time": "2020-12-07T04:03:50.351186Z",
     "start_time": "2020-12-07T04:03:50.346607Z"
    },
    "hidden": true
   },
   "outputs": [
    {
     "name": "stdout",
     "output_type": "stream",
     "text": [
      "Current Time              :  2020-12-07 09:33:50.348027\n",
      "Time 10 days prior        :  2020-11-27 09:33:50.348696\n",
      "Time 10 hours prior       :  2020-12-06 23:33:50.348860\n",
      "Time 1 day, 3 hours after :  2020-12-08 12:33:50.348948\n"
     ]
    }
   ],
   "source": [
    "print('Current Time              : ', datetime.now())\n",
    "print('Time 10 days prior        : ', datetime.now()-timedelta(days=10))\n",
    "print('Time 10 hours prior       : ', datetime.now()-timedelta(hours=10))\n",
    "print('Time 1 day, 3 hours after : ', datetime.now()+timedelta(days=1, hours=3))"
   ]
  },
  {
   "cell_type": "code",
   "execution_count": 65,
   "metadata": {
    "ExecuteTime": {
     "end_time": "2020-12-07T04:04:34.025039Z",
     "start_time": "2020-12-07T04:04:34.021339Z"
    },
    "hidden": true
   },
   "outputs": [
    {
     "data": {
      "text/plain": [
       "6.0"
      ]
     },
     "execution_count": 65,
     "metadata": {},
     "output_type": "execute_result"
    }
   ],
   "source": [
    "# Divinding two timedeltas\n",
    "timedelta(days=1) / timedelta(hours=4)"
   ]
  },
  {
   "cell_type": "markdown",
   "metadata": {
    "hidden": true,
    "solution2": "shown",
    "solution2_first": true
   },
   "source": [
    "**Q)** Anu has asked me to tell her the exact time to seconds, 2 weeks 1 day 13 hours 28 minutes 10 seconds and 19 millisseconds prior.... *I know anu is a little bit wierd on time, but what can you do?*\n",
    "\n",
    "How will you find that??"
   ]
  },
  {
   "cell_type": "code",
   "execution_count": 66,
   "metadata": {
    "ExecuteTime": {
     "end_time": "2020-12-07T04:05:30.062423Z",
     "start_time": "2020-12-07T04:05:30.058791Z"
    },
    "hidden": true,
    "solution2": "shown"
   },
   "outputs": [
    {
     "data": {
      "text/plain": [
       "datetime.datetime(2020, 11, 28, 20, 7, 20, 40845)"
      ]
     },
     "execution_count": 66,
     "metadata": {},
     "output_type": "execute_result"
    }
   ],
   "source": [
    "datetime.now() - timedelta(weeks=1, days=1, hours=13, minutes=28, seconds=10, milliseconds=19)"
   ]
  },
  {
   "cell_type": "code",
   "execution_count": null,
   "metadata": {
    "ExecuteTime": {
     "end_time": "2020-12-06T10:01:16.719443Z",
     "start_time": "2020-12-06T10:01:16.717765Z"
    },
    "hidden": true
   },
   "outputs": [],
   "source": [
    "#----------YOUR SOLUTION-----------#\n",
    "#....\n",
    "\n"
   ]
  },
  {
   "cell_type": "markdown",
   "metadata": {
    "heading_collapsed": true
   },
   "source": [
    "## `dateutils` Package\n",
    "\n",
    "- `dateutils` - [Excercise](https://dateutil.readthedocs.io/en/stable/exercises/index.html)"
   ]
  },
  {
   "cell_type": "code",
   "execution_count": 67,
   "metadata": {
    "ExecuteTime": {
     "end_time": "2020-12-07T04:05:36.442758Z",
     "start_time": "2020-12-07T04:05:36.439197Z"
    },
    "hidden": true
   },
   "outputs": [],
   "source": [
    "from dateutil.rrule import rrule\n",
    "from dateutil.parser import parse\n",
    "from dateutil.rrule import MO, TU, WE, TH, FR, SA, SU, YEARLY, DAILY, MONTHLY, WEEKLY\n",
    "from dateutil.relativedelta import relativedelta"
   ]
  },
  {
   "cell_type": "markdown",
   "metadata": {
    "hidden": true
   },
   "source": [
    "<b>Playing around with `relativedelta`</b>"
   ]
  },
  {
   "cell_type": "code",
   "execution_count": 70,
   "metadata": {
    "ExecuteTime": {
     "end_time": "2020-12-07T04:06:35.279224Z",
     "start_time": "2020-12-07T04:06:35.276322Z"
    },
    "hidden": true
   },
   "outputs": [
    {
     "name": "stdout",
     "output_type": "stream",
     "text": [
      "Current Time              :  2020-12-07 09:36:35.277232\n",
      "Time 3 months prior        :  2020-09-07 09:36:35.277332\n"
     ]
    }
   ],
   "source": [
    "print('Current Time              : ', datetime.now())\n",
    "print('Time 3 months prior        : ', datetime.now()-relativedelta(months=3))"
   ]
  },
  {
   "cell_type": "code",
   "execution_count": 72,
   "metadata": {
    "ExecuteTime": {
     "end_time": "2020-12-07T04:07:18.797640Z",
     "start_time": "2020-12-07T04:07:18.792338Z"
    },
    "hidden": true
   },
   "outputs": [
    {
     "data": {
      "text/plain": [
       "(datetime.datetime(2020, 12, 7, 9, 37, 18, 793547),\n",
       " datetime.datetime(2020, 5, 7, 9, 37, 18, 793588),\n",
       " datetime.datetime(2021, 5, 7, 9, 37, 18, 793661))"
      ]
     },
     "execution_count": 72,
     "metadata": {},
     "output_type": "execute_result"
    }
   ],
   "source": [
    "current_time = datetime.now()\n",
    "current_time_singular_RLD = datetime.now()+relativedelta(month=5)\n",
    "current_time_plural_RLD = datetime.now()+relativedelta(months=5)\n",
    "\n",
    "current_time, current_time_singular_RLD, current_time_plural_RLD"
   ]
  },
  {
   "cell_type": "markdown",
   "metadata": {
    "hidden": true
   },
   "source": [
    "<b>Notice the difference?\n",
    "    \n",
    "</b> What could it mean?"
   ]
  },
  {
   "cell_type": "code",
   "execution_count": 75,
   "metadata": {
    "ExecuteTime": {
     "end_time": "2020-12-07T04:09:00.785234Z",
     "start_time": "2020-12-07T04:09:00.781475Z"
    },
    "hidden": true
   },
   "outputs": [
    {
     "data": {
      "text/plain": [
       "relativedelta(microseconds=+3)"
      ]
     },
     "execution_count": 75,
     "metadata": {},
     "output_type": "execute_result"
    }
   ],
   "source": [
    "t1 = datetime.now()\n",
    "t2 = t1+relativedelta(microseconds=3)\n",
    "relativedelta(t2, t1)"
   ]
  },
  {
   "cell_type": "markdown",
   "metadata": {
    "hidden": true
   },
   "source": [
    "One month before one year from now"
   ]
  },
  {
   "cell_type": "code",
   "execution_count": 76,
   "metadata": {
    "ExecuteTime": {
     "end_time": "2020-12-07T04:09:06.941832Z",
     "start_time": "2020-12-07T04:09:06.937808Z"
    },
    "hidden": true
   },
   "outputs": [
    {
     "data": {
      "text/plain": [
       "datetime.datetime(2021, 11, 7, 9, 39, 0, 782318)"
      ]
     },
     "execution_count": 76,
     "metadata": {},
     "output_type": "execute_result"
    }
   ],
   "source": [
    "t1+relativedelta(years=+1, months=-1)"
   ]
  },
  {
   "cell_type": "markdown",
   "metadata": {
    "hidden": true
   },
   "source": [
    "Last Friday of this month"
   ]
  },
  {
   "cell_type": "code",
   "execution_count": 79,
   "metadata": {
    "ExecuteTime": {
     "end_time": "2020-12-07T04:10:09.845379Z",
     "start_time": "2020-12-07T04:10:09.840233Z"
    },
    "hidden": true
   },
   "outputs": [
    {
     "data": {
      "text/plain": [
       "datetime.datetime(2020, 12, 11, 9, 39, 0, 782318)"
      ]
     },
     "execution_count": 79,
     "metadata": {},
     "output_type": "execute_result"
    }
   ],
   "source": [
    "t1+relativedelta(day=31, weekday=FR(-3))"
   ]
  },
  {
   "cell_type": "markdown",
   "metadata": {
    "hidden": true,
    "solution2": "shown",
    "solution2_first": true
   },
   "source": [
    "**Q**) Every time you run this notebook, you are to schedule a meeting on the Next Monday? What time would that be?"
   ]
  },
  {
   "cell_type": "code",
   "execution_count": 80,
   "metadata": {
    "ExecuteTime": {
     "end_time": "2020-12-07T04:10:52.764647Z",
     "start_time": "2020-12-07T04:10:52.760574Z"
    },
    "hidden": true,
    "solution2": "shown"
   },
   "outputs": [
    {
     "data": {
      "text/plain": [
       "datetime.datetime(2020, 12, 7, 9, 39, 0, 782318)"
      ]
     },
     "execution_count": 80,
     "metadata": {},
     "output_type": "execute_result"
    }
   ],
   "source": [
    "t1+relativedelta(weekday=MO(+1))"
   ]
  },
  {
   "cell_type": "code",
   "execution_count": null,
   "metadata": {
    "ExecuteTime": {
     "end_time": "2020-12-06T10:01:17.885823Z",
     "start_time": "2020-12-06T10:01:17.884049Z"
    },
    "code_folding": [],
    "hidden": true
   },
   "outputs": [],
   "source": [
    "#----------YOUR SOLUTION-----------#\n",
    "#...."
   ]
  },
  {
   "cell_type": "markdown",
   "metadata": {
    "hidden": true
   },
   "source": [
    "Next Monday, But not today!"
   ]
  },
  {
   "cell_type": "code",
   "execution_count": 81,
   "metadata": {
    "ExecuteTime": {
     "end_time": "2020-12-07T04:11:11.973696Z",
     "start_time": "2020-12-07T04:11:11.969544Z"
    },
    "hidden": true
   },
   "outputs": [
    {
     "data": {
      "text/plain": [
       "datetime.datetime(2020, 12, 14, 9, 39, 0, 782318)"
      ]
     },
     "execution_count": 81,
     "metadata": {},
     "output_type": "execute_result"
    }
   ],
   "source": [
    "t1+relativedelta(days=+1, weekday=MO(+1))"
   ]
  },
  {
   "cell_type": "markdown",
   "metadata": {
    "hidden": true
   },
   "source": [
    "Whats my age?"
   ]
  },
  {
   "cell_type": "code",
   "execution_count": 82,
   "metadata": {
    "ExecuteTime": {
     "end_time": "2020-12-07T04:11:26.169117Z",
     "start_time": "2020-12-07T04:11:26.165262Z"
    },
    "hidden": true
   },
   "outputs": [
    {
     "name": "stdout",
     "output_type": "stream",
     "text": [
      "My Age :  relativedelta(years=+24, days=+28, hours=+9, minutes=+41, seconds=+26, microseconds=+166646)\n"
     ]
    }
   ],
   "source": [
    "birthdate = '1996-11-09'\n",
    "print('My Age : ', relativedelta(datetime.now(), parse(birthdate)))"
   ]
  },
  {
   "cell_type": "markdown",
   "metadata": {
    "hidden": true
   },
   "source": [
    "<b>Playing around with `rrule` - `recurrence rule`</b>"
   ]
  },
  {
   "cell_type": "code",
   "execution_count": 83,
   "metadata": {
    "ExecuteTime": {
     "end_time": "2020-12-07T04:11:52.378085Z",
     "start_time": "2020-12-07T04:11:52.374280Z"
    },
    "code_folding": [],
    "hidden": true
   },
   "outputs": [
    {
     "data": {
      "text/plain": [
       "[datetime.datetime(2020, 12, 7, 9, 37, 18),\n",
       " datetime.datetime(2021, 1, 7, 9, 37, 18),\n",
       " datetime.datetime(2021, 2, 7, 9, 37, 18),\n",
       " datetime.datetime(2021, 3, 7, 9, 37, 18)]"
      ]
     },
     "execution_count": 83,
     "metadata": {},
     "output_type": "execute_result"
    }
   ],
   "source": [
    "# Give me next 4 consecutive dates\n",
    "list(rrule(MONTHLY, count=4, dtstart=current_time))"
   ]
  },
  {
   "cell_type": "code",
   "execution_count": 85,
   "metadata": {
    "ExecuteTime": {
     "end_time": "2020-12-07T04:12:29.829302Z",
     "start_time": "2020-12-07T04:12:29.825197Z"
    },
    "code_folding": [],
    "hidden": true
   },
   "outputs": [
    {
     "data": {
      "text/plain": [
       "[datetime.datetime(2020, 12, 7, 9, 37, 18),\n",
       " datetime.datetime(2020, 12, 10, 9, 37, 18),\n",
       " datetime.datetime(2020, 12, 13, 9, 37, 18),\n",
       " datetime.datetime(2020, 12, 16, 9, 37, 18)]"
      ]
     },
     "execution_count": 85,
     "metadata": {},
     "output_type": "execute_result"
    }
   ],
   "source": [
    "# Give me next 4, every other date\n",
    "list(rrule(DAILY, count=4, dtstart=current_time, interval=3))"
   ]
  },
  {
   "cell_type": "code",
   "execution_count": 87,
   "metadata": {
    "ExecuteTime": {
     "end_time": "2020-12-07T04:13:14.580985Z",
     "start_time": "2020-12-07T04:13:14.575916Z"
    },
    "code_folding": [],
    "hidden": true
   },
   "outputs": [
    {
     "data": {
      "text/plain": [
       "[datetime.datetime(2020, 12, 25, 9, 37, 18),\n",
       " datetime.datetime(2021, 2, 26, 9, 37, 18),\n",
       " datetime.datetime(2021, 4, 30, 9, 37, 18),\n",
       " datetime.datetime(2021, 6, 25, 9, 37, 18),\n",
       " datetime.datetime(2021, 8, 27, 9, 37, 18),\n",
       " datetime.datetime(2021, 10, 29, 9, 37, 18),\n",
       " datetime.datetime(2021, 12, 31, 9, 37, 18),\n",
       " datetime.datetime(2022, 2, 25, 9, 37, 18),\n",
       " datetime.datetime(2022, 4, 29, 9, 37, 18),\n",
       " datetime.datetime(2022, 6, 24, 9, 37, 18)]"
      ]
     },
     "execution_count": 87,
     "metadata": {},
     "output_type": "execute_result"
    }
   ],
   "source": [
    "# Give me last friday of next 10 months\n",
    "list(rrule(MONTHLY, count=10, dtstart=current_time, byweekday=FR(-1), interval=2))"
   ]
  },
  {
   "cell_type": "markdown",
   "metadata": {
    "hidden": true,
    "solution2": "shown",
    "solution2_first": true
   },
   "source": [
    "**Q)** Last friday of next 10 alternating months :-"
   ]
  },
  {
   "cell_type": "code",
   "execution_count": 89,
   "metadata": {
    "ExecuteTime": {
     "end_time": "2020-12-07T04:13:41.494566Z",
     "start_time": "2020-12-07T04:13:41.489855Z"
    },
    "code_folding": [],
    "hidden": true,
    "solution2": "shown"
   },
   "outputs": [
    {
     "data": {
      "text/plain": [
       "[datetime.datetime(2020, 12, 25, 9, 37, 18),\n",
       " datetime.datetime(2021, 4, 30, 9, 37, 18),\n",
       " datetime.datetime(2021, 8, 27, 9, 37, 18),\n",
       " datetime.datetime(2021, 12, 31, 9, 37, 18),\n",
       " datetime.datetime(2022, 4, 29, 9, 37, 18),\n",
       " datetime.datetime(2022, 8, 26, 9, 37, 18),\n",
       " datetime.datetime(2022, 12, 30, 9, 37, 18),\n",
       " datetime.datetime(2023, 4, 28, 9, 37, 18),\n",
       " datetime.datetime(2023, 8, 25, 9, 37, 18),\n",
       " datetime.datetime(2023, 12, 29, 9, 37, 18)]"
      ]
     },
     "execution_count": 89,
     "metadata": {},
     "output_type": "execute_result"
    }
   ],
   "source": [
    "list(rrule(MONTHLY, count=10, dtstart=current_time, byweekday=FR(-1), interval=4))"
   ]
  },
  {
   "cell_type": "code",
   "execution_count": null,
   "metadata": {
    "ExecuteTime": {
     "end_time": "2020-12-06T10:01:18.807114Z",
     "start_time": "2020-12-06T10:01:18.805014Z"
    },
    "hidden": true
   },
   "outputs": [],
   "source": [
    "#----------YOUR SOLUTION-----------#\n",
    "#...."
   ]
  },
  {
   "cell_type": "code",
   "execution_count": 90,
   "metadata": {
    "ExecuteTime": {
     "end_time": "2020-12-07T04:14:20.980252Z",
     "start_time": "2020-12-07T04:14:20.974988Z"
    },
    "code_folding": [],
    "hidden": true
   },
   "outputs": [
    {
     "data": {
      "text/plain": [
       "[datetime.datetime(2020, 12, 27, 9, 37, 18),\n",
       " datetime.datetime(2021, 2, 7, 9, 37, 18),\n",
       " datetime.datetime(2021, 2, 28, 9, 37, 18),\n",
       " datetime.datetime(2021, 4, 4, 9, 37, 18),\n",
       " datetime.datetime(2021, 4, 25, 9, 37, 18),\n",
       " datetime.datetime(2021, 6, 6, 9, 37, 18),\n",
       " datetime.datetime(2021, 6, 27, 9, 37, 18),\n",
       " datetime.datetime(2021, 8, 1, 9, 37, 18),\n",
       " datetime.datetime(2021, 8, 29, 9, 37, 18),\n",
       " datetime.datetime(2021, 10, 3, 9, 37, 18)]"
      ]
     },
     "execution_count": 90,
     "metadata": {},
     "output_type": "execute_result"
    }
   ],
   "source": [
    "# Every other month on the 1st and last Sunday of the month for 10 occurrences.\n",
    "list(rrule(MONTHLY, interval=2, \n",
    "           count=10, dtstart=current_time,\n",
    "           byweekday=(SU(+1),SU(-1))))"
   ]
  },
  {
   "cell_type": "markdown",
   "metadata": {
    "hidden": true
   },
   "source": [
    "<b>Well this seems sufficient right? Then why did `numpy` create its own datatype `datetime64`?</b>"
   ]
  },
  {
   "cell_type": "code",
   "execution_count": 91,
   "metadata": {
    "ExecuteTime": {
     "end_time": "2020-12-07T04:15:14.971084Z",
     "start_time": "2020-12-07T04:15:14.967425Z"
    },
    "hidden": true
   },
   "outputs": [
    {
     "data": {
      "text/plain": [
       "datetime.datetime(2020, 12, 7, 9, 37, 18, 793547)"
      ]
     },
     "execution_count": 91,
     "metadata": {},
     "output_type": "execute_result"
    }
   ],
   "source": [
    "current_time"
   ]
  },
  {
   "cell_type": "code",
   "execution_count": 92,
   "metadata": {
    "ExecuteTime": {
     "end_time": "2020-12-07T04:16:19.222452Z",
     "start_time": "2020-12-07T04:16:19.214881Z"
    },
    "hidden": true
   },
   "outputs": [
    {
     "name": "stdout",
     "output_type": "stream",
     "text": [
      "2020-12-07 09:37:18.793547 of type :  <class 'datetime.datetime'>\n"
     ]
    },
    {
     "ename": "TypeError",
     "evalue": "unsupported operand type(s) for +: 'datetime.datetime' and 'int'",
     "output_type": "error",
     "traceback": [
      "\u001b[0;31m---------------------------------------------------------------------------\u001b[0m",
      "\u001b[0;31mTypeError\u001b[0m                                 Traceback (most recent call last)",
      "\u001b[0;32m<ipython-input-92-65c3ce563588>\u001b[0m in \u001b[0;36m<module>\u001b[0;34m\u001b[0m\n\u001b[1;32m      1\u001b[0m \u001b[0mprint\u001b[0m\u001b[0;34m(\u001b[0m\u001b[0mcurrent_time\u001b[0m\u001b[0;34m,\u001b[0m \u001b[0;34m'of type : '\u001b[0m\u001b[0;34m,\u001b[0m \u001b[0mtype\u001b[0m\u001b[0;34m(\u001b[0m\u001b[0mcurrent_time\u001b[0m\u001b[0;34m)\u001b[0m\u001b[0;34m)\u001b[0m\u001b[0;34m\u001b[0m\u001b[0;34m\u001b[0m\u001b[0m\n\u001b[0;32m----> 2\u001b[0;31m \u001b[0mcurrent_time\u001b[0m\u001b[0;34m+\u001b[0m\u001b[0;36m20\u001b[0m\u001b[0;34m\u001b[0m\u001b[0;34m\u001b[0m\u001b[0m\n\u001b[0m",
      "\u001b[0;31mTypeError\u001b[0m: unsupported operand type(s) for +: 'datetime.datetime' and 'int'"
     ]
    }
   ],
   "source": [
    "print(current_time, 'of type : ', type(current_time))\n",
    "current_time+20"
   ]
  },
  {
   "cell_type": "code",
   "execution_count": 95,
   "metadata": {
    "ExecuteTime": {
     "end_time": "2020-12-07T04:17:04.807894Z",
     "start_time": "2020-12-07T04:17:04.801864Z"
    },
    "hidden": true
   },
   "outputs": [
    {
     "name": "stdout",
     "output_type": "stream",
     "text": [
      "2020-12 of type :  <class 'numpy.datetime64'>\n"
     ]
    },
    {
     "data": {
      "text/plain": [
       "numpy.datetime64('2022-08')"
      ]
     },
     "execution_count": 95,
     "metadata": {},
     "output_type": "execute_result"
    }
   ],
   "source": [
    "# Try to play around with the format, say 'D', 'M', 'Y', 'h'...\n",
    "np_current_time = np.datetime64(current_time, 'M')\n",
    "print(np_current_time, 'of type : ', type(np_current_time))\n",
    "np_current_time+20"
   ]
  },
  {
   "cell_type": "code",
   "execution_count": 97,
   "metadata": {
    "ExecuteTime": {
     "end_time": "2020-12-07T04:17:19.912677Z",
     "start_time": "2020-12-07T04:17:19.908872Z"
    },
    "hidden": true
   },
   "outputs": [
    {
     "data": {
      "text/plain": [
       "numpy.datetime64('2020-12')"
      ]
     },
     "execution_count": 97,
     "metadata": {},
     "output_type": "execute_result"
    }
   ],
   "source": [
    "np_current_time"
   ]
  },
  {
   "cell_type": "code",
   "execution_count": 98,
   "metadata": {
    "ExecuteTime": {
     "end_time": "2020-12-07T04:17:26.993959Z",
     "start_time": "2020-12-07T04:17:26.990146Z"
    },
    "hidden": true
   },
   "outputs": [
    {
     "data": {
      "text/plain": [
       "array([ 0,  1,  2,  3,  4,  5,  6,  7,  8,  9, 10, 11])"
      ]
     },
     "execution_count": 98,
     "metadata": {},
     "output_type": "execute_result"
    }
   ],
   "source": [
    "np.arange(12)"
   ]
  },
  {
   "cell_type": "code",
   "execution_count": 96,
   "metadata": {
    "ExecuteTime": {
     "end_time": "2020-12-07T04:17:14.206211Z",
     "start_time": "2020-12-07T04:17:14.200470Z"
    },
    "hidden": true
   },
   "outputs": [
    {
     "data": {
      "text/plain": [
       "array(['2020-12', '2021-01', '2021-02', '2021-03', '2021-04', '2021-05',\n",
       "       '2021-06', '2021-07', '2021-08', '2021-09', '2021-10', '2021-11'],\n",
       "      dtype='datetime64[M]')"
      ]
     },
     "execution_count": 96,
     "metadata": {},
     "output_type": "execute_result"
    }
   ],
   "source": [
    "np_current_time+np.arange(12)"
   ]
  },
  {
   "cell_type": "markdown",
   "metadata": {
    "hidden": true
   },
   "source": [
    "<b>Thats why!</b>, And also because its an homogeneous way of representaion"
   ]
  },
  {
   "cell_type": "markdown",
   "metadata": {},
   "source": [
    "## Numpy `datetime64`\n",
    "\n",
    "\n",
    "<p>The Datetime and Timedelta data types support a large number of time\n",
    "units, as well as generic units which can be coerced into any of the\n",
    "other units based on input data.</p>\n",
    "<p>Datetimes are always stored based on POSIX time (though having a TAI\n",
    "mode which allows for accounting of leap-seconds is proposed), with\n",
    "an epoch of 1970-01-01T00:00Z. This means the supported dates are\n",
    "always a symmetric interval around the epoch, called “time span” in the\n",
    "table below.</p>\n",
    "<p>The length of the span is the range of a 64-bit integer times the length\n",
    "of the date or unit.  For example, the time span for ‘W’ (week) is exactly\n",
    "7 times longer than the time span for ‘D’ (day), and the time span for\n",
    "‘D’ (day) is exactly 24 times longer than the time span for ‘h’ (hour).</p>\n",
    "<p>Here are the date units:</p>\n",
    "<table class=\"docutils align-default\" id=\"arrays-dtypes-dateunits\">\n",
    "<colgroup>\n",
    "<col style=\"width: 11%\">\n",
    "<col style=\"width: 22%\">\n",
    "<col style=\"width: 32%\">\n",
    "<col style=\"width: 36%\">\n",
    "</colgroup>\n",
    "<thead>\n",
    "<tr class=\"row-odd\"><th class=\"head\"><p>Code</p></th>\n",
    "<th class=\"head\"><p>Meaning</p></th>\n",
    "<th class=\"head\"><p>Time span (relative)</p></th>\n",
    "<th class=\"head\"><p>Time span (absolute)</p></th>\n",
    "</tr>\n",
    "</thead>\n",
    "<tbody>\n",
    "<tr class=\"row-even\"><td><p>Y</p></td>\n",
    "<td><p>year</p></td>\n",
    "<td><p>+/- 9.2e18 years</p></td>\n",
    "<td><p>[9.2e18 BC, 9.2e18 AD]</p></td>\n",
    "</tr>\n",
    "<tr class=\"row-odd\"><td><p>M</p></td>\n",
    "<td><p>month</p></td>\n",
    "<td><p>+/- 7.6e17 years</p></td>\n",
    "<td><p>[7.6e17 BC, 7.6e17 AD]</p></td>\n",
    "</tr>\n",
    "<tr class=\"row-even\"><td><p>W</p></td>\n",
    "<td><p>week</p></td>\n",
    "<td><p>+/- 1.7e17 years</p></td>\n",
    "<td><p>[1.7e17 BC, 1.7e17 AD]</p></td>\n",
    "</tr>\n",
    "<tr class=\"row-odd\"><td><p>D</p></td>\n",
    "<td><p>day</p></td>\n",
    "<td><p>+/- 2.5e16 years</p></td>\n",
    "<td><p>[2.5e16 BC, 2.5e16 AD]</p></td>\n",
    "</tr>\n",
    "</tbody>\n",
    "</table>\n",
    "<p>And here are the time units:</p>\n",
    "<table class=\"docutils align-default\" id=\"arrays-dtypes-timeunits\">\n",
    "<colgroup>\n",
    "<col style=\"width: 11%\">\n",
    "<col style=\"width: 22%\">\n",
    "<col style=\"width: 32%\">\n",
    "<col style=\"width: 36%\">\n",
    "</colgroup>\n",
    "<thead>\n",
    "<tr class=\"row-odd\"><th class=\"head\"><p>Code</p></th>\n",
    "<th class=\"head\"><p>Meaning</p></th>\n",
    "<th class=\"head\"><p>Time span (relative)</p></th>\n",
    "<th class=\"head\"><p>Time span (absolute)</p></th>\n",
    "</tr>\n",
    "</thead>\n",
    "<tbody>\n",
    "<tr class=\"row-even\"><td><p>h</p></td>\n",
    "<td><p>hour</p></td>\n",
    "<td><p>+/- 1.0e15 years</p></td>\n",
    "<td><p>[1.0e15 BC, 1.0e15 AD]</p></td>\n",
    "</tr>\n",
    "<tr class=\"row-odd\"><td><p>m</p></td>\n",
    "<td><p>minute</p></td>\n",
    "<td><p>+/- 1.7e13 years</p></td>\n",
    "<td><p>[1.7e13 BC, 1.7e13 AD]</p></td>\n",
    "</tr>\n",
    "<tr class=\"row-even\"><td><p>s</p></td>\n",
    "<td><p>second</p></td>\n",
    "<td><p>+/- 2.9e11 years</p></td>\n",
    "<td><p>[2.9e11 BC, 2.9e11 AD]</p></td>\n",
    "</tr>\n",
    "<tr class=\"row-odd\"><td><p>ms</p></td>\n",
    "<td><p>millisecond</p></td>\n",
    "<td><p>+/- 2.9e8 years</p></td>\n",
    "<td><p>[ 2.9e8 BC,  2.9e8 AD]</p></td>\n",
    "</tr>\n",
    "<tr class=\"row-even\"><td><p>us</p></td>\n",
    "<td><p>microsecond</p></td>\n",
    "<td><p>+/- 2.9e5 years</p></td>\n",
    "<td><p>[290301 BC, 294241 AD]</p></td>\n",
    "</tr>\n",
    "<tr class=\"row-odd\"><td><p>ns</p></td>\n",
    "<td><p>nanosecond</p></td>\n",
    "<td><p>+/- 292 years</p></td>\n",
    "<td><p>[  1678 AD,   2262 AD]</p></td>\n",
    "</tr>\n",
    "<tr class=\"row-even\"><td><p>ps</p></td>\n",
    "<td><p>picosecond</p></td>\n",
    "<td><p>+/- 106 days</p></td>\n",
    "<td><p>[  1969 AD,   1970 AD]</p></td>\n",
    "</tr>\n",
    "<tr class=\"row-odd\"><td><p>fs</p></td>\n",
    "<td><p>femtosecond</p></td>\n",
    "<td><p>+/- 2.6 hours</p></td>\n",
    "<td><p>[  1969 AD,   1970 AD]</p></td>\n",
    "</tr>\n",
    "<tr class=\"row-even\"><td><p>as</p></td>\n",
    "<td><p>attosecond</p></td>\n",
    "<td><p>+/- 9.2 seconds</p></td>\n",
    "<td><p>[  1969 AD,   1970 AD]</p></td>\n",
    "</tr>\n",
    "</tbody>\n",
    "</table>"
   ]
  },
  {
   "cell_type": "code",
   "execution_count": 99,
   "metadata": {
    "ExecuteTime": {
     "end_time": "2020-12-07T04:18:45.030553Z",
     "start_time": "2020-12-07T04:18:45.026143Z"
    }
   },
   "outputs": [
    {
     "data": {
      "text/plain": [
       "(numpy.datetime64('2020-12-07'), numpy.datetime64)"
      ]
     },
     "execution_count": 99,
     "metadata": {},
     "output_type": "execute_result"
    }
   ],
   "source": [
    "# Simple ISO Date\n",
    "np.datetime64('2020-12-07'), type(np.datetime64('2020-12-07'))"
   ]
  },
  {
   "cell_type": "code",
   "execution_count": 100,
   "metadata": {
    "ExecuteTime": {
     "end_time": "2020-12-07T04:18:54.932400Z",
     "start_time": "2020-12-07T04:18:54.927246Z"
    }
   },
   "outputs": [
    {
     "data": {
      "text/plain": [
       "numpy.datetime64('2005-02')"
      ]
     },
     "execution_count": 100,
     "metadata": {},
     "output_type": "execute_result"
    }
   ],
   "source": [
    "np.datetime64('2005-02')"
   ]
  },
  {
   "cell_type": "code",
   "execution_count": 101,
   "metadata": {
    "ExecuteTime": {
     "end_time": "2020-12-07T04:18:59.334113Z",
     "start_time": "2020-12-07T04:18:59.330215Z"
    }
   },
   "outputs": [
    {
     "data": {
      "text/plain": [
       "numpy.datetime64('2005-02-25T03:30')"
      ]
     },
     "execution_count": 101,
     "metadata": {},
     "output_type": "execute_result"
    }
   ],
   "source": [
    "np.datetime64('2005-02-25 03:30')"
   ]
  },
  {
   "cell_type": "code",
   "execution_count": 104,
   "metadata": {
    "ExecuteTime": {
     "end_time": "2020-12-07T04:19:44.791072Z",
     "start_time": "2020-12-07T04:19:44.786727Z"
    }
   },
   "outputs": [
    {
     "data": {
      "text/plain": [
       "numpy.datetime64('2005-02-01T01:20:00.000000000')"
      ]
     },
     "execution_count": 104,
     "metadata": {},
     "output_type": "execute_result"
    }
   ],
   "source": [
    "# Changing resolution of the time display and then try yourself, 's','us','ns'\n",
    "np.datetime64('2005-02-01T01:20', 'ns')"
   ]
  },
  {
   "cell_type": "code",
   "execution_count": 105,
   "metadata": {
    "ExecuteTime": {
     "end_time": "2020-12-07T04:19:56.736883Z",
     "start_time": "2020-12-07T04:19:56.731769Z"
    }
   },
   "outputs": [
    {
     "data": {
      "text/plain": [
       "7.0"
      ]
     },
     "execution_count": 105,
     "metadata": {},
     "output_type": "execute_result"
    }
   ],
   "source": [
    "np.timedelta64(1,'W') / np.timedelta64(1,'D')"
   ]
  },
  {
   "cell_type": "code",
   "execution_count": 106,
   "metadata": {
    "ExecuteTime": {
     "end_time": "2020-12-07T04:20:14.587731Z",
     "start_time": "2020-12-07T04:20:14.582450Z"
    }
   },
   "outputs": [
    {
     "data": {
      "text/plain": [
       "array(['2020-12-07', '2020-12-08', '2020-12-09', '2020-12-10',\n",
       "       '2020-12-11', '2020-12-12', '2020-12-13', '2020-12-14',\n",
       "       '2020-12-15', '2020-12-16', '2020-12-17', '2020-12-18'],\n",
       "      dtype='datetime64[D]')"
      ]
     },
     "execution_count": 106,
     "metadata": {},
     "output_type": "execute_result"
    }
   ],
   "source": [
    "# Changing resolution of the time and then adding\n",
    "current_time = datetime.now()\n",
    "np_current_time = np.datetime64(current_time, 'D')\n",
    "np_current_time_added = np_current_time+np.arange(12)\n",
    "np_current_time_added"
   ]
  },
  {
   "cell_type": "code",
   "execution_count": 109,
   "metadata": {
    "ExecuteTime": {
     "end_time": "2020-12-07T04:23:02.420158Z",
     "start_time": "2020-12-07T04:23:02.415461Z"
    }
   },
   "outputs": [
    {
     "data": {
      "text/plain": [
       "numpy.datetime64('2020-12-11')"
      ]
     },
     "execution_count": 109,
     "metadata": {},
     "output_type": "execute_result"
    }
   ],
   "source": [
    "# Handling Buisness Days\n",
    "# The first business day on or after a date\n",
    "np.busday_offset(np_current_time, 2, roll='forward',\n",
    "                 weekmask='1111100', holidays = [np.datetime64('2020-12-07'), np.datetime64('2020-12-08')])"
   ]
  },
  {
   "cell_type": "code",
   "execution_count": 110,
   "metadata": {
    "ExecuteTime": {
     "end_time": "2020-12-07T04:23:08.161084Z",
     "start_time": "2020-12-07T04:23:08.156981Z"
    }
   },
   "outputs": [
    {
     "data": {
      "text/plain": [
       "numpy.datetime64('2020-12-04')"
      ]
     },
     "execution_count": 110,
     "metadata": {},
     "output_type": "execute_result"
    }
   ],
   "source": [
    "# The first business day strictly after a date:\n",
    "np.busday_offset(np_current_time, -1, roll='forward')"
   ]
  },
  {
   "cell_type": "markdown",
   "metadata": {
    "solution2": "shown",
    "solution2_first": true
   },
   "source": [
    "**Q)** <b>Suppose if today and tomorow were a weekday and a `holiday`, and i want the next buisness day, how will i approach that?<\\b>"
   ]
  },
  {
   "cell_type": "code",
   "execution_count": 111,
   "metadata": {
    "ExecuteTime": {
     "end_time": "2020-12-07T04:23:32.833310Z",
     "start_time": "2020-12-07T04:23:32.828499Z"
    },
    "solution2": "shown"
   },
   "outputs": [
    {
     "data": {
      "text/plain": [
       "numpy.datetime64('2020-12-09')"
      ]
     },
     "execution_count": 111,
     "metadata": {},
     "output_type": "execute_result"
    }
   ],
   "source": [
    "np.busday_offset(np_current_time, 0, roll='forward',\n",
    "                 weekmask='1111100', holidays = [np.datetime64('2020-12-07'),\n",
    "                                                 np.datetime64('2020-12-08')])"
   ]
  },
  {
   "cell_type": "markdown",
   "metadata": {},
   "source": [
    "# Random Testing Space"
   ]
  },
  {
   "cell_type": "code",
   "execution_count": null,
   "metadata": {},
   "outputs": [],
   "source": []
  },
  {
   "cell_type": "code",
   "execution_count": null,
   "metadata": {},
   "outputs": [],
   "source": []
  },
  {
   "cell_type": "code",
   "execution_count": null,
   "metadata": {},
   "outputs": [],
   "source": []
  },
  {
   "cell_type": "code",
   "execution_count": null,
   "metadata": {},
   "outputs": [],
   "source": []
  },
  {
   "cell_type": "code",
   "execution_count": null,
   "metadata": {},
   "outputs": [],
   "source": []
  },
  {
   "cell_type": "code",
   "execution_count": null,
   "metadata": {},
   "outputs": [],
   "source": []
  }
 ],
 "metadata": {
  "kernelspec": {
   "display_name": "Python 3",
   "language": "python",
   "name": "python3"
  },
  "language_info": {
   "codemirror_mode": {
    "name": "ipython",
    "version": 3
   },
   "file_extension": ".py",
   "mimetype": "text/x-python",
   "name": "python",
   "nbconvert_exporter": "python",
   "pygments_lexer": "ipython3",
   "version": "3.8.5"
  },
  "toc": {
   "base_numbering": 1,
   "nav_menu": {},
   "number_sections": true,
   "sideBar": false,
   "skip_h1_title": false,
   "title_cell": "Table of Contents",
   "title_sidebar": "Contents",
   "toc_cell": false,
   "toc_position": {
    "height": "924.7058715820312px",
    "left": "587px",
    "top": "189.47793579101562px",
    "width": "395.2940979003906px"
   },
   "toc_section_display": false,
   "toc_window_display": false
  },
  "varInspector": {
   "cols": {
    "lenName": 16,
    "lenType": 16,
    "lenVar": 40
   },
   "kernels_config": {
    "python": {
     "delete_cmd_postfix": "",
     "delete_cmd_prefix": "del ",
     "library": "var_list.py",
     "varRefreshCmd": "print(var_dic_list())"
    },
    "r": {
     "delete_cmd_postfix": ") ",
     "delete_cmd_prefix": "rm(",
     "library": "var_list.r",
     "varRefreshCmd": "cat(var_dic_list()) "
    }
   },
   "types_to_exclude": [
    "module",
    "function",
    "builtin_function_or_method",
    "instance",
    "_Feature"
   ],
   "window_display": false
  }
 },
 "nbformat": 4,
 "nbformat_minor": 4
}
