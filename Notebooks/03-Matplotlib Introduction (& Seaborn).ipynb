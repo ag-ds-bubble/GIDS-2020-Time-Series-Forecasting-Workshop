{
 "cells": [
  {
   "cell_type": "markdown",
   "metadata": {
    "heading_collapsed": true
   },
   "source": [
    "# Introduction\n",
    "`matplotlib` is a comprehensive library for creating static, animated, and interactive visualizations in Python.\n",
    "\n",
    "<img src='https://matplotlib.org/_images/sphx_glr_scatter_demo2_0011.png'>\n",
    "\n",
    "[Matplotlib Gallery](https://matplotlib.org/gallery/index.html)"
   ]
  },
  {
   "cell_type": "markdown",
   "metadata": {
    "heading_collapsed": true
   },
   "source": [
    "# Imports"
   ]
  },
  {
   "cell_type": "code",
   "execution_count": null,
   "metadata": {
    "hidden": true
   },
   "outputs": [],
   "source": [
    "# Data Wrangling\n",
    "import numpy as np\n",
    "import pandas as pd\n",
    "\n",
    "# Visulisation\n",
    "import matplotlib as mpl\n",
    "import matplotlib.pyplot as plt\n",
    "import seaborn as sns\n",
    "\n",
    "# Datetime\n",
    "from datetime import datetime\n"
   ]
  },
  {
   "cell_type": "code",
   "execution_count": null,
   "metadata": {
    "hidden": true
   },
   "outputs": [],
   "source": [
    "mpl.__version__"
   ]
  },
  {
   "cell_type": "code",
   "execution_count": null,
   "metadata": {
    "hidden": true
   },
   "outputs": [],
   "source": [
    "mpl?"
   ]
  },
  {
   "cell_type": "code",
   "execution_count": null,
   "metadata": {
    "hidden": true
   },
   "outputs": [],
   "source": [
    "mpl??"
   ]
  },
  {
   "cell_type": "markdown",
   "metadata": {
    "heading_collapsed": true
   },
   "source": [
    "# Paths & Variable Initialisations"
   ]
  },
  {
   "cell_type": "code",
   "execution_count": null,
   "metadata": {
    "hidden": true
   },
   "outputs": [],
   "source": [
    "plt.style.use('ggplot')"
   ]
  },
  {
   "cell_type": "markdown",
   "metadata": {
    "heading_collapsed": true
   },
   "source": [
    "# Basics"
   ]
  },
  {
   "cell_type": "code",
   "execution_count": null,
   "metadata": {
    "hidden": true
   },
   "outputs": [],
   "source": [
    "x = np.linspace(0, 10, 100)\n",
    "fig=plt.figure()"
   ]
  },
  {
   "cell_type": "code",
   "execution_count": null,
   "metadata": {
    "hidden": true
   },
   "outputs": [],
   "source": [
    "plt.subplots()"
   ]
  },
  {
   "cell_type": "markdown",
   "metadata": {
    "hidden": true
   },
   "source": [
    "Matplotlib is a highly object oriented, on a broad level it has two major objects :-\n",
    "\n",
    "- Figure : Think of a `figure` as a blank canvas on which you would draw.\n",
    "- Axes : Think of `axes` as the tools that you would draw with"
   ]
  },
  {
   "cell_type": "code",
   "execution_count": null,
   "metadata": {
    "hidden": true
   },
   "outputs": [],
   "source": [
    "sines = np.sin(x)\n",
    "cosines=np.cos(x)\n",
    "fig=plt.figure(figsize=(12,8), dpi=120)\n",
    "plt.plot(x, sines, '-')"
   ]
  },
  {
   "cell_type": "code",
   "execution_count": null,
   "metadata": {
    "hidden": true
   },
   "outputs": [],
   "source": [
    "plt.plot(x, cosines, '--')"
   ]
  },
  {
   "cell_type": "code",
   "execution_count": null,
   "metadata": {
    "hidden": true
   },
   "outputs": [],
   "source": [
    "fig=plt.figure()\n",
    "plt.plot(sines, cosines, '-.')"
   ]
  },
  {
   "cell_type": "markdown",
   "metadata": {
    "hidden": true
   },
   "source": [
    "<b>Saving a plot</b>"
   ]
  },
  {
   "cell_type": "code",
   "execution_count": null,
   "metadata": {
    "hidden": true
   },
   "outputs": [],
   "source": [
    "fig.savefig('sine_cosine.png')"
   ]
  },
  {
   "cell_type": "markdown",
   "metadata": {
    "hidden": true
   },
   "source": [
    "<b>Multiple Plots</b>"
   ]
  },
  {
   "cell_type": "code",
   "execution_count": null,
   "metadata": {
    "hidden": true
   },
   "outputs": [],
   "source": [
    "fig, axes = plt.subplots(2)\n",
    "axes[0].plot(x, sines)\n",
    "axes[0].set_ylabel('Sine')\n",
    "\n",
    "axes[1].plot(x, cosines)\n",
    "axes[1].set_ylabel('Cosine')\n",
    "\n",
    "fig.suptitle('Sine / Cosine')"
   ]
  },
  {
   "cell_type": "markdown",
   "metadata": {
    "heading_collapsed": true
   },
   "source": [
    "# Simple Line Plot"
   ]
  },
  {
   "cell_type": "markdown",
   "metadata": {
    "hidden": true
   },
   "source": [
    "<b>Generating Random Data</b>"
   ]
  },
  {
   "cell_type": "code",
   "execution_count": null,
   "metadata": {
    "hidden": true
   },
   "outputs": [],
   "source": [
    "def gen_data(shape=200, init_offset=10, multiplier = 1e3):\n",
    "    _data = [np.random.randn()+init_offset]\n",
    "    for _ in range(shape):\n",
    "        _data.append(np.random.randn()+_data[-1])\n",
    "    return np.array(_data)*multiplier\n"
   ]
  },
  {
   "cell_type": "markdown",
   "metadata": {
    "hidden": true
   },
   "source": [
    "<b>Creating a Time Series</b>"
   ]
  },
  {
   "cell_type": "code",
   "execution_count": null,
   "metadata": {
    "hidden": true
   },
   "outputs": [],
   "source": [
    "sdata = gen_data()\n",
    "sindex = pd.period_range(datetime.now(), freq='B', periods=sdata.shape[0])\n",
    "sts_data = pd.Series(data=sdata, index=sindex)\n",
    "sts_data.head()"
   ]
  },
  {
   "cell_type": "code",
   "execution_count": null,
   "metadata": {
    "hidden": true
   },
   "outputs": [],
   "source": [
    "_=sts_data.plot(figsize=(15,7),\n",
    "                title='Simple Line Plot ($dateteime$ index)')"
   ]
  },
  {
   "cell_type": "code",
   "execution_count": null,
   "metadata": {
    "hidden": true
   },
   "outputs": [],
   "source": [
    "sts_data.index = sts_data.index.astype('str')\n",
    "_=sts_data.plot(figsize=(15,7),\n",
    "                title='Simple Line Plot ($object$ index)')"
   ]
  },
  {
   "cell_type": "markdown",
   "metadata": {
    "hidden": true
   },
   "source": [
    "<b>Lets say the plot was describing a price of a commodiity in Indian Market, can we make this plot look a little better?</b>\n",
    "\n",
    "- Add Rupee Symbol to the yticks\n",
    "- Proper formatting of the datetime in the x-axis\n",
    "- Add a marker to the actual datapoints to highlight there presence\n",
    "- Add a legened to the plot\n",
    "- Add title to the plot"
   ]
  },
  {
   "cell_type": "code",
   "execution_count": null,
   "metadata": {
    "hidden": true
   },
   "outputs": [],
   "source": [
    "sts_data.index = pd.to_datetime(sts_data.index)\n",
    "sts_data.index.freq = pd.infer_freq(sts_data.index)\n",
    "sts_data.name = 'Gold Prices'\n",
    "sts_data.index"
   ]
  },
  {
   "cell_type": "markdown",
   "metadata": {
    "hidden": true
   },
   "source": [
    "<b>Difference between plotting with `pandas` and `matplotlib`</b>"
   ]
  },
  {
   "cell_type": "code",
   "execution_count": null,
   "metadata": {
    "hidden": true
   },
   "outputs": [],
   "source": [
    "fig, axes =plt.subplots(figsize=(15,7))\n",
    "\n",
    " # Similar method - FuncFormatter\n",
    "fmt = '₹{x:,.0f}'\n",
    "axes.yaxis.set_major_formatter(mpl.ticker.StrMethodFormatter(fmt))\n",
    "\n",
    "# Plot\n",
    "_=axes.plot(sts_data, linestyle='-.', # Change linestyle\n",
    "            label=sts_data.name, # Add label\n",
    "            marker='o', markersize=4, # Add marker size\n",
    "            )\n",
    "_=axes.legend() # Add Legend\n"
   ]
  },
  {
   "cell_type": "code",
   "execution_count": null,
   "metadata": {
    "hidden": true
   },
   "outputs": [],
   "source": [
    "_=sts_data.plot(figsize=(15,7), legend=True, \n",
    "                linestyle='-.',\n",
    "                marker='o', markersize=4, # Add marker size\n",
    "                )\n",
    "_=plt.title('Gold Price Fluctuation', fontsize=20)\n",
    "# y-tick format\n",
    "plt.gca().yaxis.set_major_formatter(mpl.ticker.StrMethodFormatter(fmt))\n"
   ]
  },
  {
   "cell_type": "markdown",
   "metadata": {
    "hidden": true
   },
   "source": [
    "<b>Plotting Multiple Line Plots</b>"
   ]
  },
  {
   "cell_type": "code",
   "execution_count": null,
   "metadata": {
    "hidden": true
   },
   "outputs": [],
   "source": [
    "sdata1 = gen_data()\n",
    "sdata2 = gen_data()\n",
    "sindex = pd.period_range(datetime.now(), freq='B', periods=sdata.shape[0])\n",
    "stdf_data = pd.DataFrame(data=np.c_[sdata, sdata2], # What have i done just here??\n",
    "                         columns= ['Gold Prices', 'Silver Prices'],\n",
    "                         index=sindex)\n",
    "stdf_data.head()"
   ]
  },
  {
   "cell_type": "code",
   "execution_count": null,
   "metadata": {
    "hidden": true
   },
   "outputs": [],
   "source": [
    "# y-tick format\n",
    "_=stdf_data.plot(figsize=(15,7), legend=True, \n",
    "                 linestyle='-.', color=['r','g'],\n",
    "                 marker='o', markersize=4, # Add marker size\n",
    "                 )\n",
    "\n",
    "_=plt.title('Gold & Silver Price Fluctuation', fontsize=20)\n",
    "plt.gca().yaxis.set_major_formatter(mpl.ticker.StrMethodFormatter(fmt))\n"
   ]
  },
  {
   "cell_type": "markdown",
   "metadata": {
    "hidden": true
   },
   "source": [
    "<b>Multi-line plots on dual axis</b>"
   ]
  },
  {
   "cell_type": "code",
   "execution_count": null,
   "metadata": {
    "hidden": true
   },
   "outputs": [],
   "source": [
    "fig, axes =plt.subplots(figsize=(15,7))\n",
    "\n",
    "# y-tick format\n",
    "fmt = '₹{x:,.0f}'\n",
    "axes.yaxis.set_major_formatter(mpl.ticker.StrMethodFormatter(fmt))\n",
    "\n",
    "# Plot\n",
    "data1 = stdf_data.iloc[:,0].copy()\n",
    "_=axes.plot(data1, linestyle='-.', # Change linestyle\n",
    "            label=data1.name, # Add label\n",
    "            marker='o', markersize=4, # Add marker size\n",
    "            )\n",
    "_=axes.legend() # Add Legend\n",
    "\n",
    "# Spawn a new axes which shared the x-axis\n",
    "data2 = stdf_data.iloc[:,1].copy()\n",
    "axes_dual = axes.twinx()\n",
    "_=axes_dual.plot(data2, linestyle='-.', # Change linestyle\n",
    "            label=data2.name, # Add label\n",
    "            marker='o', markersize=4, # Add marker size\n",
    "            )\n",
    "_=axes_dual.legend() # Add Legend\n",
    "\n",
    "\n",
    "\n",
    "plt.gca().yaxis.set_major_formatter(mpl.ticker.StrMethodFormatter(fmt))\n",
    "\n"
   ]
  },
  {
   "cell_type": "markdown",
   "metadata": {
    "hidden": true
   },
   "source": [
    "Throws an Error! Why? Because `PeriodIndex` is not an object type understood by matplotlib"
   ]
  },
  {
   "cell_type": "code",
   "execution_count": null,
   "metadata": {
    "hidden": true
   },
   "outputs": [],
   "source": [
    "fig, axes =plt.subplots(figsize=(15,7))\n",
    "\n",
    "# y-tick format\n",
    "fmt = '₹{x:,.0f}'\n",
    "axes.yaxis.set_major_formatter(mpl.ticker.StrMethodFormatter(fmt))\n",
    "\n",
    "# Plot\n",
    "data1 = stdf_data.iloc[:,0].copy()\n",
    "data1.index = data1.index.to_timestamp()\n",
    "_=axes.plot(data1, linestyle='-.', # Change linestyle\n",
    "            label=data1.name, # Add label\n",
    "            marker='o', markersize=4, # Add marker size\n",
    "            )\n",
    "_=axes.legend() # Add Legend\n",
    "\n",
    "# Spawn a new axes which shared the x-axis\n",
    "data2 = stdf_data.iloc[:,1].copy()\n",
    "data2.index = data2.index.to_timestamp()\n",
    "axes_dual = axes.twinx()\n",
    "_=axes_dual.plot(data2, linestyle='-.', # Change linestyle\n",
    "            label=data2.name, # Add label\n",
    "            marker='o', markersize=4, # Add marker size\n",
    "            )\n",
    "_=axes_dual.legend() # Add Legend\n",
    "\n",
    "\n",
    "_=fig.suptitle('Gold & Silver Price Fluctuation (Independent y-axis)', fontsize=20) # Why not title?\n",
    "\n",
    "plt.gca().yaxis.set_major_formatter(mpl.ticker.StrMethodFormatter(fmt))\n",
    "\n",
    "\n"
   ]
  },
  {
   "cell_type": "markdown",
   "metadata": {
    "hidden": true
   },
   "source": [
    "See what happens when you give `_=axes.set_title('Axes Title', fontsize=20)` command just after `_=fig.suptitle('Go....`"
   ]
  },
  {
   "cell_type": "markdown",
   "metadata": {
    "heading_collapsed": true
   },
   "source": [
    "# Simple Scatter Plots"
   ]
  },
  {
   "cell_type": "code",
   "execution_count": null,
   "metadata": {
    "hidden": true
   },
   "outputs": [],
   "source": [
    "from sklearn.datasets import load_iris\n",
    "iris = load_iris()\n",
    "irisDF = pd.DataFrame(iris.data , columns=iris.feature_names)\n",
    "irisDF['target'] = iris.target\n",
    "irisDF.head()"
   ]
  },
  {
   "cell_type": "code",
   "execution_count": null,
   "metadata": {
    "hidden": true
   },
   "outputs": [],
   "source": [
    "targetcol_mapping = {k:v for k,v in enumerate(iris.target_names)}\n",
    "targetcol_mapping"
   ]
  },
  {
   "cell_type": "code",
   "execution_count": null,
   "metadata": {
    "hidden": true
   },
   "outputs": [],
   "source": [
    "irisDF.target.map(targetcol_mapping)"
   ]
  },
  {
   "cell_type": "code",
   "execution_count": null,
   "metadata": {
    "hidden": true
   },
   "outputs": [],
   "source": [
    "irisDF.target = irisDF.target.map(targetcol_mapping)\n",
    "irisDF.head()"
   ]
  },
  {
   "cell_type": "code",
   "execution_count": null,
   "metadata": {
    "hidden": true
   },
   "outputs": [],
   "source": [
    "fig, axes =plt.subplots(figsize=(15,7))\n",
    "axes.scatter(irisDF.iloc[:,0], irisDF.iloc[:,1],\n",
    "             alpha=0.8, s=100*irisDF.iloc[:,3], c=iris.target,\n",
    "             cmap='viridis', edgecolors='k')\n",
    "\n",
    "axes.set_title(f'Scatter Plot of {irisDF.columns[0].capitalize()} & {irisDF.columns[1].capitalize()}')\n",
    "axes.set_xlabel(irisDF.columns[0].capitalize())\n",
    "axes.set_ylabel(irisDF.columns[1].capitalize())\n",
    "axes.legend() # No easy way to do that... not in matplotlin -> Here comes seaborn"
   ]
  },
  {
   "cell_type": "code",
   "execution_count": null,
   "metadata": {
    "hidden": true,
    "scrolled": false
   },
   "outputs": [],
   "source": [
    "fig=plt.figure(figsize=(15,7))\n",
    "_=sns.scatterplot(x = 'sepal length (cm)', y = 'sepal width (cm)', data = irisDF,\n",
    "                  size = 'petal width (cm)', hue='target', edgecolor='k')\n",
    "_=plt.title(f'Scatter Plot of {irisDF.columns[0].capitalize()} & {irisDF.columns[1].capitalize()}')\n",
    "\n"
   ]
  },
  {
   "cell_type": "markdown",
   "metadata": {
    "heading_collapsed": true
   },
   "source": [
    "# Distribution Plot "
   ]
  },
  {
   "cell_type": "code",
   "execution_count": null,
   "metadata": {
    "hidden": true
   },
   "outputs": [],
   "source": [
    "from warnings import filterwarnings\n",
    "filterwarnings('ignore')\n",
    "_=sns.distplot(irisDF.iloc[:,1])"
   ]
  },
  {
   "cell_type": "code",
   "execution_count": null,
   "metadata": {
    "hidden": true
   },
   "outputs": [],
   "source": [
    "sns.displot(irisDF.iloc[:,1], rug=True)\n",
    "plt.hlines(irisDF.iloc[:,1].mean(), irisDF.iloc[:,1].min(), irisDF.iloc[:,1].max(),\n",
    "           color='k', linestyles='-.')"
   ]
  },
  {
   "cell_type": "markdown",
   "metadata": {
    "heading_collapsed": true
   },
   "source": [
    "# Joint Plot"
   ]
  },
  {
   "cell_type": "code",
   "execution_count": null,
   "metadata": {
    "hidden": true
   },
   "outputs": [],
   "source": [
    "plt.hexbin(x=irisDF.iloc[:,0], y=irisDF.iloc[:,1], gridsize=30, cmap='Blues')\n",
    "cb = plt.colorbar(label='count in bin')"
   ]
  },
  {
   "cell_type": "code",
   "execution_count": null,
   "metadata": {
    "hidden": true
   },
   "outputs": [],
   "source": [
    "sns.jointplot(x=iris.feature_names[0], y=iris.feature_names[1],\n",
    "              data=irisDF, kind='scatter')"
   ]
  },
  {
   "cell_type": "markdown",
   "metadata": {},
   "source": [
    "# Random Testing Space"
   ]
  },
  {
   "cell_type": "code",
   "execution_count": null,
   "metadata": {},
   "outputs": [],
   "source": []
  },
  {
   "cell_type": "code",
   "execution_count": null,
   "metadata": {},
   "outputs": [],
   "source": []
  }
 ],
 "metadata": {
  "kernelspec": {
   "display_name": "Python 3",
   "language": "python",
   "name": "python3"
  },
  "language_info": {
   "codemirror_mode": {
    "name": "ipython",
    "version": 3
   },
   "file_extension": ".py",
   "mimetype": "text/x-python",
   "name": "python",
   "nbconvert_exporter": "python",
   "pygments_lexer": "ipython3",
   "version": "3.8.5"
  },
  "toc": {
   "base_numbering": 1,
   "nav_menu": {},
   "number_sections": true,
   "sideBar": true,
   "skip_h1_title": false,
   "title_cell": "Table of Contents",
   "title_sidebar": "Contents",
   "toc_cell": false,
   "toc_position": {},
   "toc_section_display": true,
   "toc_window_display": false
  },
  "varInspector": {
   "cols": {
    "lenName": 16,
    "lenType": 16,
    "lenVar": 40
   },
   "kernels_config": {
    "python": {
     "delete_cmd_postfix": "",
     "delete_cmd_prefix": "del ",
     "library": "var_list.py",
     "varRefreshCmd": "print(var_dic_list())"
    },
    "r": {
     "delete_cmd_postfix": ") ",
     "delete_cmd_prefix": "rm(",
     "library": "var_list.r",
     "varRefreshCmd": "cat(var_dic_list()) "
    }
   },
   "types_to_exclude": [
    "module",
    "function",
    "builtin_function_or_method",
    "instance",
    "_Feature"
   ],
   "window_display": false
  }
 },
 "nbformat": 4,
 "nbformat_minor": 4
}
