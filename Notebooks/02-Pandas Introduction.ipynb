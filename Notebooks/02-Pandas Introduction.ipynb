{
 "cells": [
  {
   "cell_type": "markdown",
   "metadata": {},
   "source": [
    "# Introduction\n",
    "<b>pandas</b> is a fast, powerful, flexible and easy to use open source data analysis and manipulation tool,\n",
    "built on top of the Python programming language.\n",
    "<br>\n",
    "<br>\n",
    "<br>\n",
    "<b>Interesting Read</b> : [mlcourse.ai : EDA with Pandas](https://mlcourse.ai/articles/topic1-exploratory-data-analysis-with-pandas/)\n",
    "\n",
    "<img src='https://habrastorage.org/webt/ia/m9/zk/iam9zkyzqebnf_okxipihkgjwnw.jpeg' width='300' align='left'>\n",
    "<br>\n",
    "<br>\n",
    "<br>\n",
    "<br>\n",
    "<br>\n",
    "<b>Much of this Notebook has been adopted from `pandas` docs</b>"
   ]
  },
  {
   "cell_type": "markdown",
   "metadata": {},
   "source": [
    "# Imports"
   ]
  },
  {
   "cell_type": "code",
   "execution_count": null,
   "metadata": {
    "ExecuteTime": {
     "end_time": "2020-12-06T11:29:38.904924Z",
     "start_time": "2020-12-06T11:29:38.720973Z"
    }
   },
   "outputs": [],
   "source": [
    "import pandas as pd\n",
    "from datetime import datetime\n",
    "from pytz import all_timezones"
   ]
  },
  {
   "cell_type": "code",
   "execution_count": null,
   "metadata": {
    "ExecuteTime": {
     "end_time": "2020-12-06T11:29:38.967769Z",
     "start_time": "2020-12-06T11:29:38.957571Z"
    }
   },
   "outputs": [],
   "source": [
    "pd.__version__"
   ]
  },
  {
   "cell_type": "code",
   "execution_count": null,
   "metadata": {
    "ExecuteTime": {
     "end_time": "2020-12-06T11:29:39.052788Z",
     "start_time": "2020-12-06T11:29:39.050011Z"
    }
   },
   "outputs": [],
   "source": [
    "?pd"
   ]
  },
  {
   "cell_type": "markdown",
   "metadata": {},
   "source": [
    "# Load and Explore the Dataset"
   ]
  },
  {
   "cell_type": "code",
   "execution_count": null,
   "metadata": {
    "ExecuteTime": {
     "end_time": "2020-12-06T11:29:39.718227Z",
     "start_time": "2020-12-06T11:29:39.714362Z"
    }
   },
   "outputs": [],
   "source": [
    "root_path = '../'\n",
    "raw_datapath = root_path+'Raw Data/'\n",
    "prepared_datapath = root_path+'Prepared Data/'\n",
    "\n",
    "britannia_datapath = raw_datapath+'BRITANNIA.NS.csv'\n",
    "mpc61_datapath = raw_datapath+'MPC61.txt'"
   ]
  },
  {
   "cell_type": "markdown",
   "metadata": {},
   "source": [
    "# Pandas DataStructures\n",
    "\n",
    "`pandas` creates and stores data in rectangular format. \n",
    "\n",
    "On a broad stroke there are majorly two forms of a datatype in `pandas` :-\n",
    "- [Series](https://pandas.pydata.org/docs/user_guide/dsintro.html#series) : \"Series is a one-dimensional labeled array capable of holding any data type (integers, strings, floating point numbers, Python objects, etc.).\"\n",
    "- [Dataframe](https://pandas.pydata.org/docs/user_guide/dsintro.html#dataframe) : \"DataFrame is a 2-dimensional labeled data structure with columns of potentially different types. You can think of it like a spreadsheet or SQL table, or a dict of Series objects.\""
   ]
  },
  {
   "cell_type": "markdown",
   "metadata": {},
   "source": [
    "## Series"
   ]
  },
  {
   "cell_type": "markdown",
   "metadata": {},
   "source": [
    "<b>Series - Generating One</b>"
   ]
  },
  {
   "cell_type": "code",
   "execution_count": null,
   "metadata": {
    "ExecuteTime": {
     "end_time": "2020-12-06T11:29:42.805166Z",
     "start_time": "2020-12-06T11:29:42.797327Z"
    }
   },
   "outputs": [],
   "source": [
    "data_size=20\n",
    "sdata=np.random.normal(20, scale=5.0, size=(data_size,))\n",
    "sindex=np.arange(20)\n",
    "pd_series = pd.Series(sdata, \n",
    "                      index=sindex)\n",
    "pd_series"
   ]
  },
  {
   "cell_type": "markdown",
   "metadata": {},
   "source": [
    "<b>Series - Indicing</b>"
   ]
  },
  {
   "cell_type": "code",
   "execution_count": null,
   "metadata": {
    "ExecuteTime": {
     "end_time": "2020-12-06T11:29:43.079032Z",
     "start_time": "2020-12-06T11:29:43.073268Z"
    }
   },
   "outputs": [],
   "source": [
    "pd_series.iloc[-1]"
   ]
  },
  {
   "cell_type": "markdown",
   "metadata": {
    "solution2": "hidden",
    "solution2_first": true
   },
   "source": [
    "**Q)** Get all the values in the series after indices 15, how?"
   ]
  },
  {
   "cell_type": "code",
   "execution_count": null,
   "metadata": {
    "ExecuteTime": {
     "end_time": "2020-12-06T11:29:43.537498Z",
     "start_time": "2020-12-06T11:29:43.534170Z"
    },
    "solution2": "hidden"
   },
   "outputs": [],
   "source": [
    "pd_series.loc[15]"
   ]
  },
  {
   "cell_type": "code",
   "execution_count": null,
   "metadata": {
    "ExecuteTime": {
     "end_time": "2020-12-06T11:29:43.732574Z",
     "start_time": "2020-12-06T11:29:43.729925Z"
    }
   },
   "outputs": [],
   "source": [
    "#----------YOUR SOLUTION-----------#\n",
    "#....\n"
   ]
  },
  {
   "cell_type": "markdown",
   "metadata": {},
   "source": [
    "<b>Series - Query</b>"
   ]
  },
  {
   "cell_type": "code",
   "execution_count": null,
   "metadata": {
    "ExecuteTime": {
     "end_time": "2020-12-06T11:29:44.073502Z",
     "start_time": "2020-12-06T11:29:44.065064Z"
    }
   },
   "outputs": [],
   "source": [
    "pd_series[pd_series>20]"
   ]
  },
  {
   "cell_type": "markdown",
   "metadata": {},
   "source": [
    "<b>Series - Stats</b>"
   ]
  },
  {
   "cell_type": "code",
   "execution_count": null,
   "metadata": {
    "ExecuteTime": {
     "end_time": "2020-12-06T11:29:44.428796Z",
     "start_time": "2020-12-06T11:29:44.419283Z"
    }
   },
   "outputs": [],
   "source": [
    "pd_series.describe()"
   ]
  },
  {
   "cell_type": "markdown",
   "metadata": {},
   "source": [
    "<b>Series - To a Dictionary</b>"
   ]
  },
  {
   "cell_type": "code",
   "execution_count": null,
   "metadata": {
    "ExecuteTime": {
     "end_time": "2020-12-06T11:29:44.787902Z",
     "start_time": "2020-12-06T11:29:44.782299Z"
    }
   },
   "outputs": [],
   "source": [
    "pd_series.to_dict()"
   ]
  },
  {
   "cell_type": "markdown",
   "metadata": {},
   "source": [
    "<b>Series - Numpy Like Vectorized Operations</b>"
   ]
  },
  {
   "cell_type": "code",
   "execution_count": null,
   "metadata": {
    "ExecuteTime": {
     "end_time": "2020-12-06T11:29:45.270288Z",
     "start_time": "2020-12-06T11:29:45.265884Z"
    }
   },
   "outputs": [],
   "source": [
    "pd_series*pd_series"
   ]
  },
  {
   "cell_type": "markdown",
   "metadata": {},
   "source": [
    "<b>Series - Giving it a name</b>"
   ]
  },
  {
   "cell_type": "code",
   "execution_count": null,
   "metadata": {
    "ExecuteTime": {
     "end_time": "2020-12-06T11:29:45.605711Z",
     "start_time": "2020-12-06T11:29:45.600080Z"
    }
   },
   "outputs": [],
   "source": [
    "pd_series.name = 'Random Normal Series'\n",
    "pd_series"
   ]
  },
  {
   "cell_type": "markdown",
   "metadata": {},
   "source": [
    "<b>Series - To a DataFrame</b>"
   ]
  },
  {
   "cell_type": "code",
   "execution_count": null,
   "metadata": {
    "ExecuteTime": {
     "end_time": "2020-12-06T11:29:45.920330Z",
     "start_time": "2020-12-06T11:29:45.910598Z"
    },
    "scrolled": false
   },
   "outputs": [],
   "source": [
    "pd_series.to_frame()"
   ]
  },
  {
   "cell_type": "markdown",
   "metadata": {},
   "source": [
    "## DataFrame"
   ]
  },
  {
   "cell_type": "code",
   "execution_count": null,
   "metadata": {
    "ExecuteTime": {
     "end_time": "2020-12-06T11:29:46.285680Z",
     "start_time": "2020-12-06T11:29:46.273450Z"
    }
   },
   "outputs": [],
   "source": [
    "# What will happen to the name that we gave to the series above?\n",
    "dfdata_dict = {'one':pd_series,\n",
    "               'two':pd_series*2}\n",
    "datadf = pd.DataFrame(dfdata_dict)\n",
    "datadf.head()"
   ]
  },
  {
   "cell_type": "markdown",
   "metadata": {},
   "source": [
    "<b>DataFrame - Creating One</b>\n",
    "\n",
    "DataFrame can be creating by feeding any of the following:\n",
    "\n",
    "- Dict of 1D ndarrays, lists, dicts, or Series\n",
    "- 2-D numpy.ndarray\n",
    "- Structured or record ndarray\n",
    "- A Series\n",
    "- Another DataFrame"
   ]
  },
  {
   "cell_type": "code",
   "execution_count": null,
   "metadata": {
    "ExecuteTime": {
     "end_time": "2020-12-06T11:29:46.588022Z",
     "start_time": "2020-12-06T11:29:46.585143Z"
    }
   },
   "outputs": [],
   "source": [
    "countrytemp_data = {'Country':['Brazil', 'India', 'India', 'Germany', 'China', 'Zambia'],\n",
    "                    'City':['Brasília', 'New Delhi', 'Kashmir', 'Berlin', 'Beijing', 'Lusaka'],\n",
    "                    'AverageTemperature':[30.1, 34.3, 22.4, 19.9, 26.2, 30.3],\n",
    "                    'Humidity':[0.65, 0.67, 0.49, 0.44, 0.45, 0.76]}"
   ]
  },
  {
   "cell_type": "code",
   "execution_count": null,
   "metadata": {
    "ExecuteTime": {
     "end_time": "2020-12-06T11:29:46.774004Z",
     "start_time": "2020-12-06T11:29:46.762337Z"
    }
   },
   "outputs": [],
   "source": [
    "temperatureDf = pd.DataFrame(countrytemp_data,\n",
    "                             index=['a', 'b', 'c', 'd', 'e', 'f'])\n",
    "temperatureDf"
   ]
  },
  {
   "cell_type": "markdown",
   "metadata": {},
   "source": [
    "<b>DataFrame - Indicing</b>"
   ]
  },
  {
   "cell_type": "code",
   "execution_count": null,
   "metadata": {
    "ExecuteTime": {
     "end_time": "2020-12-06T11:29:47.084133Z",
     "start_time": "2020-12-06T11:29:47.080904Z"
    }
   },
   "outputs": [],
   "source": [
    "temperatureDf.index"
   ]
  },
  {
   "cell_type": "code",
   "execution_count": null,
   "metadata": {
    "ExecuteTime": {
     "end_time": "2020-12-06T11:29:47.250771Z",
     "start_time": "2020-12-06T11:29:47.243040Z"
    }
   },
   "outputs": [],
   "source": [
    "temperatureDf[temperatureDf.index>'b']"
   ]
  },
  {
   "cell_type": "code",
   "execution_count": null,
   "metadata": {
    "ExecuteTime": {
     "end_time": "2020-12-06T11:29:47.521117Z",
     "start_time": "2020-12-06T11:29:47.514306Z"
    }
   },
   "outputs": [],
   "source": [
    "temperatureDf.iloc[2:4,:]"
   ]
  },
  {
   "cell_type": "code",
   "execution_count": null,
   "metadata": {
    "ExecuteTime": {
     "end_time": "2020-12-06T11:29:47.780551Z",
     "start_time": "2020-12-06T11:29:47.772674Z"
    }
   },
   "outputs": [],
   "source": [
    "temperatureDf.iloc[:,1:3]"
   ]
  },
  {
   "cell_type": "code",
   "execution_count": null,
   "metadata": {
    "ExecuteTime": {
     "end_time": "2020-12-06T11:29:48.050828Z",
     "start_time": "2020-12-06T11:29:48.041870Z"
    }
   },
   "outputs": [],
   "source": [
    "temperatureDf['b':'d']"
   ]
  },
  {
   "cell_type": "markdown",
   "metadata": {
    "solution2": "hidden",
    "solution2_first": true
   },
   "source": [
    "**Q)** I want the indices from 'b' to 'd', and first two columns 'Country' & 'City'"
   ]
  },
  {
   "cell_type": "code",
   "execution_count": null,
   "metadata": {
    "ExecuteTime": {
     "end_time": "2020-12-06T11:29:48.497517Z",
     "start_time": "2020-12-06T11:29:48.491101Z"
    },
    "solution2": "hidden"
   },
   "outputs": [],
   "source": [
    "temperatureDf.loc['b':'d'].iloc[:,:2]"
   ]
  },
  {
   "cell_type": "code",
   "execution_count": null,
   "metadata": {
    "ExecuteTime": {
     "end_time": "2020-12-06T11:29:48.501130Z",
     "start_time": "2020-12-06T11:29:48.499139Z"
    }
   },
   "outputs": [],
   "source": [
    "#----------YOUR SOLUTION-----------#\n",
    "#....\n",
    "\n"
   ]
  },
  {
   "cell_type": "markdown",
   "metadata": {},
   "source": [
    "<b>DataFrame - Stats</b>"
   ]
  },
  {
   "cell_type": "code",
   "execution_count": null,
   "metadata": {
    "ExecuteTime": {
     "end_time": "2020-12-06T11:29:48.754333Z",
     "start_time": "2020-12-06T11:29:48.741616Z"
    }
   },
   "outputs": [],
   "source": [
    "temperatureDf.describe()"
   ]
  },
  {
   "cell_type": "code",
   "execution_count": null,
   "metadata": {
    "ExecuteTime": {
     "end_time": "2020-12-06T11:29:49.062073Z",
     "start_time": "2020-12-06T11:29:49.058600Z"
    }
   },
   "outputs": [],
   "source": [
    "temperatureDf.AverageTemperature.mean()"
   ]
  },
  {
   "cell_type": "code",
   "execution_count": null,
   "metadata": {
    "ExecuteTime": {
     "end_time": "2020-12-06T11:29:49.132585Z",
     "start_time": "2020-12-06T11:29:49.128625Z"
    }
   },
   "outputs": [],
   "source": [
    "temperatureDf.Humidity.min(), temperatureDf.Humidity.max()"
   ]
  },
  {
   "cell_type": "markdown",
   "metadata": {},
   "source": [
    "<b>DataFrame - Plot</b>"
   ]
  },
  {
   "cell_type": "code",
   "execution_count": null,
   "metadata": {
    "ExecuteTime": {
     "end_time": "2020-12-06T11:29:49.831115Z",
     "start_time": "2020-12-06T11:29:49.822710Z"
    }
   },
   "outputs": [],
   "source": [
    "temperatureDf"
   ]
  },
  {
   "cell_type": "code",
   "execution_count": null,
   "metadata": {
    "ExecuteTime": {
     "end_time": "2020-12-06T11:29:50.491626Z",
     "start_time": "2020-12-06T11:29:50.101360Z"
    }
   },
   "outputs": [],
   "source": [
    "temperatureDf.plot()"
   ]
  },
  {
   "cell_type": "code",
   "execution_count": null,
   "metadata": {
    "ExecuteTime": {
     "end_time": "2020-12-06T11:29:50.852943Z",
     "start_time": "2020-12-06T11:29:50.625431Z"
    }
   },
   "outputs": [],
   "source": [
    "temperatureDf.set_index('City').plot(subplots=True)"
   ]
  },
  {
   "cell_type": "markdown",
   "metadata": {},
   "source": [
    "<b>DataFrame - Groupby Operations</b>"
   ]
  },
  {
   "cell_type": "code",
   "execution_count": null,
   "metadata": {
    "ExecuteTime": {
     "end_time": "2020-12-06T11:29:50.925282Z",
     "start_time": "2020-12-06T11:29:50.917907Z"
    }
   },
   "outputs": [],
   "source": [
    "temperatureDf"
   ]
  },
  {
   "cell_type": "code",
   "execution_count": null,
   "metadata": {
    "ExecuteTime": {
     "end_time": "2020-12-06T11:29:50.996491Z",
     "start_time": "2020-12-06T11:29:50.991738Z"
    }
   },
   "outputs": [],
   "source": [
    "temperatureDf.groupby(['Country']).size()"
   ]
  },
  {
   "cell_type": "code",
   "execution_count": null,
   "metadata": {
    "ExecuteTime": {
     "end_time": "2020-12-06T11:29:51.059897Z",
     "start_time": "2020-12-06T11:29:51.054771Z"
    }
   },
   "outputs": [],
   "source": [
    "# The result of groupby operation is usually in Multiindex Series Format\n",
    "temperatureDf.groupby(['Country']).AverageTemperature.mean()"
   ]
  },
  {
   "cell_type": "code",
   "execution_count": null,
   "metadata": {
    "ExecuteTime": {
     "end_time": "2020-12-06T11:29:51.143552Z",
     "start_time": "2020-12-06T11:29:51.129916Z"
    }
   },
   "outputs": [],
   "source": [
    "for egidx, eg in temperatureDf.groupby(['Country']):\n",
    "    print(egidx)\n",
    "    print(eg)\n",
    "    print()"
   ]
  },
  {
   "cell_type": "code",
   "execution_count": null,
   "metadata": {
    "ExecuteTime": {
     "end_time": "2020-12-06T11:29:51.291823Z",
     "start_time": "2020-12-06T11:29:51.285996Z"
    },
    "code_folding": []
   },
   "outputs": [],
   "source": [
    "# Why did it only show one Value?\n",
    "temperatureDf.groupby(['Country']).AverageTemperature.nth(0)\n",
    "# temperatureDf.groupby(['Country']).AverageTemperature.nth(1)\n",
    "# temperatureDf.groupby(['Country']).AverageTemperature.nth(-1)"
   ]
  },
  {
   "cell_type": "markdown",
   "metadata": {},
   "source": [
    "## Reading a file to Pandas DataFrame"
   ]
  },
  {
   "cell_type": "markdown",
   "metadata": {},
   "source": [
    "<b>Reading a .csv file</b>"
   ]
  },
  {
   "cell_type": "code",
   "execution_count": null,
   "metadata": {
    "ExecuteTime": {
     "end_time": "2020-12-06T11:29:51.681346Z",
     "start_time": "2020-12-06T11:29:51.654567Z"
    }
   },
   "outputs": [],
   "source": [
    "britannia_data = pd.read_csv(britannia_datapath, index_col=0, parse_dates=True)\n",
    "britannia_data.head()"
   ]
  },
  {
   "cell_type": "code",
   "execution_count": null,
   "metadata": {
    "ExecuteTime": {
     "end_time": "2020-12-06T11:29:51.955925Z",
     "start_time": "2020-12-06T11:29:51.951493Z"
    }
   },
   "outputs": [],
   "source": [
    "britannia_data.dtypes"
   ]
  },
  {
   "cell_type": "code",
   "execution_count": null,
   "metadata": {
    "ExecuteTime": {
     "end_time": "2020-12-06T11:29:52.025902Z",
     "start_time": "2020-12-06T11:29:52.021956Z"
    }
   },
   "outputs": [],
   "source": [
    "britannia_data.index"
   ]
  },
  {
   "cell_type": "markdown",
   "metadata": {},
   "source": [
    "<b>Reading a .txt file</b>"
   ]
  },
  {
   "cell_type": "code",
   "execution_count": null,
   "metadata": {
    "ExecuteTime": {
     "end_time": "2020-12-06T11:29:52.360685Z",
     "start_time": "2020-12-06T11:29:52.349102Z"
    }
   },
   "outputs": [],
   "source": [
    "pd.read_fwf(mpc61_datapath)"
   ]
  },
  {
   "cell_type": "code",
   "execution_count": null,
   "metadata": {
    "ExecuteTime": {
     "end_time": "2020-12-06T11:29:52.674764Z",
     "start_time": "2020-12-06T11:29:52.669866Z"
    }
   },
   "outputs": [],
   "source": [
    "mpc61_datapath"
   ]
  },
  {
   "cell_type": "code",
   "execution_count": null,
   "metadata": {
    "ExecuteTime": {
     "end_time": "2020-12-06T11:29:53.045522Z",
     "start_time": "2020-12-06T11:29:52.894972Z"
    }
   },
   "outputs": [],
   "source": [
    "pd.read_csv(mpc61_datapath)"
   ]
  },
  {
   "cell_type": "code",
   "execution_count": null,
   "metadata": {
    "ExecuteTime": {
     "end_time": "2020-12-06T11:29:53.047780Z",
     "start_time": "2020-12-06T11:29:52.895Z"
    }
   },
   "outputs": [],
   "source": [
    "mpc61_data = pd.read_fwf(mpc61_datapath,\n",
    "                         skiprows=range(50),\n",
    "                         names=['RUN', 'WAFER', 'PROBE',\n",
    "                                'MONTH', 'DAY', 'OP',\n",
    "                                'TEMP', 'AVERAGE', 'STDDEV'])\n",
    "mpc61_data.head()"
   ]
  },
  {
   "cell_type": "markdown",
   "metadata": {},
   "source": [
    "# Pandas Datetime Operations\n",
    "\n",
    "\"Pandas builds upon `dateutil`, `datetime` & `numpy.datetime64` the tools just discussed to provide a Timestamp object, which combines the ease-of-use of datetime and dateutil with the efficient storage and vectorized interface of numpy.datetime64. From a group of these Timestamp objects, Pandas can construct a DatetimeIndex that can be used to index data in a Series or DataFrame\" - [Jake-Python Data Science Handbook](https://jakevdp.github.io/PythonDataScienceHandbook/03.11-working-with-time-series.html#Dates-and-times-in-pandas:-best-of-both-worlds)"
   ]
  },
  {
   "cell_type": "markdown",
   "metadata": {},
   "source": [
    "<b>Generating a DatetimeIndex</b>\n",
    "\n",
    "Look at the `dtype` and `freq`"
   ]
  },
  {
   "cell_type": "code",
   "execution_count": null,
   "metadata": {
    "ExecuteTime": {
     "end_time": "2020-12-06T11:29:53.385455Z",
     "start_time": "2020-12-06T11:29:53.378135Z"
    }
   },
   "outputs": [],
   "source": [
    "current_date = pd.to_datetime(datetime.now().strftime('%Y-%m-%d'))\n",
    "roll_dates = current_date+pd.to_timedelta(range(10), 'D')\n",
    "current_date, type(current_date), roll_dates"
   ]
  },
  {
   "cell_type": "markdown",
   "metadata": {},
   "source": [
    "<b>How can we set the frequency? And is it possible to infer the frequency intrinsically?</b>"
   ]
  },
  {
   "cell_type": "code",
   "execution_count": null,
   "metadata": {
    "ExecuteTime": {
     "end_time": "2020-12-06T11:29:54.556601Z",
     "start_time": "2020-12-06T11:29:54.549626Z"
    }
   },
   "outputs": [],
   "source": [
    "pd.infer_freq(roll_dates)"
   ]
  },
  {
   "cell_type": "code",
   "execution_count": null,
   "metadata": {
    "ExecuteTime": {
     "end_time": "2020-12-06T11:29:54.758283Z",
     "start_time": "2020-12-06T11:29:54.752873Z"
    }
   },
   "outputs": [],
   "source": [
    "roll_dates.freq='D'\n",
    "roll_dates"
   ]
  },
  {
   "cell_type": "code",
   "execution_count": null,
   "metadata": {
    "ExecuteTime": {
     "end_time": "2020-12-06T11:29:54.972502Z",
     "start_time": "2020-12-06T11:29:54.957834Z"
    }
   },
   "outputs": [],
   "source": [
    "roll_dates.freq = 'M'"
   ]
  },
  {
   "cell_type": "markdown",
   "metadata": {},
   "source": [
    "<b>Lets make a Time Series with Dates as index</b>"
   ]
  },
  {
   "cell_type": "code",
   "execution_count": null,
   "metadata": {
    "ExecuteTime": {
     "end_time": "2020-12-06T11:29:55.600768Z",
     "start_time": "2020-12-06T11:29:55.595560Z"
    }
   },
   "outputs": [],
   "source": [
    "sindex = ['2020-01-01', '2020-01-15', '2020-01-31',\n",
    "          '2020-02-01', '2020-02-15', '2020-02-28',\n",
    "          '2020-03-01', '2020-03-15', '2020-03-31',\n",
    "          '2021-01-01', '2021-01-15', '2021-01-31',\n",
    "          '2021-02-01', '2021-02-15', '2021-02-29',\n",
    "          '2021-03-01', '2021-03-15', '2021-03-31']\n",
    "dt_series = pd.Series(np.arange(18), index=sindex)\n",
    "dt_series, dt_series.index"
   ]
  },
  {
   "cell_type": "markdown",
   "metadata": {},
   "source": [
    "<b>Lets try to slice the series, and retrieve data only of year `2020`</b>"
   ]
  },
  {
   "cell_type": "code",
   "execution_count": null,
   "metadata": {
    "ExecuteTime": {
     "end_time": "2020-12-06T11:29:55.987626Z",
     "start_time": "2020-12-06T11:29:55.963852Z"
    }
   },
   "outputs": [],
   "source": [
    "dt_series['2020']"
   ]
  },
  {
   "cell_type": "markdown",
   "metadata": {},
   "source": [
    "<b>But why, cant i index this series using just the year, why didnt pandas understand that?</b>"
   ]
  },
  {
   "cell_type": "code",
   "execution_count": null,
   "metadata": {
    "ExecuteTime": {
     "end_time": "2020-12-06T11:29:56.352261Z",
     "start_time": "2020-12-06T11:29:56.348161Z"
    }
   },
   "outputs": [],
   "source": [
    "dt_series.index"
   ]
  },
  {
   "cell_type": "code",
   "execution_count": null,
   "metadata": {
    "ExecuteTime": {
     "end_time": "2020-12-06T11:29:56.575504Z",
     "start_time": "2020-12-06T11:29:56.527378Z"
    }
   },
   "outputs": [],
   "source": [
    "dt_series.index = pd.to_datetime(dt_series.index)"
   ]
  },
  {
   "cell_type": "markdown",
   "metadata": {},
   "source": [
    "So basically, pandas is trying to parse the date `2021-02-29`, but while doing so, has encountered an error saying the 29th is not in the calendar"
   ]
  },
  {
   "cell_type": "code",
   "execution_count": null,
   "metadata": {
    "ExecuteTime": {
     "end_time": "2020-12-06T11:29:56.883887Z",
     "start_time": "2020-12-06T11:29:56.876600Z"
    }
   },
   "outputs": [],
   "source": [
    "sindex = ['2020-01-01', '2020-01-15', '2020-01-31',\n",
    "          '2020-02-01', '2020-02-15', '2020-02-28',\n",
    "          '2020-03-01', '2020-03-15', '2020-03-31',\n",
    "          '2021-01-01', '2021-01-15', '2021-01-31',\n",
    "          '2021-02-01', '2021-02-15', '2021-02-28', # Change the date\n",
    "          '2021-03-01', '2021-03-15', '2021-03-31']\n",
    "dt_series.index = sindex\n",
    "dt_series"
   ]
  },
  {
   "cell_type": "markdown",
   "metadata": {},
   "source": [
    "<b>Once the parsing error cause has been fixed lets try to make a `DatetimeIndex` for our series</b>"
   ]
  },
  {
   "cell_type": "code",
   "execution_count": null,
   "metadata": {
    "ExecuteTime": {
     "end_time": "2020-12-06T11:29:57.412432Z",
     "start_time": "2020-12-06T11:29:57.407969Z"
    }
   },
   "outputs": [],
   "source": [
    "dt_series.index = pd.to_datetime(dt_series.index)\n",
    "dt_series.index"
   ]
  },
  {
   "cell_type": "markdown",
   "metadata": {},
   "source": [
    "<b>Now can we filter out only `2020`</b>"
   ]
  },
  {
   "cell_type": "code",
   "execution_count": null,
   "metadata": {
    "ExecuteTime": {
     "end_time": "2020-12-06T11:29:57.793588Z",
     "start_time": "2020-12-06T11:29:57.785120Z"
    }
   },
   "outputs": [],
   "source": [
    "dt_series['2020']"
   ]
  },
  {
   "cell_type": "markdown",
   "metadata": {},
   "source": [
    "****\n",
    "<b>[Pandas has four main concepts pertaining to Time](https://pandas.pydata.org/pandas-docs/stable/user_guide/timeseries.html#overview)</b>\n",
    "\n",
    "> <b>Where methods of Pandas shine - Human Readable Times..</b>\n",
    "\n",
    "1.) Timestamp - Similar to datetime, its an instnace in Time eg pd.Timestamp(2020,12,7) == pd.Timestamp(\"7th December 2020\")\n",
    "\n",
    "2.) Timedeltas - A absolute duration of time, eg pd.Timedelta('1 day') = 24 hours\n",
    "\n",
    "3.) Timespans - A span of time, i.e Starting from 2020-12-07, every other month.\n",
    "\n",
    "4.) DateOffsets - To support caneldar arithmetic, similar to `dateutil.relativedelta.relativedelta`\n",
    "\n",
    "\n",
    "<table class=\"table\">\n",
    "<colgroup>\n",
    "<col style=\"width: 15%\">\n",
    "<col style=\"width: 12%\">\n",
    "<col style=\"width: 13%\">\n",
    "<col style=\"width: 31%\">\n",
    "<col style=\"width: 28%\">\n",
    "</colgroup>\n",
    "<thead>\n",
    "<tr class=\"row-odd\"><th class=\"head\"><p>Concept</p></th>\n",
    "<th class=\"head\"><p>Scalar Class</p></th>\n",
    "<th class=\"head\"><p>Array Class</p></th>\n",
    "<th class=\"head\"><p>pandas Data Type</p></th>\n",
    "<th class=\"head\"><p>Primary Creation Method</p></th>\n",
    "</tr>\n",
    "</thead>\n",
    "<tbody>\n",
    "<tr class=\"row-even\"><td><p>Date times</p></td>\n",
    "<td><p><code class=\"docutils literal notranslate\"><span class=\"pre\">Timestamp</span></code></p></td>\n",
    "<td><p><code class=\"docutils literal notranslate\"><span class=\"pre\">DatetimeIndex</span></code></p></td>\n",
    "<td><p><code class=\"docutils literal notranslate\"><span class=\"pre\">datetime64[ns]</span></code> or <code class=\"docutils literal notranslate\"><span class=\"pre\">datetime64[ns,</span> <span class=\"pre\">tz]</span></code></p></td>\n",
    "<td><p><code class=\"docutils literal notranslate\"><span class=\"pre\">to_datetime</span></code> or <code class=\"docutils literal notranslate\"><span class=\"pre\">date_range</span></code></p></td>\n",
    "</tr>\n",
    "<tr class=\"row-odd\"><td><p>Time deltas</p></td>\n",
    "<td><p><code class=\"docutils literal notranslate\"><span class=\"pre\">Timedelta</span></code></p></td>\n",
    "<td><p><code class=\"docutils literal notranslate\"><span class=\"pre\">TimedeltaIndex</span></code></p></td>\n",
    "<td><p><code class=\"docutils literal notranslate\"><span class=\"pre\">timedelta64[ns]</span></code></p></td>\n",
    "<td><p><code class=\"docutils literal notranslate\"><span class=\"pre\">to_timedelta</span></code> or <code class=\"docutils literal notranslate\"><span class=\"pre\">timedelta_range</span></code></p></td>\n",
    "</tr>\n",
    "<tr class=\"row-even\"><td><p>Time spans</p></td>\n",
    "<td><p><code class=\"docutils literal notranslate\"><span class=\"pre\">Period</span></code></p></td>\n",
    "<td><p><code class=\"docutils literal notranslate\"><span class=\"pre\">PeriodIndex</span></code></p></td>\n",
    "<td><p><code class=\"docutils literal notranslate\"><span class=\"pre\">period[freq]</span></code></p></td>\n",
    "<td><p><code class=\"docutils literal notranslate\"><span class=\"pre\">Period</span></code> or <code class=\"docutils literal notranslate\"><span class=\"pre\">period_range</span></code></p></td>\n",
    "</tr>\n",
    "<tr class=\"row-odd\"><td><p>Date offsets</p></td>\n",
    "<td><p><code class=\"docutils literal notranslate\"><span class=\"pre\">DateOffset</span></code></p></td>\n",
    "<td><p><code class=\"docutils literal notranslate\"><span class=\"pre\">None</span></code></p></td>\n",
    "<td><p><code class=\"docutils literal notranslate\"><span class=\"pre\">None</span></code></p></td>\n",
    "<td><p><code class=\"docutils literal notranslate\"><span class=\"pre\">DateOffset</span></code></p></td>\n",
    "</tr>\n",
    "</tbody>\n",
    "</table>"
   ]
  },
  {
   "cell_type": "markdown",
   "metadata": {},
   "source": [
    "****\n",
    "<b>Playing around with Timestamps</b>\n",
    "\n",
    "Its inferred format will always be in **YYYY-MM-DD HH:MM:SS...**\n",
    "\n",
    "<b>Attributes available to Pandas Timestamp object :</b>\n",
    "\n",
    "<table class=\"longtable table autosummary\">\n",
    "<colgroup>\n",
    "<col style=\"width: 10%\">\n",
    "<col style=\"width: 90%\">\n",
    "</colgroup>\n",
    "<tbody>\n",
    "<tr class=\"row-odd\"><td><p><a class=\"reference internal\" href=\"pandas.Timestamp.asm8.html#pandas.Timestamp.asm8\" title=\"pandas.Timestamp.asm8\"><code class=\"xref py py-obj docutils literal notranslate\"><span class=\"pre\">asm8</span></code></a></p></td>\n",
    "<td><p>Return numpy datetime64 format in nanoseconds.</p></td>\n",
    "</tr>\n",
    "<tr class=\"row-even\"><td><p><a class=\"reference internal\" href=\"pandas.Timestamp.dayofweek.html#pandas.Timestamp.dayofweek\" title=\"pandas.Timestamp.dayofweek\"><code class=\"xref py py-obj docutils literal notranslate\"><span class=\"pre\">dayofweek</span></code></a></p></td>\n",
    "<td><p>Return day of the week.</p></td>\n",
    "</tr>\n",
    "<tr class=\"row-odd\"><td><p><a class=\"reference internal\" href=\"pandas.Timestamp.dayofyear.html#pandas.Timestamp.dayofyear\" title=\"pandas.Timestamp.dayofyear\"><code class=\"xref py py-obj docutils literal notranslate\"><span class=\"pre\">dayofyear</span></code></a></p></td>\n",
    "<td><p>Return the day of the year.</p></td>\n",
    "</tr>\n",
    "<tr class=\"row-even\"><td><p><a class=\"reference internal\" href=\"pandas.Timestamp.days_in_month.html#pandas.Timestamp.days_in_month\" title=\"pandas.Timestamp.days_in_month\"><code class=\"xref py py-obj docutils literal notranslate\"><span class=\"pre\">days_in_month</span></code></a></p></td>\n",
    "<td><p>Return the number of days in the month.</p></td>\n",
    "</tr>\n",
    "<tr class=\"row-odd\"><td><p><a class=\"reference internal\" href=\"pandas.Timestamp.daysinmonth.html#pandas.Timestamp.daysinmonth\" title=\"pandas.Timestamp.daysinmonth\"><code class=\"xref py py-obj docutils literal notranslate\"><span class=\"pre\">daysinmonth</span></code></a></p></td>\n",
    "<td><p>Return the number of days in the month.</p></td>\n",
    "</tr>\n",
    "<tr class=\"row-even\"><td><p><a class=\"reference internal\" href=\"pandas.Timestamp.freqstr.html#pandas.Timestamp.freqstr\" title=\"pandas.Timestamp.freqstr\"><code class=\"xref py py-obj docutils literal notranslate\"><span class=\"pre\">freqstr</span></code></a></p></td>\n",
    "<td><p>Return the total number of days in the month.</p></td>\n",
    "</tr>\n",
    "<tr class=\"row-odd\"><td><p><a class=\"reference internal\" href=\"pandas.Timestamp.is_leap_year.html#pandas.Timestamp.is_leap_year\" title=\"pandas.Timestamp.is_leap_year\"><code class=\"xref py py-obj docutils literal notranslate\"><span class=\"pre\">is_leap_year</span></code></a></p></td>\n",
    "<td><p>Return True if year is a leap year.</p></td>\n",
    "</tr>\n",
    "<tr class=\"row-even\"><td><p><a class=\"reference internal\" href=\"pandas.Timestamp.is_month_end.html#pandas.Timestamp.is_month_end\" title=\"pandas.Timestamp.is_month_end\"><code class=\"xref py py-obj docutils literal notranslate\"><span class=\"pre\">is_month_end</span></code></a></p></td>\n",
    "<td><p>Return True if date is last day of month.</p></td>\n",
    "</tr>\n",
    "<tr class=\"row-odd\"><td><p><a class=\"reference internal\" href=\"pandas.Timestamp.is_month_start.html#pandas.Timestamp.is_month_start\" title=\"pandas.Timestamp.is_month_start\"><code class=\"xref py py-obj docutils literal notranslate\"><span class=\"pre\">is_month_start</span></code></a></p></td>\n",
    "<td><p>Return True if date is first day of month.</p></td>\n",
    "</tr>\n",
    "<tr class=\"row-even\"><td><p><a class=\"reference internal\" href=\"pandas.Timestamp.is_quarter_end.html#pandas.Timestamp.is_quarter_end\" title=\"pandas.Timestamp.is_quarter_end\"><code class=\"xref py py-obj docutils literal notranslate\"><span class=\"pre\">is_quarter_end</span></code></a></p></td>\n",
    "<td><p>Return True if date is last day of the quarter.</p></td>\n",
    "</tr>\n",
    "<tr class=\"row-odd\"><td><p><a class=\"reference internal\" href=\"pandas.Timestamp.is_quarter_start.html#pandas.Timestamp.is_quarter_start\" title=\"pandas.Timestamp.is_quarter_start\"><code class=\"xref py py-obj docutils literal notranslate\"><span class=\"pre\">is_quarter_start</span></code></a></p></td>\n",
    "<td><p>Return True if date is first day of the quarter.</p></td>\n",
    "</tr>\n",
    "<tr class=\"row-even\"><td><p><a class=\"reference internal\" href=\"pandas.Timestamp.is_year_end.html#pandas.Timestamp.is_year_end\" title=\"pandas.Timestamp.is_year_end\"><code class=\"xref py py-obj docutils literal notranslate\"><span class=\"pre\">is_year_end</span></code></a></p></td>\n",
    "<td><p>Return True if date is last day of the year.</p></td>\n",
    "</tr>\n",
    "<tr class=\"row-odd\"><td><p><a class=\"reference internal\" href=\"pandas.Timestamp.is_year_start.html#pandas.Timestamp.is_year_start\" title=\"pandas.Timestamp.is_year_start\"><code class=\"xref py py-obj docutils literal notranslate\"><span class=\"pre\">is_year_start</span></code></a></p></td>\n",
    "<td><p>Return True if date is first day of the year.</p></td>\n",
    "</tr>\n",
    "<tr class=\"row-even\"><td><p><a class=\"reference internal\" href=\"pandas.Timestamp.quarter.html#pandas.Timestamp.quarter\" title=\"pandas.Timestamp.quarter\"><code class=\"xref py py-obj docutils literal notranslate\"><span class=\"pre\">quarter</span></code></a></p></td>\n",
    "<td><p>Return the quarter of the year.</p></td>\n",
    "</tr>\n",
    "<tr class=\"row-odd\"><td><p><a class=\"reference internal\" href=\"pandas.Timestamp.tz.html#pandas.Timestamp.tz\" title=\"pandas.Timestamp.tz\"><code class=\"xref py py-obj docutils literal notranslate\"><span class=\"pre\">tz</span></code></a></p></td>\n",
    "<td><p>Alias for tzinfo.</p></td>\n",
    "</tr>\n",
    "<tr class=\"row-even\"><td><p><a class=\"reference internal\" href=\"pandas.Timestamp.week.html#pandas.Timestamp.week\" title=\"pandas.Timestamp.week\"><code class=\"xref py py-obj docutils literal notranslate\"><span class=\"pre\">week</span></code></a></p></td>\n",
    "<td><p>Return the week number of the year.</p></td>\n",
    "</tr>\n",
    "<tr class=\"row-odd\"><td><p><a class=\"reference internal\" href=\"pandas.Timestamp.weekofyear.html#pandas.Timestamp.weekofyear\" title=\"pandas.Timestamp.weekofyear\"><code class=\"xref py py-obj docutils literal notranslate\"><span class=\"pre\">weekofyear</span></code></a></p></td>\n",
    "<td><p>Return the week number of the year.</p></td>\n",
    "</tr>\n",
    "</tbody>\n",
    "</table>"
   ]
  },
  {
   "cell_type": "code",
   "execution_count": null,
   "metadata": {
    "ExecuteTime": {
     "end_time": "2020-12-06T11:29:58.475447Z",
     "start_time": "2020-12-06T11:29:58.469700Z"
    }
   },
   "outputs": [],
   "source": [
    "pd.Timestamp(datetime.now())"
   ]
  },
  {
   "cell_type": "code",
   "execution_count": null,
   "metadata": {
    "ExecuteTime": {
     "end_time": "2020-12-06T11:29:58.670104Z",
     "start_time": "2020-12-06T11:29:58.666471Z"
    }
   },
   "outputs": [],
   "source": [
    "pd.Timestamp(\"7th December 2020\")"
   ]
  },
  {
   "cell_type": "code",
   "execution_count": null,
   "metadata": {
    "ExecuteTime": {
     "end_time": "2020-12-06T11:29:59.307387Z",
     "start_time": "2020-12-06T11:29:59.303352Z"
    }
   },
   "outputs": [],
   "source": [
    "pd.Timestamp(\"December 7 2020\")"
   ]
  },
  {
   "cell_type": "code",
   "execution_count": null,
   "metadata": {
    "ExecuteTime": {
     "end_time": "2020-12-06T11:29:59.532868Z",
     "start_time": "2020-12-06T11:29:59.529468Z"
    }
   },
   "outputs": [],
   "source": [
    "pd.Timestamp(\"7th of December 2020 9:20:23.123123\")"
   ]
  },
  {
   "cell_type": "code",
   "execution_count": null,
   "metadata": {
    "ExecuteTime": {
     "end_time": "2020-12-06T11:29:59.784983Z",
     "start_time": "2020-12-06T11:29:59.781334Z"
    }
   },
   "outputs": [],
   "source": [
    "pd.Timestamp(\"7th Dec 2020 7 PM\")"
   ]
  },
  {
   "cell_type": "code",
   "execution_count": null,
   "metadata": {
    "ExecuteTime": {
     "end_time": "2020-12-06T11:30:00.070838Z",
     "start_time": "2020-12-06T11:30:00.065017Z"
    }
   },
   "outputs": [],
   "source": [
    "pd.Timestamp(\"7th Dec 2020 7 PM\")==pd.Timestamp(\"7th Dec 2020 19:00\")"
   ]
  },
  {
   "cell_type": "code",
   "execution_count": null,
   "metadata": {
    "ExecuteTime": {
     "end_time": "2020-12-06T11:30:00.293697Z",
     "start_time": "2020-12-06T11:30:00.288175Z"
    }
   },
   "outputs": [],
   "source": [
    "pd.Timestamp(\"7/12 2020\")==pd.Timestamp(\"2020-7/12\")"
   ]
  },
  {
   "cell_type": "code",
   "execution_count": null,
   "metadata": {
    "ExecuteTime": {
     "end_time": "2020-12-06T11:30:00.504975Z",
     "start_time": "2020-12-06T11:30:00.501121Z"
    }
   },
   "outputs": [],
   "source": [
    "pd.Timestamp(\"7/12/2020\")==pd.Timestamp(\"12/7/2020\")"
   ]
  },
  {
   "cell_type": "code",
   "execution_count": null,
   "metadata": {
    "ExecuteTime": {
     "end_time": "2020-12-06T11:30:00.783381Z",
     "start_time": "2020-12-06T11:30:00.778415Z"
    }
   },
   "outputs": [],
   "source": [
    "pd.Timestamp(year=2020, month=12, day=7)"
   ]
  },
  {
   "cell_type": "code",
   "execution_count": null,
   "metadata": {
    "ExecuteTime": {
     "end_time": "2020-12-06T11:30:01.056418Z",
     "start_time": "2020-12-06T11:30:01.050604Z"
    }
   },
   "outputs": [],
   "source": [
    "pdtstamp = pd.Timestamp(\"7th Dec 2020 7 PM\")\n",
    "pdtstamp"
   ]
  },
  {
   "cell_type": "code",
   "execution_count": null,
   "metadata": {
    "ExecuteTime": {
     "end_time": "2020-12-06T11:30:01.473840Z",
     "start_time": "2020-12-06T11:30:01.468729Z"
    }
   },
   "outputs": [],
   "source": [
    "print('**Timestamp Attributes**')\n",
    "print('------------------------')\n",
    "print('Day Name   : ', pdtstamp.day_name())\n",
    "print('Quarter    : ', pdtstamp.quarter)\n",
    "print('Date       : ', pdtstamp.day)\n",
    "print('Month      : ', pdtstamp.month)\n",
    "print('Monthdays  : ', pdtstamp.daysinmonth)\n",
    "print('Year       : ', pdtstamp.year)\n",
    "print('Day Name   : ', pdtstamp.weekofyear)"
   ]
  },
  {
   "cell_type": "markdown",
   "metadata": {},
   "source": [
    "****\n",
    "<b>Playing around with `date_range`, `bdate_range`, Time Period</b>\n",
    "\n",
    "What is the difference between TimePeriod and Timestamp?\n",
    "> Well in most of the cases, atleast Time Series problems, its necessary to have a representation of the span instead of just a point in time\n",
    "\n",
    "****\n",
    "<b>Available `freq` or `offset_aliases` :</b>\n",
    "<table class=\"colwidths-given table\">\n",
    "<colgroup>\n",
    "<col style=\"width: 16%\">\n",
    "<col style=\"width: 16%\">\n",
    "<col style=\"width: 68%\">\n",
    "</colgroup>\n",
    "<thead>\n",
    "<tr class=\"row-odd\"><th class=\"head\"><p>Date Offset</p></th>\n",
    "<th class=\"head\"><p>Frequency String</p></th>\n",
    "<th class=\"head\"><p>Description</p></th>\n",
    "</tr>\n",
    "</thead>\n",
    "<tbody>\n",
    "<tr class=\"row-even\"><td><p><a class=\"reference internal\" href=\"../reference/api/pandas.tseries.offsets.DateOffset.html#pandas.tseries.offsets.DateOffset\" title=\"pandas.tseries.offsets.DateOffset\"><code class=\"xref py py-class docutils literal notranslate\"><span class=\"pre\">DateOffset</span></code></a></p></td>\n",
    "<td><p>None</p></td>\n",
    "<td><p>Generic offset class, defaults to 1 calendar day</p></td>\n",
    "</tr>\n",
    "<tr class=\"row-odd\"><td><p><a class=\"reference internal\" href=\"../reference/api/pandas.tseries.offsets.BDay.html#pandas.tseries.offsets.BDay\" title=\"pandas.tseries.offsets.BDay\"><code class=\"xref py py-class docutils literal notranslate\"><span class=\"pre\">BDay</span></code></a> or <a class=\"reference internal\" href=\"../reference/api/pandas.tseries.offsets.BusinessDay.html#pandas.tseries.offsets.BusinessDay\" title=\"pandas.tseries.offsets.BusinessDay\"><code class=\"xref py py-class docutils literal notranslate\"><span class=\"pre\">BusinessDay</span></code></a></p></td>\n",
    "<td><p><code class=\"docutils literal notranslate\"><span class=\"pre\">'B'</span></code></p></td>\n",
    "<td><p>business day (weekday)</p></td>\n",
    "</tr>\n",
    "<tr class=\"row-even\"><td><p><a class=\"reference internal\" href=\"../reference/api/pandas.tseries.offsets.CDay.html#pandas.tseries.offsets.CDay\" title=\"pandas.tseries.offsets.CDay\"><code class=\"xref py py-class docutils literal notranslate\"><span class=\"pre\">CDay</span></code></a> or <a class=\"reference internal\" href=\"../reference/api/pandas.tseries.offsets.CustomBusinessDay.html#pandas.tseries.offsets.CustomBusinessDay\" title=\"pandas.tseries.offsets.CustomBusinessDay\"><code class=\"xref py py-class docutils literal notranslate\"><span class=\"pre\">CustomBusinessDay</span></code></a></p></td>\n",
    "<td><p><code class=\"docutils literal notranslate\"><span class=\"pre\">'C'</span></code></p></td>\n",
    "<td><p>custom business day</p></td>\n",
    "</tr>\n",
    "<tr class=\"row-odd\"><td><p><a class=\"reference internal\" href=\"../reference/api/pandas.tseries.offsets.Week.html#pandas.tseries.offsets.Week\" title=\"pandas.tseries.offsets.Week\"><code class=\"xref py py-class docutils literal notranslate\"><span class=\"pre\">Week</span></code></a></p></td>\n",
    "<td><p><code class=\"docutils literal notranslate\"><span class=\"pre\">'W'</span></code></p></td>\n",
    "<td><p>one week, optionally anchored on a day of the week</p></td>\n",
    "</tr>\n",
    "<tr class=\"row-even\"><td><p><a class=\"reference internal\" href=\"../reference/api/pandas.tseries.offsets.WeekOfMonth.html#pandas.tseries.offsets.WeekOfMonth\" title=\"pandas.tseries.offsets.WeekOfMonth\"><code class=\"xref py py-class docutils literal notranslate\"><span class=\"pre\">WeekOfMonth</span></code></a></p></td>\n",
    "<td><p><code class=\"docutils literal notranslate\"><span class=\"pre\">'WOM'</span></code></p></td>\n",
    "<td><p>the x-th day of the y-th week of each month</p></td>\n",
    "</tr>\n",
    "<tr class=\"row-odd\"><td><p><a class=\"reference internal\" href=\"../reference/api/pandas.tseries.offsets.LastWeekOfMonth.html#pandas.tseries.offsets.LastWeekOfMonth\" title=\"pandas.tseries.offsets.LastWeekOfMonth\"><code class=\"xref py py-class docutils literal notranslate\"><span class=\"pre\">LastWeekOfMonth</span></code></a></p></td>\n",
    "<td><p><code class=\"docutils literal notranslate\"><span class=\"pre\">'LWOM'</span></code></p></td>\n",
    "<td><p>the x-th day of the last week of each month</p></td>\n",
    "</tr>\n",
    "<tr class=\"row-even\"><td><p><a class=\"reference internal\" href=\"../reference/api/pandas.tseries.offsets.MonthEnd.html#pandas.tseries.offsets.MonthEnd\" title=\"pandas.tseries.offsets.MonthEnd\"><code class=\"xref py py-class docutils literal notranslate\"><span class=\"pre\">MonthEnd</span></code></a></p></td>\n",
    "<td><p><code class=\"docutils literal notranslate\"><span class=\"pre\">'M'</span></code></p></td>\n",
    "<td><p>calendar month end</p></td>\n",
    "</tr>\n",
    "<tr class=\"row-odd\"><td><p><a class=\"reference internal\" href=\"../reference/api/pandas.tseries.offsets.MonthBegin.html#pandas.tseries.offsets.MonthBegin\" title=\"pandas.tseries.offsets.MonthBegin\"><code class=\"xref py py-class docutils literal notranslate\"><span class=\"pre\">MonthBegin</span></code></a></p></td>\n",
    "<td><p><code class=\"docutils literal notranslate\"><span class=\"pre\">'MS'</span></code></p></td>\n",
    "<td><p>calendar month begin</p></td>\n",
    "</tr>\n",
    "<tr class=\"row-even\"><td><p><a class=\"reference internal\" href=\"../reference/api/pandas.tseries.offsets.BMonthEnd.html#pandas.tseries.offsets.BMonthEnd\" title=\"pandas.tseries.offsets.BMonthEnd\"><code class=\"xref py py-class docutils literal notranslate\"><span class=\"pre\">BMonthEnd</span></code></a> or <a class=\"reference internal\" href=\"../reference/api/pandas.tseries.offsets.BusinessMonthEnd.html#pandas.tseries.offsets.BusinessMonthEnd\" title=\"pandas.tseries.offsets.BusinessMonthEnd\"><code class=\"xref py py-class docutils literal notranslate\"><span class=\"pre\">BusinessMonthEnd</span></code></a></p></td>\n",
    "<td><p><code class=\"docutils literal notranslate\"><span class=\"pre\">'BM'</span></code></p></td>\n",
    "<td><p>business month end</p></td>\n",
    "</tr>\n",
    "<tr class=\"row-odd\"><td><p><a class=\"reference internal\" href=\"../reference/api/pandas.tseries.offsets.BMonthBegin.html#pandas.tseries.offsets.BMonthBegin\" title=\"pandas.tseries.offsets.BMonthBegin\"><code class=\"xref py py-class docutils literal notranslate\"><span class=\"pre\">BMonthBegin</span></code></a> or <a class=\"reference internal\" href=\"../reference/api/pandas.tseries.offsets.BusinessMonthBegin.html#pandas.tseries.offsets.BusinessMonthBegin\" title=\"pandas.tseries.offsets.BusinessMonthBegin\"><code class=\"xref py py-class docutils literal notranslate\"><span class=\"pre\">BusinessMonthBegin</span></code></a></p></td>\n",
    "<td><p><code class=\"docutils literal notranslate\"><span class=\"pre\">'BMS'</span></code></p></td>\n",
    "<td><p>business month begin</p></td>\n",
    "</tr>\n",
    "<tr class=\"row-even\"><td><p><a class=\"reference internal\" href=\"../reference/api/pandas.tseries.offsets.CBMonthEnd.html#pandas.tseries.offsets.CBMonthEnd\" title=\"pandas.tseries.offsets.CBMonthEnd\"><code class=\"xref py py-class docutils literal notranslate\"><span class=\"pre\">CBMonthEnd</span></code></a> or <a class=\"reference internal\" href=\"../reference/api/pandas.tseries.offsets.CustomBusinessMonthEnd.html#pandas.tseries.offsets.CustomBusinessMonthEnd\" title=\"pandas.tseries.offsets.CustomBusinessMonthEnd\"><code class=\"xref py py-class docutils literal notranslate\"><span class=\"pre\">CustomBusinessMonthEnd</span></code></a></p></td>\n",
    "<td><p><code class=\"docutils literal notranslate\"><span class=\"pre\">'CBM'</span></code></p></td>\n",
    "<td><p>custom business month end</p></td>\n",
    "</tr>\n",
    "<tr class=\"row-odd\"><td><p><a class=\"reference internal\" href=\"../reference/api/pandas.tseries.offsets.CBMonthBegin.html#pandas.tseries.offsets.CBMonthBegin\" title=\"pandas.tseries.offsets.CBMonthBegin\"><code class=\"xref py py-class docutils literal notranslate\"><span class=\"pre\">CBMonthBegin</span></code></a> or <a class=\"reference internal\" href=\"../reference/api/pandas.tseries.offsets.CustomBusinessMonthBegin.html#pandas.tseries.offsets.CustomBusinessMonthBegin\" title=\"pandas.tseries.offsets.CustomBusinessMonthBegin\"><code class=\"xref py py-class docutils literal notranslate\"><span class=\"pre\">CustomBusinessMonthBegin</span></code></a></p></td>\n",
    "<td><p><code class=\"docutils literal notranslate\"><span class=\"pre\">'CBMS'</span></code></p></td>\n",
    "<td><p>custom business month begin</p></td>\n",
    "</tr>\n",
    "<tr class=\"row-even\"><td><p><a class=\"reference internal\" href=\"../reference/api/pandas.tseries.offsets.SemiMonthEnd.html#pandas.tseries.offsets.SemiMonthEnd\" title=\"pandas.tseries.offsets.SemiMonthEnd\"><code class=\"xref py py-class docutils literal notranslate\"><span class=\"pre\">SemiMonthEnd</span></code></a></p></td>\n",
    "<td><p><code class=\"docutils literal notranslate\"><span class=\"pre\">'SM'</span></code></p></td>\n",
    "<td><p>15th (or other day_of_month) and calendar month end</p></td>\n",
    "</tr>\n",
    "<tr class=\"row-odd\"><td><p><a class=\"reference internal\" href=\"../reference/api/pandas.tseries.offsets.SemiMonthBegin.html#pandas.tseries.offsets.SemiMonthBegin\" title=\"pandas.tseries.offsets.SemiMonthBegin\"><code class=\"xref py py-class docutils literal notranslate\"><span class=\"pre\">SemiMonthBegin</span></code></a></p></td>\n",
    "<td><p><code class=\"docutils literal notranslate\"><span class=\"pre\">'SMS'</span></code></p></td>\n",
    "<td><p>15th (or other day_of_month) and calendar month begin</p></td>\n",
    "</tr>\n",
    "<tr class=\"row-even\"><td><p><a class=\"reference internal\" href=\"../reference/api/pandas.tseries.offsets.QuarterEnd.html#pandas.tseries.offsets.QuarterEnd\" title=\"pandas.tseries.offsets.QuarterEnd\"><code class=\"xref py py-class docutils literal notranslate\"><span class=\"pre\">QuarterEnd</span></code></a></p></td>\n",
    "<td><p><code class=\"docutils literal notranslate\"><span class=\"pre\">'Q'</span></code></p></td>\n",
    "<td><p>calendar quarter end</p></td>\n",
    "</tr>\n",
    "<tr class=\"row-odd\"><td><p><a class=\"reference internal\" href=\"../reference/api/pandas.tseries.offsets.QuarterBegin.html#pandas.tseries.offsets.QuarterBegin\" title=\"pandas.tseries.offsets.QuarterBegin\"><code class=\"xref py py-class docutils literal notranslate\"><span class=\"pre\">QuarterBegin</span></code></a></p></td>\n",
    "<td><p><code class=\"docutils literal notranslate\"><span class=\"pre\">'QS'</span></code></p></td>\n",
    "<td><p>calendar quarter begin</p></td>\n",
    "</tr>\n",
    "<tr class=\"row-even\"><td><p><a class=\"reference internal\" href=\"../reference/api/pandas.tseries.offsets.BQuarterEnd.html#pandas.tseries.offsets.BQuarterEnd\" title=\"pandas.tseries.offsets.BQuarterEnd\"><code class=\"xref py py-class docutils literal notranslate\"><span class=\"pre\">BQuarterEnd</span></code></a></p></td>\n",
    "<td><p><code class=\"docutils literal notranslate\"><span class=\"pre\">'BQ</span></code></p></td>\n",
    "<td><p>business quarter end</p></td>\n",
    "</tr>\n",
    "<tr class=\"row-odd\"><td><p><a class=\"reference internal\" href=\"../reference/api/pandas.tseries.offsets.BQuarterBegin.html#pandas.tseries.offsets.BQuarterBegin\" title=\"pandas.tseries.offsets.BQuarterBegin\"><code class=\"xref py py-class docutils literal notranslate\"><span class=\"pre\">BQuarterBegin</span></code></a></p></td>\n",
    "<td><p><code class=\"docutils literal notranslate\"><span class=\"pre\">'BQS'</span></code></p></td>\n",
    "<td><p>business quarter begin</p></td>\n",
    "</tr>\n",
    "<tr class=\"row-even\"><td><p><a class=\"reference internal\" href=\"../reference/api/pandas.tseries.offsets.FY5253Quarter.html#pandas.tseries.offsets.FY5253Quarter\" title=\"pandas.tseries.offsets.FY5253Quarter\"><code class=\"xref py py-class docutils literal notranslate\"><span class=\"pre\">FY5253Quarter</span></code></a></p></td>\n",
    "<td><p><code class=\"docutils literal notranslate\"><span class=\"pre\">'REQ'</span></code></p></td>\n",
    "<td><p>retail (aka 52-53 week) quarter</p></td>\n",
    "</tr>\n",
    "<tr class=\"row-odd\"><td><p><a class=\"reference internal\" href=\"../reference/api/pandas.tseries.offsets.YearEnd.html#pandas.tseries.offsets.YearEnd\" title=\"pandas.tseries.offsets.YearEnd\"><code class=\"xref py py-class docutils literal notranslate\"><span class=\"pre\">YearEnd</span></code></a></p></td>\n",
    "<td><p><code class=\"docutils literal notranslate\"><span class=\"pre\">'A'</span></code></p></td>\n",
    "<td><p>calendar year end</p></td>\n",
    "</tr>\n",
    "<tr class=\"row-even\"><td><p><a class=\"reference internal\" href=\"../reference/api/pandas.tseries.offsets.YearBegin.html#pandas.tseries.offsets.YearBegin\" title=\"pandas.tseries.offsets.YearBegin\"><code class=\"xref py py-class docutils literal notranslate\"><span class=\"pre\">YearBegin</span></code></a></p></td>\n",
    "<td><p><code class=\"docutils literal notranslate\"><span class=\"pre\">'AS'</span></code> or <code class=\"docutils literal notranslate\"><span class=\"pre\">'BYS'</span></code></p></td>\n",
    "<td><p>calendar year begin</p></td>\n",
    "</tr>\n",
    "<tr class=\"row-odd\"><td><p><a class=\"reference internal\" href=\"../reference/api/pandas.tseries.offsets.BYearEnd.html#pandas.tseries.offsets.BYearEnd\" title=\"pandas.tseries.offsets.BYearEnd\"><code class=\"xref py py-class docutils literal notranslate\"><span class=\"pre\">BYearEnd</span></code></a></p></td>\n",
    "<td><p><code class=\"docutils literal notranslate\"><span class=\"pre\">'BA'</span></code></p></td>\n",
    "<td><p>business year end</p></td>\n",
    "</tr>\n",
    "<tr class=\"row-even\"><td><p><a class=\"reference internal\" href=\"../reference/api/pandas.tseries.offsets.BYearBegin.html#pandas.tseries.offsets.BYearBegin\" title=\"pandas.tseries.offsets.BYearBegin\"><code class=\"xref py py-class docutils literal notranslate\"><span class=\"pre\">BYearBegin</span></code></a></p></td>\n",
    "<td><p><code class=\"docutils literal notranslate\"><span class=\"pre\">'BAS'</span></code></p></td>\n",
    "<td><p>business year begin</p></td>\n",
    "</tr>\n",
    "<tr class=\"row-odd\"><td><p><a class=\"reference internal\" href=\"../reference/api/pandas.tseries.offsets.FY5253.html#pandas.tseries.offsets.FY5253\" title=\"pandas.tseries.offsets.FY5253\"><code class=\"xref py py-class docutils literal notranslate\"><span class=\"pre\">FY5253</span></code></a></p></td>\n",
    "<td><p><code class=\"docutils literal notranslate\"><span class=\"pre\">'RE'</span></code></p></td>\n",
    "<td><p>retail (aka 52-53 week) year</p></td>\n",
    "</tr>\n",
    "<tr class=\"row-even\"><td><p><a class=\"reference internal\" href=\"../reference/api/pandas.tseries.offsets.Easter.html#pandas.tseries.offsets.Easter\" title=\"pandas.tseries.offsets.Easter\"><code class=\"xref py py-class docutils literal notranslate\"><span class=\"pre\">Easter</span></code></a></p></td>\n",
    "<td><p>None</p></td>\n",
    "<td><p>Easter holiday</p></td>\n",
    "</tr>\n",
    "<tr class=\"row-odd\"><td><p><a class=\"reference internal\" href=\"../reference/api/pandas.tseries.offsets.BusinessHour.html#pandas.tseries.offsets.BusinessHour\" title=\"pandas.tseries.offsets.BusinessHour\"><code class=\"xref py py-class docutils literal notranslate\"><span class=\"pre\">BusinessHour</span></code></a></p></td>\n",
    "<td><p><code class=\"docutils literal notranslate\"><span class=\"pre\">'BH'</span></code></p></td>\n",
    "<td><p>business hour</p></td>\n",
    "</tr>\n",
    "<tr class=\"row-even\"><td><p><a class=\"reference internal\" href=\"../reference/api/pandas.tseries.offsets.CustomBusinessHour.html#pandas.tseries.offsets.CustomBusinessHour\" title=\"pandas.tseries.offsets.CustomBusinessHour\"><code class=\"xref py py-class docutils literal notranslate\"><span class=\"pre\">CustomBusinessHour</span></code></a></p></td>\n",
    "<td><p><code class=\"docutils literal notranslate\"><span class=\"pre\">'CBH'</span></code></p></td>\n",
    "<td><p>custom business hour</p></td>\n",
    "</tr>\n",
    "<tr class=\"row-odd\"><td><p><a class=\"reference internal\" href=\"../reference/api/pandas.tseries.offsets.Day.html#pandas.tseries.offsets.Day\" title=\"pandas.tseries.offsets.Day\"><code class=\"xref py py-class docutils literal notranslate\"><span class=\"pre\">Day</span></code></a></p></td>\n",
    "<td><p><code class=\"docutils literal notranslate\"><span class=\"pre\">'D'</span></code></p></td>\n",
    "<td><p>one absolute day</p></td>\n",
    "</tr>\n",
    "<tr class=\"row-even\"><td><p><a class=\"reference internal\" href=\"../reference/api/pandas.tseries.offsets.Hour.html#pandas.tseries.offsets.Hour\" title=\"pandas.tseries.offsets.Hour\"><code class=\"xref py py-class docutils literal notranslate\"><span class=\"pre\">Hour</span></code></a></p></td>\n",
    "<td><p><code class=\"docutils literal notranslate\"><span class=\"pre\">'H'</span></code></p></td>\n",
    "<td><p>one hour</p></td>\n",
    "</tr>\n",
    "<tr class=\"row-odd\"><td><p><a class=\"reference internal\" href=\"../reference/api/pandas.tseries.offsets.Minute.html#pandas.tseries.offsets.Minute\" title=\"pandas.tseries.offsets.Minute\"><code class=\"xref py py-class docutils literal notranslate\"><span class=\"pre\">Minute</span></code></a></p></td>\n",
    "<td><p><code class=\"docutils literal notranslate\"><span class=\"pre\">'T'</span></code> or <code class=\"docutils literal notranslate\"><span class=\"pre\">'min'</span></code></p></td>\n",
    "<td><p>one minute</p></td>\n",
    "</tr>\n",
    "<tr class=\"row-even\"><td><p><a class=\"reference internal\" href=\"../reference/api/pandas.tseries.offsets.Second.html#pandas.tseries.offsets.Second\" title=\"pandas.tseries.offsets.Second\"><code class=\"xref py py-class docutils literal notranslate\"><span class=\"pre\">Second</span></code></a></p></td>\n",
    "<td><p><code class=\"docutils literal notranslate\"><span class=\"pre\">'S'</span></code></p></td>\n",
    "<td><p>one second</p></td>\n",
    "</tr>\n",
    "<tr class=\"row-odd\"><td><p><a class=\"reference internal\" href=\"../reference/api/pandas.tseries.offsets.Milli.html#pandas.tseries.offsets.Milli\" title=\"pandas.tseries.offsets.Milli\"><code class=\"xref py py-class docutils literal notranslate\"><span class=\"pre\">Milli</span></code></a></p></td>\n",
    "<td><p><code class=\"docutils literal notranslate\"><span class=\"pre\">'L'</span></code> or <code class=\"docutils literal notranslate\"><span class=\"pre\">'ms'</span></code></p></td>\n",
    "<td><p>one millisecond</p></td>\n",
    "</tr>\n",
    "<tr class=\"row-even\"><td><p><a class=\"reference internal\" href=\"../reference/api/pandas.tseries.offsets.Micro.html#pandas.tseries.offsets.Micro\" title=\"pandas.tseries.offsets.Micro\"><code class=\"xref py py-class docutils literal notranslate\"><span class=\"pre\">Micro</span></code></a></p></td>\n",
    "<td><p><code class=\"docutils literal notranslate\"><span class=\"pre\">'U'</span></code> or <code class=\"docutils literal notranslate\"><span class=\"pre\">'us'</span></code></p></td>\n",
    "<td><p>one microsecond</p></td>\n",
    "</tr>\n",
    "<tr class=\"row-odd\"><td><p><a class=\"reference internal\" href=\"../reference/api/pandas.tseries.offsets.Nano.html#pandas.tseries.offsets.Nano\" title=\"pandas.tseries.offsets.Nano\"><code class=\"xref py py-class docutils literal notranslate\"><span class=\"pre\">Nano</span></code></a></p></td>\n",
    "<td><p><code class=\"docutils literal notranslate\"><span class=\"pre\">'N'</span></code></p></td>\n",
    "<td><p>one nanosecond</p></td>\n",
    "</tr>\n",
    "</tbody>\n",
    "</table>"
   ]
  },
  {
   "cell_type": "code",
   "execution_count": null,
   "metadata": {
    "ExecuteTime": {
     "end_time": "2020-12-06T11:30:02.179127Z",
     "start_time": "2020-12-06T11:30:02.173099Z"
    }
   },
   "outputs": [],
   "source": [
    "pd.Timestamp('2020-01-01')"
   ]
  },
  {
   "cell_type": "code",
   "execution_count": null,
   "metadata": {
    "ExecuteTime": {
     "end_time": "2020-12-06T11:30:02.368086Z",
     "start_time": "2020-12-06T11:30:02.363550Z"
    }
   },
   "outputs": [],
   "source": [
    "pd.Period('2020'), pd.Period('2020-01'), pd.Period('2020-01-01 12'), pd.Period('2020-01-01 12:8')"
   ]
  },
  {
   "cell_type": "code",
   "execution_count": null,
   "metadata": {
    "ExecuteTime": {
     "end_time": "2020-12-06T11:30:02.656545Z",
     "start_time": "2020-12-06T11:30:02.651319Z"
    }
   },
   "outputs": [],
   "source": [
    "pd.Period('2020', freq='A-MAR') + 1"
   ]
  },
  {
   "cell_type": "code",
   "execution_count": null,
   "metadata": {
    "ExecuteTime": {
     "end_time": "2020-12-06T11:30:03.058864Z",
     "start_time": "2020-12-06T11:30:03.053850Z"
    }
   },
   "outputs": [],
   "source": [
    "(pd.Period('2020', freq='A-MAR') + 1).month"
   ]
  },
  {
   "cell_type": "code",
   "execution_count": null,
   "metadata": {
    "ExecuteTime": {
     "end_time": "2020-12-06T11:30:03.294385Z",
     "start_time": "2020-12-06T11:30:03.288035Z"
    }
   },
   "outputs": [],
   "source": [
    "pd.date_range('2020-01-01', freq='B',periods=10)"
   ]
  },
  {
   "cell_type": "code",
   "execution_count": null,
   "metadata": {
    "ExecuteTime": {
     "end_time": "2020-12-06T11:30:03.459376Z",
     "start_time": "2020-12-06T11:30:03.454653Z"
    }
   },
   "outputs": [],
   "source": [
    "pd.date_range('2020-01-01', freq='3h43min', periods=10)"
   ]
  },
  {
   "cell_type": "markdown",
   "metadata": {},
   "source": [
    "<b>Custom Buisness days with a list of Holidays</b>"
   ]
  },
  {
   "cell_type": "code",
   "execution_count": null,
   "metadata": {
    "ExecuteTime": {
     "end_time": "2020-12-06T11:30:04.229149Z",
     "start_time": "2020-12-06T11:30:04.219115Z"
    }
   },
   "outputs": [],
   "source": [
    "pd.bdate_range('2020-01-01', freq='B', periods=10, holidays=['2020-01-10','2020-01-13'])"
   ]
  },
  {
   "cell_type": "markdown",
   "metadata": {
    "solution2": "hidden",
    "solution2_first": true
   },
   "source": [
    "**Q)** How to fix it? HINT : Check the table above."
   ]
  },
  {
   "cell_type": "code",
   "execution_count": null,
   "metadata": {
    "ExecuteTime": {
     "end_time": "2020-12-06T11:30:04.612198Z",
     "start_time": "2020-12-06T11:30:04.607207Z"
    },
    "solution2": "hidden"
   },
   "outputs": [],
   "source": [
    "pd.bdate_range('2020-01-01', freq='C', periods=10, holidays=['2020-01-10','2020-01-13'])"
   ]
  },
  {
   "cell_type": "code",
   "execution_count": null,
   "metadata": {
    "ExecuteTime": {
     "end_time": "2020-12-06T11:30:04.845957Z",
     "start_time": "2020-12-06T11:30:04.843678Z"
    }
   },
   "outputs": [],
   "source": [
    "#----------YOUR SOLUTION-----------#\n",
    "#....\n"
   ]
  },
  {
   "cell_type": "markdown",
   "metadata": {},
   "source": [
    "****"
   ]
  },
  {
   "cell_type": "markdown",
   "metadata": {},
   "source": [
    "<b>Notice the difference between the two :</b>"
   ]
  },
  {
   "cell_type": "code",
   "execution_count": null,
   "metadata": {
    "ExecuteTime": {
     "end_time": "2020-12-06T11:30:05.477675Z",
     "start_time": "2020-12-06T11:30:05.469759Z"
    }
   },
   "outputs": [],
   "source": [
    "pd.date_range('2020-01-01', freq='D',periods=10)"
   ]
  },
  {
   "cell_type": "code",
   "execution_count": null,
   "metadata": {
    "ExecuteTime": {
     "end_time": "2020-12-06T11:30:05.650086Z",
     "start_time": "2020-12-06T11:30:05.645625Z"
    }
   },
   "outputs": [],
   "source": [
    "pd.period_range('2020-01-01', freq='D', periods=10)"
   ]
  },
  {
   "cell_type": "markdown",
   "metadata": {},
   "source": [
    "<b>Well thats not much of difference to worry about now is it? So why do we need Period?</b>"
   ]
  },
  {
   "cell_type": "code",
   "execution_count": null,
   "metadata": {
    "ExecuteTime": {
     "end_time": "2020-12-06T11:30:06.286800Z",
     "start_time": "2020-12-06T11:30:06.281796Z"
    }
   },
   "outputs": [],
   "source": [
    "pd.date_range('2020-01-01', freq='Q-MAR', periods=10)"
   ]
  },
  {
   "cell_type": "code",
   "execution_count": null,
   "metadata": {
    "ExecuteTime": {
     "end_time": "2020-12-06T11:30:06.488748Z",
     "start_time": "2020-12-06T11:30:06.484408Z"
    }
   },
   "outputs": [],
   "source": [
    "pd.date_range('2020-01-01', freq='QS-MAR', periods=10)"
   ]
  },
  {
   "cell_type": "code",
   "execution_count": null,
   "metadata": {
    "ExecuteTime": {
     "end_time": "2020-12-06T11:30:06.707387Z",
     "start_time": "2020-12-06T11:30:06.703174Z"
    }
   },
   "outputs": [],
   "source": [
    "pd.period_range('2020-01-01', freq='Q-MAR', periods=10)"
   ]
  },
  {
   "cell_type": "markdown",
   "metadata": {},
   "source": [
    "****\n",
    "<b>Playing around with Time Deltas</b>"
   ]
  },
  {
   "cell_type": "code",
   "execution_count": null,
   "metadata": {
    "ExecuteTime": {
     "end_time": "2020-12-06T11:30:07.048187Z",
     "start_time": "2020-12-06T11:30:07.041964Z"
    }
   },
   "outputs": [],
   "source": [
    "pd.Period('2020-01-01')+pd.Timedelta(days=3)"
   ]
  },
  {
   "cell_type": "code",
   "execution_count": null,
   "metadata": {
    "ExecuteTime": {
     "end_time": "2020-12-06T11:30:07.291129Z",
     "start_time": "2020-12-06T11:30:07.287586Z"
    }
   },
   "outputs": [],
   "source": [
    "pd.Timestamp('2020-01-01')+pd.Timedelta(days=3)"
   ]
  },
  {
   "cell_type": "code",
   "execution_count": null,
   "metadata": {
    "ExecuteTime": {
     "end_time": "2020-12-06T11:30:07.479780Z",
     "start_time": "2020-12-06T11:30:07.475533Z"
    }
   },
   "outputs": [],
   "source": [
    "dtrange = pd.date_range('2020-01-01', freq='D', periods=10)\n",
    "dtrange"
   ]
  },
  {
   "cell_type": "code",
   "execution_count": null,
   "metadata": {
    "ExecuteTime": {
     "end_time": "2020-12-06T11:30:07.711711Z",
     "start_time": "2020-12-06T11:30:07.706773Z"
    }
   },
   "outputs": [],
   "source": [
    "dtrange+pd.Timedelta(days=+4, hours=+2)"
   ]
  },
  {
   "cell_type": "markdown",
   "metadata": {},
   "source": [
    "# Pandas TimeZones"
   ]
  },
  {
   "cell_type": "code",
   "execution_count": null,
   "metadata": {
    "ExecuteTime": {
     "end_time": "2020-12-06T11:30:08.552758Z",
     "start_time": "2020-12-06T11:30:08.542497Z"
    }
   },
   "outputs": [],
   "source": [
    "all_timezones"
   ]
  },
  {
   "cell_type": "code",
   "execution_count": null,
   "metadata": {
    "ExecuteTime": {
     "end_time": "2020-12-06T11:30:08.752622Z",
     "start_time": "2020-12-06T11:30:08.749151Z"
    }
   },
   "outputs": [],
   "source": [
    "[k for k in all_timezones if 'Aus' in k]"
   ]
  },
  {
   "cell_type": "markdown",
   "metadata": {},
   "source": [
    "<b>Inherently pandas `Timestamp` doesnt assume a time-zone, unless explicity given</b>"
   ]
  },
  {
   "cell_type": "code",
   "execution_count": null,
   "metadata": {
    "ExecuteTime": {
     "end_time": "2020-12-06T11:30:09.295600Z",
     "start_time": "2020-12-06T11:30:09.289256Z"
    }
   },
   "outputs": [],
   "source": [
    "pdtstamp = pd.Timestamp(datetime.now())\n",
    "pdtstamp"
   ]
  },
  {
   "cell_type": "code",
   "execution_count": null,
   "metadata": {
    "ExecuteTime": {
     "end_time": "2020-12-06T11:30:12.905494Z",
     "start_time": "2020-12-06T11:30:12.900926Z"
    }
   },
   "outputs": [],
   "source": [
    "print(pdtstamp.tz)"
   ]
  },
  {
   "cell_type": "markdown",
   "metadata": {},
   "source": [
    "<b>Or, you call the tz_localize() with the `tz`</b>"
   ]
  },
  {
   "cell_type": "code",
   "execution_count": null,
   "metadata": {
    "ExecuteTime": {
     "end_time": "2020-12-06T11:30:13.604343Z",
     "start_time": "2020-12-06T11:30:13.596239Z"
    }
   },
   "outputs": [],
   "source": [
    "pdtstamp = pd.Timestamp(datetime.now(), tz='Asia/Calcutta')\n",
    "pdtstamp.tz"
   ]
  },
  {
   "cell_type": "markdown",
   "metadata": {},
   "source": [
    "**Converting the timestamps between timezones**"
   ]
  },
  {
   "cell_type": "code",
   "execution_count": null,
   "metadata": {
    "ExecuteTime": {
     "end_time": "2020-12-06T11:30:14.459503Z",
     "start_time": "2020-12-06T11:30:14.450676Z"
    }
   },
   "outputs": [],
   "source": [
    "pdtstamp.tz_convert('Australia/Melbourne')"
   ]
  },
  {
   "cell_type": "markdown",
   "metadata": {
    "solution2": "hidden",
    "solution2_first": true
   },
   "source": [
    "**Q)** Give me the current time in Calcutta, Bangkok & New York ->"
   ]
  },
  {
   "cell_type": "code",
   "execution_count": null,
   "metadata": {
    "ExecuteTime": {
     "end_time": "2020-12-06T11:30:15.503423Z",
     "start_time": "2020-12-06T11:30:15.493267Z"
    },
    "solution2": "hidden"
   },
   "outputs": [],
   "source": [
    "current_tznaive_time = pd.Timestamp(datetime.now())\n",
    "current_tzlocalised_time = current_tznaive_time.tz_localize('Asia/Calcutta')\n",
    "current_tzconverted_time1 = current_tzlocalised_time.tz_convert('Asia/Bangkok')\n",
    "current_tzconverted_time2 = current_tzlocalised_time.tz_convert('America/New_York')\n"
   ]
  },
  {
   "cell_type": "code",
   "execution_count": null,
   "metadata": {
    "ExecuteTime": {
     "end_time": "2020-12-06T11:30:15.738012Z",
     "start_time": "2020-12-06T11:30:15.732033Z"
    },
    "solution2": "hidden"
   },
   "outputs": [],
   "source": [
    "print('Current Näive Time                     : ', current_tznaive_time)\n",
    "print('Current Localised Time (Asia/Calcutta) : ', current_tzlocalised_time)\n",
    "print('Whats the time in Bangkok?            -> ', current_tzconverted_time1)\n",
    "print('Whats the time in New York?            -> ', current_tzconverted_time2)\n"
   ]
  },
  {
   "cell_type": "code",
   "execution_count": null,
   "metadata": {
    "ExecuteTime": {
     "end_time": "2020-12-06T11:30:15.966664Z",
     "start_time": "2020-12-06T11:30:15.963969Z"
    }
   },
   "outputs": [],
   "source": [
    "#----------YOUR SOLUTION-----------#\n",
    "#....\n"
   ]
  },
  {
   "cell_type": "markdown",
   "metadata": {},
   "source": [
    "<b>Playing with your time series data</b>"
   ]
  },
  {
   "cell_type": "code",
   "execution_count": null,
   "metadata": {
    "ExecuteTime": {
     "end_time": "2020-12-06T11:30:16.349642Z",
     "start_time": "2020-12-06T11:30:16.334567Z"
    }
   },
   "outputs": [],
   "source": [
    "print(britannia_data.index)\n",
    "britannia_data.head()"
   ]
  },
  {
   "cell_type": "code",
   "execution_count": null,
   "metadata": {
    "ExecuteTime": {
     "end_time": "2020-12-06T11:30:16.701164Z",
     "start_time": "2020-12-06T11:30:16.689684Z"
    }
   },
   "outputs": [],
   "source": [
    "britannia_data.index = britannia_data.index.tz_localize('Asia/Calcutta')\n",
    "print(britannia_data.index)\n",
    "britannia_data.head()"
   ]
  },
  {
   "cell_type": "code",
   "execution_count": null,
   "metadata": {
    "ExecuteTime": {
     "end_time": "2020-12-06T11:30:17.016129Z",
     "start_time": "2020-12-06T11:30:17.001539Z"
    }
   },
   "outputs": [],
   "source": [
    "britannia_data['Date(SNG)'] = britannia_data.index.tz_convert('Asia/Singapore')\n",
    "britannia_data.head()"
   ]
  },
  {
   "cell_type": "code",
   "execution_count": null,
   "metadata": {
    "ExecuteTime": {
     "end_time": "2020-12-06T11:30:17.315499Z",
     "start_time": "2020-12-06T11:30:17.311942Z"
    }
   },
   "outputs": [],
   "source": [
    "britannia_data.drop('Date(SNG)', axis=1, inplace =True)"
   ]
  },
  {
   "cell_type": "markdown",
   "metadata": {},
   "source": [
    "# Pandas Resampling\n",
    "\n",
    "***NOTE : Do not confuse this with Undersampling and Oversampling***\n",
    "\n",
    "<img src='https://raw.githubusercontent.com/rafjaa/machine_learning_fecib/master/src/static/img/resampling.png'>"
   ]
  },
  {
   "cell_type": "code",
   "execution_count": null,
   "metadata": {
    "ExecuteTime": {
     "end_time": "2020-12-06T11:30:17.817532Z",
     "start_time": "2020-12-06T11:30:17.807994Z"
    }
   },
   "outputs": [],
   "source": [
    "britannia_data.head()"
   ]
  },
  {
   "cell_type": "markdown",
   "metadata": {},
   "source": [
    "<b>Lower Granularity</b>"
   ]
  },
  {
   "cell_type": "code",
   "execution_count": null,
   "metadata": {
    "ExecuteTime": {
     "end_time": "2020-12-06T11:30:19.208008Z",
     "start_time": "2020-12-06T11:30:18.138736Z"
    }
   },
   "outputs": [],
   "source": [
    "britannia_data.asfreq('1min', method='ffill')['1996-01-02']"
   ]
  },
  {
   "cell_type": "markdown",
   "metadata": {},
   "source": [
    "<b>Higher Granularity</b>"
   ]
  },
  {
   "cell_type": "code",
   "execution_count": null,
   "metadata": {
    "ExecuteTime": {
     "end_time": "2020-12-06T11:30:19.311081Z",
     "start_time": "2020-12-06T11:30:19.307423Z"
    }
   },
   "outputs": [],
   "source": [
    "britannia_data.resample('3D', label='right')\n",
    "# .last()"
   ]
  },
  {
   "cell_type": "markdown",
   "metadata": {},
   "source": [
    "<b>Can you see the problem here if we do this to our dataset??</b>\n",
    "\n",
    "- Some dates have been added, although they might had been off days or holidays even in 'B' frequency\n",
    "\n",
    "- Values assumed by the features are now defined by us, and no longer can be said they are the tru value"
   ]
  },
  {
   "cell_type": "markdown",
   "metadata": {},
   "source": [
    "# Random Testing Space"
   ]
  },
  {
   "cell_type": "code",
   "execution_count": null,
   "metadata": {},
   "outputs": [],
   "source": []
  },
  {
   "cell_type": "code",
   "execution_count": null,
   "metadata": {},
   "outputs": [],
   "source": []
  },
  {
   "cell_type": "code",
   "execution_count": null,
   "metadata": {},
   "outputs": [],
   "source": []
  }
 ],
 "metadata": {
  "kernelspec": {
   "display_name": "Python 3",
   "language": "python",
   "name": "python3"
  },
  "language_info": {
   "codemirror_mode": {
    "name": "ipython",
    "version": 3
   },
   "file_extension": ".py",
   "mimetype": "text/x-python",
   "name": "python",
   "nbconvert_exporter": "python",
   "pygments_lexer": "ipython3",
   "version": "3.8.5"
  },
  "toc": {
   "base_numbering": 1,
   "nav_menu": {},
   "number_sections": true,
   "sideBar": true,
   "skip_h1_title": false,
   "title_cell": "Table of Contents",
   "title_sidebar": "Contents",
   "toc_cell": false,
   "toc_position": {},
   "toc_section_display": true,
   "toc_window_display": false
  },
  "varInspector": {
   "cols": {
    "lenName": 16,
    "lenType": 16,
    "lenVar": 40
   },
   "kernels_config": {
    "python": {
     "delete_cmd_postfix": "",
     "delete_cmd_prefix": "del ",
     "library": "var_list.py",
     "varRefreshCmd": "print(var_dic_list())"
    },
    "r": {
     "delete_cmd_postfix": ") ",
     "delete_cmd_prefix": "rm(",
     "library": "var_list.r",
     "varRefreshCmd": "cat(var_dic_list()) "
    }
   },
   "types_to_exclude": [
    "module",
    "function",
    "builtin_function_or_method",
    "instance",
    "_Feature"
   ],
   "window_display": false
  }
 },
 "nbformat": 4,
 "nbformat_minor": 4
}
