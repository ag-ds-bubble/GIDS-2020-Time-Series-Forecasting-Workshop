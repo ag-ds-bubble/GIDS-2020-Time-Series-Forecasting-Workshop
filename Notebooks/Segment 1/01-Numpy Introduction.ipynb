{
 "cells": [
  {
   "cell_type": "markdown",
   "metadata": {},
   "source": [
    "# Introduction\n",
    "<b>NumPy (Numerical Python)</b> is an open source Python library that’s used in almost every field of science and engineering. It’s the universal standard for working with numerical data in Python, and it’s at the core of the scientific Python and PyData ecosystems.\n",
    "<br>\n",
    "<br>\n",
    "<br>\n",
    "<b>Interesting Read</b> : [The first image of a Balck Hole](https://numpy.org/case-studies/blackhole-image/)\n",
    "\n",
    "<img src='https://numpy.org/images/content_images/cs/blackhole.jpg' width='300' align='left'>\n",
    "<br>\n",
    "<br>\n",
    "<br>\n",
    "<br>\n",
    "<br>\n",
    "<br>\n",
    "<br>\n",
    "\n",
    "<br>\n",
    "<br>\n",
    "<br>\n",
    "\n",
    "\n",
    "[Most part of this notebook is adopted from `numpy` & `datetime` docs]"
   ]
  },
  {
   "cell_type": "markdown",
   "metadata": {
    "heading_collapsed": true
   },
   "source": [
    "# Imports"
   ]
  },
  {
   "cell_type": "code",
   "execution_count": 49,
   "metadata": {
    "hidden": true
   },
   "outputs": [
    {
     "data": {
      "text/plain": [
       "'1.19.4'"
      ]
     },
     "execution_count": 49,
     "metadata": {},
     "output_type": "execute_result"
    }
   ],
   "source": [
    "import numpy as np # `np` acts as an alias to the package you with to import, here numpy\n",
    "np.__version__"
   ]
  },
  {
   "cell_type": "markdown",
   "metadata": {
    "hidden": true
   },
   "source": [
    "<b>Where is this package numpy that we just imported sitting?</b>"
   ]
  },
  {
   "cell_type": "code",
   "execution_count": 18,
   "metadata": {
    "hidden": true
   },
   "outputs": [
    {
     "data": {
      "text/plain": [
       "<module 'numpy' from '/Library/Frameworks/Python.framework/Versions/3.8/lib/python3.8/site-packages/numpy/__init__.py'>"
      ]
     },
     "execution_count": 18,
     "metadata": {},
     "output_type": "execute_result"
    }
   ],
   "source": [
    "np"
   ]
  },
  {
   "cell_type": "markdown",
   "metadata": {
    "hidden": true
   },
   "source": [
    "<b>How to read the documentation for an any given function?</b>"
   ]
  },
  {
   "cell_type": "code",
   "execution_count": 15,
   "metadata": {
    "hidden": true
   },
   "outputs": [],
   "source": [
    "np?"
   ]
  },
  {
   "cell_type": "code",
   "execution_count": 14,
   "metadata": {
    "hidden": true
   },
   "outputs": [],
   "source": [
    "?np"
   ]
  },
  {
   "cell_type": "markdown",
   "metadata": {
    "hidden": true
   },
   "source": [
    "<b>How to read the documentation for an any given function, along side source code?</b>"
   ]
  },
  {
   "cell_type": "code",
   "execution_count": 10,
   "metadata": {
    "hidden": true
   },
   "outputs": [],
   "source": [
    "np??"
   ]
  },
  {
   "cell_type": "code",
   "execution_count": 16,
   "metadata": {
    "hidden": true
   },
   "outputs": [],
   "source": [
    "??np"
   ]
  },
  {
   "cell_type": "markdown",
   "metadata": {
    "heading_collapsed": true
   },
   "source": [
    "# Python & `array`"
   ]
  },
  {
   "cell_type": "markdown",
   "metadata": {
    "hidden": true
   },
   "source": [
    "<b>One of the major reasons for ease of use of Python is its dynamic typing, i.e we dont need to specify which type a variable might assume a value of, which is not the case in most of the other languages such as C & Java</b>\n",
    "\n",
    "In C++ we need to define a variable and the type i.e\n",
    "\n",
    "`int age = 24`\n",
    "\n",
    "In Python we do away with the dataype of that particular variable, i.e\n",
    "\n",
    "`age=24` is more than sufficient, although if you want to be more specific, we can always use\n",
    "`age:int=24`"
   ]
  },
  {
   "cell_type": "code",
   "execution_count": 30,
   "metadata": {
    "hidden": true
   },
   "outputs": [
    {
     "name": "stdout",
     "output_type": "stream",
     "text": [
      "age1=24(Type=(<class 'int'>)), age2=42(Type=(<class 'int'>))\n"
     ]
    }
   ],
   "source": [
    "age1=24\n",
    "age2:int=42\n",
    "\n",
    "print(f'age1={age1}(Type=({type(age1)})), age2={age2}(Type=({type(age2)}))')\n"
   ]
  },
  {
   "cell_type": "markdown",
   "metadata": {
    "hidden": true
   },
   "source": [
    "[A Python 🐍  list is more than just a list](https://jakevdp.github.io/PythonDataScienceHandbook/02.01-understanding-data-types.html#A-Python-List-Is-More-Than-Just-a-List) -  Python Data Science Handbook , Jake VanderPlas\n",
    "\n",
    "To allow for the dynamic typing, we have to pay a cost while creating a list with mutliple datatypes, which is that the list object now need to keep track of all the elements within, and each of these elements are an Object in itseleves.\n"
   ]
  },
  {
   "cell_type": "code",
   "execution_count": 33,
   "metadata": {
    "hidden": true
   },
   "outputs": [
    {
     "data": {
      "text/plain": [
       "[1, 'Achintya', 3.14, True]"
      ]
     },
     "execution_count": 33,
     "metadata": {},
     "output_type": "execute_result"
    }
   ],
   "source": [
    "L=[1,'Achintya', 3.14, True]\n",
    "L"
   ]
  },
  {
   "cell_type": "code",
   "execution_count": 37,
   "metadata": {
    "hidden": true
   },
   "outputs": [
    {
     "name": "stdout",
     "output_type": "stream",
     "text": [
      "<class 'str'>\n"
     ]
    }
   ],
   "source": [
    "print(type(L[1]))"
   ]
  },
  {
   "cell_type": "markdown",
   "metadata": {
    "hidden": true
   },
   "source": [
    "<b>So how do we overcome this, is there a way?</b>\n",
    "\n",
    "Yes! Use Python's `array` module, \n",
    "\n",
    "Available TypeCodes are :\n",
    "\n",
    "    Type code   C Type             Minimum size in bytes\n",
    "    'b'         signed integer     1\n",
    "    'B'         unsigned integer   1\n",
    "    'u'         Unicode character  2 (see note)\n",
    "    'h'         signed integer     2\n",
    "    'H'         unsigned integer   2\n",
    "    'i'         signed integer     2\n",
    "    'I'         unsigned integer   2\n",
    "    'l'         signed integer     4\n",
    "    'L'         unsigned integer   4\n",
    "    'q'         signed integer     8 (see note)\n",
    "    'Q'         unsigned integer   8 (see note)\n",
    "    'f'         floating point     4\n",
    "    'd'         floating point     8\n"
   ]
  },
  {
   "cell_type": "code",
   "execution_count": 62,
   "metadata": {
    "hidden": true
   },
   "outputs": [
    {
     "data": {
      "text/plain": [
       "array('i', [0, 1, 2, 3, 4, 5, 6, 7, 8, 9])"
      ]
     },
     "execution_count": 62,
     "metadata": {},
     "output_type": "execute_result"
    }
   ],
   "source": [
    "import array\n",
    "L = list(range(10))\n",
    "A = array.array('i', L)\n",
    "A"
   ]
  },
  {
   "cell_type": "markdown",
   "metadata": {
    "hidden": true
   },
   "source": [
    "<b>Can we append a different datatype to the list and make an array object?</b>"
   ]
  },
  {
   "cell_type": "code",
   "execution_count": 63,
   "metadata": {
    "hidden": true
   },
   "outputs": [
    {
     "ename": "TypeError",
     "evalue": "an integer is required (got type str)",
     "output_type": "error",
     "traceback": [
      "\u001b[0;31m---------------------------------------------------------------------------\u001b[0m",
      "\u001b[0;31mTypeError\u001b[0m                                 Traceback (most recent call last)",
      "\u001b[0;32m<ipython-input-63-c6512e587c4c>\u001b[0m in \u001b[0;36m<module>\u001b[0;34m\u001b[0m\n\u001b[1;32m      1\u001b[0m \u001b[0mL\u001b[0m\u001b[0;34m+=\u001b[0m\u001b[0;34m[\u001b[0m\u001b[0;34m'some string'\u001b[0m\u001b[0;34m]\u001b[0m\u001b[0;34m\u001b[0m\u001b[0;34m\u001b[0m\u001b[0m\n\u001b[0;32m----> 2\u001b[0;31m \u001b[0mA\u001b[0m \u001b[0;34m=\u001b[0m \u001b[0marray\u001b[0m\u001b[0;34m.\u001b[0m\u001b[0marray\u001b[0m\u001b[0;34m(\u001b[0m\u001b[0;34m'i'\u001b[0m\u001b[0;34m,\u001b[0m \u001b[0mL\u001b[0m\u001b[0;34m)\u001b[0m\u001b[0;34m\u001b[0m\u001b[0;34m\u001b[0m\u001b[0m\n\u001b[0m\u001b[1;32m      3\u001b[0m \u001b[0mA\u001b[0m\u001b[0;34m\u001b[0m\u001b[0;34m\u001b[0m\u001b[0m\n",
      "\u001b[0;31mTypeError\u001b[0m: an integer is required (got type str)"
     ]
    }
   ],
   "source": [
    "L+=['some string']\n",
    "A = array.array('i', L)\n",
    "A"
   ]
  },
  {
   "cell_type": "markdown",
   "metadata": {
    "heading_collapsed": true
   },
   "source": [
    "# `numpy` to the rescue"
   ]
  },
  {
   "cell_type": "markdown",
   "metadata": {
    "hidden": true
   },
   "source": [
    "<b>Creating a simple numpy array</b>\n",
    "\n",
    "[NumPy: the absolute basics for beginners](https://numpy.org/doc/stable/user/absolute_beginners.html)\n",
    "\n",
    "All of the elements in a NumPy array should be homogenous. \n",
    "Can you notice the difference between the two?"
   ]
  },
  {
   "cell_type": "code",
   "execution_count": 67,
   "metadata": {
    "hidden": true
   },
   "outputs": [
    {
     "data": {
      "text/plain": [
       "array([0, 1, 2, 3, 4, 5, 6, 7, 8, 9])"
      ]
     },
     "execution_count": 67,
     "metadata": {},
     "output_type": "execute_result"
    }
   ],
   "source": [
    "np.array(L[:-1])"
   ]
  },
  {
   "cell_type": "code",
   "execution_count": 65,
   "metadata": {
    "hidden": true
   },
   "outputs": [
    {
     "data": {
      "text/plain": [
       "array(['0', '1', '2', '3', '4', '5', '6', '7', '8', '9', 'some string'],\n",
       "      dtype='<U21')"
      ]
     },
     "execution_count": 65,
     "metadata": {},
     "output_type": "execute_result"
    }
   ],
   "source": [
    "np.array(L)"
   ]
  },
  {
   "cell_type": "markdown",
   "metadata": {
    "hidden": true
   },
   "source": [
    "Numpy `ndarray` module will not throw an error, but instead try to upcast the values(elements) to a suitable common datatype: [List of Numpy DataTypes](https://numpy.org/devdocs/user/basics.types.html)\n",
    "\n",
    "Creating a Basic Numpy Array :\n",
    "\n",
    "<img src='https://numpy.org/doc/stable/_images/np_array.png'>"
   ]
  },
  {
   "cell_type": "code",
   "execution_count": 68,
   "metadata": {
    "hidden": true
   },
   "outputs": [
    {
     "data": {
      "text/plain": [
       "array([1, 2, 3])"
      ]
     },
     "execution_count": 68,
     "metadata": {},
     "output_type": "execute_result"
    }
   ],
   "source": [
    "np.array([1,2,3])"
   ]
  },
  {
   "cell_type": "code",
   "execution_count": 69,
   "metadata": {
    "hidden": true
   },
   "outputs": [
    {
     "data": {
      "text/plain": [
       "array([1.  , 2.  , 3.14])"
      ]
     },
     "execution_count": 69,
     "metadata": {},
     "output_type": "execute_result"
    }
   ],
   "source": [
    "np.array([1,2,3.14])"
   ]
  },
  {
   "cell_type": "markdown",
   "metadata": {
    "heading_collapsed": true
   },
   "source": [
    "# Basics - Array Generation"
   ]
  },
  {
   "cell_type": "markdown",
   "metadata": {
    "hidden": true
   },
   "source": [
    "<b>Creating an array of a particular `size=2` 1D with all values `1`</b>"
   ]
  },
  {
   "cell_type": "code",
   "execution_count": 73,
   "metadata": {
    "hidden": true
   },
   "outputs": [
    {
     "data": {
      "text/plain": [
       "array([0, 0])"
      ]
     },
     "execution_count": 73,
     "metadata": {},
     "output_type": "execute_result"
    }
   ],
   "source": [
    "np.zeros(2, dtype=int) # 1D Array"
   ]
  },
  {
   "cell_type": "markdown",
   "metadata": {
    "hidden": true
   },
   "source": [
    "<b>Creating an array of a particular `size=(2,2)` 2D with all values `0`</b>"
   ]
  },
  {
   "cell_type": "code",
   "execution_count": 78,
   "metadata": {
    "hidden": true
   },
   "outputs": [
    {
     "data": {
      "text/plain": [
       "array([[1, 1],\n",
       "       [1, 1]])"
      ]
     },
     "execution_count": 78,
     "metadata": {},
     "output_type": "execute_result"
    }
   ],
   "source": [
    "np.ones((2,2), dtype=int) # 2D Array"
   ]
  },
  {
   "cell_type": "markdown",
   "metadata": {
    "hidden": true
   },
   "source": [
    "<b>Creating an array of a particular `size=(2,2,2)` 3D with all values `0`</b>"
   ]
  },
  {
   "cell_type": "code",
   "execution_count": 84,
   "metadata": {
    "hidden": true
   },
   "outputs": [
    {
     "data": {
      "text/plain": [
       "array([[[1, 1],\n",
       "        [1, 1]],\n",
       "\n",
       "       [[1, 1],\n",
       "        [1, 1]]])"
      ]
     },
     "execution_count": 84,
     "metadata": {},
     "output_type": "execute_result"
    }
   ],
   "source": [
    "np.ones((2,2,2), dtype=int) # 3D Array and so on..."
   ]
  },
  {
   "cell_type": "markdown",
   "metadata": {
    "hidden": true
   },
   "source": [
    "<b>Creating an array containg range of equally spaced intervals</b>"
   ]
  },
  {
   "cell_type": "code",
   "execution_count": 85,
   "metadata": {
    "hidden": true
   },
   "outputs": [
    {
     "data": {
      "text/plain": [
       "array([2, 4, 6, 8])"
      ]
     },
     "execution_count": 85,
     "metadata": {},
     "output_type": "execute_result"
    }
   ],
   "source": [
    "np.arange(2, 9, 2)"
   ]
  },
  {
   "cell_type": "markdown",
   "metadata": {
    "hidden": true
   },
   "source": [
    "<b>Create an array with values that are spaced linearly in a specified interval</b>"
   ]
  },
  {
   "cell_type": "code",
   "execution_count": 90,
   "metadata": {
    "hidden": true
   },
   "outputs": [
    {
     "data": {
      "text/plain": [
       "array([-20.        , -16.36363636, -12.72727273,  -9.09090909,\n",
       "        -5.45454545,  -1.81818182,   1.81818182,   5.45454545,\n",
       "         9.09090909,  12.72727273,  16.36363636,  20.        ])"
      ]
     },
     "execution_count": 90,
     "metadata": {},
     "output_type": "execute_result"
    }
   ],
   "source": [
    "np.linspace(-20, 20, 12)"
   ]
  },
  {
   "cell_type": "markdown",
   "metadata": {
    "hidden": true
   },
   "source": [
    "<b>Create an array with random values between [0, 1)</b>"
   ]
  },
  {
   "cell_type": "code",
   "execution_count": 103,
   "metadata": {
    "hidden": true
   },
   "outputs": [
    {
     "data": {
      "text/plain": [
       "array([[0.91984011, 0.43286515, 0.88622096],\n",
       "       [0.708858  , 0.49844346, 0.33204096],\n",
       "       [0.92016405, 0.19900804, 0.72728854]])"
      ]
     },
     "execution_count": 103,
     "metadata": {},
     "output_type": "execute_result"
    }
   ],
   "source": [
    "np.random.random((3, 3))"
   ]
  },
  {
   "cell_type": "markdown",
   "metadata": {
    "hidden": true
   },
   "source": [
    "<b>Create an array with random integer of the size (m,n) all sampled from a given range</b>"
   ]
  },
  {
   "cell_type": "code",
   "execution_count": 108,
   "metadata": {
    "hidden": true
   },
   "outputs": [
    {
     "data": {
      "text/plain": [
       "array([[ 7, 10, 17,  3],\n",
       "       [15, 11, -1, 19],\n",
       "       [-2,  2, 15, 18]])"
      ]
     },
     "execution_count": 108,
     "metadata": {},
     "output_type": "execute_result"
    }
   ],
   "source": [
    "np.random.randint(-2,20,(3, 4))"
   ]
  },
  {
   "cell_type": "markdown",
   "metadata": {
    "heading_collapsed": true
   },
   "source": [
    "# Indicing and Reshaping Numpy Array\n",
    "\n",
    "Indicing an Numpy `ndarray` is same as indicing a Python🐍 `list`\n",
    "\n",
    "<img src='https://numpy.org/doc/stable/_images/np_indexing.png'>"
   ]
  },
  {
   "cell_type": "code",
   "execution_count": 116,
   "metadata": {
    "hidden": true
   },
   "outputs": [
    {
     "data": {
      "text/plain": [
       "array([ 0,  1,  2,  3,  4,  5,  6,  7,  8,  9, 10, 11, 12, 13, 14, 15, 16,\n",
       "       17, 18, 19])"
      ]
     },
     "execution_count": 116,
     "metadata": {},
     "output_type": "execute_result"
    }
   ],
   "source": [
    "npL = np.array(L)\n",
    "npL"
   ]
  },
  {
   "cell_type": "code",
   "execution_count": 126,
   "metadata": {
    "hidden": true
   },
   "outputs": [
    {
     "name": "stdout",
     "output_type": "stream",
     "text": [
      "Element at 0th index :  0\n",
      "Element at -1 index, i.e last index 19\n",
      "Elements from 1 and on index, SubArray [ 1  2  3  4  5  6  7  8  9 10 11 12 13 14 15 16 17 18 19]\n",
      "Elements upto -2 index, SubArray [ 0  1  2  3  4  5  6  7  8  9 10 11 12 13 14 15 16 17]\n",
      "Elements from -2 index, SubArray [18 19]\n",
      "Elements from index 2 to -4, SubArray [18 19]\n",
      "Every second element [ 0  2  4  6  8 10 12 14 16 18]\n",
      "Every third element [ 0  3  6  9 12 15 18]\n",
      "Elements reversed [19 18 17 16 15 14 13 12 11 10  9  8  7  6  5  4  3  2  1  0]\n"
     ]
    }
   ],
   "source": [
    "print('Element at 0th index : ', npL[0])\n",
    "print('Element at -1 index, i.e last index', npL[-1])\n",
    "print('Elements from 1 and on index, SubArray', npL[1:])\n",
    "print('Elements upto -2 index, SubArray', npL[:-2])\n",
    "print('Elements from -2 index, SubArray', npL[-2:])\n",
    "print('Elements from index 2 to -4, SubArray', npL[-2:])\n",
    "print('Every second element', npL[::2])\n",
    "print('Every third element', npL[::3])\n",
    "print('Elements reversed', npL[::-1])"
   ]
  },
  {
   "cell_type": "markdown",
   "metadata": {
    "hidden": true
   },
   "source": [
    "<b>Reshaping an array</b>"
   ]
  },
  {
   "cell_type": "code",
   "execution_count": 127,
   "metadata": {
    "hidden": true
   },
   "outputs": [
    {
     "data": {
      "text/plain": [
       "array([1, 2, 3])"
      ]
     },
     "execution_count": 127,
     "metadata": {},
     "output_type": "execute_result"
    }
   ],
   "source": [
    "npL=np.array([1,2,3])\n",
    "npL"
   ]
  },
  {
   "cell_type": "code",
   "execution_count": 128,
   "metadata": {
    "hidden": true
   },
   "outputs": [
    {
     "data": {
      "text/plain": [
       "array([[1],\n",
       "       [2],\n",
       "       [3]])"
      ]
     },
     "execution_count": 128,
     "metadata": {},
     "output_type": "execute_result"
    }
   ],
   "source": [
    "npL[:, np.newaxis]"
   ]
  },
  {
   "cell_type": "code",
   "execution_count": 129,
   "metadata": {
    "hidden": true
   },
   "outputs": [
    {
     "data": {
      "text/plain": [
       "array([[1, 2, 3]])"
      ]
     },
     "execution_count": 129,
     "metadata": {},
     "output_type": "execute_result"
    }
   ],
   "source": [
    "npL[np.newaxis, :]"
   ]
  },
  {
   "cell_type": "markdown",
   "metadata": {
    "heading_collapsed": true
   },
   "source": [
    "# Broadcasting\n",
    "\n",
    "<img src='https://numpy.org/doc/stable/_images/np_multiply_broadcasting.png'>\n",
    "\n",
    "<img src='https://numpy.org/doc/stable/_images/np_aggregation.png'>"
   ]
  },
  {
   "cell_type": "code",
   "execution_count": 131,
   "metadata": {
    "hidden": true
   },
   "outputs": [
    {
     "data": {
      "text/plain": [
       "[0, 1, 2, 3, 4]"
      ]
     },
     "execution_count": 131,
     "metadata": {},
     "output_type": "execute_result"
    }
   ],
   "source": [
    "L = list(range(5))\n",
    "L"
   ]
  },
  {
   "cell_type": "code",
   "execution_count": 132,
   "metadata": {
    "hidden": true
   },
   "outputs": [
    {
     "ename": "TypeError",
     "evalue": "can only concatenate list (not \"int\") to list",
     "output_type": "error",
     "traceback": [
      "\u001b[0;31m---------------------------------------------------------------------------\u001b[0m",
      "\u001b[0;31mTypeError\u001b[0m                                 Traceback (most recent call last)",
      "\u001b[0;32m<ipython-input-132-bb7a39c05802>\u001b[0m in \u001b[0;36m<module>\u001b[0;34m\u001b[0m\n\u001b[0;32m----> 1\u001b[0;31m \u001b[0mL\u001b[0m\u001b[0;34m+\u001b[0m\u001b[0;36m2\u001b[0m \u001b[0;31m# Throws an error!\u001b[0m\u001b[0;34m\u001b[0m\u001b[0;34m\u001b[0m\u001b[0m\n\u001b[0m",
      "\u001b[0;31mTypeError\u001b[0m: can only concatenate list (not \"int\") to list"
     ]
    }
   ],
   "source": [
    "L+2 # Throws an error!"
   ]
  },
  {
   "cell_type": "code",
   "execution_count": 139,
   "metadata": {
    "hidden": true
   },
   "outputs": [
    {
     "name": "stdout",
     "output_type": "stream",
     "text": [
      "Addition       :  [2 3 4 5 6]\n",
      "Multiplication :  [0 2 4 6 8]\n",
      "Division       :  [0.  0.5 1.  1.5 2. ]\n",
      "Moduluo        :  [0 1 0 1 0]\n",
      "Power          :  [ 0  1  4  9 16]\n"
     ]
    }
   ],
   "source": [
    "print('Addition       : ', np.array(L)+2)\n",
    "print('Multiplication : ', np.array(L)*2)\n",
    "print('Division       : ', np.array(L)/2)\n",
    "print('Moduluo        : ', np.array(L)%2)\n",
    "print('Power          : ', np.array(L)**2)\n"
   ]
  },
  {
   "cell_type": "markdown",
   "metadata": {
    "hidden": true
   },
   "source": [
    "Will highly recommed that you go through the Broadcasting Operations :[Numpy Broadcasting](https://numpy.org/doc/stable/user/absolute_beginners.html#broadcasting)"
   ]
  },
  {
   "cell_type": "markdown",
   "metadata": {
    "heading_collapsed": true
   },
   "source": [
    "# Datetimes in Python\n",
    "\n",
    "Since this talk is about Time Series Forecasting, we will take a deep dive into [Numpy `datetime64`](https://numpy.org/doc/stable/reference/arrays.datetime.html#datetimes-and-timedeltas)\n",
    "\n",
    "<b>But before we dive deep into the Numpy `datetime64` datetime datatype, lets first see the pythons inbuilt `datetime` library</b>"
   ]
  },
  {
   "cell_type": "markdown",
   "metadata": {
    "heading_collapsed": true,
    "hidden": true
   },
   "source": [
    "## Python Native `datetime`\n",
    "\n",
    "\n",
    "`datetime.strftime` Format Codes\n",
    "\n",
    "<table class=\"docutils align-default\">\n",
    "<colgroup>\n",
    "<col style=\"width: 15%\">\n",
    "<col style=\"width: 43%\">\n",
    "<col style=\"width: 32%\">\n",
    "<col style=\"width: 9%\">\n",
    "</colgroup>\n",
    "<thead>\n",
    "<tr class=\"row-odd\"><th class=\"head\"><p>Directive</p></th>\n",
    "<th class=\"head\"><p>Meaning</p></th>\n",
    "<th class=\"head\"><p>Example</p></th>\n",
    "</tr>\n",
    "</thead>\n",
    "<tbody>\n",
    "<tr class=\"row-even\"><td><p><code class=\"docutils literal notranslate\"><span class=\"pre\">%a</span></code></p></td>\n",
    "<td><p>Weekday as locale’s\n",
    "abbreviated name.</p></td>\n",
    "<td><div class=\"line-block\">\n",
    "<div class=\"line\">Sun, Mon, …, Sat\n",
    "(en_US);</div>\n",
    "<div class=\"line\">So, Mo, …, Sa\n",
    "(de_DE)</div>\n",
    "</div>\n",
    "</td>\n",
    "</tr>\n",
    "<tr class=\"row-odd\"><td><p><code class=\"docutils literal notranslate\"><span class=\"pre\">%A</span></code></p></td>\n",
    "<td><p>Weekday as locale’s full name.</p></td>\n",
    "<td><div class=\"line-block\">\n",
    "<div class=\"line\">Sunday, Monday, …,\n",
    "Saturday (en_US);</div>\n",
    "<div class=\"line\">Sonntag, Montag, …,\n",
    "Samstag (de_DE)</div>\n",
    "</div>\n",
    "</td>\n",
    "</tr>\n",
    "<tr class=\"row-even\"><td><p><code class=\"docutils literal notranslate\"><span class=\"pre\">%w</span></code></p></td>\n",
    "<td><p>Weekday as a decimal number,\n",
    "where 0 is Sunday and 6 is\n",
    "Saturday.</p></td>\n",
    "<td><p>0, 1, …, 6</p></td>\n",
    "</tr>\n",
    "<tr class=\"row-odd\"><td><p><code class=\"docutils literal notranslate\"><span class=\"pre\">%d</span></code></p></td>\n",
    "<td><p>Day of the month as a\n",
    "zero-padded decimal number.</p></td>\n",
    "<td><p>01, 02, …, 31</p></td>\n",
    "</tr>\n",
    "<tr class=\"row-even\"><td><p><code class=\"docutils literal notranslate\"><span class=\"pre\">%b</span></code></p></td>\n",
    "<td><p>Month as locale’s abbreviated\n",
    "name.</p></td>\n",
    "<td><div class=\"line-block\">\n",
    "<div class=\"line\">Jan, Feb, …, Dec\n",
    "(en_US);</div>\n",
    "<div class=\"line\">Jan, Feb, …, Dez\n",
    "(de_DE)</div>\n",
    "</div>\n",
    "</td>\n",
    "</tr>\n",
    "<tr class=\"row-odd\"><td><p><code class=\"docutils literal notranslate\"><span class=\"pre\">%B</span></code></p></td>\n",
    "<td><p>Month as locale’s full name.</p></td>\n",
    "<td><div class=\"line-block\">\n",
    "<div class=\"line\">January, February,\n",
    "…, December (en_US);</div>\n",
    "<div class=\"line\">Januar, Februar, …,\n",
    "Dezember (de_DE)</div>\n",
    "</div>\n",
    "</td>\n",
    "</tr>\n",
    "<tr class=\"row-even\"><td><p><code class=\"docutils literal notranslate\"><span class=\"pre\">%m</span></code></p></td>\n",
    "<td><p>Month as a zero-padded\n",
    "decimal number.</p></td>\n",
    "<td><p>01, 02, …, 12</p></td>\n",
    "</tr>\n",
    "<tr class=\"row-odd\"><td><p><code class=\"docutils literal notranslate\"><span class=\"pre\">%y</span></code></p></td>\n",
    "<td><p>Year without century as a\n",
    "zero-padded decimal number.</p></td>\n",
    "<td><p>00, 01, …, 99</p></td>\n",
    "</tr>\n",
    "<tr class=\"row-even\"><td><p><code class=\"docutils literal notranslate\"><span class=\"pre\">%Y</span></code></p></td>\n",
    "<td><p>Year with century as a decimal\n",
    "number.</p></td>\n",
    "<td><p>0001, 0002, …, 2013,\n",
    "2014, …, 9998, 9999</p></td>\n",
    "</tr>\n",
    "<tr class=\"row-odd\"><td><p><code class=\"docutils literal notranslate\"><span class=\"pre\">%H</span></code></p></td>\n",
    "<td><p>Hour (24-hour clock) as a\n",
    "zero-padded decimal number.</p></td>\n",
    "<td><p>00, 01, …, 23</p></td>\n",
    "</tr>\n",
    "<tr class=\"row-even\"><td><p><code class=\"docutils literal notranslate\"><span class=\"pre\">%I</span></code></p></td>\n",
    "<td><p>Hour (12-hour clock) as a\n",
    "zero-padded decimal number.</p></td>\n",
    "<td><p>01, 02, …, 12</p></td>\n",
    "</tr>\n",
    "<tr class=\"row-odd\"><td><p><code class=\"docutils literal notranslate\"><span class=\"pre\">%p</span></code></p></td>\n",
    "<td><p>Locale’s equivalent of either\n",
    "AM or PM.</p></td>\n",
    "<td><div class=\"line-block\">\n",
    "<div class=\"line\">AM, PM (en_US);</div>\n",
    "<div class=\"line\">am, pm (de_DE)</div>\n",
    "</div>\n",
    "</td>\n",
    "</tr>\n",
    "<tr class=\"row-even\"><td><p><code class=\"docutils literal notranslate\"><span class=\"pre\">%M</span></code></p></td>\n",
    "<td><p>Minute as a zero-padded\n",
    "decimal number.</p></td>\n",
    "<td><p>00, 01, …, 59</p></td>\n",
    "</tr>\n",
    "<tr class=\"row-odd\"><td><p><code class=\"docutils literal notranslate\"><span class=\"pre\">%S</span></code></p></td>\n",
    "<td><p>Second as a zero-padded\n",
    "decimal number.</p></td>\n",
    "<td><p>00, 01, …, 59</p></td>\n",
    "</tr>\n",
    "<tr class=\"row-even\"><td><p><code class=\"docutils literal notranslate\"><span class=\"pre\">%f</span></code></p></td>\n",
    "<td><p>Microsecond as a decimal\n",
    "number, zero-padded on the\n",
    "left.</p></td>\n",
    "<td><p>000000, 000001, …,\n",
    "999999</p></td>\n",
    "</tr>\n",
    "<tr class=\"row-odd\"><td><p><code class=\"docutils literal notranslate\"><span class=\"pre\">%z</span></code></p></td>\n",
    "<td><p>UTC offset in the form\n",
    "<code class=\"docutils literal notranslate\"><span class=\"pre\">±HHMM[SS[.ffffff]]</span></code> (empty\n",
    "string if the object is\n",
    "naive).</p></td>\n",
    "<td><p>(empty), +0000,\n",
    "-0400, +1030,\n",
    "+063415,\n",
    "-030712.345216</p></td>\n",
    "</tr>\n",
    "<tr class=\"row-even\"><td><p><code class=\"docutils literal notranslate\"><span class=\"pre\">%Z</span></code></p></td>\n",
    "<td><p>Time zone name (empty string\n",
    "if the object is naive).</p></td>\n",
    "<td><p>(empty), UTC, GMT</p></td>\n",
    "</tr>\n",
    "<tr class=\"row-odd\"><td><p><code class=\"docutils literal notranslate\"><span class=\"pre\">%j</span></code></p></td>\n",
    "<td><p>Day of the year as a\n",
    "zero-padded decimal number.</p></td>\n",
    "<td><p>001, 002, …, 366</p></td>\n",
    "</tr>\n",
    "<tr class=\"row-even\"><td><p><code class=\"docutils literal notranslate\"><span class=\"pre\">%U</span></code></p></td>\n",
    "<td><p>Week number of the year\n",
    "(Sunday as the first day of\n",
    "the week) as a zero padded\n",
    "decimal number. All days in a\n",
    "new year preceding the first\n",
    "Sunday are considered to be in\n",
    "week 0.</p></td>\n",
    "<td><p>00, 01, …, 53</p></td>\n",
    "</tr>\n",
    "<tr class=\"row-odd\"><td><p><code class=\"docutils literal notranslate\"><span class=\"pre\">%W</span></code></p></td>\n",
    "<td><p>Week number of the year\n",
    "(Monday as the first day of\n",
    "the week) as a decimal number.\n",
    "All days in a new year\n",
    "preceding the first Monday\n",
    "are considered to be in\n",
    "week 0.</p></td>\n",
    "<td><p>00, 01, …, 53</p></td>\n",
    "</tr>\n",
    "<tr class=\"row-even\"><td><p><code class=\"docutils literal notranslate\"><span class=\"pre\">%c</span></code></p></td>\n",
    "<td><p>Locale’s appropriate date and\n",
    "time representation.</p></td>\n",
    "<td><div class=\"line-block\">\n",
    "<div class=\"line\">Tue Aug 16 21:30:00\n",
    "1988 (en_US);</div>\n",
    "<div class=\"line\">Di 16 Aug 21:30:00\n",
    "1988 (de_DE)</div>\n",
    "</div>\n",
    "</td>\n",
    "</tr>\n",
    "<tr class=\"row-odd\"><td><p><code class=\"docutils literal notranslate\"><span class=\"pre\">%x</span></code></p></td>\n",
    "<td><p>Locale’s appropriate date\n",
    "representation.</p></td>\n",
    "<td><div class=\"line-block\">\n",
    "<div class=\"line\">08/16/88 (None);</div>\n",
    "<div class=\"line\">08/16/1988 (en_US);</div>\n",
    "<div class=\"line\">16.08.1988 (de_DE)</div>\n",
    "</div>\n",
    "</td>\n",
    "</tr>\n",
    "<tr class=\"row-even\"><td><p><code class=\"docutils literal notranslate\"><span class=\"pre\">%X</span></code></p></td>\n",
    "<td><p>Locale’s appropriate time\n",
    "representation.</p></td>\n",
    "<td><div class=\"line-block\">\n",
    "<div class=\"line\">21:30:00 (en_US);</div>\n",
    "<div class=\"line\">21:30:00 (de_DE)</div>\n",
    "</div>\n",
    "</td>\n",
    "</tr>\n",
    "<tr class=\"row-odd\"><td><p><code class=\"docutils literal notranslate\"><span class=\"pre\">%%</span></code></p></td>\n",
    "<td><p>A literal <code class=\"docutils literal notranslate\"><span class=\"pre\">'%'</span></code> character.</p></td>\n",
    "<td><p>%</p></td>\n",
    "</tr>\n",
    "</tbody>\n",
    "</table>\n",
    "\n",
    "Another useful library to look at are : [dateutils](https://dateutil.readthedocs.io/en/stable/), [pytz-Handles TimeZones](http://pytz.sourceforge.net)\n"
   ]
  },
  {
   "cell_type": "code",
   "execution_count": 180,
   "metadata": {
    "hidden": true
   },
   "outputs": [],
   "source": [
    "from datetime import datetime, timedelta"
   ]
  },
  {
   "cell_type": "markdown",
   "metadata": {
    "hidden": true
   },
   "source": [
    "<b>Getting a particular datetime</b>"
   ]
  },
  {
   "cell_type": "code",
   "execution_count": 181,
   "metadata": {
    "hidden": true
   },
   "outputs": [
    {
     "data": {
      "text/plain": [
       "datetime.datetime(2020, 12, 7, 12, 23)"
      ]
     },
     "execution_count": 181,
     "metadata": {},
     "output_type": "execute_result"
    }
   ],
   "source": [
    "datetime(year=2020, month=12, day=7, hour=12, minute=23)"
   ]
  },
  {
   "cell_type": "markdown",
   "metadata": {
    "hidden": true
   },
   "source": [
    "<b>Getting Now!</b>"
   ]
  },
  {
   "cell_type": "code",
   "execution_count": 186,
   "metadata": {
    "hidden": true
   },
   "outputs": [
    {
     "data": {
      "text/plain": [
       "datetime.datetime(2020, 11, 27, 0, 9, 25, 371690)"
      ]
     },
     "execution_count": 186,
     "metadata": {},
     "output_type": "execute_result"
    }
   ],
   "source": [
    "datetime.now()"
   ]
  },
  {
   "cell_type": "markdown",
   "metadata": {
    "hidden": true
   },
   "source": [
    "<b>Getting a string representation of the datetime</b>\n",
    "\n",
    "For the format codes, see the table in the header."
   ]
  },
  {
   "cell_type": "code",
   "execution_count": 249,
   "metadata": {
    "hidden": true
   },
   "outputs": [
    {
     "name": "stdout",
     "output_type": "stream",
     "text": [
      "Current year                                 : 2020\n",
      "Current year-month                           : 2020-11\n",
      "Current year-month-date                      : 2020-11-27\n",
      "Current year-month-date-hour-minutes-seconds : 2020-11-27 00-21-23\n",
      "Current weeknumber                           : 47\n",
      "Current 12-hour clock time                   : 12:21:23 AM\n",
      "Current Month name                           : November\n",
      "Current Month name Abbreviation              : Nov\n",
      "Current Week Day Number                      : 5\n",
      "Current Week Day                             : Friday\n"
     ]
    }
   ],
   "source": [
    "current_time = datetime.now()\n",
    "print('Current year                                 :', current_time.strftime('%Y'))\n",
    "print('Current year-month                           :', current_time.strftime('%Y-%m'))\n",
    "print('Current year-month-date                      :', current_time.strftime('%Y-%m-%d'))\n",
    "print('Current year-month-date-hour-minutes-seconds :', current_time.strftime('%Y-%m-%d %H-%M-%S'))\n",
    "print('Current weeknumber                           :', current_time.strftime('%W'))\n",
    "print('Current 12-hour clock time                   :', current_time.strftime('%I:%M:%S %p'))\n",
    "print('Current Month name                           :', current_time.strftime('%B'))\n",
    "print('Current Month name Abbreviation              :', current_time.strftime('%b'))\n",
    "print('Current Week Day Number                      :', current_time.strftime('%w'))\n",
    "print('Current Week Day                             :', current_time.strftime('%A'))"
   ]
  },
  {
   "cell_type": "markdown",
   "metadata": {
    "hidden": true
   },
   "source": [
    "<b>Inferring datetime from a string</b>\n"
   ]
  },
  {
   "cell_type": "code",
   "execution_count": 250,
   "metadata": {
    "hidden": true
   },
   "outputs": [
    {
     "data": {
      "text/plain": [
       "datetime.datetime(2020, 11, 27, 0, 15, 51)"
      ]
     },
     "execution_count": 250,
     "metadata": {},
     "output_type": "execute_result"
    }
   ],
   "source": [
    "datetime.strptime('2020-11-27 00-15-51', '%Y-%m-%d %H-%M-%S')"
   ]
  },
  {
   "cell_type": "markdown",
   "metadata": {
    "hidden": true
   },
   "source": [
    "<b>`datetime` atrributes</b>"
   ]
  },
  {
   "cell_type": "code",
   "execution_count": 251,
   "metadata": {
    "hidden": true
   },
   "outputs": [
    {
     "data": {
      "text/plain": [
       "['now',\n",
       " 'utcnow',\n",
       " 'fromtimestamp',\n",
       " 'utcfromtimestamp',\n",
       " 'strptime',\n",
       " 'combine',\n",
       " 'fromisoformat',\n",
       " 'date',\n",
       " 'time',\n",
       " 'timetz',\n",
       " 'ctime',\n",
       " 'timetuple',\n",
       " 'timestamp',\n",
       " 'utctimetuple',\n",
       " 'isoformat',\n",
       " 'utcoffset',\n",
       " 'tzname',\n",
       " 'dst',\n",
       " 'replace',\n",
       " 'astimezone',\n",
       " 'hour',\n",
       " 'minute',\n",
       " 'second',\n",
       " 'microsecond',\n",
       " 'tzinfo',\n",
       " 'fold',\n",
       " 'min',\n",
       " 'max',\n",
       " 'resolution',\n",
       " 'fromordinal',\n",
       " 'fromisocalendar',\n",
       " 'today',\n",
       " 'strftime',\n",
       " 'isocalendar',\n",
       " 'isoweekday',\n",
       " 'toordinal',\n",
       " 'weekday',\n",
       " 'year',\n",
       " 'month',\n",
       " 'day']"
      ]
     },
     "execution_count": 251,
     "metadata": {},
     "output_type": "execute_result"
    }
   ],
   "source": [
    "[k for k in current_time.__dir__() if '_' not in k]"
   ]
  },
  {
   "cell_type": "markdown",
   "metadata": {
    "hidden": true
   },
   "source": [
    "<b>Operations using `Timedelta`</b>"
   ]
  },
  {
   "cell_type": "code",
   "execution_count": 330,
   "metadata": {
    "hidden": true
   },
   "outputs": [
    {
     "name": "stdout",
     "output_type": "stream",
     "text": [
      "Current Time              :  2020-11-27 00:36:17.555281\n",
      "Time 10 days prior        :  2020-11-17 00:36:17.555813\n",
      "Time 10 hours prior       :  2020-11-26 14:36:17.555948\n",
      "Time 1 day, 3 hours prior :  2020-11-25 14:36:17.556069\n"
     ]
    }
   ],
   "source": [
    "print('Current Time              : ', datetime.now())\n",
    "print('Time 10 days prior        : ', datetime.now()-timedelta(days=10))\n",
    "print('Time 10 hours prior       : ', datetime.now()-timedelta(hours=10))\n",
    "print('Time 1 day, 3 hours prior : ', datetime.now()-timedelta(days=1, hours=10))"
   ]
  },
  {
   "cell_type": "code",
   "execution_count": 337,
   "metadata": {
    "hidden": true
   },
   "outputs": [
    {
     "data": {
      "text/plain": [
       "6.0"
      ]
     },
     "execution_count": 337,
     "metadata": {},
     "output_type": "execute_result"
    }
   ],
   "source": [
    "# Divinding two timedeltas\n",
    "timedelta(days=1) / timedelta(hours=4)"
   ]
  },
  {
   "cell_type": "markdown",
   "metadata": {
    "heading_collapsed": true,
    "hidden": true
   },
   "source": [
    "## `dateutils` Package"
   ]
  },
  {
   "cell_type": "code",
   "execution_count": 439,
   "metadata": {
    "hidden": true
   },
   "outputs": [],
   "source": [
    "# https://dateutil.readthedocs.io/en/stable/exercises/index.html\n",
    "from dateutil.rrule import rrule\n",
    "from dateutil.parser import parse\n",
    "from dateutil.rrule import MO, TU, WE, TH, FR, SA, SU, YEARLY, DAILY, MONTHLY, WEEKLY\n",
    "from dateutil.relativedelta import relativedelta"
   ]
  },
  {
   "cell_type": "markdown",
   "metadata": {
    "hidden": true
   },
   "source": [
    "<b>Playing around with `relativedelta`</b>"
   ]
  },
  {
   "cell_type": "code",
   "execution_count": 403,
   "metadata": {
    "hidden": true
   },
   "outputs": [
    {
     "name": "stdout",
     "output_type": "stream",
     "text": [
      "Current Time              :  2020-11-27 02:52:32.410145\n",
      "Time 10 days prior        :  2021-02-27 02:52:32.410751\n"
     ]
    }
   ],
   "source": [
    "print('Current Time              : ', datetime.now())\n",
    "print('Time 10 days prior        : ', datetime.now()+relativedelta(months=3))"
   ]
  },
  {
   "cell_type": "code",
   "execution_count": 405,
   "metadata": {
    "hidden": true
   },
   "outputs": [
    {
     "data": {
      "text/plain": [
       "relativedelta(microseconds=+3)"
      ]
     },
     "execution_count": 405,
     "metadata": {},
     "output_type": "execute_result"
    }
   ],
   "source": [
    "t1 = datetime.now()\n",
    "t2 = t1+relativedelta(microseconds=3)\n",
    "relativedelta(t2,t1)"
   ]
  },
  {
   "cell_type": "markdown",
   "metadata": {
    "hidden": true
   },
   "source": [
    "One month before one year"
   ]
  },
  {
   "cell_type": "code",
   "execution_count": 409,
   "metadata": {
    "hidden": true
   },
   "outputs": [
    {
     "data": {
      "text/plain": [
       "datetime.datetime(2021, 10, 27, 2, 53, 33, 686780)"
      ]
     },
     "execution_count": 409,
     "metadata": {},
     "output_type": "execute_result"
    }
   ],
   "source": [
    "t1+relativedelta(years=+1, months=-1)"
   ]
  },
  {
   "cell_type": "markdown",
   "metadata": {
    "hidden": true
   },
   "source": [
    "Last Friday of this month"
   ]
  },
  {
   "cell_type": "code",
   "execution_count": 412,
   "metadata": {
    "hidden": true
   },
   "outputs": [
    {
     "data": {
      "text/plain": [
       "datetime.datetime(2020, 11, 27, 2, 53, 33, 686780)"
      ]
     },
     "execution_count": 412,
     "metadata": {},
     "output_type": "execute_result"
    }
   ],
   "source": [
    "t1+relativedelta(day=31, weekday=FR(-1))"
   ]
  },
  {
   "cell_type": "markdown",
   "metadata": {
    "hidden": true
   },
   "source": [
    "Next Monday"
   ]
  },
  {
   "cell_type": "code",
   "execution_count": 419,
   "metadata": {
    "hidden": true
   },
   "outputs": [
    {
     "data": {
      "text/plain": [
       "datetime.datetime(2020, 11, 30, 2, 53, 33, 686780)"
      ]
     },
     "execution_count": 419,
     "metadata": {},
     "output_type": "execute_result"
    }
   ],
   "source": [
    "t1+relativedelta(weekday=MO(+1))"
   ]
  },
  {
   "cell_type": "markdown",
   "metadata": {
    "hidden": true
   },
   "source": [
    "Next Monday, But not today!"
   ]
  },
  {
   "cell_type": "code",
   "execution_count": 420,
   "metadata": {
    "hidden": true
   },
   "outputs": [
    {
     "data": {
      "text/plain": [
       "datetime.datetime(2020, 11, 2, 2, 53, 33, 686780)"
      ]
     },
     "execution_count": 420,
     "metadata": {},
     "output_type": "execute_result"
    }
   ],
   "source": [
    "t1+relativedelta(day=1, weekday=MO(+1))"
   ]
  },
  {
   "cell_type": "markdown",
   "metadata": {
    "hidden": true
   },
   "source": [
    "Whats my age?"
   ]
  },
  {
   "cell_type": "code",
   "execution_count": 435,
   "metadata": {
    "hidden": true
   },
   "outputs": [
    {
     "name": "stdout",
     "output_type": "stream",
     "text": [
      "My Age :  relativedelta(years=+24, days=+18, hours=+3, minutes=+6, seconds=+37, microseconds=+343226)\n"
     ]
    }
   ],
   "source": [
    "birthdate = '1996-11-09'\n",
    "print('My Age : ', relativedelta(datetime.now(), parse(birthdate)))"
   ]
  },
  {
   "cell_type": "markdown",
   "metadata": {
    "hidden": true
   },
   "source": [
    "<b>Playing around with `rrule`</b>"
   ]
  },
  {
   "cell_type": "code",
   "execution_count": 442,
   "metadata": {
    "code_folding": [
     0
    ],
    "hidden": true
   },
   "outputs": [
    {
     "data": {
      "text/plain": [
       "[datetime.datetime(2020, 11, 27, 0, 44, 6),\n",
       " datetime.datetime(2020, 11, 28, 0, 44, 6),\n",
       " datetime.datetime(2020, 11, 29, 0, 44, 6),\n",
       " datetime.datetime(2020, 11, 30, 0, 44, 6)]"
      ]
     },
     "execution_count": 442,
     "metadata": {},
     "output_type": "execute_result"
    }
   ],
   "source": [
    "# Give me next 4 consecutive dates\n",
    "list(rrule(DAILY, count=4, dtstart=current_time))"
   ]
  },
  {
   "cell_type": "code",
   "execution_count": 443,
   "metadata": {
    "code_folding": [
     0
    ],
    "hidden": true
   },
   "outputs": [
    {
     "data": {
      "text/plain": [
       "[datetime.datetime(2020, 11, 27, 0, 44, 6),\n",
       " datetime.datetime(2020, 11, 29, 0, 44, 6),\n",
       " datetime.datetime(2020, 12, 1, 0, 44, 6),\n",
       " datetime.datetime(2020, 12, 3, 0, 44, 6)]"
      ]
     },
     "execution_count": 443,
     "metadata": {},
     "output_type": "execute_result"
    }
   ],
   "source": [
    "# Give me next 4, every other date\n",
    "list(rrule(DAILY, count=4, dtstart=current_time, interval=2))"
   ]
  },
  {
   "cell_type": "code",
   "execution_count": 446,
   "metadata": {
    "code_folding": [
     0
    ],
    "hidden": true
   },
   "outputs": [
    {
     "data": {
      "text/plain": [
       "[datetime.datetime(2020, 11, 27, 0, 44, 6),\n",
       " datetime.datetime(2020, 12, 25, 0, 44, 6),\n",
       " datetime.datetime(2021, 1, 29, 0, 44, 6),\n",
       " datetime.datetime(2021, 2, 26, 0, 44, 6),\n",
       " datetime.datetime(2021, 3, 26, 0, 44, 6),\n",
       " datetime.datetime(2021, 4, 30, 0, 44, 6),\n",
       " datetime.datetime(2021, 5, 28, 0, 44, 6),\n",
       " datetime.datetime(2021, 6, 25, 0, 44, 6),\n",
       " datetime.datetime(2021, 7, 30, 0, 44, 6),\n",
       " datetime.datetime(2021, 8, 27, 0, 44, 6)]"
      ]
     },
     "execution_count": 446,
     "metadata": {},
     "output_type": "execute_result"
    }
   ],
   "source": [
    "# Give me last friday of next 10 months\n",
    "list(rrule(MONTHLY, count=10, dtstart=current_time, byweekday=FR(-1)))"
   ]
  },
  {
   "cell_type": "code",
   "execution_count": 449,
   "metadata": {
    "code_folding": [
     0
    ],
    "hidden": true
   },
   "outputs": [
    {
     "data": {
      "text/plain": [
       "[datetime.datetime(2020, 11, 27, 0, 44, 6),\n",
       " datetime.datetime(2020, 12, 25, 0, 44, 6),\n",
       " datetime.datetime(2021, 1, 29, 0, 44, 6),\n",
       " datetime.datetime(2021, 2, 26, 0, 44, 6),\n",
       " datetime.datetime(2021, 3, 26, 0, 44, 6),\n",
       " datetime.datetime(2021, 4, 30, 0, 44, 6),\n",
       " datetime.datetime(2021, 5, 28, 0, 44, 6),\n",
       " datetime.datetime(2021, 6, 25, 0, 44, 6),\n",
       " datetime.datetime(2021, 7, 30, 0, 44, 6),\n",
       " datetime.datetime(2021, 8, 27, 0, 44, 6)]"
      ]
     },
     "execution_count": 449,
     "metadata": {},
     "output_type": "execute_result"
    }
   ],
   "source": [
    "# Give me last friday of next 10 months\n",
    "list(rrule(MONTHLY, count=10, dtstart=current_time, byweekday=FR(-1)))"
   ]
  },
  {
   "cell_type": "code",
   "execution_count": 451,
   "metadata": {
    "code_folding": [
     0
    ],
    "hidden": true
   },
   "outputs": [
    {
     "data": {
      "text/plain": [
       "[datetime.datetime(2020, 11, 29, 0, 44, 6),\n",
       " datetime.datetime(2021, 1, 3, 0, 44, 6),\n",
       " datetime.datetime(2021, 1, 31, 0, 44, 6),\n",
       " datetime.datetime(2021, 3, 7, 0, 44, 6),\n",
       " datetime.datetime(2021, 3, 28, 0, 44, 6),\n",
       " datetime.datetime(2021, 5, 2, 0, 44, 6),\n",
       " datetime.datetime(2021, 5, 30, 0, 44, 6),\n",
       " datetime.datetime(2021, 7, 4, 0, 44, 6),\n",
       " datetime.datetime(2021, 7, 25, 0, 44, 6),\n",
       " datetime.datetime(2021, 9, 5, 0, 44, 6)]"
      ]
     },
     "execution_count": 451,
     "metadata": {},
     "output_type": "execute_result"
    }
   ],
   "source": [
    "# Every other month on the 1st and last Sunday of the month for 10 occurrences.\n",
    "list(rrule(MONTHLY, interval=2, \n",
    "           count=10, dtstart=current_time,\n",
    "           byweekday=(SU(+1),SU(-1))))"
   ]
  },
  {
   "cell_type": "markdown",
   "metadata": {
    "hidden": true
   },
   "source": [
    "<b>Well this seems sufficient right? Then why did `numpy` create its own datatype `datetime64`?</b>"
   ]
  },
  {
   "cell_type": "code",
   "execution_count": 292,
   "metadata": {
    "hidden": true
   },
   "outputs": [
    {
     "name": "stdout",
     "output_type": "stream",
     "text": [
      "2020-11-27 00:21:23.251964 of type :  <class 'datetime.datetime'>\n"
     ]
    },
    {
     "ename": "TypeError",
     "evalue": "unsupported operand type(s) for +: 'datetime.datetime' and 'int'",
     "output_type": "error",
     "traceback": [
      "\u001b[0;31m---------------------------------------------------------------------------\u001b[0m",
      "\u001b[0;31mTypeError\u001b[0m                                 Traceback (most recent call last)",
      "\u001b[0;32m<ipython-input-292-65c3ce563588>\u001b[0m in \u001b[0;36m<module>\u001b[0;34m\u001b[0m\n\u001b[1;32m      1\u001b[0m \u001b[0mprint\u001b[0m\u001b[0;34m(\u001b[0m\u001b[0mcurrent_time\u001b[0m\u001b[0;34m,\u001b[0m \u001b[0;34m'of type : '\u001b[0m\u001b[0;34m,\u001b[0m \u001b[0mtype\u001b[0m\u001b[0;34m(\u001b[0m\u001b[0mcurrent_time\u001b[0m\u001b[0;34m)\u001b[0m\u001b[0;34m)\u001b[0m\u001b[0;34m\u001b[0m\u001b[0;34m\u001b[0m\u001b[0m\n\u001b[0;32m----> 2\u001b[0;31m \u001b[0mcurrent_time\u001b[0m\u001b[0;34m+\u001b[0m\u001b[0;36m20\u001b[0m\u001b[0;34m\u001b[0m\u001b[0;34m\u001b[0m\u001b[0m\n\u001b[0m",
      "\u001b[0;31mTypeError\u001b[0m: unsupported operand type(s) for +: 'datetime.datetime' and 'int'"
     ]
    }
   ],
   "source": [
    "print(current_time, 'of type : ', type(current_time))\n",
    "current_time+20"
   ]
  },
  {
   "cell_type": "code",
   "execution_count": 298,
   "metadata": {
    "hidden": true
   },
   "outputs": [
    {
     "name": "stdout",
     "output_type": "stream",
     "text": [
      "2020-11-27 of type :  <class 'numpy.datetime64'>\n"
     ]
    },
    {
     "data": {
      "text/plain": [
       "numpy.datetime64('2020-12-17')"
      ]
     },
     "execution_count": 298,
     "metadata": {},
     "output_type": "execute_result"
    }
   ],
   "source": [
    "# Try to play around with the format, say 'D', 'M', 'Y', 'h'...\n",
    "np_current_time = np.datetime64(current_time, 'D')\n",
    "print(np_current_time, 'of type : ', type(np_current_time))\n",
    "np_current_time+20"
   ]
  },
  {
   "cell_type": "code",
   "execution_count": 453,
   "metadata": {
    "hidden": true
   },
   "outputs": [
    {
     "data": {
      "text/plain": [
       "array(['2020-11-27', '2020-11-28', '2020-11-29', '2020-11-30',\n",
       "       '2020-12-01', '2020-12-02', '2020-12-03', '2020-12-04',\n",
       "       '2020-12-05', '2020-12-06', '2020-12-07', '2020-12-08'],\n",
       "      dtype='datetime64[D]')"
      ]
     },
     "execution_count": 453,
     "metadata": {},
     "output_type": "execute_result"
    }
   ],
   "source": [
    "np_current_time+np.arange(12)"
   ]
  },
  {
   "cell_type": "markdown",
   "metadata": {
    "hidden": true
   },
   "source": [
    "<b>Thats why!</b>, And also because its an homogeneous way of representaion"
   ]
  },
  {
   "cell_type": "markdown",
   "metadata": {
    "heading_collapsed": true,
    "hidden": true
   },
   "source": [
    "## Numpy `datetime64`\n",
    "\n",
    "\n",
    "<p>The Datetime and Timedelta data types support a large number of time\n",
    "units, as well as generic units which can be coerced into any of the\n",
    "other units based on input data.</p>\n",
    "<p>Datetimes are always stored based on POSIX time (though having a TAI\n",
    "mode which allows for accounting of leap-seconds is proposed), with\n",
    "an epoch of 1970-01-01T00:00Z. This means the supported dates are\n",
    "always a symmetric interval around the epoch, called “time span” in the\n",
    "table below.</p>\n",
    "<p>The length of the span is the range of a 64-bit integer times the length\n",
    "of the date or unit.  For example, the time span for ‘W’ (week) is exactly\n",
    "7 times longer than the time span for ‘D’ (day), and the time span for\n",
    "‘D’ (day) is exactly 24 times longer than the time span for ‘h’ (hour).</p>\n",
    "<p>Here are the date units:</p>\n",
    "<table class=\"docutils align-default\" id=\"arrays-dtypes-dateunits\">\n",
    "<colgroup>\n",
    "<col style=\"width: 11%\">\n",
    "<col style=\"width: 22%\">\n",
    "<col style=\"width: 32%\">\n",
    "<col style=\"width: 36%\">\n",
    "</colgroup>\n",
    "<thead>\n",
    "<tr class=\"row-odd\"><th class=\"head\"><p>Code</p></th>\n",
    "<th class=\"head\"><p>Meaning</p></th>\n",
    "<th class=\"head\"><p>Time span (relative)</p></th>\n",
    "<th class=\"head\"><p>Time span (absolute)</p></th>\n",
    "</tr>\n",
    "</thead>\n",
    "<tbody>\n",
    "<tr class=\"row-even\"><td><p>Y</p></td>\n",
    "<td><p>year</p></td>\n",
    "<td><p>+/- 9.2e18 years</p></td>\n",
    "<td><p>[9.2e18 BC, 9.2e18 AD]</p></td>\n",
    "</tr>\n",
    "<tr class=\"row-odd\"><td><p>M</p></td>\n",
    "<td><p>month</p></td>\n",
    "<td><p>+/- 7.6e17 years</p></td>\n",
    "<td><p>[7.6e17 BC, 7.6e17 AD]</p></td>\n",
    "</tr>\n",
    "<tr class=\"row-even\"><td><p>W</p></td>\n",
    "<td><p>week</p></td>\n",
    "<td><p>+/- 1.7e17 years</p></td>\n",
    "<td><p>[1.7e17 BC, 1.7e17 AD]</p></td>\n",
    "</tr>\n",
    "<tr class=\"row-odd\"><td><p>D</p></td>\n",
    "<td><p>day</p></td>\n",
    "<td><p>+/- 2.5e16 years</p></td>\n",
    "<td><p>[2.5e16 BC, 2.5e16 AD]</p></td>\n",
    "</tr>\n",
    "</tbody>\n",
    "</table>\n",
    "<p>And here are the time units:</p>\n",
    "<table class=\"docutils align-default\" id=\"arrays-dtypes-timeunits\">\n",
    "<colgroup>\n",
    "<col style=\"width: 11%\">\n",
    "<col style=\"width: 22%\">\n",
    "<col style=\"width: 32%\">\n",
    "<col style=\"width: 36%\">\n",
    "</colgroup>\n",
    "<thead>\n",
    "<tr class=\"row-odd\"><th class=\"head\"><p>Code</p></th>\n",
    "<th class=\"head\"><p>Meaning</p></th>\n",
    "<th class=\"head\"><p>Time span (relative)</p></th>\n",
    "<th class=\"head\"><p>Time span (absolute)</p></th>\n",
    "</tr>\n",
    "</thead>\n",
    "<tbody>\n",
    "<tr class=\"row-even\"><td><p>h</p></td>\n",
    "<td><p>hour</p></td>\n",
    "<td><p>+/- 1.0e15 years</p></td>\n",
    "<td><p>[1.0e15 BC, 1.0e15 AD]</p></td>\n",
    "</tr>\n",
    "<tr class=\"row-odd\"><td><p>m</p></td>\n",
    "<td><p>minute</p></td>\n",
    "<td><p>+/- 1.7e13 years</p></td>\n",
    "<td><p>[1.7e13 BC, 1.7e13 AD]</p></td>\n",
    "</tr>\n",
    "<tr class=\"row-even\"><td><p>s</p></td>\n",
    "<td><p>second</p></td>\n",
    "<td><p>+/- 2.9e11 years</p></td>\n",
    "<td><p>[2.9e11 BC, 2.9e11 AD]</p></td>\n",
    "</tr>\n",
    "<tr class=\"row-odd\"><td><p>ms</p></td>\n",
    "<td><p>millisecond</p></td>\n",
    "<td><p>+/- 2.9e8 years</p></td>\n",
    "<td><p>[ 2.9e8 BC,  2.9e8 AD]</p></td>\n",
    "</tr>\n",
    "<tr class=\"row-even\"><td><p>us</p></td>\n",
    "<td><p>microsecond</p></td>\n",
    "<td><p>+/- 2.9e5 years</p></td>\n",
    "<td><p>[290301 BC, 294241 AD]</p></td>\n",
    "</tr>\n",
    "<tr class=\"row-odd\"><td><p>ns</p></td>\n",
    "<td><p>nanosecond</p></td>\n",
    "<td><p>+/- 292 years</p></td>\n",
    "<td><p>[  1678 AD,   2262 AD]</p></td>\n",
    "</tr>\n",
    "<tr class=\"row-even\"><td><p>ps</p></td>\n",
    "<td><p>picosecond</p></td>\n",
    "<td><p>+/- 106 days</p></td>\n",
    "<td><p>[  1969 AD,   1970 AD]</p></td>\n",
    "</tr>\n",
    "<tr class=\"row-odd\"><td><p>fs</p></td>\n",
    "<td><p>femtosecond</p></td>\n",
    "<td><p>+/- 2.6 hours</p></td>\n",
    "<td><p>[  1969 AD,   1970 AD]</p></td>\n",
    "</tr>\n",
    "<tr class=\"row-even\"><td><p>as</p></td>\n",
    "<td><p>attosecond</p></td>\n",
    "<td><p>+/- 9.2 seconds</p></td>\n",
    "<td><p>[  1969 AD,   1970 AD]</p></td>\n",
    "</tr>\n",
    "</tbody>\n",
    "</table>"
   ]
  },
  {
   "cell_type": "code",
   "execution_count": 299,
   "metadata": {
    "hidden": true
   },
   "outputs": [
    {
     "data": {
      "text/plain": [
       "(numpy.datetime64('2020-12-07'), numpy.datetime64)"
      ]
     },
     "execution_count": 299,
     "metadata": {},
     "output_type": "execute_result"
    }
   ],
   "source": [
    "# Simple ISO Date\n",
    "np.datetime64('2020-12-07'), type(np.datetime64('2020-12-07'))"
   ]
  },
  {
   "cell_type": "code",
   "execution_count": 300,
   "metadata": {
    "hidden": true
   },
   "outputs": [
    {
     "data": {
      "text/plain": [
       "numpy.datetime64('2005-02')"
      ]
     },
     "execution_count": 300,
     "metadata": {},
     "output_type": "execute_result"
    }
   ],
   "source": [
    "np.datetime64('2005-02')"
   ]
  },
  {
   "cell_type": "code",
   "execution_count": 301,
   "metadata": {
    "hidden": true
   },
   "outputs": [
    {
     "data": {
      "text/plain": [
       "numpy.datetime64('2005-02-25T03:30')"
      ]
     },
     "execution_count": 301,
     "metadata": {},
     "output_type": "execute_result"
    }
   ],
   "source": [
    "np.datetime64('2005-02-25 03:30')"
   ]
  },
  {
   "cell_type": "code",
   "execution_count": 334,
   "metadata": {
    "hidden": true
   },
   "outputs": [
    {
     "data": {
      "text/plain": [
       "numpy.datetime64('2005-02-01T01:20:00.000')"
      ]
     },
     "execution_count": 334,
     "metadata": {},
     "output_type": "execute_result"
    }
   ],
   "source": [
    "# Changing resolution of the time display and then try yourself\n",
    "np.datetime64('2005-02-01T01:20', 'ms')"
   ]
  },
  {
   "cell_type": "code",
   "execution_count": 335,
   "metadata": {
    "hidden": true
   },
   "outputs": [
    {
     "data": {
      "text/plain": [
       "7.0"
      ]
     },
     "execution_count": 335,
     "metadata": {},
     "output_type": "execute_result"
    }
   ],
   "source": [
    "np.timedelta64(1,'W') / np.timedelta64(1,'D')"
   ]
  },
  {
   "cell_type": "code",
   "execution_count": 360,
   "metadata": {
    "hidden": true
   },
   "outputs": [
    {
     "data": {
      "text/plain": [
       "array(['2020-11-27', '2020-11-28', '2020-11-29', '2020-11-30',\n",
       "       '2020-12-01', '2020-12-02', '2020-12-03', '2020-12-04',\n",
       "       '2020-12-05', '2020-12-06', '2020-12-07', '2020-12-08'],\n",
       "      dtype='datetime64[D]')"
      ]
     },
     "execution_count": 360,
     "metadata": {},
     "output_type": "execute_result"
    }
   ],
   "source": [
    "# Changing resolution of the time and then try yourself\n",
    "current_time = datetime.now()\n",
    "np_current_time = np.datetime64(current_time, 'D')\n",
    "np_current_time_added = np_current_time+np.arange(12)\n",
    "np_current_time_added"
   ]
  },
  {
   "cell_type": "code",
   "execution_count": 365,
   "metadata": {
    "hidden": true
   },
   "outputs": [
    {
     "data": {
      "text/plain": [
       "numpy.datetime64('2020-11-27')"
      ]
     },
     "execution_count": 365,
     "metadata": {},
     "output_type": "execute_result"
    }
   ],
   "source": [
    "# Handling Buisness Days\n",
    "\n",
    "# The first business day on or after a date\n",
    "np.busday_offset(np_current_time, 0, roll='forward', weekmask='1111100')"
   ]
  },
  {
   "cell_type": "code",
   "execution_count": 366,
   "metadata": {
    "hidden": true
   },
   "outputs": [
    {
     "data": {
      "text/plain": [
       "numpy.datetime64('2020-11-26')"
      ]
     },
     "execution_count": 366,
     "metadata": {},
     "output_type": "execute_result"
    }
   ],
   "source": [
    "# The first business day strictly after a date:\n",
    "np.busday_offset(np_current_time, -1, roll='forward')"
   ]
  },
  {
   "cell_type": "code",
   "execution_count": null,
   "metadata": {
    "hidden": true
   },
   "outputs": [],
   "source": []
  },
  {
   "cell_type": "code",
   "execution_count": null,
   "metadata": {
    "hidden": true
   },
   "outputs": [],
   "source": []
  },
  {
   "cell_type": "markdown",
   "metadata": {},
   "source": [
    "# Random Testing Space"
   ]
  },
  {
   "cell_type": "code",
   "execution_count": null,
   "metadata": {},
   "outputs": [],
   "source": []
  },
  {
   "cell_type": "code",
   "execution_count": null,
   "metadata": {},
   "outputs": [],
   "source": []
  },
  {
   "cell_type": "code",
   "execution_count": null,
   "metadata": {},
   "outputs": [],
   "source": []
  }
 ],
 "metadata": {
  "kernelspec": {
   "display_name": "Python 3",
   "language": "python",
   "name": "python3"
  },
  "language_info": {
   "codemirror_mode": {
    "name": "ipython",
    "version": 3
   },
   "file_extension": ".py",
   "mimetype": "text/x-python",
   "name": "python",
   "nbconvert_exporter": "python",
   "pygments_lexer": "ipython3",
   "version": "3.8.5"
  },
  "toc": {
   "base_numbering": 1,
   "nav_menu": {},
   "number_sections": true,
   "sideBar": true,
   "skip_h1_title": false,
   "title_cell": "Table of Contents",
   "title_sidebar": "Contents",
   "toc_cell": false,
   "toc_position": {},
   "toc_section_display": true,
   "toc_window_display": false
  },
  "varInspector": {
   "cols": {
    "lenName": 16,
    "lenType": 16,
    "lenVar": 40
   },
   "kernels_config": {
    "python": {
     "delete_cmd_postfix": "",
     "delete_cmd_prefix": "del ",
     "library": "var_list.py",
     "varRefreshCmd": "print(var_dic_list())"
    },
    "r": {
     "delete_cmd_postfix": ") ",
     "delete_cmd_prefix": "rm(",
     "library": "var_list.r",
     "varRefreshCmd": "cat(var_dic_list()) "
    }
   },
   "types_to_exclude": [
    "module",
    "function",
    "builtin_function_or_method",
    "instance",
    "_Feature"
   ],
   "window_display": false
  }
 },
 "nbformat": 4,
 "nbformat_minor": 4
}
