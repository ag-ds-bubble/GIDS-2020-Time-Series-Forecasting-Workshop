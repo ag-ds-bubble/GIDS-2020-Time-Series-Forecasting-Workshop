{
 "cells": [
  {
   "cell_type": "markdown",
   "metadata": {},
   "source": [
    "# Introduction\n",
    "\n",
    "This notebook will take you through some of the foundational elements of the Time Series analysis, Including various types of dataset's and how does Time Series Data differ from them, Inferrential Statistics pertaining to the Time Series data, Various graphical visualisation involved in the time series.\n",
    "\n",
    "<b>Interesting Read : </b>[Engineering Statistics Handbook](https://www.itl.nist.gov/div898/handbook/index.htm)\n",
    "\n",
    "<img src='../Materials/Engineering Statistic Handbook - Cover.png' width='250' align='left'>\n",
    "<br>\n",
    "<br>\n",
    "<br>\n",
    "<br>\n",
    "<br>\n",
    "<br>\n",
    "<br>\n",
    "<br>\n",
    "<br>\n",
    "<br>\n",
    "<br>\n",
    "<br>\n",
    "<br>\n",
    "<br>\n",
    "<br>\n",
    "<br>\n",
    "<br>\n",
    "\n",
    "[R - Libraries : Some useful libraries and components for Time Series Analysis in R - by Rob.J.Hyndman](https://cran.r-project.org/web/views/TimeSeries.html)"
   ]
  },
  {
   "cell_type": "markdown",
   "metadata": {},
   "source": [
    "# Imports"
   ]
  },
  {
   "cell_type": "code",
   "execution_count": null,
   "metadata": {
    "ExecuteTime": {
     "end_time": "2020-12-06T12:18:06.019138Z",
     "start_time": "2020-12-06T12:18:06.013968Z"
    }
   },
   "outputs": [],
   "source": [
    "# General\n",
    "from warnings import filterwarnings\n",
    "filterwarnings('ignore')\n",
    "from cycler import cycler\n",
    "\n",
    "# Data Wrangling\n",
    "import pandas as pd\n",
    "import numpy as np\n",
    "\n",
    "# Data Viualization\n",
    "import matplotlib.pyplot as plt\n",
    "import seaborn as sns\n",
    "import mplfinance as mpl\n",
    "\n",
    "# Time Series Specific\n",
    "from statsmodels.tsa.seasonal import seasonal_decompose\n",
    "\n",
    "# Datetime\n",
    "from datetime import datetime\n",
    "\n",
    "# Data\n",
    "from helperhandler import dataHolder"
   ]
  },
  {
   "cell_type": "markdown",
   "metadata": {
    "heading_collapsed": true
   },
   "source": [
    "# Path and Variable Initialisation"
   ]
  },
  {
   "cell_type": "code",
   "execution_count": null,
   "metadata": {
    "ExecuteTime": {
     "end_time": "2020-12-06T12:23:55.186867Z",
     "start_time": "2020-12-06T12:23:55.182794Z"
    },
    "hidden": true
   },
   "outputs": [],
   "source": [
    "root_path = '../'\n",
    "raw_datapath = root_path+'Raw Data/'\n",
    "prepared_datapath = root_path+'Prepared Data/'"
   ]
  },
  {
   "cell_type": "code",
   "execution_count": null,
   "metadata": {
    "ExecuteTime": {
     "end_time": "2020-12-06T12:23:55.335119Z",
     "start_time": "2020-12-06T12:23:55.331014Z"
    },
    "hidden": true
   },
   "outputs": [],
   "source": [
    "plt.rcParams['figure.dpi'] = 100\n",
    "plt.rcParams['figure.figsize'] = (15,7)\n",
    "plt.style.use('ggplot')\n",
    "plt.rcParams['legend.facecolor'] = 'darkgray'"
   ]
  },
  {
   "cell_type": "markdown",
   "metadata": {
    "heading_collapsed": true
   },
   "source": [
    "# Load & Explore the Data"
   ]
  },
  {
   "cell_type": "code",
   "execution_count": null,
   "metadata": {
    "ExecuteTime": {
     "end_time": "2020-12-06T12:23:58.296599Z",
     "start_time": "2020-12-06T12:23:57.682884Z"
    },
    "hidden": true
   },
   "outputs": [],
   "source": [
    "dataHolder.load_data()"
   ]
  },
  {
   "cell_type": "code",
   "execution_count": null,
   "metadata": {
    "ExecuteTime": {
     "end_time": "2020-12-06T12:23:58.311775Z",
     "start_time": "2020-12-06T12:23:58.303889Z"
    },
    "hidden": true
   },
   "outputs": [],
   "source": [
    "print('Available Datasets')\n",
    "dataHolder.dataDf"
   ]
  },
  {
   "cell_type": "markdown",
   "metadata": {
    "heading_collapsed": true,
    "hidden": true
   },
   "source": [
    "## Air Passengers Data"
   ]
  },
  {
   "cell_type": "code",
   "execution_count": null,
   "metadata": {
    "ExecuteTime": {
     "end_time": "2020-12-06T12:24:02.502825Z",
     "start_time": "2020-12-06T12:24:02.492151Z"
    },
    "hidden": true
   },
   "outputs": [],
   "source": [
    "k='airp_data'\n",
    "print(dataHolder.bucket[k].long_description)\n",
    "dataHolder.bucket[k].data.head()"
   ]
  },
  {
   "cell_type": "code",
   "execution_count": null,
   "metadata": {
    "ExecuteTime": {
     "end_time": "2020-12-06T12:24:02.920991Z",
     "start_time": "2020-12-06T12:24:02.691596Z"
    },
    "hidden": true
   },
   "outputs": [],
   "source": [
    "dataHolder.bucket[k].exploratory_plot()"
   ]
  },
  {
   "cell_type": "markdown",
   "metadata": {
    "heading_collapsed": true,
    "hidden": true
   },
   "source": [
    "## Milk Production Data"
   ]
  },
  {
   "cell_type": "code",
   "execution_count": null,
   "metadata": {
    "ExecuteTime": {
     "end_time": "2020-12-06T12:26:10.072098Z",
     "start_time": "2020-12-06T12:26:10.061047Z"
    },
    "hidden": true
   },
   "outputs": [],
   "source": [
    "k='mprod_data'\n",
    "print(dataHolder.bucket[k].long_description)\n",
    "dataHolder.bucket[k].data.head()"
   ]
  },
  {
   "cell_type": "code",
   "execution_count": null,
   "metadata": {
    "ExecuteTime": {
     "end_time": "2020-12-06T12:26:10.500657Z",
     "start_time": "2020-12-06T12:26:10.263370Z"
    },
    "hidden": true
   },
   "outputs": [],
   "source": [
    "dataHolder.bucket[k].exploratory_plot()"
   ]
  },
  {
   "cell_type": "markdown",
   "metadata": {
    "heading_collapsed": true,
    "hidden": true
   },
   "source": [
    "## Britannia Stock Price Data"
   ]
  },
  {
   "cell_type": "code",
   "execution_count": null,
   "metadata": {
    "ExecuteTime": {
     "end_time": "2020-12-06T12:26:26.406201Z",
     "start_time": "2020-12-06T12:26:26.390114Z"
    },
    "hidden": true
   },
   "outputs": [],
   "source": [
    "k='brit_stock'\n",
    "print(dataHolder.bucket[k].long_description)\n",
    "dataHolder.bucket[k].data.head()"
   ]
  },
  {
   "cell_type": "code",
   "execution_count": null,
   "metadata": {
    "ExecuteTime": {
     "end_time": "2020-12-06T12:26:29.279970Z",
     "start_time": "2020-12-06T12:26:28.804524Z"
    },
    "hidden": true
   },
   "outputs": [],
   "source": [
    "dataHolder.bucket[k].exploratory_plot()"
   ]
  },
  {
   "cell_type": "markdown",
   "metadata": {
    "heading_collapsed": true,
    "hidden": true
   },
   "source": [
    "## India CPI Data"
   ]
  },
  {
   "cell_type": "code",
   "execution_count": null,
   "metadata": {
    "ExecuteTime": {
     "end_time": "2020-12-06T12:26:33.297496Z",
     "start_time": "2020-12-06T12:26:33.281394Z"
    },
    "hidden": true
   },
   "outputs": [],
   "source": [
    "k='india_cpi'\n",
    "print(dataHolder.bucket[k].long_description)\n",
    "dataHolder.bucket[k].data.head()"
   ]
  },
  {
   "cell_type": "code",
   "execution_count": null,
   "metadata": {
    "ExecuteTime": {
     "end_time": "2020-12-06T12:26:34.511209Z",
     "start_time": "2020-12-06T12:26:33.960399Z"
    },
    "hidden": true
   },
   "outputs": [],
   "source": [
    "plt.style.use('ggplot')\n",
    "plt.rcParams['legend.facecolor'] = 'black'\n",
    "dataHolder.bucket[k].exploratory_plot()"
   ]
  },
  {
   "cell_type": "markdown",
   "metadata": {
    "heading_collapsed": true,
    "hidden": true
   },
   "source": [
    "## Beer Production Data"
   ]
  },
  {
   "cell_type": "code",
   "execution_count": null,
   "metadata": {
    "ExecuteTime": {
     "end_time": "2020-12-06T12:26:49.690596Z",
     "start_time": "2020-12-06T12:26:49.677972Z"
    },
    "hidden": true
   },
   "outputs": [],
   "source": [
    "k='beer_prod'\n",
    "print(dataHolder.bucket[k].long_description)\n",
    "dataHolder.bucket[k].data.head()"
   ]
  },
  {
   "cell_type": "code",
   "execution_count": null,
   "metadata": {
    "ExecuteTime": {
     "end_time": "2020-12-06T12:26:50.173570Z",
     "start_time": "2020-12-06T12:26:49.852352Z"
    },
    "hidden": true
   },
   "outputs": [],
   "source": [
    "dataHolder.bucket[k].exploratory_plot()"
   ]
  },
  {
   "cell_type": "markdown",
   "metadata": {
    "heading_collapsed": true,
    "hidden": true
   },
   "source": [
    "## Housing Prices Data"
   ]
  },
  {
   "cell_type": "code",
   "execution_count": null,
   "metadata": {
    "ExecuteTime": {
     "end_time": "2020-12-06T12:27:06.461331Z",
     "start_time": "2020-12-06T12:27:06.447590Z"
    },
    "hidden": true
   },
   "outputs": [],
   "source": [
    "k='house_price'\n",
    "print(dataHolder.bucket[k].long_description)\n",
    "dataHolder.bucket[k].data.head()"
   ]
  },
  {
   "cell_type": "code",
   "execution_count": null,
   "metadata": {
    "ExecuteTime": {
     "end_time": "2020-12-06T12:27:07.391493Z",
     "start_time": "2020-12-06T12:27:06.589970Z"
    },
    "hidden": true,
    "scrolled": false
   },
   "outputs": [],
   "source": [
    "dataHolder.bucket[k].exploratory_plot()"
   ]
  },
  {
   "cell_type": "markdown",
   "metadata": {
    "heading_collapsed": true,
    "hidden": true
   },
   "source": [
    "## Air Passengers Missing Data"
   ]
  },
  {
   "cell_type": "code",
   "execution_count": null,
   "metadata": {
    "ExecuteTime": {
     "end_time": "2020-12-06T12:27:46.250394Z",
     "start_time": "2020-12-06T12:27:46.238272Z"
    },
    "hidden": true
   },
   "outputs": [],
   "source": [
    "k='airp_data_missing'\n",
    "print(dataHolder.bucket[k].long_description)\n",
    "dataHolder.bucket[k].data.head()"
   ]
  },
  {
   "cell_type": "code",
   "execution_count": null,
   "metadata": {
    "ExecuteTime": {
     "end_time": "2020-12-06T12:27:46.699572Z",
     "start_time": "2020-12-06T12:27:46.488095Z"
    },
    "hidden": true
   },
   "outputs": [],
   "source": [
    "dataHolder.bucket[k].exploratory_plot()"
   ]
  },
  {
   "cell_type": "markdown",
   "metadata": {
    "heading_collapsed": true,
    "hidden": true
   },
   "source": [
    "## Housing Missing Data"
   ]
  },
  {
   "cell_type": "code",
   "execution_count": null,
   "metadata": {
    "ExecuteTime": {
     "end_time": "2020-12-06T12:27:53.939346Z",
     "start_time": "2020-12-06T12:27:53.917074Z"
    },
    "hidden": true
   },
   "outputs": [],
   "source": [
    "k='housing_missing'\n",
    "print(dataHolder.bucket[k].long_description)\n",
    "dataHolder.bucket[k].data.head()"
   ]
  },
  {
   "cell_type": "code",
   "execution_count": null,
   "metadata": {
    "ExecuteTime": {
     "end_time": "2020-12-06T12:27:54.458456Z",
     "start_time": "2020-12-06T12:27:54.071933Z"
    },
    "hidden": true
   },
   "outputs": [],
   "source": [
    "dataHolder.bucket[k].exploratory_plot()"
   ]
  },
  {
   "cell_type": "markdown",
   "metadata": {
    "heading_collapsed": true,
    "hidden": true
   },
   "source": [
    "## Global Population & Energy Data"
   ]
  },
  {
   "cell_type": "code",
   "execution_count": null,
   "metadata": {
    "ExecuteTime": {
     "end_time": "2020-12-06T12:27:56.965828Z",
     "start_time": "2020-12-06T12:27:56.951894Z"
    },
    "hidden": true
   },
   "outputs": [],
   "source": [
    "k='pop_ener'\n",
    "print(dataHolder.bucket[k].long_description)\n",
    "dataHolder.bucket[k].data.head()"
   ]
  },
  {
   "cell_type": "code",
   "execution_count": null,
   "metadata": {
    "ExecuteTime": {
     "end_time": "2020-12-06T12:27:57.382626Z",
     "start_time": "2020-12-06T12:27:57.136902Z"
    },
    "hidden": true
   },
   "outputs": [],
   "source": [
    "dataHolder.bucket[k].exploratory_plot()"
   ]
  },
  {
   "cell_type": "markdown",
   "metadata": {
    "heading_collapsed": true,
    "hidden": true
   },
   "source": [
    "## USA Consumer Price Index Data"
   ]
  },
  {
   "cell_type": "code",
   "execution_count": null,
   "metadata": {
    "ExecuteTime": {
     "end_time": "2020-12-06T12:28:23.769173Z",
     "start_time": "2020-12-06T12:28:23.758307Z"
    },
    "hidden": true
   },
   "outputs": [],
   "source": [
    "k='usa_cpi'\n",
    "print(dataHolder.bucket[k].long_description)\n",
    "dataHolder.bucket[k].data.head()"
   ]
  },
  {
   "cell_type": "code",
   "execution_count": null,
   "metadata": {
    "ExecuteTime": {
     "end_time": "2020-12-06T12:28:24.280068Z",
     "start_time": "2020-12-06T12:28:24.048884Z"
    },
    "hidden": true
   },
   "outputs": [],
   "source": [
    "dataHolder.bucket[k].exploratory_plot()"
   ]
  },
  {
   "cell_type": "markdown",
   "metadata": {
    "heading_collapsed": true,
    "hidden": true
   },
   "source": [
    "## Anti-Diabetic Drug Sales Data"
   ]
  },
  {
   "cell_type": "code",
   "execution_count": null,
   "metadata": {
    "ExecuteTime": {
     "end_time": "2020-12-06T12:28:27.342157Z",
     "start_time": "2020-12-06T12:28:27.330803Z"
    },
    "hidden": true
   },
   "outputs": [],
   "source": [
    "k='anti_diabetic'\n",
    "print(dataHolder.bucket[k].long_description)\n",
    "dataHolder.bucket[k].data.head()"
   ]
  },
  {
   "cell_type": "code",
   "execution_count": null,
   "metadata": {
    "ExecuteTime": {
     "end_time": "2020-12-06T12:28:27.727097Z",
     "start_time": "2020-12-06T12:28:27.485395Z"
    },
    "hidden": true
   },
   "outputs": [],
   "source": [
    "dataHolder.bucket[k].exploratory_plot()"
   ]
  },
  {
   "cell_type": "markdown",
   "metadata": {
    "heading_collapsed": true,
    "hidden": true
   },
   "source": [
    "## Australlia Electricity Production"
   ]
  },
  {
   "cell_type": "code",
   "execution_count": null,
   "metadata": {
    "ExecuteTime": {
     "end_time": "2020-12-06T12:29:08.554613Z",
     "start_time": "2020-12-06T12:29:08.544072Z"
    },
    "hidden": true
   },
   "outputs": [],
   "source": [
    "k='aus_elecprod'\n",
    "print(dataHolder.bucket[k].long_description)\n",
    "dataHolder.bucket[k].data.head()"
   ]
  },
  {
   "cell_type": "code",
   "execution_count": null,
   "metadata": {
    "ExecuteTime": {
     "end_time": "2020-12-06T12:29:09.029177Z",
     "start_time": "2020-12-06T12:29:08.715827Z"
    },
    "hidden": true
   },
   "outputs": [],
   "source": [
    "dataHolder.bucket[k].exploratory_plot()"
   ]
  },
  {
   "cell_type": "markdown",
   "metadata": {
    "heading_collapsed": true,
    "hidden": true
   },
   "source": [
    "## Visitors 20 Regions"
   ]
  },
  {
   "cell_type": "code",
   "execution_count": null,
   "metadata": {
    "ExecuteTime": {
     "end_time": "2020-12-06T12:29:15.616948Z",
     "start_time": "2020-12-06T12:29:15.604222Z"
    },
    "hidden": true
   },
   "outputs": [],
   "source": [
    "k='visitor_20r'\n",
    "print(dataHolder.bucket[k].long_description)\n",
    "dataHolder.bucket[k].data.head()"
   ]
  },
  {
   "cell_type": "code",
   "execution_count": null,
   "metadata": {
    "ExecuteTime": {
     "end_time": "2020-12-06T12:29:16.468710Z",
     "start_time": "2020-12-06T12:29:15.770536Z"
    },
    "hidden": true
   },
   "outputs": [],
   "source": [
    "dataHolder.bucket[k].exploratory_plot()"
   ]
  },
  {
   "cell_type": "markdown",
   "metadata": {
    "heading_collapsed": true
   },
   "source": [
    "# Different Types of Data\n",
    "\n",
    " - Time Series Data : Data collected against a ***Single feature*** across an equally spaced time span.\n",
    " \n",
    " - Cross-Sectional Data : Data collected against ***Multiple features*** at a single point in time.\n",
    " \n",
    " - Panel Data : Recording data for ***Multiple features at eaqually spaced time intervals***"
   ]
  },
  {
   "cell_type": "code",
   "execution_count": null,
   "metadata": {
    "ExecuteTime": {
     "end_time": "2020-12-06T12:29:23.978457Z",
     "start_time": "2020-12-06T12:29:23.961664Z"
    },
    "hidden": true
   },
   "outputs": [],
   "source": [
    "cpi_data = dataHolder.bucket['india_cpi'].data.copy()\n",
    "cpi_data.head()"
   ]
  },
  {
   "cell_type": "markdown",
   "metadata": {
    "hidden": true
   },
   "source": [
    "<b>Time Series Data</b>\n",
    "\n",
    "Notice the `Object` for data recording here is `State`, and the remainder are features.\n",
    "\n",
    "Q) Can you tell what are the features of this dataset then?"
   ]
  },
  {
   "cell_type": "code",
   "execution_count": null,
   "metadata": {
    "ExecuteTime": {
     "end_time": "2020-12-06T12:29:24.470230Z",
     "start_time": "2020-12-06T12:29:24.279392Z"
    },
    "hidden": true
   },
   "outputs": [],
   "source": [
    "tsdata = cpi_data[cpi_data.State.isin(['Delhi'])].copy()\n",
    "tsdata = tsdata[:10].reset_index().drop('index', axis=1)\n",
    "tsdata = tsdata.style.set_caption('Time Series Data') # Giving your data frame a title\n",
    "tsdata"
   ]
  },
  {
   "cell_type": "markdown",
   "metadata": {
    "hidden": true
   },
   "source": [
    "<b>Cross Sectional Data</b>\n",
    "\n",
    "Notice the `Object` for data recording here is `State->Description`, and the remainder are features.\n"
   ]
  },
  {
   "cell_type": "code",
   "execution_count": null,
   "metadata": {
    "ExecuteTime": {
     "end_time": "2020-12-06T12:29:24.551355Z",
     "start_time": "2020-12-06T12:29:24.537510Z"
    },
    "hidden": true
   },
   "outputs": [],
   "source": [
    "csdata = cpi_data[cpi_data.Date.isin(['2013-01-01'])].copy()\n",
    "csdata = csdata[csdata.State.isin(['Delhi'])][:10]\n",
    "csdata = csdata[:10].reset_index().drop('index', axis=1)\n",
    "csdata = csdata.style.set_caption('Cross Sectional Data') # Giving your data frame a title\n",
    "csdata"
   ]
  },
  {
   "cell_type": "markdown",
   "metadata": {
    "hidden": true
   },
   "source": [
    "<b>Panel Data</b>\n",
    "\n",
    "Notice the `Object` for data recording here is `State->Description`, and the remainder are features.\n",
    "\n"
   ]
  },
  {
   "cell_type": "code",
   "execution_count": null,
   "metadata": {
    "ExecuteTime": {
     "end_time": "2020-12-06T12:29:25.520708Z",
     "start_time": "2020-12-06T12:29:25.502240Z"
    },
    "hidden": true
   },
   "outputs": [],
   "source": [
    "csdata = cpi_data[cpi_data.Date.isin(['2013-01-01', '2013-02-01'])].copy()\n",
    "csdata = csdata[csdata.State.isin(['Delhi'])][:10]\n",
    "csdata = csdata[:10].reset_index().drop('index', axis=1)\n",
    "csdata = csdata.style.set_caption('Panel Data') # Giving your data frame a title\n",
    "csdata"
   ]
  },
  {
   "cell_type": "markdown",
   "metadata": {},
   "source": [
    "# Time Series Related Operations\n",
    "\n",
    " - Windows\n",
    " - Lags\n",
    " - Resampling\n",
    " - Differencing\n",
    " - Percentage Change\n",
    " - Smoothing Operations\n",
    " - Imputation"
   ]
  },
  {
   "cell_type": "markdown",
   "metadata": {
    "heading_collapsed": true
   },
   "source": [
    "## Windows\n",
    "\n",
    "- <b>Rolling Window</b> : Shifting a specified width window over the dataset.\n",
    "\n",
    "- <b>Expanding Window</b> : Dynamic sized window that changes its window length in tandem with the dates, keeping the data from begining to the latest date, chronologically, in the window\n"
   ]
  },
  {
   "cell_type": "markdown",
   "metadata": {
    "hidden": true
   },
   "source": [
    "<b>Rolling Window</b>"
   ]
  },
  {
   "cell_type": "code",
   "execution_count": null,
   "metadata": {
    "ExecuteTime": {
     "end_time": "2020-12-06T12:34:04.870362Z",
     "start_time": "2020-12-06T12:34:04.866186Z"
    },
    "hidden": true
   },
   "outputs": [],
   "source": [
    "rolling_data = dataHolder.bucket['airp_data'].data.copy()"
   ]
  },
  {
   "cell_type": "code",
   "execution_count": null,
   "metadata": {
    "ExecuteTime": {
     "end_time": "2020-12-06T12:34:05.790359Z",
     "start_time": "2020-12-06T12:34:05.529152Z"
    },
    "hidden": true
   },
   "outputs": [],
   "source": [
    "rolling_data['Passengers_r5mean'] = rolling_data.Passengers.rolling(5).mean()\n",
    "rolling_data['Passengers_r10mean'] = rolling_data.Passengers.rolling(10).mean()\n",
    "_=rolling_data[:50].plot(marker='o', markersize=3)"
   ]
  },
  {
   "cell_type": "markdown",
   "metadata": {
    "hidden": true,
    "solution2": "hidden",
    "solution2_first": true
   },
   "source": [
    "**Q)** Plot for rolling window 10."
   ]
  },
  {
   "cell_type": "code",
   "execution_count": null,
   "metadata": {
    "ExecuteTime": {
     "end_time": "2020-12-06T12:34:54.441297Z",
     "start_time": "2020-12-06T12:34:54.097091Z"
    },
    "hidden": true,
    "solution2": "hidden"
   },
   "outputs": [],
   "source": [
    "rolling_data = dataHolder.bucket['airp_data'].data.copy()\n",
    "rolling_data['Passengers_r10mean'] = rolling_data.Passengers.rolling(10).mean()\n",
    "_=rolling_data[:50].plot(marker='o', markersize=3)"
   ]
  },
  {
   "cell_type": "code",
   "execution_count": null,
   "metadata": {
    "hidden": true
   },
   "outputs": [],
   "source": [
    "#----------YOUR SOLUTION-----------#\n",
    "#....\n"
   ]
  },
  {
   "cell_type": "markdown",
   "metadata": {
    "hidden": true
   },
   "source": [
    "<b>Rolling Window</b> - Window Type\n",
    "\n",
    "[scipy - Different Window Types](https://docs.scipy.org/doc/scipy/reference/signal.windows.html#module-scipy.signal.windows)\n",
    "\n",
    "<img src='https://docs.scipy.org/doc/scipy/reference/_images/scipy-signal-windows-exponential-1_00.png' width='250' align='left'>\n",
    "\n",
    "<img src='https://docs.scipy.org/doc/scipy/reference/_images/scipy-signal-windows-triang-1_00.png' width='250' align='left'>\n",
    "\n",
    "<img src='https://docs.scipy.org/doc/scipy/reference/_images/scipy-signal-windows-gaussian-1_00.png' width='250' align='left'>\n",
    "\n"
   ]
  },
  {
   "cell_type": "code",
   "execution_count": null,
   "metadata": {
    "ExecuteTime": {
     "end_time": "2020-12-06T12:36:09.462646Z",
     "start_time": "2020-12-06T12:36:09.459178Z"
    },
    "hidden": true
   },
   "outputs": [],
   "source": [
    "rolling_data = dataHolder.bucket['airp_data'].data.copy()"
   ]
  },
  {
   "cell_type": "code",
   "execution_count": null,
   "metadata": {
    "ExecuteTime": {
     "end_time": "2020-12-06T12:36:09.966431Z",
     "start_time": "2020-12-06T12:36:09.669982Z"
    },
    "hidden": true
   },
   "outputs": [],
   "source": [
    "rolling_data['Passengers_rE5mean'] = rolling_data.Passengers.rolling(5, win_type='exponential').mean(tau=3)\n",
    "rolling_data['Passengers_rG5mean'] = rolling_data.Passengers.rolling(5, win_type='gaussian').mean(std=1)\n",
    "_=rolling_data[:50].plot(marker='o', markersize=3, title='Different Window Types')"
   ]
  },
  {
   "cell_type": "code",
   "execution_count": null,
   "metadata": {
    "ExecuteTime": {
     "end_time": "2020-12-06T12:36:10.247321Z",
     "start_time": "2020-12-06T12:36:09.984588Z"
    },
    "hidden": true
   },
   "outputs": [],
   "source": [
    "_=rolling_data.plot(marker='o', markersize=3, title='Different Window Types')"
   ]
  },
  {
   "cell_type": "markdown",
   "metadata": {
    "hidden": true,
    "solution2": "hidden",
    "solution2_first": true
   },
   "source": [
    "**Q)** Plot for Triangular Window Type"
   ]
  },
  {
   "cell_type": "code",
   "execution_count": null,
   "metadata": {
    "hidden": true,
    "solution2": "hidden"
   },
   "outputs": [],
   "source": [
    "rolling_data = dataHolder.bucket['airp_data'].data.copy()\n",
    "rolling_data['Passengers_rT5mean'] = rolling_data.Passengers.rolling(10, win_type='triang').mean()\n",
    "_=rolling_data[:50].plot(marker='o', markersize=3, title='Different Window Types')"
   ]
  },
  {
   "cell_type": "code",
   "execution_count": null,
   "metadata": {
    "hidden": true
   },
   "outputs": [],
   "source": [
    "#----------YOUR SOLUTION-----------#\n",
    "#....\n"
   ]
  },
  {
   "cell_type": "markdown",
   "metadata": {
    "hidden": true
   },
   "source": [
    "<b>Expanding Window</b>"
   ]
  },
  {
   "cell_type": "code",
   "execution_count": null,
   "metadata": {
    "ExecuteTime": {
     "end_time": "2020-12-06T12:37:54.921709Z",
     "start_time": "2020-12-06T12:37:54.917475Z"
    },
    "hidden": true
   },
   "outputs": [],
   "source": [
    "expanding_data = dataHolder.bucket['airp_data'].data.copy()"
   ]
  },
  {
   "cell_type": "markdown",
   "metadata": {
    "hidden": true
   },
   "source": [
    "Will there be any difference between the different windows for expanding windows?"
   ]
  },
  {
   "cell_type": "code",
   "execution_count": null,
   "metadata": {
    "ExecuteTime": {
     "end_time": "2020-12-06T12:37:55.996139Z",
     "start_time": "2020-12-06T12:37:55.768559Z"
    },
    "hidden": true
   },
   "outputs": [],
   "source": [
    "expanding_data['Passengers_e5mean'] = expanding_data.Passengers.expanding(5).mean()\n",
    "expanding_data['Passengers_e10mean'] = expanding_data.Passengers.expanding(10).mean()\n",
    "_=expanding_data.plot(marker='o', markersize=3, title='Different Windows')"
   ]
  },
  {
   "cell_type": "markdown",
   "metadata": {
    "hidden": true
   },
   "source": [
    "Take a moment and think when is it that you will use Expanding Window and Rolling Window?\n",
    "- Example Maximum DD uptil now, in a Trading Strategy."
   ]
  },
  {
   "cell_type": "markdown",
   "metadata": {
    "heading_collapsed": true
   },
   "source": [
    "## Lags\n",
    "\n",
    "Since the time series data is collected over a period of time, datapoints adjacent of `Timestamps` might have relation with one another, hence it becomes appropriate to consider the `Lagged` values of time series in your analysis"
   ]
  },
  {
   "cell_type": "code",
   "execution_count": null,
   "metadata": {
    "ExecuteTime": {
     "end_time": "2020-12-06T12:38:12.446544Z",
     "start_time": "2020-12-06T12:38:12.228563Z"
    },
    "hidden": true
   },
   "outputs": [],
   "source": [
    "lagdata = dataHolder.bucket['beer_prod'].data.copy()\n",
    "lagdata.columns = ['MBP_L0']\n",
    "_=lagdata.dropna()[:50].plot(title='Monthly Beer Production & its Lags')"
   ]
  },
  {
   "cell_type": "markdown",
   "metadata": {
    "hidden": true,
    "solution2": "hidden",
    "solution2_first": true
   },
   "source": [
    "**Q)** Which lags do you think will be having some correlation to the values of the original data? \n",
    "\n",
    "*Correlation : There is some significant relationship within the two columns being measured*\n",
    "\n",
    "Try and visualise for various other lags that you see fit, and see how they are related to the actual values"
   ]
  },
  {
   "cell_type": "markdown",
   "metadata": {
    "hidden": true,
    "solution2": "hidden"
   },
   "source": [
    "**A) Since this is an Monthly data, we can expect the 3-monthly*x lags to be somewhat correlated to the original series..**"
   ]
  },
  {
   "cell_type": "code",
   "execution_count": null,
   "metadata": {
    "ExecuteTime": {
     "end_time": "2020-12-06T07:00:41.355400Z",
     "start_time": "2020-12-06T07:00:41.120732Z"
    },
    "hidden": true,
    "solution2": "hidden"
   },
   "outputs": [],
   "source": [
    "lagdata = dataHolder.bucket['beer_prod'].data.copy()\n",
    "lagdata.columns = ['MBP_L0']\n",
    "\n",
    "# lagdata['MBP_L1']  = lagdata.MBP_L0.shift(1)\n",
    "# lagdata['MBP_L6']  = lagdata.MBP_L0.shift(6)\n",
    "# lagdata['MBP_L12'] = lagdata.MBP_L0.shift(12)\n",
    "# lagdata['MBP_L24'] = lagdata.MBP_L0.shift(24)\n",
    "_=lagdata[20:70].plot()"
   ]
  },
  {
   "cell_type": "code",
   "execution_count": null,
   "metadata": {
    "hidden": true
   },
   "outputs": [],
   "source": [
    "lagdata = dataHolder.bucket['beer_prod'].data.copy()\n",
    "lagdata.columns = ['MBP_L0']\n",
    "#----------YOUR SOLUTION-----------#\n",
    "#...."
   ]
  },
  {
   "cell_type": "markdown",
   "metadata": {
    "heading_collapsed": true
   },
   "source": [
    "## Resampling\n",
    "Changing frequency of the time series dataset, and applying aggregation functions over them"
   ]
  },
  {
   "cell_type": "code",
   "execution_count": null,
   "metadata": {
    "ExecuteTime": {
     "end_time": "2020-12-06T12:38:36.902963Z",
     "start_time": "2020-12-06T12:38:36.898961Z"
    },
    "hidden": true
   },
   "outputs": [],
   "source": [
    "britanniastock_data=dataHolder.bucket['brit_stock'].data.copy()"
   ]
  },
  {
   "cell_type": "code",
   "execution_count": null,
   "metadata": {
    "ExecuteTime": {
     "end_time": "2020-12-06T12:38:46.193064Z",
     "start_time": "2020-12-06T12:38:37.406177Z"
    },
    "hidden": true
   },
   "outputs": [],
   "source": [
    "resampled_data = britanniastock_data.resample('2M').agg({'Open':'first',\n",
    "                                                          'High':'max',\n",
    "                                                          'Low':'min',\n",
    "                                                          'Close':'last',\n",
    "                                                          'Volume':'sum'})\n",
    "mpl.plot(britanniastock_data, figsize=(15,7),\n",
    "         type='candle', volume=True, style='mike')"
   ]
  },
  {
   "cell_type": "code",
   "execution_count": null,
   "metadata": {
    "ExecuteTime": {
     "end_time": "2020-12-06T12:38:46.786793Z",
     "start_time": "2020-12-06T12:38:46.225366Z"
    },
    "hidden": true
   },
   "outputs": [],
   "source": [
    "resampled_data = britanniastock_data.resample('12W', label='right').agg({'Open':'first',\n",
    "                                                                        'High':'max',\n",
    "                                                                        'Low':'min',\n",
    "                                                                        'Close':'last',\n",
    "                                                                        'Volume':'sum'})\n",
    "mpl.plot(resampled_data, figsize=(15,7),\n",
    "         type='candle', volume=True, style='mike')"
   ]
  },
  {
   "cell_type": "code",
   "execution_count": null,
   "metadata": {
    "ExecuteTime": {
     "end_time": "2020-12-06T12:38:46.848618Z",
     "start_time": "2020-12-06T12:38:46.821666Z"
    },
    "hidden": true
   },
   "outputs": [],
   "source": [
    "britanniastock_data.resample('2W', label='right').agg({'Open':'first',\n",
    "                                                          'High':'max',\n",
    "                                                          'Low':'min',\n",
    "                                                          'Close':'last',\n",
    "                                                          'Volume':'sum'})"
   ]
  },
  {
   "cell_type": "code",
   "execution_count": null,
   "metadata": {
    "ExecuteTime": {
     "end_time": "2020-12-06T12:38:46.882928Z",
     "start_time": "2020-12-06T12:38:46.879852Z"
    },
    "hidden": true
   },
   "outputs": [],
   "source": [
    "plt.rcParams['figure.dpi'] = 100\n",
    "plt.rcParams['figure.figsize'] = (15,7)\n",
    "plt.style.use('ggplot')\n",
    "plt.rcParams['legend.facecolor'] = 'black'"
   ]
  },
  {
   "cell_type": "markdown",
   "metadata": {
    "heading_collapsed": true
   },
   "source": [
    "## Differencing & Percentage Change\n",
    "\n",
    " - Differencing : Taking a <b>difference of the value at $t_{i}$ with $t_{i-n}$</b>, where n is the period\n",
    " - Percentage Change : <b>Change observed in the value at $t_{i}$ w.r.t $t_{i-n}$</b>, where n is the period\n"
   ]
  },
  {
   "cell_type": "code",
   "execution_count": null,
   "metadata": {
    "ExecuteTime": {
     "end_time": "2020-12-06T12:41:24.693541Z",
     "start_time": "2020-12-06T12:41:24.687862Z"
    },
    "hidden": true
   },
   "outputs": [],
   "source": [
    "houseprices_data = dataHolder.bucket['house_price'].data.copy()"
   ]
  },
  {
   "cell_type": "code",
   "execution_count": null,
   "metadata": {
    "ExecuteTime": {
     "end_time": "2020-12-06T12:41:25.131930Z",
     "start_time": "2020-12-06T12:41:25.103636Z"
    },
    "hidden": true
   },
   "outputs": [],
   "source": [
    "chicago_prices = houseprices_data[houseprices_data.Region=='Chicago'].copy()\n",
    "chicago_prices.drop(['Region'], axis=1, inplace=True)\n",
    "chicago_prices['Price_diffP1'] = chicago_prices.Price.diff(1)\n",
    "chicago_prices['Price_diffP2'] = chicago_prices.Price.diff(2)\n",
    "\n",
    "chicago_prices['Price_pctP1'] = chicago_prices.Price.pct_change(1)\n",
    "chicago_prices['Price_pctP2'] = chicago_prices.Price.pct_change(2)\n",
    "chicago_prices = chicago_prices.dropna()\n",
    "chicago_prices.head()"
   ]
  },
  {
   "cell_type": "code",
   "execution_count": null,
   "metadata": {
    "ExecuteTime": {
     "end_time": "2020-12-06T12:41:26.427919Z",
     "start_time": "2020-12-06T12:41:25.443661Z"
    },
    "hidden": true,
    "scrolled": false
   },
   "outputs": [],
   "source": [
    "fig,axes = plt.subplots(3,1,figsize=(15,12))\n",
    "_=axes[0].plot(chicago_prices.Price, marker='o', markersize=3, label='Actual Price')\n",
    "_=axes[0].legend()\n",
    "_=axes[0].set_title('Actual Price of the Houses')\n",
    "\n",
    "_=axes[1].plot(chicago_prices.Price_diffP1, marker='o', markersize=3, label='DiffP1')\n",
    "_=axes[1].plot(chicago_prices.Price_diffP2, marker='o', markersize=3, label='DiffP2')\n",
    "_=axes[1].legend()\n",
    "_=axes[1].set_title('Actual Price Differencing')\n",
    "\n",
    "_=axes[2].plot(chicago_prices.Price_pctP1, marker='o', markersize=3, label='PctP1')\n",
    "_=axes[2].plot(chicago_prices.Price_pctP2, marker='o', markersize=3, label='PctP2')\n",
    "_=axes[2].legend()\n",
    "_=axes[2].set_title('Actual Price Percent Change')\n",
    "\n",
    "_=fig.suptitle('Differencing \\n&\\n Percent Change', fontsize=20)\n"
   ]
  },
  {
   "cell_type": "markdown",
   "metadata": {
    "heading_collapsed": true
   },
   "source": [
    "## Imputation\n",
    "\n",
    "Simply put, Filling in the Missing Values.\n",
    "\n",
    "- fillna - Static Value Imputation\n",
    "- bfill - Backward Fill\n",
    "- ffill - Forward Fill\n",
    "- interpolate - `spline`, `polynomial`, `linear`, `quadratic`, `barycentric`, `pchip`, `akima`, \n",
    "- rfimpute - Random Forest Imputation\n",
    "- kNN - K Nearest Neighbours\n",
    "- PoP Imputation - Period Over Period Imputation\n",
    "\n",
    "NOTE : Be wary while usgin `polynomial` interpolation as it can induce ocsillations in the dataset, a phenomenon known as [Runge's phenomenon](https://en.wikipedia.org/wiki/Runge%27s_phenomenon)\n",
    "\n",
    "<b>Interesting Read</b> : [Working with Missing Data](https://pandas.pydata.org/pandas-docs/stable/user_guide/missing_data.html#filling-with-a-pandasobject)\n"
   ]
  },
  {
   "cell_type": "markdown",
   "metadata": {
    "hidden": true
   },
   "source": [
    "<b>Filling a Static Value for the NaN columns</b>"
   ]
  },
  {
   "cell_type": "code",
   "execution_count": null,
   "metadata": {
    "ExecuteTime": {
     "end_time": "2020-12-06T12:42:38.170372Z",
     "start_time": "2020-12-06T12:42:38.162275Z"
    },
    "hidden": true
   },
   "outputs": [],
   "source": [
    "def get_uv_impplot(data, title):\n",
    "    data=data.reset_index().copy()\n",
    "    fig, axes = plt.subplots()\n",
    "    from matplotlib.cm import get_cmap\n",
    "    name = \"Pastel1\"\n",
    "    cmap = get_cmap(name)\n",
    "    colors = cmap.colors\n",
    "    axes.set_prop_cycle(color=colors)\n",
    "    for ecol in [k for k in data.columns if 'Imputed' in k]:\n",
    "        sns.lineplot(x='Date', y=ecol, data=data, label=ecol, color='r',\n",
    "                     linestyle='-.', marker='o', markersize=3, ax=axes)\n",
    "    sns.lineplot(x='Date', y='Actual', data=data, label='Actual',\n",
    "                 color='b', linestyle='-.', marker='o', markersize=3, ax=axes)\n",
    "    axes.set_title(title)\n",
    "    plt.close()\n",
    "    return fig"
   ]
  },
  {
   "cell_type": "code",
   "execution_count": null,
   "metadata": {
    "ExecuteTime": {
     "end_time": "2020-12-06T12:42:39.300108Z",
     "start_time": "2020-12-06T12:42:39.036106Z"
    },
    "hidden": true
   },
   "outputs": [],
   "source": [
    "fillna_imputeUV = dataHolder.bucket['airp_data_missing'].data.copy()\n",
    "fillna_imputeUV.columns=['Actual']\n",
    "fillna_imputeUV['Imputed'] = fillna_imputeUV.fillna(fillna_imputeUV.Actual.mean())\n",
    "\n",
    "get_uv_impplot(fillna_imputeUV, title='Univaritate - Mean Imputation')"
   ]
  },
  {
   "cell_type": "code",
   "execution_count": null,
   "metadata": {
    "ExecuteTime": {
     "end_time": "2020-12-06T12:44:41.744888Z",
     "start_time": "2020-12-06T12:44:41.459444Z"
    },
    "hidden": true
   },
   "outputs": [],
   "source": [
    "fillna_imputeUV = dataHolder.bucket['airp_data_missing'].data.copy()\n",
    "fillna_imputeUV.columns=['Actual']\n",
    "fillna_imputeUV['Imputed'] = fillna_imputeUV.fillna(fillna_imputeUV.Actual.median())\n",
    "\n",
    "get_uv_impplot(fillna_imputeUV, title='Univaritate - Median Imputation')"
   ]
  },
  {
   "cell_type": "code",
   "execution_count": null,
   "metadata": {
    "ExecuteTime": {
     "end_time": "2020-12-06T12:44:44.727004Z",
     "start_time": "2020-12-06T12:44:44.467943Z"
    },
    "hidden": true
   },
   "outputs": [],
   "source": [
    "fillna_imputeUV = dataHolder.bucket['airp_data_missing'].data.copy()\n",
    "fillna_imputeUV.columns=['Actual']\n",
    "\n",
    "fillna_imputeUV['Imputed'] = fillna_imputeUV.Actual.fillna(0).rolling(window=10).mean()\n",
    "fillna_imputeUV['Imputed'] = fillna_imputeUV.apply(lambda x : \\\n",
    "                                                   x.Imputed if pd.isna(x.Actual) else x.Actual, axis=1)\n",
    "\n",
    "get_uv_impplot(fillna_imputeUV, title='Univaritate - Rolling Window Mean Imputation')"
   ]
  },
  {
   "cell_type": "markdown",
   "metadata": {
    "hidden": true
   },
   "source": [
    "<b>Forward and Backward Fill</b>"
   ]
  },
  {
   "cell_type": "code",
   "execution_count": null,
   "metadata": {
    "ExecuteTime": {
     "end_time": "2020-12-06T12:44:47.269484Z",
     "start_time": "2020-12-06T12:44:47.009662Z"
    },
    "hidden": true
   },
   "outputs": [],
   "source": [
    "ffill_imputeUV = dataHolder.bucket['airp_data_missing'].data.copy()\n",
    "ffill_imputeUV.columns=['Actual']\n",
    "ffill_imputeUV['Imputed'] = ffill_imputeUV.Actual.ffill()\n",
    "\n",
    "get_uv_impplot(ffill_imputeUV, title='Univaritate - Forward Fill')"
   ]
  },
  {
   "cell_type": "code",
   "execution_count": null,
   "metadata": {
    "ExecuteTime": {
     "end_time": "2020-12-06T12:44:50.932274Z",
     "start_time": "2020-12-06T12:44:50.678458Z"
    },
    "hidden": true
   },
   "outputs": [],
   "source": [
    "bfill_imputeUV = dataHolder.bucket['airp_data_missing'].data.copy()\n",
    "bfill_imputeUV.columns=['Actual']\n",
    "bfill_imputeUV['Imputed'] = bfill_imputeUV.Actual.bfill()\n",
    "\n",
    "get_uv_impplot(bfill_imputeUV, title='Univaritate - Backward Fill')"
   ]
  },
  {
   "cell_type": "markdown",
   "metadata": {
    "hidden": true
   },
   "source": [
    "<b>Interpolation</b>"
   ]
  },
  {
   "cell_type": "code",
   "execution_count": null,
   "metadata": {
    "ExecuteTime": {
     "end_time": "2020-12-06T12:44:57.256658Z",
     "start_time": "2020-12-06T12:44:56.852766Z"
    },
    "hidden": true
   },
   "outputs": [],
   "source": [
    "interp_imputeUV = dataHolder.bucket['airp_data_missing'].data.copy()\n",
    "interp_imputeUV.columns=['Actual']\n",
    "interp_imputeUV['Imputed_Linear'] = interp_imputeUV.Actual.interpolate(method='linear')\n",
    "interp_imputeUV['Imputed_Quadratic'] = interp_imputeUV.Actual.interpolate(method='quadratic')\n",
    "interp_imputeUV['Imputed_Spline'] = interp_imputeUV.Actual.interpolate(method='spline', order=2)\n",
    "interp_imputeUV['Imputed_Poly'] = interp_imputeUV.Actual.interpolate(method='polynomial', order=2)\n",
    "interp_imputeUV['Imputed_Pchip'] = interp_imputeUV.Actual.interpolate(method='pchip')\n",
    "\n",
    "get_uv_impplot(interp_imputeUV[90:], title='Univaritate - Interpolation')"
   ]
  },
  {
   "cell_type": "markdown",
   "metadata": {
    "hidden": true
   },
   "source": [
    "<b>Now, lets calculate which method of interpolation is the best for the given dataset?</b>"
   ]
  },
  {
   "cell_type": "code",
   "execution_count": null,
   "metadata": {
    "ExecuteTime": {
     "end_time": "2020-12-06T12:45:49.649218Z",
     "start_time": "2020-12-06T12:45:49.609358Z"
    },
    "hidden": true
   },
   "outputs": [],
   "source": [
    "imp_check = dataHolder.bucket['airp_data_missing'].data.copy()\n",
    "imp_check.columns=['Actual']\n",
    "imp_check['Imputed_Linear'] = imp_check.Actual.interpolate(method='linear')\n",
    "imp_check['Imputed_Quadratic'] = imp_check.Actual.interpolate(method='quadratic')\n",
    "imp_check['Imputed_Spline'] = imp_check.Actual.interpolate(method='spline', order=2)\n",
    "imp_check['Imputed_Poly'] = imp_check.Actual.interpolate(method='polynomial', order=2)\n",
    "imp_check['Imputed_Pchip'] = imp_check.Actual.interpolate(method='pchip')\n",
    "imp_check['Imputed_bfill'] = imp_check.Actual.bfill()\n",
    "imp_check['Imputed_ffill'] = imp_check.Actual.ffill()\n",
    "\n",
    "imp_check['Imputed_Rolling'] = imp_check.Actual.fillna(0).rolling(window=10).mean()\n",
    "imp_check['Imputed_Rolling'] = imp_check.apply(lambda x : x.Imputed_Rolling if pd.isna(x.Actual) else x.Actual,\n",
    "                                               axis=1)\n",
    "imp_check['Imputed_Meanfill'] = imp_check.Actual.fillna(imp_check.Actual.mean())\n",
    "imp_check['Imputed_Medialfill'] = imp_check.Actual.fillna(imp_check.Actual.median())\n",
    "imp_check.head()\n"
   ]
  },
  {
   "cell_type": "code",
   "execution_count": null,
   "metadata": {
    "ExecuteTime": {
     "end_time": "2020-12-06T12:45:49.909952Z",
     "start_time": "2020-12-06T12:45:49.895072Z"
    },
    "hidden": true
   },
   "outputs": [],
   "source": [
    "sse_df = pd.DataFrame(columns=['SSE'])\n",
    "actual_data = dataHolder.bucket['airp_data'].data.copy()\n",
    "sse_df.index.name = 'Imputation Type'\n",
    "for ecol in [k for k in imp_check.columns if 'Imputed' in k]:\n",
    "    imputation_name = \" \".join(ecol.split('_'))\n",
    "    score = ((imp_check[ecol]-actual_data['Passengers'])**2).sum()\n",
    "    sse_df.loc[imputation_name, 'SSE'] = score\n"
   ]
  },
  {
   "cell_type": "code",
   "execution_count": null,
   "metadata": {
    "ExecuteTime": {
     "end_time": "2020-12-06T12:45:50.769770Z",
     "start_time": "2020-12-06T12:45:50.760547Z"
    },
    "hidden": true
   },
   "outputs": [],
   "source": [
    "sse_df"
   ]
  },
  {
   "cell_type": "markdown",
   "metadata": {
    "hidden": true,
    "solution2": "hidden",
    "solution2_first": true
   },
   "source": [
    "<b>But do you think this is the right way to assess which `Imputation` method to use?</b>"
   ]
  },
  {
   "cell_type": "markdown",
   "metadata": {
    "hidden": true,
    "solution2": "hidden"
   },
   "source": [
    "Ans) No!, we wont have the actual data to compare it with, Which Interpolation method to use is something that is very specific to the `Domain Knowledge` of the Time Series problem we are working on."
   ]
  },
  {
   "cell_type": "markdown",
   "metadata": {
    "hidden": true
   },
   "source": [
    "<b>Imputing missing data in Multivariate Dataset</b>\n",
    "\n",
    "- Random Forest Imputation using Proximity Matrix, **Interesting Course :** [Intro To Machine Learning by Jeremy Howards & Rachel](https://course18.fast.ai/ml.html)\n",
    "- KNN Imputation : **Interesting Read :** [sklearn docs](https://scikit-learn.org/stable/modules/impute.html#nearest-neighbors-imputation)"
   ]
  },
  {
   "cell_type": "code",
   "execution_count": null,
   "metadata": {
    "ExecuteTime": {
     "end_time": "2020-12-06T12:48:46.728001Z",
     "start_time": "2020-12-06T12:48:46.696419Z"
    },
    "hidden": true
   },
   "outputs": [],
   "source": [
    "housepmiss_data = dataHolder.bucket['housing_missing'].data.copy()\n",
    "housepmiss_data[housepmiss_data.ptratio.isna()]"
   ]
  },
  {
   "cell_type": "code",
   "execution_count": null,
   "metadata": {
    "ExecuteTime": {
     "end_time": "2020-12-06T12:49:01.011530Z",
     "start_time": "2020-12-06T12:48:59.356130Z"
    },
    "hidden": true
   },
   "outputs": [],
   "source": [
    "from missingpy import MissForest, KNNImputer\n",
    "imputer = MissForest()\n",
    "X_imputed = imputer.fit_transform(housepmiss_data.values)\n",
    "X_imputed_DF = pd.DataFrame(X_imputed, columns=housepmiss_data.columns)"
   ]
  },
  {
   "cell_type": "code",
   "execution_count": null,
   "metadata": {
    "ExecuteTime": {
     "end_time": "2020-12-06T12:49:01.116130Z",
     "start_time": "2020-12-06T12:49:01.091286Z"
    },
    "hidden": true
   },
   "outputs": [],
   "source": [
    "import numpy as np\n",
    "from sklearn.impute import KNNImputer\n",
    "nan = np.nan\n",
    "imputer = KNNImputer(n_neighbors=2, weights=\"uniform\")\n",
    "X_imputed = imputer.fit_transform(housepmiss_data.values)\n",
    "X_imputed_DF = pd.DataFrame(X_imputed, columns=housepmiss_data.columns)\n",
    "X_imputed_DF"
   ]
  },
  {
   "cell_type": "markdown",
   "metadata": {
    "heading_collapsed": true
   },
   "source": [
    "## Smoothing Operations\n",
    "\n",
    " - Moving Average\n",
    " - Exponential Smoothing\n",
    " - Fourier Smoothing"
   ]
  },
  {
   "cell_type": "code",
   "execution_count": null,
   "metadata": {
    "ExecuteTime": {
     "end_time": "2020-12-06T12:49:38.592128Z",
     "start_time": "2020-12-06T12:49:38.577768Z"
    },
    "hidden": true
   },
   "outputs": [],
   "source": [
    "smoothing_data = dataHolder.bucket['beer_prod'].data.copy()\n",
    "smoothing_data.columns = ['MBP']\n",
    "smoothing_data['SmoothedData'] = np.nan\n",
    "smoothing_data.head()"
   ]
  },
  {
   "cell_type": "markdown",
   "metadata": {
    "hidden": true
   },
   "source": [
    "<b>Moving Average Smoothing</b>"
   ]
  },
  {
   "cell_type": "code",
   "execution_count": null,
   "metadata": {
    "ExecuteTime": {
     "end_time": "2020-12-06T12:49:58.854936Z",
     "start_time": "2020-12-06T12:49:58.491718Z"
    },
    "hidden": true
   },
   "outputs": [],
   "source": [
    "window_size = 20\n",
    "smoothing_data['SmoothedData'] = smoothing_data.MBP.rolling(window=window_size).mean()\n",
    "\n",
    "_=smoothing_data.plot(title=f'Monthly Beer Production with $window$ = {window_size}', \n",
    "                       linestyle='-', marker='o', markersize=3)"
   ]
  },
  {
   "cell_type": "markdown",
   "metadata": {
    "hidden": true
   },
   "source": [
    "<b>Exponential Smoothing</b>"
   ]
  },
  {
   "cell_type": "code",
   "execution_count": null,
   "metadata": {
    "ExecuteTime": {
     "end_time": "2020-12-06T12:54:02.270284Z",
     "start_time": "2020-12-06T12:54:01.872738Z"
    },
    "hidden": true
   },
   "outputs": [],
   "source": [
    "# Custom Definition of weights\n",
    "window_size = 15\n",
    "win_weights = np.diff(np.geomspace(1,2, window_size+1)-1)\n",
    "def get_exp(x):\n",
    "    global win_weights\n",
    "    return sum(x.values*win_weights)\n",
    "\n",
    "rolling = smoothing_data.MBP.rolling(window=window_size)\n",
    "smoothing_data['SmoothedData'] = rolling.apply(lambda x : get_exp(x))\n",
    "\n",
    "_=smoothing_data.plot(title=f'Monthly Beer Production & Average Smoothing with $window$ = {window_size}', \n",
    "                       linestyle='-',)"
   ]
  },
  {
   "cell_type": "code",
   "execution_count": null,
   "metadata": {
    "ExecuteTime": {
     "end_time": "2020-12-06T12:55:27.106599Z",
     "start_time": "2020-12-06T12:55:27.103191Z"
    },
    "hidden": true
   },
   "outputs": [],
   "source": [
    "# plt.plot(win_weights)"
   ]
  },
  {
   "cell_type": "code",
   "execution_count": null,
   "metadata": {
    "ExecuteTime": {
     "end_time": "2020-12-06T12:55:08.180371Z",
     "start_time": "2020-12-06T12:55:07.828238Z"
    },
    "hidden": true
   },
   "outputs": [],
   "source": [
    "# pandas ewm\n",
    "window_size = 10\n",
    "smoothing_data['SmoothedData'] = smoothing_data.MBP.ewm(span=window_size).mean()\n",
    "\n",
    "_=smoothing_data.plot(title=f'Monthly Beer Production & Exponential Smoothing with $window$ = {window_size}', \n",
    "                       linestyle='-')"
   ]
  },
  {
   "cell_type": "markdown",
   "metadata": {
    "hidden": true
   },
   "source": [
    "<b>Fourier Smoothing</b>\n",
    "\n",
    "https://en.wikipedia.org/wiki/Real_analysis#/media/File:Fourier_Series.svg"
   ]
  },
  {
   "cell_type": "code",
   "execution_count": null,
   "metadata": {
    "ExecuteTime": {
     "end_time": "2020-12-06T13:02:21.677441Z",
     "start_time": "2020-12-06T13:02:20.413322Z"
    },
    "hidden": true
   },
   "outputs": [],
   "source": [
    "# Inspired from : https://dsp.stackexchange.com/a/49233/47462\n",
    "\n",
    "y = smoothing_data.MBP.values\n",
    "n = len(y)\n",
    "x = np.linspace(start=0, stop=n-1, num=n)\n",
    "\n",
    "fig, axes  = plt.subplots(3,1, figsize=(25,35))\n",
    "\n",
    "COMPONENTS = [10, 50, int(n/4)]\n",
    "\n",
    "for idx, c in enumerate(COMPONENTS):\n",
    "    colors = np.linspace(start=100, stop=255, num=c)\n",
    "    for i in range(c):\n",
    "        Y = np.fft.fft(y)\n",
    "        np.put(Y, range(i+1, n), 0.0)\n",
    "        ifft = np.fft.ifft(Y)\n",
    "        axes[idx].plot(x, ifft.real, color=plt.cm.Greens(int(colors[i])), alpha=.70)\n",
    "        smoothing_data['SmoothedData'] = ifft.real\n",
    "\n",
    "    axes[idx].set_title(\"First {c} fourier components\".format(c=c))\n",
    "    axes[idx].plot(x,y, label=\"Original dataset\")\n",
    "    axes[idx].grid(linestyle='dashed')\n",
    "    axes[idx].legend()\n"
   ]
  },
  {
   "cell_type": "code",
   "execution_count": null,
   "metadata": {
    "hidden": true
   },
   "outputs": [],
   "source": []
  },
  {
   "cell_type": "markdown",
   "metadata": {},
   "source": [
    "## Transformation & Adjustment Operations\n",
    "\n",
    "We usually induldge in the adjustments and transformations because we want to make our time series data much more smoother and simpler, as simpler patterns usually make for much more accurate forecast.\n",
    "\n",
    "- Calendar Adjustments\n",
    "- Population Adjustments\n",
    "- Inflation Adjustments\n",
    "- Power Transforms\n",
    "- Differencing\n",
    "- Standardization\n",
    "- Normalization\n",
    "\n",
    "\n",
    "[Data transformations and forecasting models: what to use and when](https://people.duke.edu/~rnau/whatuse.htm)"
   ]
  },
  {
   "cell_type": "code",
   "execution_count": null,
   "metadata": {
    "ExecuteTime": {
     "end_time": "2020-12-06T13:07:06.207655Z",
     "start_time": "2020-12-06T13:07:06.201376Z"
    }
   },
   "outputs": [],
   "source": [
    "def get_transformed_plot(data, title):\n",
    "    data=data.reset_index().copy()\n",
    "    fig, axes = plt.subplots(2,1)\n",
    "    adjCol = [k for k in data.columns if 'Adjusted' in k or 'Transformed' in k][0]\n",
    "    data.Actual.plot(ax=axes[0], legend=True)\n",
    "    data[adjCol].plot(ax=axes[1], legend=True)\n",
    "    fig.suptitle(title, fontsize=20, color='black')\n",
    "    plt.close()\n",
    "    return fig"
   ]
  },
  {
   "cell_type": "markdown",
   "metadata": {
    "heading_collapsed": true
   },
   "source": [
    "### Calendar Adjustment's\n",
    "- Removes the variation in the dataset due to the intermittent variation in frequency related properties for ex :  different `number of days in a month`\n",
    "- Makes time series much more simpler to forecast"
   ]
  },
  {
   "cell_type": "code",
   "execution_count": null,
   "metadata": {
    "ExecuteTime": {
     "end_time": "2020-12-06T13:07:47.746495Z",
     "start_time": "2020-12-06T13:07:47.741189Z"
    },
    "hidden": true
   },
   "outputs": [],
   "source": [
    "transformData1 = dataHolder.bucket['beer_prod'].data.copy()\n",
    "transformData1.columns = ['Actual']\n",
    "\n",
    "transformData2 = dataHolder.bucket['mprod_data'].data.copy()\n",
    "transformData2.columns = ['Actual']\n"
   ]
  },
  {
   "cell_type": "code",
   "execution_count": null,
   "metadata": {
    "ExecuteTime": {
     "end_time": "2020-12-06T13:08:12.126532Z",
     "start_time": "2020-12-06T13:08:12.120584Z"
    },
    "hidden": true
   },
   "outputs": [],
   "source": [
    "dataHolder.bucket['mprod_data'].long_description"
   ]
  },
  {
   "cell_type": "code",
   "execution_count": null,
   "metadata": {
    "ExecuteTime": {
     "end_time": "2020-12-06T13:11:30.754582Z",
     "start_time": "2020-12-06T13:11:30.524327Z"
    },
    "hidden": true
   },
   "outputs": [],
   "source": [
    "transformData2.Actual[:10].plot()"
   ]
  },
  {
   "cell_type": "code",
   "execution_count": null,
   "metadata": {
    "ExecuteTime": {
     "end_time": "2020-12-06T13:11:32.711713Z",
     "start_time": "2020-12-06T13:11:32.706058Z"
    },
    "hidden": true
   },
   "outputs": [],
   "source": [
    "transformData1['CalendarAdjusted'] = transformData1.Actual/transformData1.index.daysinmonth\n",
    "transformData2['CalendarAdjusted'] = transformData2.Actual/transformData2.index.daysinmonth"
   ]
  },
  {
   "cell_type": "code",
   "execution_count": null,
   "metadata": {
    "ExecuteTime": {
     "end_time": "2020-12-06T13:11:33.241711Z",
     "start_time": "2020-12-06T13:11:32.926312Z"
    },
    "hidden": true
   },
   "outputs": [],
   "source": [
    "get_transformed_plot(transformData1[:100], 'Calendar Adjusted\\nBeer Production')"
   ]
  },
  {
   "cell_type": "code",
   "execution_count": null,
   "metadata": {
    "ExecuteTime": {
     "end_time": "2020-12-06T13:12:45.514441Z",
     "start_time": "2020-12-06T13:12:45.204626Z"
    },
    "hidden": true
   },
   "outputs": [],
   "source": [
    "get_transformed_plot(transformData2, 'Calendar Adjuste\\nMilk production')"
   ]
  },
  {
   "cell_type": "code",
   "execution_count": null,
   "metadata": {
    "ExecuteTime": {
     "end_time": "2020-12-06T13:12:49.610913Z",
     "start_time": "2020-12-06T13:12:49.420412Z"
    },
    "hidden": true
   },
   "outputs": [],
   "source": [
    "transformData2.CalendarAdjusted[:10].plot()"
   ]
  },
  {
   "cell_type": "markdown",
   "metadata": {
    "heading_collapsed": true
   },
   "source": [
    "### Population Adjustment's\n",
    "\n",
    "- Adjustments accounting for the changes in population, for example Number of Schools in the Country. That time series will carry more meaning if it were to be in the terms of Per Capita"
   ]
  },
  {
   "cell_type": "code",
   "execution_count": null,
   "metadata": {
    "ExecuteTime": {
     "end_time": "2020-12-06T13:13:05.138755Z",
     "start_time": "2020-12-06T13:13:05.127011Z"
    },
    "hidden": true
   },
   "outputs": [],
   "source": [
    "popenergy_data = dataHolder.bucket['pop_ener'].data.copy()\n",
    "popenergy_data.head()"
   ]
  },
  {
   "cell_type": "code",
   "execution_count": null,
   "metadata": {
    "ExecuteTime": {
     "end_time": "2020-12-06T13:13:06.171293Z",
     "start_time": "2020-12-06T13:13:05.941850Z"
    },
    "hidden": true
   },
   "outputs": [],
   "source": [
    "_=popenergy_data.iloc[:,1:].plot(title='Global Consumption of Various Categories of energy Sources')"
   ]
  },
  {
   "cell_type": "code",
   "execution_count": null,
   "metadata": {
    "ExecuteTime": {
     "end_time": "2020-12-06T13:14:06.321289Z",
     "start_time": "2020-12-06T13:14:06.304921Z"
    },
    "hidden": true
   },
   "outputs": [],
   "source": [
    "popenergy_data['Renewable_Energy_TWh'] = popenergy_data['Renewable_Energy_TWh']/popenergy_data['Population']\n",
    "popenergy_data['NonRenewable_Energy_TWh'] = popenergy_data['NonRenewable_Energy_TWh']/popenergy_data['Population']\n",
    "popenergy_data['Nuclear_Energy_TWh'] = popenergy_data['Nuclear_Energy_TWh']/popenergy_data['Population']\n",
    "popenergy_data.head()"
   ]
  },
  {
   "cell_type": "code",
   "execution_count": null,
   "metadata": {
    "ExecuteTime": {
     "end_time": "2020-12-06T13:14:09.253760Z",
     "start_time": "2020-12-06T13:14:09.022523Z"
    },
    "hidden": true
   },
   "outputs": [],
   "source": [
    "_=popenergy_data.iloc[:,1:].plot(title='Global Consumption of Various Categories of energy Sources/Population')"
   ]
  },
  {
   "cell_type": "markdown",
   "metadata": {
    "heading_collapsed": true
   },
   "source": [
    "### Inflation Adjustments\n",
    "\n",
    "These adjustments are required when the working with financial data. Some object which costs @ 1,000.00 in 2020 might had costs @ 500.00 in 2005, but it doesnt neccesarily means that the `VALUE` of the object has been appreciated, as it might just be because of the inflation."
   ]
  },
  {
   "cell_type": "code",
   "execution_count": null,
   "metadata": {
    "ExecuteTime": {
     "end_time": "2020-12-06T13:16:15.668012Z",
     "start_time": "2020-12-06T13:16:15.439934Z"
    },
    "hidden": true
   },
   "outputs": [],
   "source": [
    "houseprices_data = dataHolder.bucket['house_price'].data.copy()\n",
    "houseprices_data[houseprices_data.Region.isin(['Park Ridge'])].plot()\n"
   ]
  },
  {
   "cell_type": "code",
   "execution_count": null,
   "metadata": {
    "ExecuteTime": {
     "end_time": "2020-12-06T13:18:10.583329Z",
     "start_time": "2020-12-06T13:18:10.576238Z"
    },
    "hidden": true
   },
   "outputs": [],
   "source": [
    "houseprices_data = dataHolder.bucket['house_price'].data.copy()\n",
    "usacpi_data = dataHolder.bucket['usa_cpi'].data.copy()"
   ]
  },
  {
   "cell_type": "code",
   "execution_count": null,
   "metadata": {
    "ExecuteTime": {
     "end_time": "2020-12-06T13:18:10.902632Z",
     "start_time": "2020-12-06T13:18:10.886018Z"
    },
    "hidden": true
   },
   "outputs": [],
   "source": [
    "housing_prices = houseprices_data.copy()\n",
    "usa_cpi = usacpi_data[usacpi_data.index>='2008-03-01'].copy()\n",
    "transformData3 = pd.merge(housing_prices, usa_cpi, left_index=True, right_index=True, how='inner')"
   ]
  },
  {
   "cell_type": "code",
   "execution_count": null,
   "metadata": {
    "ExecuteTime": {
     "end_time": "2020-12-06T13:18:11.181126Z",
     "start_time": "2020-12-06T13:18:11.164766Z"
    },
    "hidden": true
   },
   "outputs": [],
   "source": [
    "transformData3['Inflation_Adjusted_Price'] = transformData3['Price']/transformData3['CPI']\n",
    "transformData3 = transformData3[transformData3.Region.isin(['Park Ridge'])]\n",
    "transformData3 = transformData3.drop(['Region', 'CPI'], axis=1)\n",
    "transformData3.rename(columns={'Price':'Actual'}, inplace=True)\n",
    "transformData3.head()"
   ]
  },
  {
   "cell_type": "code",
   "execution_count": null,
   "metadata": {
    "ExecuteTime": {
     "end_time": "2020-12-06T13:18:12.808830Z",
     "start_time": "2020-12-06T13:18:12.505295Z"
    },
    "hidden": true
   },
   "outputs": [],
   "source": [
    "get_transformed_plot(transformData3, 'With and Without Inflation Adjustments of Housing Prices for Park Ridge')"
   ]
  },
  {
   "cell_type": "markdown",
   "metadata": {
    "heading_collapsed": true
   },
   "source": [
    "### Mathematical Transformations\n",
    "\n",
    "Usually these are the transformations that you'd want to do away with the porblem of `Heteroskedacity` in your dataset, i.e `Variance` of the data changing its scale over time..\n",
    "\n",
    "These transformations include :-\n",
    "- Natural Log -\n",
    "\\begin{equation}\n",
    "    w_{t}=log(y_{t})\n",
    "\\end{equation}\n",
    "- Square Root, Cube Root\n",
    "\\begin{equation}\n",
    "    w_{t}=y_{t}^n\n",
    "\\end{equation}\n",
    "- Box-Cox Transformation -\n",
    "\\begin{equation}\n",
    "  w_{t}=\\begin{cases}\n",
    "    log(y_{t}), & \\text{if $\\lambda=0;$}\\\\\n",
    "    (y_{t}^\\lambda-1)/{\\lambda}, & \\text{otherwise}\n",
    "  \\end{cases}\n",
    "\\end{equation}\n",
    "\n",
    "\n",
    "\n",
    "Back Transformations for :-\n",
    "- Natural Log -\n",
    "\\begin{equation}\n",
    "    F_{t}=log(f_{t})\n",
    "\\end{equation}\n",
    "- Square Root, Cube Root\n",
    "\\begin{equation}\n",
    "    F_{t}=f_{t}^\\frac{1}{n}\n",
    "\\end{equation}\n",
    "- Box-Cox Median Point Forecast-\n",
    "\\begin{equation}\n",
    "  F_{t}=\\begin{cases}\n",
    "    exp(f_{t}), & \\text{if $\\lambda=0;$}\\\\\n",
    "    (\\lambda f_{t}+1)^\\frac{1}{\\lambda} , & \\text{otherwise}\n",
    "  \\end{cases}\n",
    "\\end{equation}\n",
    "- Box-Cox Mean Point Forecast-\n",
    "\\begin{equation}\n",
    "  F_{t}=\\begin{cases}\n",
    "    exp(f_{t}) \\left [1+\\frac{\\sigma_{h}^2}{2} \\right ], & \\text{if $\\lambda=0;$}\\\\\n",
    "    (\\lambda f_{t}+1)^\\frac{1}{\\lambda} \\left [1+\\frac{\\sigma_{h}^2(1-\\lambda)}{2(\\lambda f_{t} + 1)^2} \\right ], & \\text{otherwise}\n",
    "  \\end{cases}\n",
    "\\end{equation}\n",
    "\n",
    "\n",
    "Where \n",
    "\n",
    "$Y_{t}$ : Original Time Series Data\n",
    "\n",
    "$w_{t}$ : Transformed Time Series Data\n",
    "\n",
    "$f_{t}$ : Forecasted Time Series Data with Transformations\n",
    "\n",
    "$F_{t}$ : Back Transformed Time Series data to match the scales of $Y_{t}$\n",
    "\n",
    "$\\sigma_{h}$ : Standard Deviation in the Time series Forecasts.\n",
    "\n",
    "NOTE : The additional terms in the `Box Cox` Transformations are because of the fact that the simple back transformation will result in the data being Median oriented of the Forecast Distribution, but if we want Mean oriented point forecasts, we will have to use these adjustments\n",
    "\n"
   ]
  },
  {
   "cell_type": "code",
   "execution_count": null,
   "metadata": {
    "ExecuteTime": {
     "end_time": "2020-12-06T13:19:14.208697Z",
     "start_time": "2020-12-06T13:19:14.203532Z"
    },
    "hidden": true
   },
   "outputs": [],
   "source": [
    "elecprod_data = dataHolder.bucket['aus_elecprod'].data.copy()\n",
    "antidiabetic_data = dataHolder.bucket['anti_diabetic'].data.copy()"
   ]
  },
  {
   "cell_type": "code",
   "execution_count": null,
   "metadata": {
    "ExecuteTime": {
     "end_time": "2020-12-06T13:19:14.441144Z",
     "start_time": "2020-12-06T13:19:14.437079Z"
    },
    "hidden": true
   },
   "outputs": [],
   "source": [
    "transformData4 = elecprod_data.copy()\n",
    "transformData5 = antidiabetic_data.copy()\n",
    "\n",
    "transformData4.columns = ['Actual']\n",
    "transformData4.index.name = 'Date'\n",
    "\n",
    "transformData5.columns = ['Actual']\n",
    "transformData5.index.name = 'Date'"
   ]
  },
  {
   "cell_type": "code",
   "execution_count": null,
   "metadata": {
    "ExecuteTime": {
     "end_time": "2020-12-06T13:20:06.013866Z",
     "start_time": "2020-12-06T13:20:06.012085Z"
    },
    "hidden": true
   },
   "outputs": [],
   "source": [
    "# sns.distplot(transformData5.Actual)"
   ]
  },
  {
   "cell_type": "markdown",
   "metadata": {
    "hidden": true
   },
   "source": [
    "Try to use power transformations.. `np.sqrt`, `np.power(x,1/3)`"
   ]
  },
  {
   "cell_type": "code",
   "execution_count": null,
   "metadata": {
    "ExecuteTime": {
     "end_time": "2020-12-06T13:19:16.175972Z",
     "start_time": "2020-12-06T13:19:15.890946Z"
    },
    "hidden": true
   },
   "outputs": [],
   "source": [
    "transformData4['Transformed'] = np.log(transformData4.Actual)\n",
    "get_transformed_plot(transformData4, 'Electricity Production With & Without Log Transformation')"
   ]
  },
  {
   "cell_type": "code",
   "execution_count": null,
   "metadata": {
    "ExecuteTime": {
     "end_time": "2020-12-06T13:19:16.644326Z",
     "start_time": "2020-12-06T13:19:16.328470Z"
    },
    "hidden": true
   },
   "outputs": [],
   "source": [
    "transformData5['Transformed'] = np.log(transformData5.Actual)\n",
    "get_transformed_plot(transformData5, 'AntiDiabetic Sales With & Without Log Transformation')"
   ]
  },
  {
   "cell_type": "markdown",
   "metadata": {
    "hidden": true
   },
   "source": [
    "<b>Box - Cox Transformation</b>"
   ]
  },
  {
   "cell_type": "code",
   "execution_count": null,
   "metadata": {
    "ExecuteTime": {
     "end_time": "2020-12-06T13:21:11.854530Z",
     "start_time": "2020-12-06T13:21:11.850796Z"
    },
    "hidden": true
   },
   "outputs": [],
   "source": [
    "from scipy.stats import boxcox"
   ]
  },
  {
   "cell_type": "code",
   "execution_count": null,
   "metadata": {
    "ExecuteTime": {
     "end_time": "2020-12-06T13:21:12.842516Z",
     "start_time": "2020-12-06T13:21:12.336687Z"
    },
    "hidden": true
   },
   "outputs": [],
   "source": [
    "transformData4['Transformed'], bc_lambda = boxcox(transformData4.Actual)\n",
    "get_transformed_plot(transformData4,\n",
    "                     r'Electricity Production Without & With BoxCox(λ={0}) Transformation'.format(round(bc_lambda,3)))\n"
   ]
  },
  {
   "cell_type": "code",
   "execution_count": null,
   "metadata": {
    "ExecuteTime": {
     "end_time": "2020-12-06T13:21:15.282227Z",
     "start_time": "2020-12-06T13:21:14.976143Z"
    },
    "hidden": true
   },
   "outputs": [],
   "source": [
    "transformData5['Transformed'], bc_lambda = boxcox(transformData5.Actual)\n",
    "get_transformed_plot(transformData5,\n",
    "                     r'Electricity Production Without & With BoxCox(λ={0}) Transformation'.format(round(bc_lambda,3)))\n",
    "\n"
   ]
  },
  {
   "cell_type": "markdown",
   "metadata": {
    "heading_collapsed": true
   },
   "source": [
    "### Differencing\n",
    "\n",
    "Basically taking difference of the consecutive values\n",
    "\\begin{equation}\n",
    "    w_{t}=y_{t}-y_{t-1}\n",
    "\\end{equation}\n",
    "\n",
    "BackTransformation\n",
    "\\begin{equation}\n",
    "    y_{k}=y_{l}+\\sum_{i=1}^{i=l}w_{k-i}\n",
    "\\end{equation}\n",
    "\n",
    "Where $y_{l}$ is the last data of the time series\n",
    "\n",
    "NOTE : If $d$ is the order of differencing, and $n$ be the total number of observation we had then backtrnsformed data would have lost $d$ values from the `start`, i.e backtransformed data would be of the length $n-d$"
   ]
  },
  {
   "cell_type": "code",
   "execution_count": null,
   "metadata": {
    "ExecuteTime": {
     "end_time": "2020-12-06T13:24:35.951286Z",
     "start_time": "2020-12-06T13:24:35.944323Z"
    },
    "hidden": true
   },
   "outputs": [],
   "source": [
    "np.random.seed(8)\n",
    "data=pd.Series(np.random.randint(10,size=(5,)))\n",
    "data"
   ]
  },
  {
   "cell_type": "code",
   "execution_count": null,
   "metadata": {
    "ExecuteTime": {
     "end_time": "2020-12-06T13:24:36.162394Z",
     "start_time": "2020-12-06T13:24:36.157939Z"
    },
    "hidden": true,
    "scrolled": true
   },
   "outputs": [],
   "source": [
    "data.diff()"
   ]
  },
  {
   "cell_type": "code",
   "execution_count": null,
   "metadata": {
    "ExecuteTime": {
     "end_time": "2020-12-06T13:24:36.314942Z",
     "start_time": "2020-12-06T13:24:36.311951Z"
    },
    "hidden": true
   },
   "outputs": [],
   "source": [
    "antidiabetic_data = dataHolder.bucket['anti_diabetic'].data.copy()\n",
    "antidiabetic_data = np.log(antidiabetic_data)"
   ]
  },
  {
   "cell_type": "code",
   "execution_count": null,
   "metadata": {
    "ExecuteTime": {
     "end_time": "2020-12-06T13:24:36.822663Z",
     "start_time": "2020-12-06T13:24:36.462200Z"
    },
    "hidden": true
   },
   "outputs": [],
   "source": [
    "antidiabetic_data['diff'] = antidiabetic_data.value.diff()\n",
    "antidiabetic_data.plot(subplots=True)"
   ]
  },
  {
   "cell_type": "markdown",
   "metadata": {
    "heading_collapsed": true
   },
   "source": [
    "# Time Series Visualisations\n",
    "\n",
    "- Time Series Plot -> TS Plot\n",
    "- Seasonal Plot\n",
    "- Box Plot\n",
    "- Violin Plot\n",
    "- ACF & PACF Plot - To be discussed in Next Notebook\n",
    "- Distribution Plot\n",
    "- Stacked TS Plot\n",
    "- Scatter Plot\n",
    "- Pair Plot\n",
    "\n",
    "<b>Interesting Gallery : </b> [Seaborn Gallery](https://seaborn.pydata.org/examples/index.html)\n"
   ]
  },
  {
   "cell_type": "code",
   "execution_count": null,
   "metadata": {
    "ExecuteTime": {
     "end_time": "2020-12-06T13:25:06.662216Z",
     "start_time": "2020-12-06T13:25:06.658041Z"
    },
    "hidden": true
   },
   "outputs": [],
   "source": [
    "beerprod_data = dataHolder.bucket['beer_prod'].data.copy()"
   ]
  },
  {
   "cell_type": "markdown",
   "metadata": {
    "hidden": true
   },
   "source": [
    "## Time Series Plot - TS Plot"
   ]
  },
  {
   "cell_type": "code",
   "execution_count": null,
   "metadata": {
    "ExecuteTime": {
     "end_time": "2020-12-06T13:25:07.412815Z",
     "start_time": "2020-12-06T13:25:07.123073Z"
    },
    "hidden": true
   },
   "outputs": [],
   "source": [
    "pltdata = beerprod_data.copy()\n",
    "pltdata.columns = ['MBP']\n",
    "_=pltdata.plot(title='Monthly Beer Production')"
   ]
  },
  {
   "cell_type": "markdown",
   "metadata": {
    "hidden": true
   },
   "source": [
    "## Seasonal Plot"
   ]
  },
  {
   "cell_type": "code",
   "execution_count": null,
   "metadata": {
    "ExecuteTime": {
     "end_time": "2020-12-06T13:25:10.025588Z",
     "start_time": "2020-12-06T13:25:09.989572Z"
    },
    "hidden": true
   },
   "outputs": [],
   "source": [
    "pltdata = beerprod_data.copy()\n",
    "pltdata.columns = ['MBP']\n",
    "pltdata['Month'] = pltdata.index.month_name()\n",
    "pltdata['Year'] = pltdata.index.year\n",
    "pltdata = pltdata.set_index(['Year', 'Month']).unstack().T\n",
    "pltdata = pltdata.reset_index().drop(['level_0'], axis=1).set_index('Month')\n",
    "pltdata.head()"
   ]
  },
  {
   "cell_type": "code",
   "execution_count": null,
   "metadata": {
    "ExecuteTime": {
     "end_time": "2020-12-06T13:25:10.913527Z",
     "start_time": "2020-12-06T13:25:10.611751Z"
    },
    "hidden": true
   },
   "outputs": [],
   "source": [
    "fig, axes = plt.subplots()\n",
    "plot=pltdata.plot(title='Seasonal Plot', cmap='Reds', ax=axes, legend=None)\n",
    "plot = axes.pcolor(pd.DataFrame(pltdata.columns.astype(int)), cmap='Reds')\n",
    "_=fig.colorbar(plot)"
   ]
  },
  {
   "cell_type": "markdown",
   "metadata": {
    "hidden": true
   },
   "source": [
    "## Box Plot"
   ]
  },
  {
   "cell_type": "code",
   "execution_count": null,
   "metadata": {
    "ExecuteTime": {
     "end_time": "2020-12-06T13:25:45.240364Z",
     "start_time": "2020-12-06T13:25:45.225331Z"
    },
    "hidden": true
   },
   "outputs": [],
   "source": [
    "pltdata = beerprod_data.copy()\n",
    "pltdata.columns = ['MBP']\n",
    "pltdata['Month'] = pltdata.index.month_name()\n",
    "pltdata['Year'] = pltdata.index.year\n",
    "pltdata.head()"
   ]
  },
  {
   "cell_type": "code",
   "execution_count": null,
   "metadata": {
    "ExecuteTime": {
     "end_time": "2020-12-06T13:25:46.767018Z",
     "start_time": "2020-12-06T13:25:46.474531Z"
    },
    "hidden": true
   },
   "outputs": [],
   "source": [
    "_=sns.boxplot(x='Month', y='MBP', data=pltdata)\n",
    "_=plt.title('Box Plot')"
   ]
  },
  {
   "cell_type": "markdown",
   "metadata": {
    "heading_collapsed": true,
    "hidden": true
   },
   "source": [
    "## Violin Plot"
   ]
  },
  {
   "cell_type": "code",
   "execution_count": null,
   "metadata": {
    "ExecuteTime": {
     "end_time": "2020-12-06T13:26:40.708934Z",
     "start_time": "2020-12-06T13:26:40.324188Z"
    },
    "hidden": true
   },
   "outputs": [],
   "source": [
    "_=sns.violinplot(x='Month', y='MBP', data=pltdata)\n",
    "_=plt.title('Box Plot')"
   ]
  },
  {
   "cell_type": "markdown",
   "metadata": {
    "heading_collapsed": true,
    "hidden": true
   },
   "source": [
    "## Distribution Plot"
   ]
  },
  {
   "cell_type": "code",
   "execution_count": null,
   "metadata": {
    "ExecuteTime": {
     "end_time": "2020-12-06T13:27:11.623673Z",
     "start_time": "2020-12-06T13:27:11.401043Z"
    },
    "hidden": true
   },
   "outputs": [],
   "source": [
    "_=sns.distplot(pltdata.MBP, rug=True)\n",
    "_=plt.title('Distribution Plot')"
   ]
  },
  {
   "cell_type": "markdown",
   "metadata": {
    "heading_collapsed": true,
    "hidden": true
   },
   "source": [
    "## Stacked TS Plots"
   ]
  },
  {
   "cell_type": "code",
   "execution_count": null,
   "metadata": {
    "ExecuteTime": {
     "end_time": "2020-12-06T13:27:37.990867Z",
     "start_time": "2020-12-06T13:27:37.985553Z"
    },
    "hidden": true
   },
   "outputs": [],
   "source": [
    "pltdata = dataHolder.bucket['visitor_20r'].data.copy()\n",
    "regions = pltdata.Regions.unique()[:5]"
   ]
  },
  {
   "cell_type": "code",
   "execution_count": null,
   "metadata": {
    "ExecuteTime": {
     "end_time": "2020-12-06T13:27:38.960390Z",
     "start_time": "2020-12-06T13:27:38.202840Z"
    },
    "hidden": true
   },
   "outputs": [],
   "source": [
    "fig, axes = plt.subplots(len(regions), 1, figsize=(15,15))\n",
    "\n",
    "for eregion, eax in zip(regions, axes.flatten()):\n",
    "    _data = pltdata[pltdata.Regions==eregion].copy().drop('Regions', axis=1)\n",
    "    eax.plot(_data)\n",
    "    eax.set_ylabel(eregion)\n",
    "    "
   ]
  },
  {
   "cell_type": "markdown",
   "metadata": {
    "heading_collapsed": true,
    "hidden": true
   },
   "source": [
    "## Scatter Plot"
   ]
  },
  {
   "cell_type": "code",
   "execution_count": null,
   "metadata": {
    "ExecuteTime": {
     "end_time": "2020-12-06T13:27:47.679206Z",
     "start_time": "2020-12-06T13:27:47.489236Z"
    },
    "hidden": true
   },
   "outputs": [],
   "source": [
    "xdata = pltdata[pltdata.Regions=='NSWMetro'].Visitors\n",
    "ydata = pltdata[pltdata.Regions=='NSWNthCo'].Visitors\n",
    "\n",
    "_=sns.scatterplot(xdata, ydata, x_jitter=True)\n",
    "_=plt.title('Scatter Plot')"
   ]
  },
  {
   "cell_type": "markdown",
   "metadata": {
    "heading_collapsed": true,
    "hidden": true
   },
   "source": [
    "## Joint Plot"
   ]
  },
  {
   "cell_type": "code",
   "execution_count": null,
   "metadata": {
    "ExecuteTime": {
     "end_time": "2020-12-06T13:27:52.912859Z",
     "start_time": "2020-12-06T13:27:49.965152Z"
    },
    "hidden": true
   },
   "outputs": [],
   "source": [
    "pltdata=pltdata.reset_index().pivot('Quarter','Regions','Visitors').iloc[:,:5]\n",
    "\n",
    "g = sns.PairGrid(pltdata, diag_sharey=False)\n",
    "g.map_upper(sns.scatterplot, s=15)\n",
    "g.map_lower(sns.kdeplot)\n",
    "_=g.map_diag(sns.kdeplot, lw=2)"
   ]
  },
  {
   "cell_type": "markdown",
   "metadata": {
    "heading_collapsed": true
   },
   "source": [
    "# Time Series Decomposition\n",
    "\n",
    "Time Series Components : \n",
    "\n",
    "- <b>Trend</b> : It is the component which reflect relatively longer period of `increase` or `decrease` in the data.\n",
    "- <b>Seasonality</b> : Seasonality is the component which reflects the effect of `Calendar` attributed in the data, i.e effect of Weekdays, Months, Day of the Week. etc. This pattern usually adheres to regular frequency.\n",
    "- <b>Cyclicity</b> : Cyclicity is probably the harder of all the components to figure out, which generally is attributed to the fact that it is not that periodic. It is generally a longer term seasonality pattern.\n",
    "- <b>Noise or Residual</b> : Once the above three components have been identified, whatever is left is `Noise`.\n",
    "\n",
    "Decomposition Methods:\n",
    "\n",
    "- Classical Decomposition, Additive : \n",
    "\\begin{equation}\n",
    "  Y_{t} = T_{t} + S_{t} + R_{t}\n",
    "\\end{equation}\n",
    "- Classical Decomposition, Multiplicative : \n",
    "\\begin{equation}\n",
    "  Y_{t} = T_{t}*S_{t}*R_{t}\n",
    "\\end{equation}\n",
    "    \n",
    "- STL : [StatsModel - Decomposition](https://www.statsmodels.org/stable/examples/notebooks/generated/stl_decomposition.html)\n",
    "\n",
    "- X11 : [The X-11 Method](http://www.christophsax.com/x13story/x11.pdf)\n",
    "\n",
    "- SEATS :  [The X-13 Method](http://course1.winona.edu/bdeppa/FIN%20335/Handouts/Time_Series_Decomposition.html)\n",
    "\n",
    "Where\n",
    "\n",
    "$Y_{t}$ : Actual Time Series\n",
    "\n",
    "$T_{t}$ : Trend Component of the Time Series;\n",
    "$S_{t}$ : Seasonal Component of the Time Series;\n",
    "$R_{t}$ : Residual Component\n",
    "\n",
    "    \n",
    "[What is the difference between Period Cycle and Seasonality](https://stats.stackexchange.com/questions/234492/what-is-the-difference-between-period-cycle-and-seasonality)\n",
    "\n",
    "[Cyclic & Seasonal Time Series - Rob.J.Hyndman](https://robjhyndman.com/hyndsight/cyclicts/)"
   ]
  },
  {
   "cell_type": "markdown",
   "metadata": {
    "hidden": true
   },
   "source": [
    "<b>Creating a Random Dataset</b>"
   ]
  },
  {
   "cell_type": "code",
   "execution_count": null,
   "metadata": {
    "ExecuteTime": {
     "end_time": "2020-12-06T13:31:26.047540Z",
     "start_time": "2020-12-06T13:31:26.036449Z"
    },
    "code_folding": [
     29
    ],
    "hidden": true
   },
   "outputs": [],
   "source": [
    "plt.style.use('ggplot')\n",
    "def get_decompose_plot(data):\n",
    "    data = data.copy()\n",
    "    data.index.name = ''\n",
    "    grid = plt.GridSpec(4, 2, wspace=0.1, hspace=0.5)\n",
    "    series_ax = plt.subplot(grid[0:2, :])\n",
    "    series_ax.set_title('Time Series', color='black')\n",
    "    \n",
    "#     ts_trnsfrm, blambda = boxcox(data['ts'])\n",
    "#     data['ts'] = pd.Series(ts_trnsfrm, name='ts', index=data['ts'].index)\n",
    "    data['ts'].plot(ax=series_ax)\n",
    "\n",
    "    trend_ax = plt.subplot(grid[2, 0])\n",
    "    trend_ax.set_title('Trend Series', color='black')\n",
    "    data['Trend'].plot(ax=trend_ax)\n",
    "\n",
    "    cycl_ax = plt.subplot(grid[2, 1])\n",
    "    cycl_ax.set_title('Cyclic Component', color='black')\n",
    "    data['Cyclicity'].plot(ax=cycl_ax)\n",
    "\n",
    "    seas_ax = plt.subplot(grid[3, 0])\n",
    "    seas_ax.set_title('Seasonal Component', color='black')\n",
    "    data['Seasonality'].plot(ax=seas_ax)\n",
    "\n",
    "    resid_ax = plt.subplot(grid[3, 1])\n",
    "    resid_ax.set_title('Residuals/Noise', color='black')\n",
    "    data['Residual'].plot(ax=resid_ax)\n",
    "        \n",
    "    return grid\n",
    "\n",
    "\n",
    "def generat_randomtsdata(tstart = '1990-01-01', tend = '2020-01-01', plot=False):\n",
    "    rows = (pd.to_datetime(tend)-pd.to_datetime(tstart)).days+1\n",
    "    simData = pd.DataFrame(columns=['Trend',  'Cyclicity', 'Seasonality', 'Residual'],\n",
    "                           index=pd.date_range(tstart, tend, freq='1D'))\n",
    "    \n",
    "    _days=np.arange(rows)\n",
    "\n",
    "    # Trend Componet\n",
    "    simData['Trend'] = 2*np.arange(rows)/rows\n",
    "    # Cyclicity Componet\n",
    "    simData['Cyclicity'] = 0.7*np.sin(3*_days/rows * 2 * np.pi)\n",
    "    # Seasonality - For Additive\n",
    "    simData['Seasonality'] = 0.3*np.sin(_days/365 * 2 * np.pi)\n",
    "#     # Seasonality - For Multiplicative\n",
    "#     simData['Seasonality'] = 0.3*(_days/rows)*np.sin(_days/365 * 2 * np.pi)\n",
    "    # Residual\n",
    "    simData['Residual'] = np.random.random(rows)/10\n",
    "    # Time Series\n",
    "    simData['ts'] = simData.sum(axis=1)\n",
    "    \n",
    "    if plot : get_decompose_plot(simData)\n",
    "    \n",
    "    return simData\n"
   ]
  },
  {
   "cell_type": "markdown",
   "metadata": {
    "hidden": true
   },
   "source": [
    "<b>Analysing the Components</b>"
   ]
  },
  {
   "cell_type": "code",
   "execution_count": null,
   "metadata": {
    "ExecuteTime": {
     "end_time": "2020-12-06T13:31:27.425744Z",
     "start_time": "2020-12-06T13:31:26.461296Z"
    },
    "hidden": true
   },
   "outputs": [],
   "source": [
    "sim_data = generat_randomtsdata(plot=True)\n",
    "sim_data"
   ]
  },
  {
   "cell_type": "markdown",
   "metadata": {
    "hidden": true
   },
   "source": [
    "<b>Classical Decomposition - Additive</b>"
   ]
  },
  {
   "cell_type": "code",
   "execution_count": null,
   "metadata": {
    "ExecuteTime": {
     "end_time": "2020-12-06T13:32:31.953036Z",
     "start_time": "2020-12-06T13:32:31.947968Z"
    },
    "hidden": true
   },
   "outputs": [],
   "source": [
    "from statsmodels.tsa.seasonal import seasonal_decompose\n",
    "\n",
    "antidiabetic_data = dataHolder.bucket['anti_diabetic'].data.copy()\n",
    "milkprod_data = dataHolder.bucket['mprod_data'].data.copy()\n",
    "beerprod_data = dataHolder.bucket['beer_prod'].data.copy()"
   ]
  },
  {
   "cell_type": "markdown",
   "metadata": {
    "hidden": true
   },
   "source": [
    "Interesting Note, if you apply log to the Multiplicative equation it simply becomes the Classical Additive Decomposition."
   ]
  },
  {
   "cell_type": "code",
   "execution_count": null,
   "metadata": {
    "ExecuteTime": {
     "end_time": "2020-12-06T13:32:34.547601Z",
     "start_time": "2020-12-06T13:32:34.537571Z"
    },
    "hidden": true
   },
   "outputs": [],
   "source": [
    "decompose_obj = seasonal_decompose(milkprod_data.MilkProduction, period=12, extrapolate_trend=True)\n",
    "\n",
    "decomposeData = pd.DataFrame(columns=['Trend', 'Cyclicity', 'Seasonality', 'Residual', 'ts'],\n",
    "                             index=milkprod_data.index)\n",
    "decomposeData['Trend'] = decompose_obj.trend\n",
    "decomposeData['Seasonality'] = decompose_obj.seasonal\n",
    "decomposeData['Residual'] = decompose_obj.resid\n",
    "decomposeData['ts'] = milkprod_data.MilkProduction"
   ]
  },
  {
   "cell_type": "code",
   "execution_count": null,
   "metadata": {
    "ExecuteTime": {
     "end_time": "2020-12-06T13:32:35.526724Z",
     "start_time": "2020-12-06T13:32:34.974927Z"
    },
    "hidden": true
   },
   "outputs": [],
   "source": [
    "get_decompose_plot(decomposeData)"
   ]
  },
  {
   "cell_type": "markdown",
   "metadata": {
    "hidden": true
   },
   "source": [
    "<b>Classical Decomposition - Multiplicative</b>\n",
    "\n",
    "Multiplicative Decompose doesnt work on Negative or NaN data... Can you think as to why?"
   ]
  },
  {
   "cell_type": "code",
   "execution_count": null,
   "metadata": {
    "ExecuteTime": {
     "end_time": "2020-12-06T13:32:36.894449Z",
     "start_time": "2020-12-06T13:32:36.880712Z"
    },
    "hidden": true
   },
   "outputs": [],
   "source": [
    "decompose_obj = seasonal_decompose(beerprod_data.MBP, period=12,\n",
    "                                   extrapolate_trend=True, model='multiplicative')\n",
    "\n",
    "decomposeData = pd.DataFrame(columns=['Trend', 'Cyclicity', 'Seasonality', 'Residual', 'ts'],\n",
    "                             index=beerprod_data.index)\n",
    "decomposeData['Trend'] = decompose_obj.trend\n",
    "decomposeData['Seasonality'] = decompose_obj.seasonal\n",
    "decomposeData['Residual'] = decompose_obj.resid\n",
    "decomposeData['ts'] = beerprod_data.MBP"
   ]
  },
  {
   "cell_type": "code",
   "execution_count": null,
   "metadata": {
    "ExecuteTime": {
     "end_time": "2020-12-06T13:32:38.215765Z",
     "start_time": "2020-12-06T13:32:37.339556Z"
    },
    "hidden": true
   },
   "outputs": [],
   "source": [
    "get_decompose_plot(decomposeData)"
   ]
  },
  {
   "cell_type": "markdown",
   "metadata": {
    "hidden": true
   },
   "source": [
    "<b>STL Decomposition</b>\n",
    "\n",
    "This method uses `LOESS` - Locally Estimated Scatterplot Smoothing\n"
   ]
  },
  {
   "cell_type": "code",
   "execution_count": null,
   "metadata": {
    "ExecuteTime": {
     "end_time": "2020-12-06T13:32:51.579649Z",
     "start_time": "2020-12-06T13:32:50.994051Z"
    },
    "hidden": true
   },
   "outputs": [],
   "source": [
    "decompose_obj = seasonal_decompose(antidiabetic_data, period=12,\n",
    "                                   extrapolate_trend=True, model='multiplicative')\n",
    "\n",
    "decomposeData = pd.DataFrame(columns=['Trend', 'Cyclicity', 'Seasonality', 'Residual', 'ts'],\n",
    "                             index=antidiabetic_data.index)\n",
    "decomposeData['Trend'] = decompose_obj.trend\n",
    "decomposeData['Seasonality'] = decompose_obj.seasonal\n",
    "decomposeData['Residual'] = decompose_obj.resid\n",
    "decomposeData['ts'] = antidiabetic_data.value\n",
    "\n",
    "fig=decompose_obj.plot()"
   ]
  },
  {
   "cell_type": "code",
   "execution_count": null,
   "metadata": {
    "ExecuteTime": {
     "end_time": "2020-12-06T13:33:29.290408Z",
     "start_time": "2020-12-06T13:33:28.711860Z"
    },
    "hidden": true
   },
   "outputs": [],
   "source": [
    "from statsmodels.tsa.seasonal import STL\n",
    "stl = STL(antidiabetic_data.value, seasonal=13, robust=True)\n",
    "res = stl.fit()\n",
    "fig = res.plot()"
   ]
  },
  {
   "cell_type": "markdown",
   "metadata": {},
   "source": [
    "# Random Testing Space"
   ]
  },
  {
   "cell_type": "code",
   "execution_count": null,
   "metadata": {
    "ExecuteTime": {
     "end_time": "2020-12-06T12:22:21.530259Z",
     "start_time": "2020-12-06T12:22:20.897421Z"
    }
   },
   "outputs": [],
   "source": [
    "dataHolder.load_data()"
   ]
  },
  {
   "cell_type": "code",
   "execution_count": null,
   "metadata": {
    "ExecuteTime": {
     "end_time": "2020-12-06T12:22:25.816361Z",
     "start_time": "2020-12-06T12:22:25.802082Z"
    }
   },
   "outputs": [],
   "source": [
    "dataHolder.dataDf"
   ]
  },
  {
   "cell_type": "code",
   "execution_count": null,
   "metadata": {
    "ExecuteTime": {
     "end_time": "2020-12-06T12:25:18.215397Z",
     "start_time": "2020-12-06T12:25:18.209401Z"
    }
   },
   "outputs": [],
   "source": [
    "dataObj = dataHolder.bucket['anti_diabetic']\n",
    "dataObj"
   ]
  },
  {
   "cell_type": "code",
   "execution_count": null,
   "metadata": {
    "ExecuteTime": {
     "end_time": "2020-12-06T12:25:18.672607Z",
     "start_time": "2020-12-06T12:25:18.420901Z"
    },
    "code_folding": []
   },
   "outputs": [],
   "source": [
    "dataObj.exploratory_plot()"
   ]
  },
  {
   "cell_type": "code",
   "execution_count": null,
   "metadata": {
    "ExecuteTime": {
     "end_time": "2020-12-06T12:25:02.524453Z",
     "start_time": "2020-12-06T12:25:02.519203Z"
    }
   },
   "outputs": [],
   "source": []
  },
  {
   "cell_type": "code",
   "execution_count": null,
   "metadata": {},
   "outputs": [],
   "source": []
  }
 ],
 "metadata": {
  "kernelspec": {
   "display_name": "Python 3",
   "language": "python",
   "name": "python3"
  },
  "language_info": {
   "codemirror_mode": {
    "name": "ipython",
    "version": 3
   },
   "file_extension": ".py",
   "mimetype": "text/x-python",
   "name": "python",
   "nbconvert_exporter": "python",
   "pygments_lexer": "ipython3",
   "version": "3.8.5"
  },
  "toc": {
   "base_numbering": 1,
   "nav_menu": {},
   "number_sections": true,
   "sideBar": false,
   "skip_h1_title": false,
   "title_cell": "Table of Contents",
   "title_sidebar": "Contents",
   "toc_cell": false,
   "toc_position": {
    "height": "559.0441284179688px",
    "left": "1610.900634765625px",
    "top": "271.4779357910156px",
    "width": "343.2168884277344px"
   },
   "toc_section_display": false,
   "toc_window_display": true
  },
  "varInspector": {
   "cols": {
    "lenName": 16,
    "lenType": 16,
    "lenVar": 40
   },
   "kernels_config": {
    "python": {
     "delete_cmd_postfix": "",
     "delete_cmd_prefix": "del ",
     "library": "var_list.py",
     "varRefreshCmd": "print(var_dic_list())"
    },
    "r": {
     "delete_cmd_postfix": ") ",
     "delete_cmd_prefix": "rm(",
     "library": "var_list.r",
     "varRefreshCmd": "cat(var_dic_list()) "
    }
   },
   "types_to_exclude": [
    "module",
    "function",
    "builtin_function_or_method",
    "instance",
    "_Feature"
   ],
   "window_display": false
  }
 },
 "nbformat": 4,
 "nbformat_minor": 4
}
