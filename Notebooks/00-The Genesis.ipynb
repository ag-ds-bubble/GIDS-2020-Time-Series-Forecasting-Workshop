{
 "cells": [
  {
   "cell_type": "markdown",
   "metadata": {
    "heading_collapsed": true
   },
   "source": [
    "# The Genesis\n",
    "<b>Time Series and its History and how pivotal has it been in the answering very contoversoial questions - </b>\n",
    "    \n",
    "Time series has been there for ages, from Bybolnians of Mesopotamia, recording weather conditions, daily commodity prices and river levels against dates with some important events in their <i>Astronomical Diaries</i>.\n",
    "\n",
    "It is through these records that we know the date of demise of Alexander - The Great's in Babylon, 323 BC\n",
    "\n",
    "<img src=\"../Materials/Astronomical Diary - Alexander the Greats Death.png\" width=\"200\" height=\"200\">\n",
    "\n",
    "But after <b>The Great Library of Alexandria</b> was burnt in 272 AD, there is no complete records of that data left anymore sadly!\n",
    "\n",
    "One of the oldest Time Series that we do have recorded data of is of <b><i>Mars Declination</i></b> angles by <b>Tycho Brahe</b>, which, to the best of my knowledge consititues as <i>One of the Oldest Time Series</i> that we have a record of.\n",
    "\n",
    "\n",
    "<img src=\"../Materials/Tycho Brahe - Mars Declination Angle.gif\" width=\"500\" height=\"200\">\n",
    "\n",
    "[Tycho Brahe - Mars Declination Ang.gif] - Wayne Pafko, http://www.pafko.com/tycho/observe.html\n",
    "\n",
    "[Astronomical Diary - Alexander the Greats Death.png] - https://www.britishmuseum.org/collection/object/W_1881-0706-403\n"
   ]
  },
  {
   "cell_type": "markdown",
   "metadata": {},
   "source": [
    "# Imports"
   ]
  },
  {
   "cell_type": "code",
   "execution_count": null,
   "metadata": {},
   "outputs": [],
   "source": [
    "# Data Wrangling\n",
    "import pandas as pd\n",
    "import numpy as np\n",
    "\n",
    "# For Date-Time Manipulation\n",
    "from datetime import datetime, timedelta\n",
    "\n",
    "# For Visualisation\n",
    "import matplotlib.pyplot as plt\n",
    "%matplotlib inline\n",
    "from tqdm.notebook import tqdm\n",
    "\n",
    "# System Libraries\n",
    "import os"
   ]
  },
  {
   "cell_type": "markdown",
   "metadata": {
    "heading_collapsed": true
   },
   "source": [
    "# Path Declaration & Variable Initialisation"
   ]
  },
  {
   "cell_type": "code",
   "execution_count": null,
   "metadata": {
    "hidden": true
   },
   "outputs": [],
   "source": [
    "root_path = '../'\n",
    "raw_datapath = root_path+'Raw Data/'\n",
    "prepared_datapath = root_path+'Prepared Data/'\n",
    "os.makedirs(prepared_datapath, exist_ok=True)\n",
    "\n",
    "# Tycho Brahe Mars Declination Understandings\n",
    "tmars_datapath = raw_datapath+'tycho_mars_declination_data.xls'\n",
    "# Collected NASA Data from : https://ssd.jpl.nasa.gov/horizons.cgi#top\n",
    "tmars_nasadata = raw_datapath+'horizons_results.txt'\n",
    "\n",
    "# Visulaisation Variables\n",
    "plt.rcParams['figure.dpi'] = 100\n",
    "plt.rcParams['figure.figsize'] = (25,7)"
   ]
  },
  {
   "cell_type": "markdown",
   "metadata": {
    "heading_collapsed": true
   },
   "source": [
    "# Tycho Brahe - Mars Declination\n",
    "\n",
    "What is a declination angle between planets?\n",
    "\n",
    "<img src=\"../Materials/retrogrademotion.gif\" width=\"500\" height=\"200\">\n",
    "\n",
    "[retrogrademotion.gif] - https://my.vanderbilt.edu/astro201solarsys/page/39/\n",
    "\n",
    "Declination Angle - Angle of observation for an observer standing on the surface of the earth to the green colored pane as shown in the gif.\n",
    "\n"
   ]
  },
  {
   "cell_type": "code",
   "execution_count": null,
   "metadata": {
    "hidden": true
   },
   "outputs": [],
   "source": [
    "tmars_data = pd.read_excel(tmars_datapath, index_col=0, skiprows=list(range(5)))\n",
    "print('Total Number of Data Points : ', tmars_data.shape[0])\n",
    "tmars_data.head()"
   ]
  },
  {
   "cell_type": "code",
   "execution_count": null,
   "metadata": {
    "hidden": true
   },
   "outputs": [],
   "source": [
    "tmars_data = tmars_data.dropna(axis=1, how='all')\n",
    "tmars_data = tmars_data.reset_index().drop('index', axis=1)\n",
    "tmars_data = tmars_data[['Year.1', 'Month', 'Day.1', 'Declination']]\n",
    "tmars_data.columns = ['Year', 'Month', 'Day', 'Declination']\n",
    "tmars_data['Date'] = tmars_data.apply(lambda x : datetime(int(x.Year), int(x.Month), int(x.Day)), axis=1)\n",
    "tmars_data = tmars_data.set_index('Date')\n",
    "tmars_data = tmars_data.drop(['Year', 'Month', 'Day'], axis=1)\n",
    "tmars_data.sort_index(inplace=True)\n",
    "print('Total Number of Data Points : ', tmars_data.shape[0])\n",
    "tmars_data.head()"
   ]
  },
  {
   "cell_type": "code",
   "execution_count": null,
   "metadata": {
    "hidden": true
   },
   "outputs": [],
   "source": [
    "_=tmars_data.reset_index().plot(kind='scatter', x='Date', y='Declination')"
   ]
  },
  {
   "cell_type": "code",
   "execution_count": null,
   "metadata": {
    "hidden": true
   },
   "outputs": [],
   "source": [
    "tmars_data.index.value_counts().head()"
   ]
  },
  {
   "cell_type": "code",
   "execution_count": null,
   "metadata": {
    "hidden": true
   },
   "outputs": [],
   "source": [
    "# Get all the days in between\n",
    "total_daydiff = (tmars_data.index.max() - tmars_data.index.min()).days\n",
    "alldays = [tmars_data.index.min()+timedelta(days=eday) for eday in range(total_daydiff)]\n",
    "tempdf = pd.DataFrame(index=alldays)\n",
    "tmars_data = pd.merge(tempdf, tmars_data, left_index=True, right_index=True, how='outer')\n",
    "\n",
    "# Merge the original dataset and the All-Daterange df\n",
    "tmars_data = pd.merge(tempdf, tmars_data, left_index=True, right_index=True, how='outer')\n",
    "print('Total Number of Data Points : ', tmars_data.shape[0])\n",
    "# Plotting\n",
    "# _=tmars_data.reset_index().plot(kind='scatter', x='index', y='Declination')\n",
    "_=plt.scatter(tmars_data.index, tmars_data.Declination, s=40, edgecolor='k', linewidth=.3)\n",
    "_=plt.title('Mars Declination, as noted by Tycho Brahe')\n",
    "_=plt.grid()\n",
    "tmars_data.head()\n"
   ]
  },
  {
   "cell_type": "code",
   "execution_count": null,
   "metadata": {
    "hidden": true
   },
   "outputs": [],
   "source": [
    "pltdata = tmars_data.index.value_counts().head(100)\n",
    "_=plt.bar(pltdata.index, pltdata.values, 1)\n",
    "_=plt.suptitle('       Date Duplication in the Index', fontsize=20)\n",
    "_=plt.title('Multiple Observation made on the same day..')"
   ]
  },
  {
   "cell_type": "code",
   "execution_count": null,
   "metadata": {
    "hidden": true
   },
   "outputs": [],
   "source": [
    "# Group the DataFrame by the Index Dates and then Make the plot\n",
    "tmars_data = tmars_data.groupby(tmars_data.index).mean()\n",
    "print('Total Number of Data Points : ', tmars_data.shape[0])\n",
    "# Plotting\n",
    "_=plt.scatter(tmars_data.index, tmars_data.Declination, s=40, edgecolor='k', linewidth=.3)\n",
    "_=plt.title('Mars Declination, as noted by Tycho Brahe')\n",
    "_=plt.grid()\n",
    "tmars_data.dropna().head()"
   ]
  },
  {
   "cell_type": "code",
   "execution_count": null,
   "metadata": {
    "hidden": true
   },
   "outputs": [],
   "source": [
    "# Comparing the observations to the JPL Horizons Data\n",
    "flines = []\n",
    "with open(tmars_nasadata, 'r') as f:\n",
    "    flines = f.read().splitlines()\n",
    "\n",
    "mars_nasadata = pd.DataFrame(columns=['Declination'])\n",
    "mars_nasadata.index.name = 'Date'\n",
    "table_start = False\n",
    "\n",
    "for eline in tqdm(flines):\n",
    "    _splits = eline.split('  ')\n",
    "    try:\n",
    "        if table_start:\n",
    "            _date = _splits[0].strip().split(' ')[0].strip()\n",
    "            _date = datetime.strptime(_date, '%Y-%b-%d')\n",
    "            mars_nasadata.loc[_date, 'Declination'] = \" \".join(_splits[2].strip().split(' ')[-3:])\n",
    "        if eline == '$$SOE':\n",
    "            table_start = True\n",
    "    except:\n",
    "        pass\n",
    "\n",
    "# Prepare Mars Declination Angle\n",
    "def get_declination(x):\n",
    "    _splits = x['Declination'].split(' ')\n",
    "    res = float(_splits[0][1:])+float(_splits[1])/(60)+float(_splits[2])/(60**2)\n",
    "    if _splits[0][0] == '-':\n",
    "        res *= -1 \n",
    "    return res\n",
    "\n",
    "mars_nasadata.Declination = mars_nasadata.apply(lambda x : get_declination(x), axis=1)\n",
    "mars_nasadata.to_csv(prepared_datapath+'mars_jpldata.csv')\n",
    "mars_nasadata.head()"
   ]
  },
  {
   "cell_type": "code",
   "execution_count": null,
   "metadata": {
    "hidden": true
   },
   "outputs": [],
   "source": [
    "mars_nasadata.head(2200).plot(marker='o', markersize=3)"
   ]
  },
  {
   "cell_type": "markdown",
   "metadata": {},
   "source": [
    "# Random Testing Space"
   ]
  },
  {
   "cell_type": "code",
   "execution_count": null,
   "metadata": {},
   "outputs": [],
   "source": []
  },
  {
   "cell_type": "code",
   "execution_count": null,
   "metadata": {},
   "outputs": [],
   "source": []
  },
  {
   "cell_type": "code",
   "execution_count": null,
   "metadata": {},
   "outputs": [],
   "source": []
  },
  {
   "cell_type": "code",
   "execution_count": null,
   "metadata": {},
   "outputs": [],
   "source": []
  },
  {
   "cell_type": "code",
   "execution_count": null,
   "metadata": {},
   "outputs": [],
   "source": [
    "import tsmad as tmd\n",
    "import pandas as pd\n",
    "from tqdm.notebook import tqdm\n",
    "\n",
    "\n",
    "raw_datapath = '../../Raw Data/'\n",
    "stocks_datapath = raw_datapath+'TimeSeriesdata-BD.csv'\n",
    "temperature_datapath = raw_datapath+'TimeSeriesdata-MS.csv'\n",
    "df = pd.read_csv(stocks_datapath, index_col=0)\n",
    "df.head()"
   ]
  },
  {
   "cell_type": "code",
   "execution_count": null,
   "metadata": {},
   "outputs": [],
   "source": [
    "\n",
    "processedDf = pd.DataFrame()\n",
    "for egidx, eg in tqdm(df.groupby('Name')):\n",
    "    tdf = pd.DataFrame(index=pd.date_range(eg.index.min(), eg.index.max(), freq='B').astype(str))\n",
    "    tdf = pd.merge(eg, tdf, left_index=True, right_index=True, how='outer')\n",
    "    tdf.Name = tdf.Name.ffill()\n",
    "    processedDf = pd.concat([processedDf, tdf])\n"
   ]
  },
  {
   "cell_type": "code",
   "execution_count": null,
   "metadata": {},
   "outputs": [],
   "source": [
    "tboard = tmd.TsmadBoard(tsdata=tempdf, data_desc = 'Stocks Data',\n",
    "                        target_columns = ['close'],\n",
    "                        categorical_columns = ['Name'],\n",
    "                        dt_format = '%Y-%m-%d',\n",
    "                        dt_freq = 'B',\n",
    "                        freq_conv_agg = 'mean')"
   ]
  },
  {
   "cell_type": "code",
   "execution_count": null,
   "metadata": {},
   "outputs": [],
   "source": [
    "tboard.get_board()"
   ]
  },
  {
   "cell_type": "code",
   "execution_count": null,
   "metadata": {},
   "outputs": [],
   "source": [
    "tempdf = processedDf.copy()"
   ]
  },
  {
   "cell_type": "code",
   "execution_count": null,
   "metadata": {},
   "outputs": [],
   "source": [
    "# import tsmad as tmd\n",
    "# import pandas as pd\n",
    "# from tqdm.notebook import tqdm\n",
    "# tempdf = pd.read_csv('a.csv', index_col=0, parse_dates=True)\n",
    "\n",
    "# tboard = tmd.TsmadBoard(tsdata=tempdf, data_desc = 'Stocks Data',\n",
    "#                         target_columns = ['close'],\n",
    "#                         categorical_columns = ['Name'],\n",
    "#                         dt_format = '%Y-%m-%d',\n",
    "#                         dt_freq = 'B',\n",
    "#                         freq_conv_agg = 'mean')\n",
    "# tboard.get_board()"
   ]
  },
  {
   "cell_type": "code",
   "execution_count": null,
   "metadata": {},
   "outputs": [],
   "source": [
    "pd.Timedelta('1 day 99ms')"
   ]
  },
  {
   "cell_type": "code",
   "execution_count": null,
   "metadata": {},
   "outputs": [],
   "source": [
    "np.array([1,2,3,4])*3"
   ]
  },
  {
   "cell_type": "code",
   "execution_count": null,
   "metadata": {},
   "outputs": [],
   "source": []
  },
  {
   "cell_type": "code",
   "execution_count": null,
   "metadata": {},
   "outputs": [],
   "source": []
  },
  {
   "cell_type": "code",
   "execution_count": null,
   "metadata": {},
   "outputs": [],
   "source": []
  },
  {
   "cell_type": "code",
   "execution_count": null,
   "metadata": {},
   "outputs": [],
   "source": []
  },
  {
   "cell_type": "code",
   "execution_count": null,
   "metadata": {},
   "outputs": [],
   "source": []
  },
  {
   "cell_type": "code",
   "execution_count": null,
   "metadata": {},
   "outputs": [],
   "source": []
  },
  {
   "cell_type": "code",
   "execution_count": null,
   "metadata": {},
   "outputs": [],
   "source": []
  },
  {
   "cell_type": "code",
   "execution_count": null,
   "metadata": {},
   "outputs": [],
   "source": []
  }
 ],
 "metadata": {
  "kernelspec": {
   "display_name": "Python 3",
   "language": "python",
   "name": "python3"
  },
  "language_info": {
   "codemirror_mode": {
    "name": "ipython",
    "version": 3
   },
   "file_extension": ".py",
   "mimetype": "text/x-python",
   "name": "python",
   "nbconvert_exporter": "python",
   "pygments_lexer": "ipython3",
   "version": "3.8.5"
  },
  "toc": {
   "base_numbering": 1,
   "nav_menu": {},
   "number_sections": true,
   "sideBar": true,
   "skip_h1_title": false,
   "title_cell": "Table of Contents",
   "title_sidebar": "Contents",
   "toc_cell": false,
   "toc_position": {},
   "toc_section_display": true,
   "toc_window_display": false
  },
  "varInspector": {
   "cols": {
    "lenName": 16,
    "lenType": 16,
    "lenVar": 40
   },
   "kernels_config": {
    "python": {
     "delete_cmd_postfix": "",
     "delete_cmd_prefix": "del ",
     "library": "var_list.py",
     "varRefreshCmd": "print(var_dic_list())"
    },
    "r": {
     "delete_cmd_postfix": ") ",
     "delete_cmd_prefix": "rm(",
     "library": "var_list.r",
     "varRefreshCmd": "cat(var_dic_list()) "
    }
   },
   "types_to_exclude": [
    "module",
    "function",
    "builtin_function_or_method",
    "instance",
    "_Feature"
   ],
   "window_display": false
  }
 },
 "nbformat": 4,
 "nbformat_minor": 4
}
