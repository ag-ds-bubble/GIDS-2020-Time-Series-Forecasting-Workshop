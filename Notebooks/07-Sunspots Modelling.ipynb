{
 "cells": [
  {
   "cell_type": "markdown",
   "metadata": {},
   "source": [
    "# Introduction\n",
    "\n",
    "Sunspots are regions on the sun's surface that are cooler than the surrounding areas and so appear darker. Sunspots have been observed continuously since 1609, and the first observation dates back a 100 years in china, If sunspots are active, more solar flares will result creating an increase in geomagnetic storm activity for Earth. Therefore during sunspot maximums, the Earth will see an increase in the Northern and Southern Lights and a possible disruption in radio transmissions and power grids.\n"
   ]
  },
  {
   "cell_type": "code",
   "execution_count": null,
   "metadata": {},
   "outputs": [],
   "source": [
    "from IPython.display import YouTubeVideo \n",
    "YouTubeVideo('rx9m6H6GeLs', width=1000, height=400) # Relevant till 3:00"
   ]
  },
  {
   "cell_type": "markdown",
   "metadata": {
    "heading_collapsed": true
   },
   "source": [
    "# Imports"
   ]
  },
  {
   "cell_type": "code",
   "execution_count": null,
   "metadata": {
    "hidden": true
   },
   "outputs": [],
   "source": [
    "# %load_ext autoreload\n",
    "# %autoreload 2\n",
    "# Data Wrangling & stats\n",
    "import pandas as pd\n",
    "\n",
    "# Visualisation\n",
    "import matplotlib.pyplot as plt\n",
    "import seaborn as sns\n",
    "from statsmodels.graphics.tsaplots import plot_acf, plot_pacf\n",
    "\n",
    "# Helper Handles\n",
    "from helperhandler import dataHolder\n",
    "from helperhandler import get_ts_strength, adf_test, kpss_test\n",
    "from helperhandler import ro_framework, residual_diagnostic\n",
    "\n",
    "# Models & Stats\n",
    "from scipy.stats import boxcox\n",
    "from statsmodels.tsa.seasonal import seasonal_decompose\n",
    "from statsmodels.tsa.seasonal import STL\n",
    "from statsmodels.stats.stattools import durbin_watson, jarque_bera\n",
    "from statsmodels.graphics.gofplots import qqplot\n",
    "from statsmodels.tsa.arima.model import ARIMA\n",
    "from statsmodels.tsa.statespace.sarimax import SARIMAX\n",
    "from statsmodels.tsa.ar_model import AutoReg\n",
    "from fbprophet import Prophet\n",
    "from statsmodels.nonparametric.smoothers_lowess import lowess\n"
   ]
  },
  {
   "cell_type": "markdown",
   "metadata": {
    "heading_collapsed": true
   },
   "source": [
    "# Path and Variable Initialisations"
   ]
  },
  {
   "cell_type": "code",
   "execution_count": null,
   "metadata": {
    "hidden": true
   },
   "outputs": [],
   "source": [
    "root_path = '../'\n",
    "raw_datapath = root_path+'Raw Data/'\n",
    "prepared_datapath = root_path+'Prepared Data/'"
   ]
  },
  {
   "cell_type": "code",
   "execution_count": null,
   "metadata": {
    "hidden": true
   },
   "outputs": [],
   "source": [
    "plt.rcParams['figure.dpi'] = 100\n",
    "plt.rcParams['figure.figsize'] = (15,7)\n",
    "plt.style.use('ggplot')"
   ]
  },
  {
   "cell_type": "markdown",
   "metadata": {
    "heading_collapsed": true
   },
   "source": [
    "# Load and Explore the Data"
   ]
  },
  {
   "cell_type": "code",
   "execution_count": null,
   "metadata": {
    "hidden": true
   },
   "outputs": [],
   "source": [
    "dataHolder.load_data()\n",
    "dataHolder.dataDf.tail()"
   ]
  },
  {
   "cell_type": "code",
   "execution_count": null,
   "metadata": {
    "hidden": true
   },
   "outputs": [],
   "source": [
    "dataobj = dataHolder.bucket['sunspots']\n",
    "sundata = dataobj.data.copy()\n",
    "dataHolder.bucket['sunspots'].exploratory_plot()"
   ]
  },
  {
   "cell_type": "code",
   "execution_count": null,
   "metadata": {
    "hidden": true
   },
   "outputs": [],
   "source": [
    "sundata.index.freq = 'M'\n",
    "sundata.head()"
   ]
  },
  {
   "cell_type": "markdown",
   "metadata": {
    "heading_collapsed": true
   },
   "source": [
    "# In-Depth Exploratory Data Analysis & Data Preperation"
   ]
  },
  {
   "cell_type": "markdown",
   "metadata": {
    "heading_collapsed": true,
    "hidden": true
   },
   "source": [
    "## Time Series Plot\n",
    "\n",
    "Try slicing the data and see if you can find the following properties, and quantify them :\n",
    "- Monthly Seasonality\n",
    "- Cyclicity\n",
    "\n",
    "Starting from 12, 24, 36... 11 years=122, 12 years = 144"
   ]
  },
  {
   "cell_type": "code",
   "execution_count": null,
   "metadata": {
    "hidden": true
   },
   "outputs": [],
   "source": [
    "sundata = dataobj.data.copy()"
   ]
  },
  {
   "cell_type": "code",
   "execution_count": null,
   "metadata": {
    "hidden": true
   },
   "outputs": [],
   "source": [
    "_=sundata.plot(title='Sunspots data', ylabel='Monthy Mean')\n",
    "_=plt.hlines(sundata.mean(), label='mean', linewidth=5,\n",
    "             xmin = sundata.index.min(),\n",
    "             xmax = sundata.index.max(), color='blue')"
   ]
  },
  {
   "cell_type": "code",
   "execution_count": null,
   "metadata": {
    "hidden": true
   },
   "outputs": [],
   "source": [
    "sundata.mean()"
   ]
  },
  {
   "cell_type": "markdown",
   "metadata": {
    "heading_collapsed": true,
    "hidden": true
   },
   "source": [
    "## NaNs and Zeros in the data"
   ]
  },
  {
   "cell_type": "code",
   "execution_count": null,
   "metadata": {
    "hidden": true
   },
   "outputs": [],
   "source": [
    "(sundata==np.nan).sum()"
   ]
  },
  {
   "cell_type": "code",
   "execution_count": null,
   "metadata": {
    "hidden": true
   },
   "outputs": [],
   "source": [
    "(sundata==0.0).sum()"
   ]
  },
  {
   "cell_type": "markdown",
   "metadata": {
    "hidden": true
   },
   "source": [
    "<b>There are 67 0.0 in the dataset, which are not supposed to be `Wrong` or `Outliers`  but can be problematic in later stages, how about we try to impute that?</b>\n",
    "\n",
    "Were we to keep this :-\n",
    "\n",
    "- We wont be able to use `MAPE` as our metric, which we are going to use\n",
    "- We wont be able to apply some of the transformations to it\n",
    "\n",
    "Maybe with the next smallest value in the series??"
   ]
  },
  {
   "cell_type": "code",
   "execution_count": null,
   "metadata": {
    "hidden": true
   },
   "outputs": [],
   "source": [
    "sorted(sundata.MMTS.unique())[:10]"
   ]
  },
  {
   "cell_type": "code",
   "execution_count": null,
   "metadata": {
    "hidden": true
   },
   "outputs": [],
   "source": [
    "next_min = 0.2\n",
    "sundata.replace({0.0:next_min}).min()"
   ]
  },
  {
   "cell_type": "code",
   "execution_count": null,
   "metadata": {
    "hidden": true
   },
   "outputs": [],
   "source": [
    "sundata=sundata.replace({0.0:next_min})"
   ]
  },
  {
   "cell_type": "markdown",
   "metadata": {
    "hidden": true
   },
   "source": [
    "<b>Lets see how our Time Series looks now</b>"
   ]
  },
  {
   "cell_type": "code",
   "execution_count": null,
   "metadata": {
    "hidden": true
   },
   "outputs": [],
   "source": [
    "_=sundata.plot(title='Sunspots data', ylabel='Monthy Mean')\n",
    "_=plt.hlines(sundata.mean(), label='mean', linewidth=5,\n",
    "             xmin = sundata.index.min(),\n",
    "             xmax = sundata.index.max(), color='blue')"
   ]
  },
  {
   "cell_type": "code",
   "execution_count": null,
   "metadata": {
    "hidden": true
   },
   "outputs": [],
   "source": [
    "sundata.mean()"
   ]
  },
  {
   "cell_type": "markdown",
   "metadata": {
    "heading_collapsed": true,
    "hidden": true
   },
   "source": [
    "## Gauging into the cycles"
   ]
  },
  {
   "cell_type": "code",
   "execution_count": null,
   "metadata": {
    "hidden": true
   },
   "outputs": [],
   "source": [
    "sundata = sundata[sundata.index>='1901-11-30'].copy()"
   ]
  },
  {
   "cell_type": "code",
   "execution_count": null,
   "metadata": {
    "hidden": true
   },
   "outputs": [],
   "source": [
    "sundata['lowess'] = lowess(sundata.MMTS, sundata.reset_index().index, 0.025)[:,1]\n",
    "sundata.plot()"
   ]
  },
  {
   "cell_type": "code",
   "execution_count": null,
   "metadata": {
    "hidden": true
   },
   "outputs": [],
   "source": [
    "sundata.lowess.plot(legend=True)\n",
    "plt.legend(loc=2)\n",
    "plt.grid(b=None)\n",
    "dx = plt.twinx()\n",
    "sundata['slope'] = np.round(sundata['lowess'].diff(),1).bfill()\n",
    "sundata['inflected'] = sundata['slope']>0.0\n",
    "sundata['slope'].plot(ax=dx, color='#869dc2', label='slope')\n",
    "dx.hlines(3.2, sundata.index.min(),sundata.index.max(), color='red')\n",
    "dx.hlines(0.0, sundata.index.min(),sundata.index.max(), color='g')\n",
    "dx.grid(b=None)\n",
    "_=dx.legend()"
   ]
  },
  {
   "cell_type": "code",
   "execution_count": null,
   "metadata": {
    "hidden": true
   },
   "outputs": [],
   "source": [
    "sundata['lowess'].plot()\n",
    "plt.vlines(sundata[sundata.inflected].index,\n",
    "           0,350, color='#aabf95')"
   ]
  },
  {
   "cell_type": "code",
   "execution_count": null,
   "metadata": {
    "hidden": true
   },
   "outputs": [],
   "source": [
    "sundata.inflected.astype(int)[130:150]\n",
    "# .diff()"
   ]
  },
  {
   "cell_type": "code",
   "execution_count": null,
   "metadata": {
    "hidden": true
   },
   "outputs": [],
   "source": [
    "sundata['cycle_shift'] = sundata.inflected.astype(int).diff(1)==1\n",
    "sundata['cycle_no'] = sundata.cycle_shift.cumsum()+1\n",
    "sundata['lowess'].plot()\n",
    "plt.vlines(sundata[sundata.cycle_shift].index,\n",
    "           0,350, color='#2e3627')"
   ]
  },
  {
   "cell_type": "code",
   "execution_count": null,
   "metadata": {
    "hidden": true
   },
   "outputs": [],
   "source": [
    "cycle_dates = pd.DataFrame(columns=['Begin', 'End'])\n",
    "cycle_dates['Begin'] = sundata.reset_index().groupby('cycle_no').Month.first()\n",
    "cycle_dates['End'] = sundata.reset_index().groupby('cycle_no').Month.last()\n",
    "cycle_dates['Diff_Months'] = cycle_dates.apply(lambda x : (x.End-x.Begin)/np.timedelta64(1, 'M'), axis=1)\n",
    "cycle_dates"
   ]
  },
  {
   "cell_type": "code",
   "execution_count": null,
   "metadata": {
    "hidden": true
   },
   "outputs": [],
   "source": [
    "cycle_dates.Diff_Months.plot(kind='bar')\n",
    "plt.hlines(cycle_dates.Diff_Months.mean(),\n",
    "           -1,\n",
    "           cycle_dates.index.max(),\n",
    "           color='#28470d')\n",
    "\n",
    "_mean_months = int(round(cycle_dates.Diff_Months.mean()))\n",
    "_mean_years = round(_mean_months/12,1)\n",
    "_=plt.title('Mean number of Months : {0}, years : {1}'.format(_mean_months, _mean_years))"
   ]
  },
  {
   "cell_type": "code",
   "execution_count": null,
   "metadata": {
    "hidden": true
   },
   "outputs": [],
   "source": [
    "import matplotlib.dates as mdates\n",
    "_=sundata.groupby('cycle_no').MMTS.plot(legend=True, title='Different Cycles')\n",
    "for edt, ecyc in cycle_dates.iterrows():\n",
    "    plt.bar(ecyc.Begin, 360, ecyc.Diff_Months*(125/135.986365), alpha=0.3, align='edge')"
   ]
  },
  {
   "cell_type": "code",
   "execution_count": null,
   "metadata": {
    "hidden": true
   },
   "outputs": [],
   "source": [
    "sundata.head()"
   ]
  },
  {
   "cell_type": "code",
   "execution_count": null,
   "metadata": {
    "hidden": true
   },
   "outputs": [],
   "source": [
    "sundata['cycle_month']= (sundata.groupby('cycle_no').cycle_no.cumsum()/sundata.cycle_no).astype(int)\n",
    "_=sundata[['cycle_month', 'lowess']].plot()"
   ]
  },
  {
   "cell_type": "markdown",
   "metadata": {
    "heading_collapsed": true,
    "hidden": true
   },
   "source": [
    "## Distribution of the data"
   ]
  },
  {
   "cell_type": "code",
   "execution_count": null,
   "metadata": {
    "hidden": true
   },
   "outputs": [],
   "source": [
    "fig, axes = plt.subplots(2,2)\n",
    "a,b=boxcox(sundata.MMTS)\n",
    "_=sns.distplot(sundata.MMTS, ax=axes[0,0])\n",
    "_=sns.distplot(np.log(sundata.MMTS), ax=axes[0,1])\n",
    "_=sns.distplot(np.power(sundata.MMTS,1/3), ax=axes[1,0])\n",
    "_=sns.distplot(a, ax=axes[1,1])\n",
    "\n",
    "axes[0,0].set_title('Actual')\n",
    "axes[0,1].set_title('Log')\n",
    "axes[1,0].set_title('Cube Root')\n",
    "axes[1,1].set_title('Box-Cox')\n",
    "\n",
    "axes[0,0].set_xlabel('')\n",
    "axes[0,1].set_xlabel('')\n",
    "axes[1,0].set_xlabel('')\n",
    "_=axes[1,1].set_xlabel('')\n"
   ]
  },
  {
   "cell_type": "markdown",
   "metadata": {
    "heading_collapsed": true,
    "hidden": true
   },
   "source": [
    "## Transformation on the data"
   ]
  },
  {
   "cell_type": "code",
   "execution_count": null,
   "metadata": {
    "hidden": true
   },
   "outputs": [],
   "source": [
    "pltdata = sundata.copy()"
   ]
  },
  {
   "cell_type": "code",
   "execution_count": null,
   "metadata": {
    "hidden": true
   },
   "outputs": [],
   "source": [
    "pltdata['MMTS_Adj'] = pltdata.MMTS/pltdata.index.daysinmonth\n",
    "pltdata.head()"
   ]
  },
  {
   "cell_type": "code",
   "execution_count": null,
   "metadata": {
    "hidden": true
   },
   "outputs": [],
   "source": [
    "pltdata = pltdata[200:300]\n",
    "fig, axes=plt.subplots()\n",
    "_=pltdata.MMTS.plot(ax=axes)\n",
    "_=axes.set_ylabel('Actual Mean Data')\n",
    "dx = axes.twinx()\n",
    "_=pltdata.MMTS_Adj.plot(ax=dx, color='#28470d', linestyle=':')\n",
    "_=dx.set_ylabel('Monthday Adjusted Data')"
   ]
  },
  {
   "cell_type": "markdown",
   "metadata": {
    "hidden": true
   },
   "source": [
    "<b>Log Transformation</b>"
   ]
  },
  {
   "cell_type": "code",
   "execution_count": null,
   "metadata": {
    "hidden": true
   },
   "outputs": [],
   "source": [
    "_=np.log(sundata.MMTS).plot(title='Sunspots data', ylabel='Monthy Mean')\n",
    "_=plt.hlines(np.log(sundata.MMTS).mean(), label='mean', linewidth=5,\n",
    "             xmin = sundata.index.min(),\n",
    "             xmax = sundata.index.max(), color='#28470d')"
   ]
  },
  {
   "cell_type": "markdown",
   "metadata": {
    "hidden": true
   },
   "source": [
    "<b>Cube Root Transformation</b>"
   ]
  },
  {
   "cell_type": "code",
   "execution_count": null,
   "metadata": {
    "hidden": true
   },
   "outputs": [],
   "source": [
    "transformed_series = np.power(sundata.MMTS, 1/3)"
   ]
  },
  {
   "cell_type": "code",
   "execution_count": null,
   "metadata": {
    "hidden": true
   },
   "outputs": [],
   "source": [
    "_=transformed_series.plot(title='Sunspots data', ylabel='Monthy Mean')\n",
    "_=plt.hlines(transformed_series.mean(), label='mean', linewidth=5,\n",
    "             xmin = sundata.index.min(),\n",
    "             xmax = sundata.index.max(), color='#28470d')"
   ]
  },
  {
   "cell_type": "markdown",
   "metadata": {
    "hidden": true
   },
   "source": [
    "<b>BoxCox Transformations</b>"
   ]
  },
  {
   "cell_type": "code",
   "execution_count": null,
   "metadata": {
    "hidden": true
   },
   "outputs": [],
   "source": [
    "transformed_series, bc_lambda = boxcox(sundata.MMTS)\n",
    "transformed_series = pd.Series(transformed_series, index=sundata.index)"
   ]
  },
  {
   "cell_type": "code",
   "execution_count": null,
   "metadata": {
    "hidden": true
   },
   "outputs": [],
   "source": [
    "_=transformed_series.plot(title='Sunspots data', ylabel='Monthy Mean')\n",
    "_=plt.hlines(transformed_series.mean(), label='mean', linewidth=5,\n",
    "             xmin = sundata.index.min(),\n",
    "             xmax = sundata.index.max(), color='#28470d')"
   ]
  },
  {
   "cell_type": "markdown",
   "metadata": {
    "hidden": true
   },
   "source": [
    "<b>Given that some values are in the negative, we wont be able to use multiplicative decompising models</b>"
   ]
  },
  {
   "cell_type": "code",
   "execution_count": null,
   "metadata": {
    "hidden": true
   },
   "outputs": [],
   "source": [
    "sundata_transformed = sundata.copy()\n",
    "sundata_transformed.MMTS = np.power(sundata.MMTS, 1/3)\n",
    "sundata_transformed.head()"
   ]
  },
  {
   "cell_type": "markdown",
   "metadata": {
    "heading_collapsed": true,
    "hidden": true
   },
   "source": [
    "## Seasonal/Variation Plot"
   ]
  },
  {
   "cell_type": "code",
   "execution_count": null,
   "metadata": {
    "hidden": true
   },
   "outputs": [],
   "source": [
    "pltdata = sundata.copy()"
   ]
  },
  {
   "cell_type": "code",
   "execution_count": null,
   "metadata": {
    "hidden": true
   },
   "outputs": [],
   "source": [
    "pltdata['Year'] = pltdata.index.year\n",
    "pltdata['Month'] = pltdata.index.month\n",
    "pltdata.head()"
   ]
  },
  {
   "cell_type": "code",
   "execution_count": null,
   "metadata": {
    "hidden": true
   },
   "outputs": [],
   "source": [
    "# For checking monthly seasonality\n",
    "sundata_monthp = pltdata.pivot(index='Month', columns='Year', values='MMTS')\n",
    "_=sundata_monthp.plot(legend=None,\n",
    "                      title='Monthly variation of the Sunspots, throughout the years')"
   ]
  },
  {
   "cell_type": "markdown",
   "metadata": {
    "heading_collapsed": true,
    "hidden": true
   },
   "source": [
    "## Chop Plot"
   ]
  },
  {
   "cell_type": "code",
   "execution_count": null,
   "metadata": {
    "hidden": true
   },
   "outputs": [],
   "source": [
    "pltdata = sundata.copy()\n",
    "pltdata"
   ]
  },
  {
   "cell_type": "code",
   "execution_count": null,
   "metadata": {
    "hidden": true
   },
   "outputs": [],
   "source": [
    "chop_indices = []\n",
    "for each_period_counts in pltdata.groupby('cycle_no').size().values:\n",
    "    chop_indices += list(range(each_period_counts))\n",
    "pltdata['chop_index'] = chop_indices\n",
    "pltdata_chop = pltdata.pivot(index='chop_index',\n",
    "                             columns='cycle_no',\n",
    "                             values='MMTS')\n",
    "_=pltdata_chop.plot()"
   ]
  },
  {
   "cell_type": "markdown",
   "metadata": {
    "heading_collapsed": true,
    "hidden": true
   },
   "source": [
    "## Box  & Violin Plot\n",
    "\n",
    "See as to which `period` makes the line more stable around the mean, to gauge into the Cyclicity behaviour of the model"
   ]
  },
  {
   "cell_type": "code",
   "execution_count": null,
   "metadata": {
    "hidden": true
   },
   "outputs": [],
   "source": [
    "pltdata1 = sundata.copy()\n",
    "pltdata2 = sundata_transformed.copy()\n",
    "\n",
    "def get_boxp(data, xlabel,ylabel):\n",
    "    fig,axes = plt.subplots()\n",
    "    data = data.copy()\n",
    "    data.MMTS = data.MMTS.astype(float)\n",
    "    _=sns.boxplot(x=xlabel,y='MMTS',data=data, ax=axes)\n",
    "    _dmean = data.groupby(xlabel).MMTS.mean().reset_index()\n",
    "    _=_dmean.MMTS.plot(ax=axes, color='red', linewidth=5)\n",
    "    _=plt.title('Box Plot')\n",
    "    _=plt.ylabel(ylabel)\n",
    "    _=plt.xticks(rotation=90)\n",
    "    \n",
    "def get_violinp(data, xlabel,ylabel):\n",
    "    fig,axes = plt.subplots()\n",
    "    data = data.copy()\n",
    "    _=sns.violinplot(x=xlabel,y='MMTS',data=data, ax=axes)\n",
    "    data.MMTS = data.MMTS.astype(float)\n",
    "    _dmean = data.groupby(xlabel).MMTS.mean().reset_index()\n",
    "    _=_dmean.MMTS.plot(ax=axes, color='red', linewidth=5)\n",
    "    _=plt.title('Violin Plot')\n",
    "    _=plt.ylabel(ylabel)\n",
    "\n"
   ]
  },
  {
   "cell_type": "code",
   "execution_count": null,
   "metadata": {
    "hidden": true
   },
   "outputs": [],
   "source": [
    "get_boxp(pltdata1, xlabel='cycle_no', ylabel='MMTS')\n",
    "get_boxp(pltdata2, xlabel='cycle_no', ylabel='MMTS-Cube Root Transform')"
   ]
  },
  {
   "cell_type": "markdown",
   "metadata": {
    "hidden": true
   },
   "source": [
    "<b>Well, it doesnt looks that the box plot has changed much...., so what has?<b>"
   ]
  },
  {
   "cell_type": "code",
   "execution_count": null,
   "metadata": {
    "hidden": true
   },
   "outputs": [],
   "source": [
    "get_violinp(pltdata1, xlabel='cycle_no', ylabel='MMTS')\n",
    "get_violinp(pltdata2, xlabel='cycle_no', ylabel='MMTS-Cube Root Transform')"
   ]
  },
  {
   "cell_type": "code",
   "execution_count": null,
   "metadata": {
    "hidden": true,
    "scrolled": false
   },
   "outputs": [],
   "source": [
    "get_boxp(sundata, 'cycle_month', 'MMTS')"
   ]
  },
  {
   "cell_type": "markdown",
   "metadata": {
    "heading_collapsed": true,
    "hidden": true
   },
   "source": [
    "## Decomposition\n",
    "\n",
    "The period parameter will be filled by the cyclic componet as observed in the 5.5 section, and then try for 12 to decompose for the yearly frequency.\n",
    "\n",
    "Look at the extrapolate trend parameter"
   ]
  },
  {
   "cell_type": "code",
   "execution_count": null,
   "metadata": {
    "hidden": true
   },
   "outputs": [],
   "source": [
    "adecomp_obj = seasonal_decompose(sundata.MMTS, model='additive', period=11*12, extrapolate_trend=True)\n",
    "_ = adecomp_obj.plot()\n",
    "get_ts_strength(adecomp_obj).T"
   ]
  },
  {
   "cell_type": "code",
   "execution_count": null,
   "metadata": {
    "hidden": true
   },
   "outputs": [],
   "source": [
    "adecomp_obj = seasonal_decompose(sundata.MMTS, model='multiplicative', period=11*12, extrapolate_trend=True)\n",
    "_ = adecomp_obj.plot()\n",
    "get_ts_strength(adecomp_obj).T"
   ]
  },
  {
   "cell_type": "code",
   "execution_count": null,
   "metadata": {
    "hidden": true
   },
   "outputs": [],
   "source": [
    "adecomp_obj = seasonal_decompose(sundata_transformed.MMTS,\n",
    "                                 model='additive',\n",
    "                                 period=128, extrapolate_trend=True)\n",
    "_ = adecomp_obj.plot()\n",
    "get_ts_strength(adecomp_obj).T"
   ]
  },
  {
   "cell_type": "code",
   "execution_count": null,
   "metadata": {
    "hidden": true
   },
   "outputs": [],
   "source": [
    "adecomp_obj = seasonal_decompose(sundata_transformed.MMTS,\n",
    "                                 model='multiplicative',\n",
    "                                 period=11*12, extrapolate_trend=True)\n",
    "_ = adecomp_obj.plot()\n",
    "get_ts_strength(adecomp_obj).T"
   ]
  },
  {
   "cell_type": "markdown",
   "metadata": {
    "heading_collapsed": true
   },
   "source": [
    "# Gauging its Statistics\n",
    "\n",
    "- Stationarity Test\n",
    "- Looking in the ACF and PACF\n",
    "- Distribution Test"
   ]
  },
  {
   "cell_type": "markdown",
   "metadata": {
    "heading_collapsed": true,
    "hidden": true
   },
   "source": [
    "## Stationarity Tests"
   ]
  },
  {
   "cell_type": "code",
   "execution_count": null,
   "metadata": {
    "hidden": true
   },
   "outputs": [],
   "source": [
    "adf_test(sundata.MMTS)"
   ]
  },
  {
   "cell_type": "code",
   "execution_count": null,
   "metadata": {
    "hidden": true
   },
   "outputs": [],
   "source": [
    "adf_test(sundata_transformed.MMTS)"
   ]
  },
  {
   "cell_type": "code",
   "execution_count": null,
   "metadata": {
    "hidden": true
   },
   "outputs": [],
   "source": [
    "kpss_test(sundata.MMTS)"
   ]
  },
  {
   "cell_type": "code",
   "execution_count": null,
   "metadata": {
    "hidden": true
   },
   "outputs": [],
   "source": [
    "kpss_test(sundata_transformed.MMTS)"
   ]
  },
  {
   "cell_type": "markdown",
   "metadata": {
    "hidden": true
   },
   "source": [
    "Through the results it seems to be stationary\n",
    "\n",
    "**A time series with cyclic behavior (but with no trend or seasonality) is stationary. This is because the cycles are not of a fixed length, so before we observe the series we cannot be sure where the peaks and troughs of the cycles will be. That is, the statistical properties of the series like mean, variance and autocorrelation are constant over time.**"
   ]
  },
  {
   "cell_type": "markdown",
   "metadata": {
    "heading_collapsed": true,
    "hidden": true
   },
   "source": [
    "## ACF & PACF"
   ]
  },
  {
   "cell_type": "code",
   "execution_count": null,
   "metadata": {
    "hidden": true
   },
   "outputs": [],
   "source": [
    "_=plot_acf(sundata.MMTS, lags=150)\n",
    "_=plot_pacf(sundata.MMTS, lags=150)"
   ]
  },
  {
   "cell_type": "code",
   "execution_count": null,
   "metadata": {
    "hidden": true
   },
   "outputs": [],
   "source": [
    "_=plot_acf(sundata_transformed.MMTS.diff().dropna(), lags=150)\n",
    "_=plot_pacf(sundata_transformed.MMTS.diff().dropna(), lags=150)"
   ]
  },
  {
   "cell_type": "code",
   "execution_count": null,
   "metadata": {
    "hidden": true,
    "scrolled": false
   },
   "outputs": [],
   "source": [
    "_=plot_acf(sundata_transformed.MMTS, lags=150)\n",
    "_=plot_pacf(sundata_transformed.MMTS, lags=150)"
   ]
  },
  {
   "cell_type": "code",
   "execution_count": null,
   "metadata": {
    "hidden": true
   },
   "outputs": [],
   "source": [
    "_=plot_acf(sundata_transformed.MMTS.diff().dropna(), lags=150)\n",
    "_=plot_pacf(sundata_transformed.MMTS.diff().dropna(), lags=150)"
   ]
  },
  {
   "cell_type": "code",
   "execution_count": null,
   "metadata": {
    "hidden": true
   },
   "outputs": [],
   "source": []
  },
  {
   "cell_type": "markdown",
   "metadata": {
    "heading_collapsed": true
   },
   "source": [
    "# Preparing Modelling Function\n",
    "\n",
    "As discussed in the previos notebook, the best methodology to predict a time series is via the `Rolling-Origin` forecast, \n",
    "\n",
    "i.e ***Utilise the fact that time series data generation is a `frequency` based process and we will get the data accordingly, so it will be best to use that data to make the forecasts***"
   ]
  },
  {
   "cell_type": "code",
   "execution_count": null,
   "metadata": {
    "hidden": true
   },
   "outputs": [],
   "source": []
  },
  {
   "cell_type": "code",
   "execution_count": null,
   "metadata": {
    "code_folding": [],
    "hidden": true
   },
   "outputs": [],
   "source": [
    "# AN EXPLANATORY TEMPLATE\n",
    "def modelling_framework(data, model, model_params, \n",
    "                 target_col, feature_cols,\n",
    "                 test_start, cv_window, ahead_offest,\n",
    "                 metric='MAPE', ahead_offest_freq='days'):\n",
    "    \n",
    "    # Initialisations\n",
    "    cvDF = pd.DataFrame(columns = ['Actual', 'Forecast', metric])\n",
    "    testDF = pd.DataFrame(columns=['Actual', 'Forecast', metric])\n",
    "    \n",
    "    model = copy.deepcopy(model)\n",
    "    \n",
    "    modelling_data = data.copy()\n",
    "    modelling_data.sort_index(inplace=True)\n",
    "    \n",
    "    training_data = data[data.index<test_start].copy()\n",
    "    testing_data = data[data.index>=test_start].copy()\n",
    "\n",
    "    train_start = training_data.index[0]\n",
    "    \n",
    "    test_start = pd.to_datetime(test_start)\n",
    "    test_end = modelling_data.index[-1]\n",
    "    \n",
    "    # Picking the Metrics\n",
    "    if metric == 'MAPE':\n",
    "        metric_func = lambda y,yhat: np.round(100*(abs(np.array(y)-np.array(yhat))/np.array(y)),2)\n",
    "    elif metric == 'MSE':\n",
    "        metric_func = lambda y,yhat: np.round(100*(abs(np.array(y)-np.array(yhat))/np.array(y)),2)\n",
    "    \n",
    "    \n",
    "    # Cross Validation Loop\n",
    "    for cv_date in training_data.index[-cv_window:]:\n",
    "        train_end = cv_date-ahead_offest\n",
    "        \n",
    "        # Filter the data\n",
    "        _train_data = training_data.truncate(before=train_start, after=train_end)\n",
    "        _cv_data = training_data.loc[cv_date].to_frame().T\n",
    "        \n",
    "        if feature_cols:\n",
    "            # Multivariate\n",
    "            pass\n",
    "        else:\n",
    "            # Univariate\n",
    "            if 'statsmodels' in str(model):\n",
    "                # Update Model Params Based on library\n",
    "                model_params['endog'] = _train_data[target_col]\n",
    "                modeldef = model(**model_params)\n",
    "                \n",
    "                fitted_model = modeldef.fit()\n",
    "                _forecast = fitted_model.predict(start=cv_date, end=cv_date).values[0]\n",
    "                _actual = _cv_data[target_col].values[0]\n",
    "\n",
    "        # Update Metric Sheets\n",
    "        cvDF.loc[cv_date, 'Actual'] = _actual\n",
    "        cvDF.loc[cv_date, 'Forecast'] = _forecast\n",
    "        cvDF.loc[cv_date,  metric] = metric_func(_actual, _forecast)\n",
    "    \n",
    "    \n",
    "    # Testing - Using the last fitted_model\n",
    "    if 'statsmodels' in str(model):\n",
    "        testDF['Actual'] = testing_data[target_col]\n",
    "        testDF['Forecast'] = fitted_model.predict(start=test_start, end=test_end)\n",
    "        testDF[metric] = testDF.apply(lambda x : metric_func(x.Actual, x.Forecast), axis=1)\n",
    "    \n",
    "    # Prepare Overall Metric\n",
    "    overallDF = pd.DataFrame([cvDF[metric].mean(), testDF[metric].mean()],\n",
    "                             columns=['Overall '+metric],\n",
    "                             index=['CV', 'Test'])\n",
    "    \n",
    "    return cvDF, testDF, overallDF, fitted_model\n"
   ]
  },
  {
   "cell_type": "code",
   "execution_count": null,
   "metadata": {
    "hidden": true
   },
   "outputs": [],
   "source": [
    "from helperhandler import ro_framework"
   ]
  },
  {
   "cell_type": "markdown",
   "metadata": {
    "heading_collapsed": true
   },
   "source": [
    "# AR Model"
   ]
  },
  {
   "cell_type": "code",
   "execution_count": null,
   "metadata": {
    "hidden": true
   },
   "outputs": [],
   "source": [
    "cycle_dates"
   ]
  },
  {
   "cell_type": "code",
   "execution_count": null,
   "metadata": {
    "hidden": true
   },
   "outputs": [],
   "source": [
    "# 'lags':[1,2,3,4,5,6,7,12,14,18,132] -> 109 test\n",
    "mdata = sundata_transformed.copy()\n",
    "testart = '2008-12-31'\n",
    "respacket=ro_framework(data = mdata, model = AutoReg, model_params = {'lags':[1,3,5,18,132]},\n",
    "                       back_transform_func = lambda x : x**3,\n",
    "                       test_start = testart, cv_window = 148,\n",
    "                       target_col = 'MMTS', feature_cols = [],\n",
    "                       ahead_offest = pd.DateOffset(months=1),\n",
    "                       test_predict=True, test_roll=True,\n",
    "                       metric='MAPE', debug=False, ahead_offest_freq='months')\n",
    "cv_DF, test_DF, overall_DF, fitted_model = respacket"
   ]
  },
  {
   "cell_type": "code",
   "execution_count": null,
   "metadata": {
    "hidden": true,
    "scrolled": true
   },
   "outputs": [],
   "source": [
    "fitted_model.summary()"
   ]
  },
  {
   "cell_type": "code",
   "execution_count": null,
   "metadata": {
    "hidden": true,
    "scrolled": false
   },
   "outputs": [],
   "source": [
    "_=residual_diagnostic(respack=respacket,\n",
    "                      training_target=sundata[sundata.index<testart].MMTS)"
   ]
  },
  {
   "cell_type": "markdown",
   "metadata": {
    "heading_collapsed": true
   },
   "source": [
    "# ARIMA Model"
   ]
  },
  {
   "cell_type": "code",
   "execution_count": null,
   "metadata": {
    "hidden": true
   },
   "outputs": [],
   "source": [
    "mdata = sundata_transformed.copy()\n",
    "testart = '2008-12-31'\n",
    "respacket=ro_framework(data = mdata, model = ARIMA, model_params = {'order':([1,2], 1, [1,2,3])},\n",
    "                       back_transform_func = lambda x : x**3,\n",
    "                       test_start = testart, cv_window = 148,\n",
    "                       target_col = 'MMTS', feature_cols = [],\n",
    "                       ahead_offest = pd.DateOffset(months=1),\n",
    "                       test_predict=True, test_roll=True,\n",
    "                       metric='MAPE', debug=False, ahead_offest_freq='months')\n",
    "cv_DF, test_DF, overall_DF, fitted_model = respacket"
   ]
  },
  {
   "cell_type": "code",
   "execution_count": null,
   "metadata": {
    "hidden": true
   },
   "outputs": [],
   "source": [
    "fitted_model.summary()"
   ]
  },
  {
   "cell_type": "code",
   "execution_count": null,
   "metadata": {
    "hidden": true
   },
   "outputs": [],
   "source": [
    "_=residual_diagnostic(respack=respacket,\n",
    "                      training_target=sundata[sundata.index<testart].MMTS)"
   ]
  },
  {
   "cell_type": "markdown",
   "metadata": {
    "heading_collapsed": true
   },
   "source": [
    "# SARIMA Model"
   ]
  },
  {
   "cell_type": "code",
   "execution_count": null,
   "metadata": {
    "hidden": true,
    "scrolled": true
   },
   "outputs": [],
   "source": [
    "testart = '2008-12-31'\n",
    "\n",
    "respacket=ro_framework(data = sundata_transformed, model = SARIMAX, model_params = {'order':(2,0,0),\n",
    "                                                                        'seasonal_order':(0,1,0,128)},\n",
    "                       back_transform_func = lambda x : x**3,\n",
    "                       test_start = testart, cv_window = 148,\n",
    "                       target_col = 'MMTS', feature_cols = [],\n",
    "                       ahead_offest = pd.DateOffset(months=1),\n",
    "                       test_predict=True, test_roll=True,\n",
    "                       metric='MAPE', debug=False, ahead_offest_freq='months')\n",
    "cv_DF, test_DF, overall_DF, fitted_model = respacket"
   ]
  },
  {
   "cell_type": "code",
   "execution_count": null,
   "metadata": {
    "hidden": true,
    "scrolled": false
   },
   "outputs": [],
   "source": [
    "_=residual_diagnostic(respack=respacket,\n",
    "                    training_target=sundata[sundata.index<testart].MMTS)"
   ]
  },
  {
   "cell_type": "code",
   "execution_count": null,
   "metadata": {
    "hidden": true
   },
   "outputs": [],
   "source": []
  },
  {
   "cell_type": "markdown",
   "metadata": {
    "heading_collapsed": true
   },
   "source": [
    "# Prophet Model\n",
    "\n",
    "Research Paper : [Forecasting at Scale](https://peerj.com/preprints/3190/)\n",
    "\n",
    "Prophet is a GAM type model, **G**eneralized **A**dditive **M**odel, a model which can be represented as :- \n",
    "\n",
    "\\begin{equation}\n",
    "    y_{t} = piecewise\\ trend(t) + seasonality(t) + holiday\\ effects(t) + i.i.d\\ noise(t)\n",
    "\\end{equation}\n",
    "\n",
    "$piecewise\\ trend(t) \\Rightarrow$ : Corresponds to L1-Regularized Trend shifts \n",
    "\n",
    "$seasonality(t) \\Rightarrow$ : Corresponds to Fourier Series\n",
    "\n",
    "$holiday\\ effects(t) \\Rightarrow$ : Dummy Variable\n",
    "\n",
    "$i.i.d\\ noise(t) \\Rightarrow$ : Classical Time Series Model\n",
    "\n",
    "\n",
    "[Prophet Model Documentation](https://facebook.github.io/prophet/docs/installation.html#python)\n",
    "\n",
    "****\n",
    "<u>Some Parameter Understanding</u> \n",
    "\n",
    "`prior_scale` : If the trend changes are being overfit (too much flexibility) or underfit (not enough flexibility), you can adjust the strength of the sparse prior using the input argument changepoint_prior_scale. By default, this parameter is set to 0.05. Increasing it will make the trend more flexible\n"
   ]
  },
  {
   "cell_type": "markdown",
   "metadata": {
    "heading_collapsed": true,
    "hidden": true
   },
   "source": [
    "## Simple Prophet Model"
   ]
  },
  {
   "cell_type": "code",
   "execution_count": null,
   "metadata": {
    "hidden": true
   },
   "outputs": [],
   "source": [
    "class ProphetObjectGenerator:\n",
    "    def __init__(self):\n",
    "        self.prophet_model = None\n",
    "        \n",
    "    def get_pmodelinstance(self):\n",
    "        self.prophet_model = Prophet(weekly_seasonality=True, daily_seasonality=True)\n",
    "        return self.prophet_model\n",
    "    \n",
    "    def fit(self):\n",
    "        pass\n",
    "        \n",
    "    def predict(self):\n",
    "        pass\n",
    "    \n",
    "mdata = sundata_transformed.copy()\n",
    "testart = '2008-12-31'\n",
    "\n",
    "respacket=ro_framework(data = mdata, model = ProphetObjectGenerator(),\n",
    "                       back_transform_func = lambda x : x**3,\n",
    "                       test_start = testart, cv_window = 3,\n",
    "                       target_col = 'MMTS', feature_cols = [],\n",
    "                       ahead_offest = pd.DateOffset(months=12),\n",
    "                       test_predict=True, test_roll=False,\n",
    "                       metric='MAPE', debug=False, ahead_offest_freq='months')\n",
    "cv_DF, test_DF, overall_DF, fitted_model = respacket"
   ]
  },
  {
   "cell_type": "code",
   "execution_count": null,
   "metadata": {
    "hidden": true
   },
   "outputs": [],
   "source": [
    "_=residual_diagnostic(respack=respacket,\n",
    "                      training_target=sundata[sundata.index<testart].MMTS)"
   ]
  },
  {
   "cell_type": "markdown",
   "metadata": {
    "heading_collapsed": true,
    "hidden": true
   },
   "source": [
    "## Tuned Prophet Model"
   ]
  },
  {
   "cell_type": "code",
   "execution_count": null,
   "metadata": {
    "hidden": true
   },
   "outputs": [],
   "source": [
    "class ProphetObjectGenerator:\n",
    "    def __init__(self):\n",
    "        self.prophet_model = None\n",
    "        \n",
    "    def get_pmodelinstance(self):\n",
    "        self.prophet_model=Prophet(yearly_seasonality=False,\n",
    "                                   daily_seasonality=False,\n",
    "                                   weekly_seasonality=False)\n",
    "\n",
    "        for eachcycle in [120, 125, 130, 135]:\n",
    "            self.prophet_model.add_seasonality(name='cycle'+str(eachcycle),\n",
    "                                               period=eachcycle, mode = 'multiplicative',\n",
    "                                               fourier_order = int(np.sqrt(eachcycle)),\n",
    "                                               prior_scale = eachcycle/3)\n",
    "        return self.prophet_model\n",
    "        \n",
    "    def fit(self):\n",
    "        pass\n",
    "        \n",
    "    def predict(self):\n",
    "        pass\n",
    "    \n",
    "mdata = sundata_transformed.copy()\n",
    "testart = '2008-12-31'\n",
    "\n",
    "respacket=ro_framework(data = mdata, model = ProphetObjectGenerator(),\n",
    "                       back_transform_func = lambda x : x**3,\n",
    "                       test_start = testart, cv_window = 3,\n",
    "                       target_col = 'MMTS', feature_cols = [],\n",
    "                       ahead_offest = pd.DateOffset(months=12),\n",
    "                       test_predict=True, test_roll=False,\n",
    "                       metric='MAPE', debug=False, ahead_offest_freq='months')\n",
    "cv_DF, test_DF, overall_DF, fitted_model = respacket"
   ]
  },
  {
   "cell_type": "code",
   "execution_count": null,
   "metadata": {
    "hidden": true
   },
   "outputs": [],
   "source": [
    "figProphetTuned=residual_diagnostic(respack=respacket,\n",
    "                                    training_target=sundata[sundata.index<testart].MMTS)"
   ]
  },
  {
   "cell_type": "markdown",
   "metadata": {
    "heading_collapsed": true,
    "hidden": true
   },
   "source": [
    "## Multivariate Prophet Model"
   ]
  },
  {
   "cell_type": "code",
   "execution_count": null,
   "metadata": {
    "hidden": true
   },
   "outputs": [],
   "source": [
    "class ProphetObjectGenerator:\n",
    "    def __init__(self):\n",
    "        self.prophet_model = None\n",
    "        \n",
    "    def get_pmodelinstance(self):\n",
    "        self.prophet_model=Prophet(yearly_seasonality=False,\n",
    "                                   daily_seasonality=False,\n",
    "                                   weekly_seasonality=False)\n",
    "\n",
    "        for eachcycle in [120, 125, 130, 135]:\n",
    "            self.prophet_model.add_seasonality(name='cycle'+str(eachcycle),\n",
    "                                               period=eachcycle, mode = 'multiplicative',\n",
    "                                               fourier_order = int(np.sqrt(eachcycle)),\n",
    "                                               prior_scale = eachcycle/3)\n",
    "        self.prophet_model.add_regressor(name='cycle_month', standardize=True, prior_scale=1000)    \n",
    "        return self.prophet_model\n",
    "    \n",
    "    def fit(self):\n",
    "        pass\n",
    "\n",
    "    def predict(self):\n",
    "        pass\n",
    "\n",
    "mdata = sundata_transformed.copy()\n",
    "testart = '2008-12-31'\n",
    "\n",
    "respacket=ro_framework(data = mdata, model = ProphetObjectGenerator(),\n",
    "                       back_transform_func = lambda x : x**3,\n",
    "                       test_start = testart, cv_window = 2,\n",
    "                       target_col = 'MMTS',feature_cols=['cycle_month'],\n",
    "                       ahead_offest = pd.DateOffset(months=1),\n",
    "                       test_predict=True, test_roll=False,\n",
    "                       metric='MAPE', debug=False, ahead_offest_freq='months')\n",
    "cv_DF, test_DF, overall_DF, fitted_model = respacket"
   ]
  },
  {
   "cell_type": "code",
   "execution_count": null,
   "metadata": {
    "hidden": true
   },
   "outputs": [],
   "source": [
    "figProphetTuned=residual_diagnostic(respack=respacket,\n",
    "                                    training_target=sundata[sundata.index<testart].MMTS)"
   ]
  },
  {
   "cell_type": "markdown",
   "metadata": {
    "heading_collapsed": true
   },
   "source": [
    "# Custom Model\n",
    "\n",
    "Using Fourier Trnasform for the seasonal component\n",
    "\n",
    "- First of all, since the series is stretched over 270 years, the rugged behaviour needs to be done away with for the initial analysis, we will smooth the series with the `LOWESS` operation.\n",
    "- Since the series have `Cyclicity` not `Seasonality`, i.e periodic variations are not of contant interval nature, we will try to fit an `Fourier` series to `mimic` the periodic behaviour.\n",
    "- Once we have that, we will use that periodic behaviour for our forecast of the Cyclic Pattern\n",
    "- The remainder will be having some `Time Series` semblance, and to model that we will be using typical `UV` time series model to model that.\n",
    "\n",
    "For this Time-Series will assume the equation of type :-\n",
    "\n",
    "\\begin{equation}\n",
    "    CustomModel\\Rightarrow Y_{t} = \\beta_{0} + \\sum_{k=1}^{K}\\left [ \\alpha_{k}sin\\frac{2\\pi kt}{m} + \\beta_{k}cos\\frac{2\\pi kt}{m} \\right ] + \\ TimeSeriesModel(t)\n",
    "\\end{equation}\n",
    "\n",
    "\n",
    "\\begin{equation}\n",
    "    or\n",
    "\\end{equation}\n",
    "\n",
    "\\begin{equation}\n",
    "    CustomModel\\Rightarrow Y_{t} = \\beta_{0} + LowessSmoothedMean(y(t)) + \\ TimeSeriesModel(t)\n",
    "\\end{equation}\n",
    "\n",
    "\n",
    "****\n",
    "\n",
    "***YOU CAN MIMIC LITERALLY ANYTHING IF YOU KNOW HOW TO USE FOURIER DECOMPOSITION***\n",
    "<img src='../Materials/fourier_decomp.gif'>\n"
   ]
  },
  {
   "cell_type": "code",
   "execution_count": null,
   "metadata": {
    "hidden": true,
    "scrolled": false
   },
   "outputs": [],
   "source": [
    "cycle_dates"
   ]
  },
  {
   "cell_type": "markdown",
   "metadata": {
    "heading_collapsed": true,
    "hidden": true
   },
   "source": [
    "## Evaluating which Cycle Smoothing to work with"
   ]
  },
  {
   "cell_type": "code",
   "execution_count": null,
   "metadata": {
    "hidden": true
   },
   "outputs": [],
   "source": [
    "mean_summed_val = sundata.groupby(['cycle_month']).MMTS.mean()\n",
    "_=mean_summed_val.plot(title='Mean values of Cycles')\n",
    "mean_summed_val"
   ]
  },
  {
   "cell_type": "markdown",
   "metadata": {
    "heading_collapsed": true,
    "hidden": true
   },
   "source": [
    "### Using LOESS Smoothing"
   ]
  },
  {
   "cell_type": "code",
   "execution_count": null,
   "metadata": {
    "hidden": true
   },
   "outputs": [],
   "source": [
    "_endog = mean_summed_val.index\n",
    "_exog = mean_summed_val.values\n",
    "lsm = lowess(_exog,_endog, 0.1)\n",
    "lowes_smoothed = pd.Series(lsm[:,1], lsm[:,0])\n",
    "_=lowes_smoothed.plot(title='Lowess Smoothed Cycle')\n",
    "lowes_smoothed.tail()"
   ]
  },
  {
   "cell_type": "code",
   "execution_count": null,
   "metadata": {
    "hidden": true
   },
   "outputs": [],
   "source": [
    "sundata['LowessSmoothedCycle'] = sundata.cycle_month.map(lowes_smoothed)"
   ]
  },
  {
   "cell_type": "markdown",
   "metadata": {
    "heading_collapsed": true,
    "hidden": true
   },
   "source": [
    "### Using Fourier Smoothing"
   ]
  },
  {
   "cell_type": "code",
   "execution_count": null,
   "metadata": {
    "hidden": true
   },
   "outputs": [],
   "source": [
    "y = mean_summed_val.values\n",
    "n = len(y)\n",
    "x = np.linspace(start=0, stop=n, num=n)\n",
    "\n",
    "fig, axes  = plt.subplots()\n",
    "\n",
    "COMPONENTS_BEGIN = 0\n",
    "COMPONENTS_END = 40\n",
    "smoothed_df = pd.DataFrame(index=np.arange(n)+1)\n",
    "\n",
    "colors = np.linspace(start=100, stop=255, num=COMPONENTS_END)\n",
    "axes.plot(x,y, label=\"Original\")\n",
    "\n",
    "for i in range(COMPONENTS_BEGIN, COMPONENTS_END):\n",
    "    Y = np.fft.fft(y)\n",
    "    np.put(Y, range(i+1, n), 0.0)\n",
    "    ifft = np.fft.ifft(Y)\n",
    "    smoothed_df['SmoothedData_'+str(i)] = ifft.real\n",
    "    axes.plot(x, ifft.real, color=plt.cm.Reds(int(colors[i])), alpha=.70)\n",
    "sundata['FourierSmoothedCycle'] = sundata.cycle_month.map(smoothed_df.iloc[:,-1])\n",
    "\n",
    "axes.set_title(\"{c} Fourier components for #{v} values\".format(c=COMPONENTS_END-COMPONENTS_BEGIN, v=n))\n",
    "axes.grid(linestyle='dashed')\n",
    "_=axes.legend()\n"
   ]
  },
  {
   "cell_type": "markdown",
   "metadata": {
    "heading_collapsed": true,
    "hidden": true
   },
   "source": [
    "### Comparing Two Methods"
   ]
  },
  {
   "cell_type": "code",
   "execution_count": null,
   "metadata": {
    "hidden": true
   },
   "outputs": [],
   "source": [
    "fig, axes = plt.subplots(3,1, figsize=(15,12))\n",
    "sundata.MMTS.plot(ax=axes[0])\n",
    "sundata.LowessSmoothedCycle.plot(linewidth=3, color='maroon', ax=axes[0], label='Lowess')\n",
    "sundata.FourierSmoothedCycle.plot(linewidth=3, color='gray', ax=axes[0], label='Fourier')\n",
    "axes[0].legend()\n",
    "\n",
    "(sundata.MMTS-sundata.LowessSmoothedCycle).plot(linewidth=3, color='maroon', ax=axes[1])\n",
    "(sundata.MMTS-sundata.FourierSmoothedCycle).plot(linewidth=3, color='gray', ax=axes[2])\n"
   ]
  },
  {
   "cell_type": "markdown",
   "metadata": {
    "hidden": true
   },
   "source": [
    "## Modelling Residuals"
   ]
  },
  {
   "cell_type": "code",
   "execution_count": null,
   "metadata": {
    "hidden": true
   },
   "outputs": [],
   "source": [
    "lowessresid = sundata.MMTS-sundata.LowessSmoothedCycle\n",
    "lowessresid = lowessresid.diff().dropna()\n",
    "lowessresid.name = 'CustomModelResidual'\n",
    "_=plot_acf(lowessresid, lags=200)\n",
    "_=plot_pacf(lowessresid, lags=200)"
   ]
  },
  {
   "cell_type": "code",
   "execution_count": null,
   "metadata": {
    "hidden": true
   },
   "outputs": [],
   "source": [
    "# ([1,2,3], 2, 0) -> 280\n",
    "# (1,2,2) -> 330\n",
    "# pmdarima = 0,0,3, autoarima -> 295\n",
    "mdata = np.round(lowessresid, 4).copy().to_frame()\n",
    "testart = '2008-12-31'\n",
    "respacket=ro_framework(data = mdata, model = ARIMA, model_params = {'order':(3,0,3)},\n",
    "                       test_start = testart, cv_window = 148,\n",
    "                       target_col = 'CustomModelResidual', feature_cols = [],\n",
    "                       ahead_offest = pd.DateOffset(months=1),\n",
    "                       test_predict=True, test_roll=True,\n",
    "                       metric='MAPE', debug=False, ahead_offest_freq='months')\n",
    "cv_DF, test_DF, overall_DF, fitted_model = respacket"
   ]
  },
  {
   "cell_type": "code",
   "execution_count": null,
   "metadata": {
    "hidden": true
   },
   "outputs": [],
   "source": [
    "fitted_model.summary()"
   ]
  },
  {
   "cell_type": "code",
   "execution_count": null,
   "metadata": {
    "hidden": true
   },
   "outputs": [],
   "source": [
    "testdf_adj = test_DF.copy()\n",
    "cvdf_adj = cv_DF.copy()\n",
    "oadf_adj = overall_DF.copy()\n",
    "\n",
    "cvdf_adj.Actual = sundata.MMTS\n",
    "cvdf_adj.Forecast += sundata.LowessSmoothedCycle\n",
    "_cvmetric = abs((cvdf_adj.Actual-cvdf_adj.Forecast)/cvdf_adj.Actual)\n",
    "_cvmetric = _cvmetric*100\n",
    "_cvmetric = _cvmetric.mean()\n",
    "\n",
    "testdf_adj.Actual = sundata.MMTS\n",
    "testdf_adj.Forecast += sundata.LowessSmoothedCycle\n",
    "_testmetric = abs((testdf_adj.Actual-testdf_adj.Forecast)/testdf_adj.Actual)\n",
    "_testmetric = _testmetric*100\n",
    "_testmetric = _testmetric.mean()\n",
    "\n",
    "oadf_adj.loc['CV'] = _cvmetric\n",
    "oadf_adj.loc['Test'] = _testmetric"
   ]
  },
  {
   "cell_type": "code",
   "execution_count": null,
   "metadata": {
    "hidden": true
   },
   "outputs": [],
   "source": [
    "respacket_new = cvdf_adj, testdf_adj, oadf_adj, fitted_model"
   ]
  },
  {
   "cell_type": "code",
   "execution_count": null,
   "metadata": {
    "hidden": true
   },
   "outputs": [],
   "source": [
    "_=residual_diagnostic(respack=respacket_new,\n",
    "                      training_target=sundata[sundata.index<testart].MMTS)"
   ]
  },
  {
   "cell_type": "markdown",
   "metadata": {
    "heading_collapsed": true
   },
   "source": [
    "# PMD-ARIMA\n",
    "\n",
    "<img src = '../Materials/pmd_arima.png'>"
   ]
  },
  {
   "cell_type": "code",
   "execution_count": null,
   "metadata": {
    "hidden": true,
    "scrolled": false
   },
   "outputs": [],
   "source": [
    "import pmdarima as pm\n",
    "pm.__version__"
   ]
  },
  {
   "cell_type": "code",
   "execution_count": null,
   "metadata": {
    "hidden": true
   },
   "outputs": [],
   "source": [
    "auto_arima(sundata_transformed.MMTS, n_jobs=-1)"
   ]
  },
  {
   "cell_type": "code",
   "execution_count": null,
   "metadata": {
    "hidden": true
   },
   "outputs": [],
   "source": [
    "grid_model = pm.auto_arima(sundata_transformed.MMTS,test='adf',\n",
    "                           start_p=1,d=0,max_p=4,\n",
    "                           start_q=1,max_q=4,m=128,D=1,\n",
    "                           start_P=0, seasonal=True,\n",
    "                            trace=True,\n",
    "                           error_action='ignore', suppress_warnings=True, stepwise=True)\n",
    "print(grid_model.summary())"
   ]
  },
  {
   "cell_type": "code",
   "execution_count": null,
   "metadata": {
    "hidden": true
   },
   "outputs": [],
   "source": []
  },
  {
   "cell_type": "markdown",
   "metadata": {
    "heading_collapsed": true
   },
   "source": [
    "# Introduction to ts-mad\n",
    "\n",
    "<img src='../Materials/tseuler_logo.png' width='400'>\n",
    "\n",
    "It is a Time-Series modelling project, still in $\\beta$ stage, for now it supports only one thing, which is building of an `TseulerBoard` which is a Mini Analysis Dashboard to be embedded inside the jupyter notebook.\n",
    "\n",
    "NOTE : This project is still in its beta-phase, were there to be any issues, kindly raise them on - [Github Issues](https://github.com/ag-ds-bubble/ts-mad/issues)"
   ]
  },
  {
   "cell_type": "code",
   "execution_count": null,
   "metadata": {
    "hidden": true
   },
   "outputs": [],
   "source": [
    "import tseuler as tsl\n",
    "print(tsl.__version__)\n",
    "tboard = tsl.TseulerBoard(tsdata=sundata,\n",
    "                           data_desc=dataobj.long_description, \n",
    "                           target_columns=['MMTS'], dt_freq='M',\n",
    "                           freq_conv_agg = 'mean', force_interactive=True)\n",
    "tboard.get_board()"
   ]
  },
  {
   "cell_type": "code",
   "execution_count": null,
   "metadata": {
    "hidden": true
   },
   "outputs": [],
   "source": [
    "import pandas as pd\n",
    "stocks_data = pd.read_csv('../Raw Data/stocks_data.csv', index_col=0, parse_dates=True)\n",
    "print('Shape of the Stocks Data :', stocks_data.shape)\n",
    "print('Number of Unique Tickers in the dataset : ', stocks_data.Name.nunique())\n",
    "stocks_data.head()"
   ]
  },
  {
   "cell_type": "code",
   "execution_count": null,
   "metadata": {
    "hidden": true
   },
   "outputs": [],
   "source": [
    "import tseuler as tsl\n",
    "tboard = tsl.TseulerBoard(tsdata=stocks_data,\n",
    "                          data_desc='Stocks Data', \n",
    "                          target_columns=['close'],\n",
    "                          categorical_columns=['Name'],\n",
    "                          dt_freq='B', freq_conv_agg = 'mean', force_interactive=True)\n",
    "tboard.get_board()"
   ]
  },
  {
   "cell_type": "code",
   "execution_count": null,
   "metadata": {
    "hidden": true
   },
   "outputs": [],
   "source": []
  },
  {
   "cell_type": "code",
   "execution_count": null,
   "metadata": {
    "hidden": true
   },
   "outputs": [],
   "source": []
  },
  {
   "cell_type": "markdown",
   "metadata": {},
   "source": [
    "# Random Testing Space"
   ]
  },
  {
   "cell_type": "code",
   "execution_count": null,
   "metadata": {},
   "outputs": [],
   "source": [
    "from helperhandler import dataHolder\n",
    "dataHolder.load_data()"
   ]
  },
  {
   "cell_type": "code",
   "execution_count": null,
   "metadata": {},
   "outputs": [],
   "source": [
    "dataobj = dataHolder.bucket['retail_sales']\n",
    "retail_data = dataobj.data.copy()"
   ]
  },
  {
   "cell_type": "code",
   "execution_count": null,
   "metadata": {},
   "outputs": [],
   "source": [
    "import tseuler as tsl\n",
    "tboard = tsl.TseulerBoard(tsdata=retail_data,\n",
    "                          data_desc=dataobj.short_description, \n",
    "                          target_columns=['Weekly_Sales'],\n",
    "                          categorical_columns=['Store'],\n",
    "                          dt_freq='W', freq_conv_agg = 'mean', force_interactive=True)\n",
    "tboard.get_board()"
   ]
  },
  {
   "cell_type": "code",
   "execution_count": null,
   "metadata": {},
   "outputs": [],
   "source": []
  },
  {
   "cell_type": "code",
   "execution_count": null,
   "metadata": {},
   "outputs": [],
   "source": []
  },
  {
   "cell_type": "code",
   "execution_count": null,
   "metadata": {},
   "outputs": [],
   "source": []
  },
  {
   "cell_type": "code",
   "execution_count": null,
   "metadata": {},
   "outputs": [],
   "source": []
  }
 ],
 "metadata": {
  "kernelspec": {
   "display_name": "Python 3",
   "language": "python",
   "name": "python3"
  },
  "language_info": {
   "codemirror_mode": {
    "name": "ipython",
    "version": 3
   },
   "file_extension": ".py",
   "mimetype": "text/x-python",
   "name": "python",
   "nbconvert_exporter": "python",
   "pygments_lexer": "ipython3",
   "version": "3.8.5"
  },
  "toc": {
   "base_numbering": 1,
   "nav_menu": {},
   "number_sections": true,
   "sideBar": true,
   "skip_h1_title": false,
   "title_cell": "Table of Contents",
   "title_sidebar": "Contents",
   "toc_cell": false,
   "toc_position": {},
   "toc_section_display": true,
   "toc_window_display": false
  },
  "varInspector": {
   "cols": {
    "lenName": 16,
    "lenType": 16,
    "lenVar": 40
   },
   "kernels_config": {
    "python": {
     "delete_cmd_postfix": "",
     "delete_cmd_prefix": "del ",
     "library": "var_list.py",
     "varRefreshCmd": "print(var_dic_list())"
    },
    "r": {
     "delete_cmd_postfix": ") ",
     "delete_cmd_prefix": "rm(",
     "library": "var_list.r",
     "varRefreshCmd": "cat(var_dic_list()) "
    }
   },
   "types_to_exclude": [
    "module",
    "function",
    "builtin_function_or_method",
    "instance",
    "_Feature"
   ],
   "window_display": false
  }
 },
 "nbformat": 4,
 "nbformat_minor": 4
}
